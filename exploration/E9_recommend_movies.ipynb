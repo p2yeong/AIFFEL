{
 "cells": [
  {
   "cell_type": "markdown",
   "id": "beautiful-quarterly",
   "metadata": {},
   "source": [
    "# Movielens 영화 추천🎬"
   ]
  },
  {
   "cell_type": "markdown",
   "id": "another-restaurant",
   "metadata": {},
   "source": [
    "## 루브릭 기준"
   ]
  },
  {
   "cell_type": "markdown",
   "id": "optical-great",
   "metadata": {},
   "source": [
    "1. CSR matrix가 정상적으로 만들어졌다.\n",
    "사용자와 아이템 개수를 바탕으로 정확한 사이즈로 만들었다.\n",
    "\n",
    "2. MF 모델이 정상적으로 훈련되어 그럴듯한 추천이 이루어졌다.\n",
    "사용자와 아이템 벡터 내적수치가 의미있게 형성되었다.\n",
    "\n",
    "3. 비슷한 영화 찾기와 유저에게 추천하기의 과정이 정상적으로 진행되었다.\n",
    "MF모델이 예측한 유저 선호도 및 아이템간 유사도, 기여도가 의미있게 측정되었다."
   ]
  },
  {
   "cell_type": "markdown",
   "id": "quick-radiation",
   "metadata": {},
   "source": [
    "***"
   ]
  },
  {
   "cell_type": "code",
   "execution_count": 1,
   "id": "residential-dancing",
   "metadata": {},
   "outputs": [],
   "source": [
    "import os\n",
    "import pandas as pd\n",
    "import numpy as np\n",
    "\n",
    "from scipy.sparse import csr_matrix\n",
    "from implicit.als import AlternatingLeastSquares"
   ]
  },
  {
   "cell_type": "markdown",
   "id": "based-disco",
   "metadata": {},
   "source": [
    "## 1. 데이터 준비와 전처리"
   ]
  },
  {
   "cell_type": "markdown",
   "id": "signal-nebraska",
   "metadata": {},
   "source": [
    "사용할 데이터셋은 Movielens 데이터이다.\n",
    "\n",
    "- 유저가 영화에 대해 평점을 매긴 데이터가 데이터 크기 별로 존재한다\n",
    "- 별점 데이터는 대표적인 explicit 데이터이나, implicit 데이터로 간주하고 테스트한다.\n",
    "- 별점을 시청횟수로 해석해서 생각한다.\n",
    "- 또한 유저가 3점 미만으로 준 데이터는 선호하지 않는다고 가정하고 제외한다."
   ]
  },
  {
   "cell_type": "code",
   "execution_count": 2,
   "id": "limited-durham",
   "metadata": {},
   "outputs": [
    {
     "data": {
      "text/html": [
       "<div>\n",
       "<style scoped>\n",
       "    .dataframe tbody tr th:only-of-type {\n",
       "        vertical-align: middle;\n",
       "    }\n",
       "\n",
       "    .dataframe tbody tr th {\n",
       "        vertical-align: top;\n",
       "    }\n",
       "\n",
       "    .dataframe thead th {\n",
       "        text-align: right;\n",
       "    }\n",
       "</style>\n",
       "<table border=\"1\" class=\"dataframe\">\n",
       "  <thead>\n",
       "    <tr style=\"text-align: right;\">\n",
       "      <th></th>\n",
       "      <th>user_id</th>\n",
       "      <th>movie_id</th>\n",
       "      <th>rating</th>\n",
       "      <th>timestamp</th>\n",
       "    </tr>\n",
       "  </thead>\n",
       "  <tbody>\n",
       "    <tr>\n",
       "      <th>0</th>\n",
       "      <td>1</td>\n",
       "      <td>1193</td>\n",
       "      <td>5</td>\n",
       "      <td>978300760</td>\n",
       "    </tr>\n",
       "    <tr>\n",
       "      <th>1</th>\n",
       "      <td>1</td>\n",
       "      <td>661</td>\n",
       "      <td>3</td>\n",
       "      <td>978302109</td>\n",
       "    </tr>\n",
       "    <tr>\n",
       "      <th>2</th>\n",
       "      <td>1</td>\n",
       "      <td>914</td>\n",
       "      <td>3</td>\n",
       "      <td>978301968</td>\n",
       "    </tr>\n",
       "    <tr>\n",
       "      <th>3</th>\n",
       "      <td>1</td>\n",
       "      <td>3408</td>\n",
       "      <td>4</td>\n",
       "      <td>978300275</td>\n",
       "    </tr>\n",
       "    <tr>\n",
       "      <th>4</th>\n",
       "      <td>1</td>\n",
       "      <td>2355</td>\n",
       "      <td>5</td>\n",
       "      <td>978824291</td>\n",
       "    </tr>\n",
       "  </tbody>\n",
       "</table>\n",
       "</div>"
      ],
      "text/plain": [
       "   user_id  movie_id  rating  timestamp\n",
       "0        1      1193       5  978300760\n",
       "1        1       661       3  978302109\n",
       "2        1       914       3  978301968\n",
       "3        1      3408       4  978300275\n",
       "4        1      2355       5  978824291"
      ]
     },
     "execution_count": 2,
     "metadata": {},
     "output_type": "execute_result"
    }
   ],
   "source": [
    "rating_file_path=os.getenv('HOME') + '/aiffel/recommendata_iu/data/ml-1m/ratings.dat'\n",
    "ratings_cols = ['user_id', 'movie_id', 'rating', 'timestamp']\n",
    "ratings = pd.read_csv(rating_file_path, sep='::', names=ratings_cols, engine='python', encoding = \"ISO-8859-1\")\n",
    "orginal_data_size = len(ratings)\n",
    "ratings.head()"
   ]
  },
  {
   "cell_type": "code",
   "execution_count": 3,
   "id": "boring-crossing",
   "metadata": {},
   "outputs": [
    {
     "name": "stdout",
     "output_type": "stream",
     "text": [
      "orginal_data_size: 1000209, filtered_data_size: 836478\n",
      "Ratio of Remaining Data is 83.63%\n"
     ]
    }
   ],
   "source": [
    "# 3점 이상만 남깁니다.\n",
    "ratings = ratings[ratings['rating']>=3]\n",
    "filtered_data_size = len(ratings)\n",
    "\n",
    "print(f'orginal_data_size: {orginal_data_size}, filtered_data_size: {filtered_data_size}')\n",
    "print(f'Ratio of Remaining Data is {filtered_data_size / orginal_data_size:.2%}')"
   ]
  },
  {
   "cell_type": "code",
   "execution_count": 4,
   "id": "classical-atlanta",
   "metadata": {},
   "outputs": [
    {
     "data": {
      "text/plain": [
       "0          5\n",
       "1          3\n",
       "2          3\n",
       "3          4\n",
       "4          5\n",
       "          ..\n",
       "1000203    3\n",
       "1000205    5\n",
       "1000206    5\n",
       "1000207    4\n",
       "1000208    4\n",
       "Name: count, Length: 836478, dtype: int64"
      ]
     },
     "execution_count": 4,
     "metadata": {},
     "output_type": "execute_result"
    }
   ],
   "source": [
    "# rating 컬럼의 이름을 count로 바꿉니다.\n",
    "ratings.rename(columns={'rating':'count'}, inplace=True)\n",
    "ratings['count']"
   ]
  },
  {
   "cell_type": "code",
   "execution_count": 5,
   "id": "fifth-stomach",
   "metadata": {},
   "outputs": [
    {
     "data": {
      "text/html": [
       "<div>\n",
       "<style scoped>\n",
       "    .dataframe tbody tr th:only-of-type {\n",
       "        vertical-align: middle;\n",
       "    }\n",
       "\n",
       "    .dataframe tbody tr th {\n",
       "        vertical-align: top;\n",
       "    }\n",
       "\n",
       "    .dataframe thead th {\n",
       "        text-align: right;\n",
       "    }\n",
       "</style>\n",
       "<table border=\"1\" class=\"dataframe\">\n",
       "  <thead>\n",
       "    <tr style=\"text-align: right;\">\n",
       "      <th></th>\n",
       "      <th>movie_id</th>\n",
       "      <th>title</th>\n",
       "      <th>genre</th>\n",
       "    </tr>\n",
       "  </thead>\n",
       "  <tbody>\n",
       "    <tr>\n",
       "      <th>0</th>\n",
       "      <td>1</td>\n",
       "      <td>Toy Story (1995)</td>\n",
       "      <td>Animation|Children's|Comedy</td>\n",
       "    </tr>\n",
       "    <tr>\n",
       "      <th>1</th>\n",
       "      <td>2</td>\n",
       "      <td>Jumanji (1995)</td>\n",
       "      <td>Adventure|Children's|Fantasy</td>\n",
       "    </tr>\n",
       "    <tr>\n",
       "      <th>2</th>\n",
       "      <td>3</td>\n",
       "      <td>Grumpier Old Men (1995)</td>\n",
       "      <td>Comedy|Romance</td>\n",
       "    </tr>\n",
       "    <tr>\n",
       "      <th>3</th>\n",
       "      <td>4</td>\n",
       "      <td>Waiting to Exhale (1995)</td>\n",
       "      <td>Comedy|Drama</td>\n",
       "    </tr>\n",
       "    <tr>\n",
       "      <th>4</th>\n",
       "      <td>5</td>\n",
       "      <td>Father of the Bride Part II (1995)</td>\n",
       "      <td>Comedy</td>\n",
       "    </tr>\n",
       "  </tbody>\n",
       "</table>\n",
       "</div>"
      ],
      "text/plain": [
       "   movie_id                               title                         genre\n",
       "0         1                    Toy Story (1995)   Animation|Children's|Comedy\n",
       "1         2                      Jumanji (1995)  Adventure|Children's|Fantasy\n",
       "2         3             Grumpier Old Men (1995)                Comedy|Romance\n",
       "3         4            Waiting to Exhale (1995)                  Comedy|Drama\n",
       "4         5  Father of the Bride Part II (1995)                        Comedy"
      ]
     },
     "execution_count": 5,
     "metadata": {},
     "output_type": "execute_result"
    }
   ],
   "source": [
    "# 영화 제목을 보기 위해 메타 데이터를 읽어옵니다.\n",
    "movie_file_path=os.getenv('HOME') + '/aiffel/recommendata_iu/data/ml-1m/movies.dat'\n",
    "cols = ['movie_id', 'title', 'genre'] \n",
    "movies = pd.read_csv(movie_file_path, sep='::', names=cols, engine='python', encoding='ISO-8859-1')\n",
    "movies.head()"
   ]
  },
  {
   "cell_type": "code",
   "execution_count": 6,
   "id": "fuzzy-female",
   "metadata": {},
   "outputs": [
    {
     "data": {
      "text/html": [
       "<div>\n",
       "<style scoped>\n",
       "    .dataframe tbody tr th:only-of-type {\n",
       "        vertical-align: middle;\n",
       "    }\n",
       "\n",
       "    .dataframe tbody tr th {\n",
       "        vertical-align: top;\n",
       "    }\n",
       "\n",
       "    .dataframe thead th {\n",
       "        text-align: right;\n",
       "    }\n",
       "</style>\n",
       "<table border=\"1\" class=\"dataframe\">\n",
       "  <thead>\n",
       "    <tr style=\"text-align: right;\">\n",
       "      <th></th>\n",
       "      <th>user_id</th>\n",
       "      <th>movie_id</th>\n",
       "      <th>count</th>\n",
       "      <th>timestamp</th>\n",
       "      <th>title</th>\n",
       "      <th>genre</th>\n",
       "    </tr>\n",
       "  </thead>\n",
       "  <tbody>\n",
       "    <tr>\n",
       "      <th>0</th>\n",
       "      <td>1</td>\n",
       "      <td>1193</td>\n",
       "      <td>5</td>\n",
       "      <td>978300760</td>\n",
       "      <td>One Flew Over the Cuckoo's Nest (1975)</td>\n",
       "      <td>Drama</td>\n",
       "    </tr>\n",
       "    <tr>\n",
       "      <th>1</th>\n",
       "      <td>1</td>\n",
       "      <td>661</td>\n",
       "      <td>3</td>\n",
       "      <td>978302109</td>\n",
       "      <td>James and the Giant Peach (1996)</td>\n",
       "      <td>Animation|Children's|Musical</td>\n",
       "    </tr>\n",
       "    <tr>\n",
       "      <th>2</th>\n",
       "      <td>1</td>\n",
       "      <td>914</td>\n",
       "      <td>3</td>\n",
       "      <td>978301968</td>\n",
       "      <td>My Fair Lady (1964)</td>\n",
       "      <td>Musical|Romance</td>\n",
       "    </tr>\n",
       "    <tr>\n",
       "      <th>3</th>\n",
       "      <td>1</td>\n",
       "      <td>3408</td>\n",
       "      <td>4</td>\n",
       "      <td>978300275</td>\n",
       "      <td>Erin Brockovich (2000)</td>\n",
       "      <td>Drama</td>\n",
       "    </tr>\n",
       "    <tr>\n",
       "      <th>4</th>\n",
       "      <td>1</td>\n",
       "      <td>2355</td>\n",
       "      <td>5</td>\n",
       "      <td>978824291</td>\n",
       "      <td>Bug's Life, A (1998)</td>\n",
       "      <td>Animation|Children's|Comedy</td>\n",
       "    </tr>\n",
       "  </tbody>\n",
       "</table>\n",
       "</div>"
      ],
      "text/plain": [
       "   user_id  movie_id  count  timestamp  \\\n",
       "0        1      1193      5  978300760   \n",
       "1        1       661      3  978302109   \n",
       "2        1       914      3  978301968   \n",
       "3        1      3408      4  978300275   \n",
       "4        1      2355      5  978824291   \n",
       "\n",
       "                                    title                         genre  \n",
       "0  One Flew Over the Cuckoo's Nest (1975)                         Drama  \n",
       "1        James and the Giant Peach (1996)  Animation|Children's|Musical  \n",
       "2                     My Fair Lady (1964)               Musical|Romance  \n",
       "3                  Erin Brockovich (2000)                         Drama  \n",
       "4                    Bug's Life, A (1998)   Animation|Children's|Comedy  "
      ]
     },
     "execution_count": 6,
     "metadata": {},
     "output_type": "execute_result"
    }
   ],
   "source": [
    "# ratings 와 movies 데이터 프레임 합치기\n",
    "data = ratings.join(movies.set_index('movie_id'), on='movie_id')\n",
    "data.head()"
   ]
  },
  {
   "cell_type": "code",
   "execution_count": 7,
   "id": "municipal-importance",
   "metadata": {},
   "outputs": [
    {
     "data": {
      "text/plain": [
       "0                One Flew Over the Cuckoo's Nest (1975)\n",
       "1                      James and the Giant Peach (1996)\n",
       "2                                   My Fair Lady (1964)\n",
       "3                                Erin Brockovich (2000)\n",
       "4                                  Bug's Life, A (1998)\n",
       "5                            Princess Bride, The (1987)\n",
       "6                                        Ben-Hur (1959)\n",
       "7                             Christmas Story, A (1983)\n",
       "8                Snow White and the Seven Dwarfs (1937)\n",
       "9                              Wizard of Oz, The (1939)\n",
       "10                          Beauty and the Beast (1991)\n",
       "11                                          Gigi (1958)\n",
       "12                        Miracle on 34th Street (1947)\n",
       "13                      Ferris Bueller's Day Off (1986)\n",
       "14                           Sound of Music, The (1965)\n",
       "15                                     Airplane! (1980)\n",
       "16                                        Tarzan (1999)\n",
       "17                                         Bambi (1942)\n",
       "18                                    Awakenings (1990)\n",
       "19                                           Big (1988)\n",
       "20                                 Pleasantville (1998)\n",
       "21    Wallace & Gromit: The Best of Aardman Animatio...\n",
       "22                            Back to the Future (1985)\n",
       "23                              Schindler's List (1993)\n",
       "24                                Meet Joe Black (1998)\n",
       "25                                    Pocahontas (1995)\n",
       "26                    E.T. the Extra-Terrestrial (1982)\n",
       "27                                       Titanic (1997)\n",
       "28                                       Ponette (1996)\n",
       "29                                Close Shave, A (1995)\n",
       "30                                          Antz (1998)\n",
       "31                             Girl, Interrupted (1999)\n",
       "32                                      Hercules (1997)\n",
       "33                                       Aladdin (1992)\n",
       "34                                         Mulan (1998)\n",
       "35                  Hunchback of Notre Dame, The (1996)\n",
       "36                       Last Days of Disco, The (1998)\n",
       "37                                    Cinderella (1950)\n",
       "38                              Sixth Sense, The (1999)\n",
       "39                                     Apollo 13 (1995)\n",
       "40                                     Toy Story (1995)\n",
       "41                                      Rain Man (1988)\n",
       "42                            Driving Miss Daisy (1989)\n",
       "43                     Run Lola Run (Lola rennt) (1998)\n",
       "44            Star Wars: Episode IV - A New Hope (1977)\n",
       "45                                  Mary Poppins (1964)\n",
       "46                                         Dumbo (1941)\n",
       "47                         To Kill a Mockingbird (1962)\n",
       "48                           Saving Private Ryan (1998)\n",
       "49                            Secret Garden, The (1993)\n",
       "50                                   Toy Story 2 (1999)\n",
       "51                                         Fargo (1996)\n",
       "52                            Dead Poets Society (1989)\n",
       "Name: title, dtype: object"
      ]
     },
     "execution_count": 7,
     "metadata": {},
     "output_type": "execute_result"
    }
   ],
   "source": [
    "# user_id가 1인 사용자가 어떤 영화를 시청했는지 확인해봅니다.\n",
    "movie_id_user1 = data[data['user_id']== 1]['title']\n",
    "movie_id_user1"
   ]
  },
  {
   "cell_type": "markdown",
   "id": "convinced-elimination",
   "metadata": {},
   "source": [
    "## 2. 데이터 탐색하기"
   ]
  },
  {
   "cell_type": "markdown",
   "id": "varying-belief",
   "metadata": {},
   "source": [
    "- ratings에 있는 유니크한 영화 개수\n",
    "- rating에 있는 유니크한 사용자 수\n",
    "- 가장 인기 있는 영화 30개(인기순)"
   ]
  },
  {
   "cell_type": "code",
   "execution_count": 8,
   "id": "guilty-aberdeen",
   "metadata": {},
   "outputs": [
    {
     "name": "stdout",
     "output_type": "stream",
     "text": [
      "영화 개수:  3628\n"
     ]
    }
   ],
   "source": [
    "# 영화 개수\n",
    "print('영화 개수: ', data['movie_id'].nunique())"
   ]
  },
  {
   "cell_type": "code",
   "execution_count": 9,
   "id": "curious-announcement",
   "metadata": {},
   "outputs": [
    {
     "name": "stdout",
     "output_type": "stream",
     "text": [
      "사용자 수:  6039\n"
     ]
    }
   ],
   "source": [
    "# 사용자 수\n",
    "print('사용자 수: ', data['user_id'].nunique())"
   ]
  },
  {
   "cell_type": "code",
   "execution_count": 10,
   "id": "designed-therapist",
   "metadata": {},
   "outputs": [
    {
     "name": "stdout",
     "output_type": "stream",
     "text": [
      "인기있는 영화 Top 30\n"
     ]
    },
    {
     "data": {
      "text/plain": [
       "title\n",
       "American Beauty (1999)                                   3211\n",
       "Star Wars: Episode IV - A New Hope (1977)                2910\n",
       "Star Wars: Episode V - The Empire Strikes Back (1980)    2885\n",
       "Star Wars: Episode VI - Return of the Jedi (1983)        2716\n",
       "Saving Private Ryan (1998)                               2561\n",
       "Terminator 2: Judgment Day (1991)                        2509\n",
       "Silence of the Lambs, The (1991)                         2498\n",
       "Raiders of the Lost Ark (1981)                           2473\n",
       "Back to the Future (1985)                                2460\n",
       "Matrix, The (1999)                                       2434\n",
       "Jurassic Park (1993)                                     2413\n",
       "Sixth Sense, The (1999)                                  2385\n",
       "Fargo (1996)                                             2371\n",
       "Braveheart (1995)                                        2314\n",
       "Men in Black (1997)                                      2297\n",
       "Schindler's List (1993)                                  2257\n",
       "Princess Bride, The (1987)                               2252\n",
       "Shakespeare in Love (1998)                               2213\n",
       "L.A. Confidential (1997)                                 2210\n",
       "Shawshank Redemption, The (1994)                         2194\n",
       "Godfather, The (1972)                                    2167\n",
       "Groundhog Day (1993)                                     2121\n",
       "E.T. the Extra-Terrestrial (1982)                        2102\n",
       "Being John Malkovich (1999)                              2066\n",
       "Ghostbusters (1984)                                      2051\n",
       "Pulp Fiction (1994)                                      2030\n",
       "Forrest Gump (1994)                                      2022\n",
       "Terminator, The (1984)                                   2019\n",
       "Toy Story (1995)                                         2000\n",
       "Fugitive, The (1993)                                     1941\n",
       "Name: user_id, dtype: int64"
      ]
     },
     "execution_count": 10,
     "metadata": {},
     "output_type": "execute_result"
    }
   ],
   "source": [
    "# 인기있는 영화 Top 30\n",
    "print('인기있는 영화 Top 30')\n",
    "movie_count = data.groupby('title')['user_id'].count()\n",
    "movie_count.sort_values(ascending=False).head(30)"
   ]
  },
  {
   "cell_type": "code",
   "execution_count": 11,
   "id": "southwest-domain",
   "metadata": {},
   "outputs": [
    {
     "data": {
      "text/plain": [
       "count    6039.000000\n",
       "mean      138.512668\n",
       "std       156.241599\n",
       "min         1.000000\n",
       "25%        38.000000\n",
       "50%        81.000000\n",
       "75%       177.000000\n",
       "max      1968.000000\n",
       "Name: movie_id, dtype: float64"
      ]
     },
     "execution_count": 11,
     "metadata": {},
     "output_type": "execute_result"
    }
   ],
   "source": [
    "# 유저별 몇 편의 영화를 시청했는지에 대한 통계\n",
    "user_count = data.groupby('user_id')['movie_id'].count()\n",
    "user_count.describe()"
   ]
  },
  {
   "cell_type": "code",
   "execution_count": 12,
   "id": "compound-alcohol",
   "metadata": {},
   "outputs": [
    {
     "data": {
      "text/plain": [
       "count    6039.000000\n",
       "mean        4.055970\n",
       "std         0.432143\n",
       "min         3.000000\n",
       "25%         4.000000\n",
       "50%         4.000000\n",
       "75%         4.000000\n",
       "max         5.000000\n",
       "Name: count, dtype: float64"
      ]
     },
     "execution_count": 12,
     "metadata": {},
     "output_type": "execute_result"
    }
   ],
   "source": [
    "# 영화 별 시청(count)횟수 중앙값에 대한 통계\n",
    "user_median = data.groupby('user_id')['count'].median()\n",
    "user_median.describe()"
   ]
  },
  {
   "cell_type": "markdown",
   "id": "dependent-final",
   "metadata": {},
   "source": [
    "## 3. 모델 검증을 위한 사용자 초기 정보 세팅\n",
    "내가 선호하는 영화를 5가지 골라서 rating에 추가해준다. 예측값 해석을 용이하게 하기 위해 애니메이션 장르의 영화 5개를 초기 정보값으로 입력해 주었다."
   ]
  },
  {
   "cell_type": "code",
   "execution_count": 71,
   "id": "republican-upset",
   "metadata": {},
   "outputs": [
    {
     "data": {
      "text/html": [
       "<div>\n",
       "<style scoped>\n",
       "    .dataframe tbody tr th:only-of-type {\n",
       "        vertical-align: middle;\n",
       "    }\n",
       "\n",
       "    .dataframe tbody tr th {\n",
       "        vertical-align: top;\n",
       "    }\n",
       "\n",
       "    .dataframe thead th {\n",
       "        text-align: right;\n",
       "    }\n",
       "</style>\n",
       "<table border=\"1\" class=\"dataframe\">\n",
       "  <thead>\n",
       "    <tr style=\"text-align: right;\">\n",
       "      <th></th>\n",
       "      <th>movie_id</th>\n",
       "      <th>title</th>\n",
       "      <th>genre</th>\n",
       "    </tr>\n",
       "  </thead>\n",
       "  <tbody>\n",
       "    <tr>\n",
       "      <th>360</th>\n",
       "      <td>364</td>\n",
       "      <td>Lion King, The (1994)</td>\n",
       "      <td>Animation|Children's|Musical</td>\n",
       "    </tr>\n",
       "    <tr>\n",
       "      <th>1980</th>\n",
       "      <td>2049</td>\n",
       "      <td>Happiest Millionaire, The (1967)</td>\n",
       "      <td>Comedy|Musical</td>\n",
       "    </tr>\n",
       "  </tbody>\n",
       "</table>\n",
       "</div>"
      ],
      "text/plain": [
       "      movie_id                             title                         genre\n",
       "360        364             Lion King, The (1994)  Animation|Children's|Musical\n",
       "1980      2049  Happiest Millionaire, The (1967)                Comedy|Musical"
      ]
     },
     "execution_count": 71,
     "metadata": {},
     "output_type": "execute_result"
    }
   ],
   "source": [
    "# 영화 제목 키워드로 검색\n",
    "movies[movies['title'].str.lower().str.contains('lion', regex=False)]"
   ]
  },
  {
   "cell_type": "code",
   "execution_count": 14,
   "id": "coated-frank",
   "metadata": {},
   "outputs": [
    {
     "data": {
      "text/html": [
       "<div>\n",
       "<style scoped>\n",
       "    .dataframe tbody tr th:only-of-type {\n",
       "        vertical-align: middle;\n",
       "    }\n",
       "\n",
       "    .dataframe tbody tr th {\n",
       "        vertical-align: top;\n",
       "    }\n",
       "\n",
       "    .dataframe thead th {\n",
       "        text-align: right;\n",
       "    }\n",
       "</style>\n",
       "<table border=\"1\" class=\"dataframe\">\n",
       "  <thead>\n",
       "    <tr style=\"text-align: right;\">\n",
       "      <th></th>\n",
       "      <th>user_id</th>\n",
       "      <th>movie_id</th>\n",
       "      <th>title</th>\n",
       "      <th>count</th>\n",
       "    </tr>\n",
       "  </thead>\n",
       "  <tbody>\n",
       "    <tr>\n",
       "      <th>0</th>\n",
       "      <td>6041</td>\n",
       "      <td>1</td>\n",
       "      <td>Toy Story (1995)</td>\n",
       "      <td>5</td>\n",
       "    </tr>\n",
       "    <tr>\n",
       "      <th>1</th>\n",
       "      <td>6041</td>\n",
       "      <td>2294</td>\n",
       "      <td>Antz (1998)</td>\n",
       "      <td>5</td>\n",
       "    </tr>\n",
       "    <tr>\n",
       "      <th>2</th>\n",
       "      <td>6041</td>\n",
       "      <td>1566</td>\n",
       "      <td>Hercules (1997)</td>\n",
       "      <td>5</td>\n",
       "    </tr>\n",
       "    <tr>\n",
       "      <th>3</th>\n",
       "      <td>6041</td>\n",
       "      <td>588</td>\n",
       "      <td>Aladdin (1992)</td>\n",
       "      <td>5</td>\n",
       "    </tr>\n",
       "    <tr>\n",
       "      <th>4</th>\n",
       "      <td>6041</td>\n",
       "      <td>1907</td>\n",
       "      <td>Mulan (1998)</td>\n",
       "      <td>5</td>\n",
       "    </tr>\n",
       "  </tbody>\n",
       "</table>\n",
       "</div>"
      ],
      "text/plain": [
       "  user_id  movie_id             title  count\n",
       "0    6041         1  Toy Story (1995)      5\n",
       "1    6041      2294       Antz (1998)      5\n",
       "2    6041      1566   Hercules (1997)      5\n",
       "3    6041       588    Aladdin (1992)      5\n",
       "4    6041      1907      Mulan (1998)      5"
      ]
     },
     "execution_count": 14,
     "metadata": {},
     "output_type": "execute_result"
    }
   ],
   "source": [
    "# 좋아하는 영화의 id 리스트\n",
    "my_favoite_id = [1, 2294, 1566, 588, 1907]\n",
    "\n",
    "# id 리스트를 title 리스트로 변환해준다\n",
    "my_favorite_movie = []\n",
    "for mid in my_favoite_id:\n",
    "    my_favorite_movie.append(list(movies[movies['movie_id']==mid]['title'])[0])\n",
    "    \n",
    "# '6041'6이라는 user_id가 위 영화를 5회씩 시청했다고 가정하겠습니다.\n",
    "my_watchlist = pd.DataFrame({'user_id': ['6041']*5, 'movie_id': my_favoite_id, 'title': my_favorite_movie, 'count':[5]*5})\n",
    "\n",
    "if not data.isin({'user_id':['6041']})['user_id'].any():  # user_id에 'eunyoeng'이라는 데이터가 없다면\n",
    "    data = data.append(my_watchlist)                           # 위에 임의로 만든 my_favorite 데이터를 추가해 줍니다. \n",
    "\n",
    "data = data[['user_id', 'movie_id', 'title', 'count']]\n",
    "data.tail()"
   ]
  },
  {
   "cell_type": "markdown",
   "id": "adaptive-tongue",
   "metadata": {},
   "source": [
    "## 4. CSR(Compressed Sparse Row) Matrix 만들기"
   ]
  },
  {
   "cell_type": "markdown",
   "id": "attempted-thong",
   "metadata": {},
   "source": [
    "![csr matrix](https://lovit.github.io/assets/figures/sparse_matrix_csr.png)\n",
    "출처:https://lovit.github.io/nlp/machine%20learning/2018/04/09/sparse_mtarix_handling/#csr-matrix\n",
    "\n",
    "CSR Matrix는 sparse한 matrix에서 유효한 데이터의 값과 과표 정보만으로 구성되어 메모리 사용량을 최소화할 수 있는 데이터 구조이다. row 순서대로 데이터를 저장한다."
   ]
  },
  {
   "cell_type": "code",
   "execution_count": 15,
   "id": "built-presence",
   "metadata": {},
   "outputs": [],
   "source": [
    "# 고유한 유저, 영화를 찾기\n",
    "user_unique = data['user_id'].unique()\n",
    "movie_unique = data['title'].unique()"
   ]
  },
  {
   "cell_type": "code",
   "execution_count": 45,
   "id": "needed-copyright",
   "metadata": {},
   "outputs": [],
   "source": [
    "# 유저, 영화 indexing\n",
    "user_to_idx = {v:k for k,v in enumerate(user_unique)}\n",
    "movie_to_idx = {v:k for k,v in enumerate(movie_unique)}"
   ]
  },
  {
   "cell_type": "code",
   "execution_count": 17,
   "id": "offensive-project",
   "metadata": {},
   "outputs": [
    {
     "name": "stdout",
     "output_type": "stream",
     "text": [
      "user_id column indexing OK!!\n",
      "title column indexing OK!!\n"
     ]
    },
    {
     "data": {
      "text/html": [
       "<div>\n",
       "<style scoped>\n",
       "    .dataframe tbody tr th:only-of-type {\n",
       "        vertical-align: middle;\n",
       "    }\n",
       "\n",
       "    .dataframe tbody tr th {\n",
       "        vertical-align: top;\n",
       "    }\n",
       "\n",
       "    .dataframe thead th {\n",
       "        text-align: right;\n",
       "    }\n",
       "</style>\n",
       "<table border=\"1\" class=\"dataframe\">\n",
       "  <thead>\n",
       "    <tr style=\"text-align: right;\">\n",
       "      <th></th>\n",
       "      <th>user_id</th>\n",
       "      <th>movie_id</th>\n",
       "      <th>title</th>\n",
       "      <th>count</th>\n",
       "      <th>new_user_id</th>\n",
       "      <th>new_movie_id</th>\n",
       "    </tr>\n",
       "  </thead>\n",
       "  <tbody>\n",
       "    <tr>\n",
       "      <th>0</th>\n",
       "      <td>1</td>\n",
       "      <td>1193</td>\n",
       "      <td>One Flew Over the Cuckoo's Nest (1975)</td>\n",
       "      <td>5</td>\n",
       "      <td>0</td>\n",
       "      <td>0</td>\n",
       "    </tr>\n",
       "    <tr>\n",
       "      <th>1</th>\n",
       "      <td>1</td>\n",
       "      <td>661</td>\n",
       "      <td>James and the Giant Peach (1996)</td>\n",
       "      <td>3</td>\n",
       "      <td>0</td>\n",
       "      <td>1</td>\n",
       "    </tr>\n",
       "    <tr>\n",
       "      <th>2</th>\n",
       "      <td>1</td>\n",
       "      <td>914</td>\n",
       "      <td>My Fair Lady (1964)</td>\n",
       "      <td>3</td>\n",
       "      <td>0</td>\n",
       "      <td>2</td>\n",
       "    </tr>\n",
       "    <tr>\n",
       "      <th>3</th>\n",
       "      <td>1</td>\n",
       "      <td>3408</td>\n",
       "      <td>Erin Brockovich (2000)</td>\n",
       "      <td>4</td>\n",
       "      <td>0</td>\n",
       "      <td>3</td>\n",
       "    </tr>\n",
       "    <tr>\n",
       "      <th>4</th>\n",
       "      <td>1</td>\n",
       "      <td>2355</td>\n",
       "      <td>Bug's Life, A (1998)</td>\n",
       "      <td>5</td>\n",
       "      <td>0</td>\n",
       "      <td>4</td>\n",
       "    </tr>\n",
       "    <tr>\n",
       "      <th>...</th>\n",
       "      <td>...</td>\n",
       "      <td>...</td>\n",
       "      <td>...</td>\n",
       "      <td>...</td>\n",
       "      <td>...</td>\n",
       "      <td>...</td>\n",
       "    </tr>\n",
       "    <tr>\n",
       "      <th>0</th>\n",
       "      <td>6041</td>\n",
       "      <td>1</td>\n",
       "      <td>Toy Story (1995)</td>\n",
       "      <td>5</td>\n",
       "      <td>6039</td>\n",
       "      <td>40</td>\n",
       "    </tr>\n",
       "    <tr>\n",
       "      <th>1</th>\n",
       "      <td>6041</td>\n",
       "      <td>2294</td>\n",
       "      <td>Antz (1998)</td>\n",
       "      <td>5</td>\n",
       "      <td>6039</td>\n",
       "      <td>30</td>\n",
       "    </tr>\n",
       "    <tr>\n",
       "      <th>2</th>\n",
       "      <td>6041</td>\n",
       "      <td>1566</td>\n",
       "      <td>Hercules (1997)</td>\n",
       "      <td>5</td>\n",
       "      <td>6039</td>\n",
       "      <td>32</td>\n",
       "    </tr>\n",
       "    <tr>\n",
       "      <th>3</th>\n",
       "      <td>6041</td>\n",
       "      <td>588</td>\n",
       "      <td>Aladdin (1992)</td>\n",
       "      <td>5</td>\n",
       "      <td>6039</td>\n",
       "      <td>33</td>\n",
       "    </tr>\n",
       "    <tr>\n",
       "      <th>4</th>\n",
       "      <td>6041</td>\n",
       "      <td>1907</td>\n",
       "      <td>Mulan (1998)</td>\n",
       "      <td>5</td>\n",
       "      <td>6039</td>\n",
       "      <td>34</td>\n",
       "    </tr>\n",
       "  </tbody>\n",
       "</table>\n",
       "<p>836483 rows × 6 columns</p>\n",
       "</div>"
      ],
      "text/plain": [
       "   user_id  movie_id                                   title  count  \\\n",
       "0        1      1193  One Flew Over the Cuckoo's Nest (1975)      5   \n",
       "1        1       661        James and the Giant Peach (1996)      3   \n",
       "2        1       914                     My Fair Lady (1964)      3   \n",
       "3        1      3408                  Erin Brockovich (2000)      4   \n",
       "4        1      2355                    Bug's Life, A (1998)      5   \n",
       "..     ...       ...                                     ...    ...   \n",
       "0     6041         1                        Toy Story (1995)      5   \n",
       "1     6041      2294                             Antz (1998)      5   \n",
       "2     6041      1566                         Hercules (1997)      5   \n",
       "3     6041       588                          Aladdin (1992)      5   \n",
       "4     6041      1907                            Mulan (1998)      5   \n",
       "\n",
       "    new_user_id  new_movie_id  \n",
       "0             0             0  \n",
       "1             0             1  \n",
       "2             0             2  \n",
       "3             0             3  \n",
       "4             0             4  \n",
       "..          ...           ...  \n",
       "0          6039            40  \n",
       "1          6039            30  \n",
       "2          6039            32  \n",
       "3          6039            33  \n",
       "4          6039            34  \n",
       "\n",
       "[836483 rows x 6 columns]"
      ]
     },
     "execution_count": 17,
     "metadata": {},
     "output_type": "execute_result"
    }
   ],
   "source": [
    "# 데이터 컬럼 내 값을 indexing된 값으로 교체\n",
    "\n",
    "# user_to_idx.get을 통해 user_id 컬럼의 모든 값을 인덱싱한 Series를 구해 봅시다. \n",
    "# 혹시 정상적으로 인덱싱되지 않은 row가 있다면 인덱스가 NaN이 될 테니 dropna()로 제거합니다. \n",
    "temp_user_data = data['user_id'].map(user_to_idx.get).dropna()\n",
    "if len(temp_user_data) == len(data):   # 모든 row가 정상적으로 인덱싱되었다면\n",
    "    print('user_id column indexing OK!!')\n",
    "    data['new_user_id'] = temp_user_data   # data['user_id']을 인덱싱된 Series로 교체해 줍니다. \n",
    "else:\n",
    "    print('user_id column indexing Fail!!')\n",
    "    \n",
    "# movie_to_idx을 통해 title 컬럼도 동일한 방식으로 인덱싱해 줍니다. \n",
    "temp_movie_data = data['title'].map(movie_to_idx.get).dropna()\n",
    "if len(temp_movie_data) == len(data):\n",
    "    print('title column indexing OK!!')\n",
    "    data['new_movie_id'] = temp_movie_data\n",
    "else:\n",
    "    print('movie_id column indexing Fail!!')\n",
    "\n",
    "data"
   ]
  },
  {
   "cell_type": "code",
   "execution_count": 18,
   "id": "narrow-memphis",
   "metadata": {},
   "outputs": [
    {
     "data": {
      "text/plain": [
       "<6040x3628 sparse matrix of type '<class 'numpy.longlong'>'\n",
       "\twith 836483 stored elements in Compressed Sparse Row format>"
      ]
     },
     "execution_count": 18,
     "metadata": {},
     "output_type": "execute_result"
    }
   ],
   "source": [
    "# CSR Matrix 생성\n",
    "num_user = data['new_user_id'].nunique()\n",
    "num_movie = data['new_movie_id'].nunique()\n",
    "\n",
    "# csr_matrix((data, (row_ind, col_ind)), [shape=(M, N)])\n",
    "csr_data = csr_matrix((data['count'], (data.new_user_id, data.new_movie_id)), shape= (num_user, num_movie))\n",
    "csr_data"
   ]
  },
  {
   "cell_type": "markdown",
   "id": "automotive-biology",
   "metadata": {},
   "source": [
    "## 5. MF 모델 학습하기"
   ]
  },
  {
   "cell_type": "markdown",
   "id": "prepared-murder",
   "metadata": {},
   "source": [
    "![Fast and Scalable Matrix Factorization](https://d3s0tskafalll9.cloudfront.net/media/images/E-3v2-2_ekCv9hW.max-800x600.png)\n",
    "출처:https://arxiv.org/pdf/1610.05838.pdf"
   ]
  },
  {
   "cell_type": "markdown",
   "id": "under-error",
   "metadata": {},
   "source": [
    "- (m,n) 사이즈의 행렬 R을 (m,k) 사이즈의 행렬 P와 (k,n) 사이즈의 행렬 Q로 분해한다면 R은 P와 Q의 행렬곱으로 표현 가능할 수 있다.\n",
    "- 이때의 P와 Q는 Feature Matrix\n",
    "- 영화를 추천하는 모델에 대입한다면, 사용자의 특성(Feature) 벡터인 P, 영화의 특성 벡터인 Q로 볼 수 있고 두 벡터를 내적해서 얻어지는 R이 사용자의 영화 선호도를 보는 것\n",
    "- k는 m,n보다 작은 값이기 때문에 계산량 측면으로도 훨씬 유리하다.\n",
    "- MF 모델은 성능이 준수하고 Scalability가 좋아서 많이 사용된다."
   ]
  },
  {
   "cell_type": "markdown",
   "id": "neither-hollow",
   "metadata": {},
   "source": [
    "- 모델의 **목표**는 모든 유저와 아이템에 대해  **k-dimension의 벡터를 잘 만드는 것**\n",
    "- 벡터를 잘 만든다는 기준은 유저i의 벡터$U_i$와 아이템j의 벡터$I_j$를 내적했을 때 유저i가 아이템j에 대해 평가한 수치$M_ij$와 비슷한가이다.\n",
    "$$U_i*I_j=M_{ij}$$"
   ]
  },
  {
   "cell_type": "markdown",
   "id": "informed-tumor",
   "metadata": {},
   "source": [
    "***"
   ]
  },
  {
   "cell_type": "markdown",
   "id": "incorrect-commonwealth",
   "metadata": {},
   "source": [
    "Matrix Factorization 모델을 implicit 패키지를 사용하여 학습해 본다.\n",
    "- `implicit` 패키지는 implicit dataset을 사용하는 다양한 모델을 빠르게 학습할 수 있는 패키지\n",
    "- `als(AlternatingLeastSquares) model`: MF에서 두 Feature Matrix를 한번에 훈련하는 것은 잘 수렴하지 않아, 한쪽을 고정시키고 다른 쪽을 학습하는 방식을 번갈아 수행하는 방식(AlternatingLeastSquares)이 효과적이다.\n",
    ">__Implicit Datasets__<br>\n",
    "Implicit Data는 유저가 간접적(Implicit)으로 선호, 취향을 나타내는 데이터를 의미한다. 예시로는 검색 기록, 방문 페이지, 구매 내역 등이 있다\n",
    "    \n",
    "    출처: https://orill.tistory.com/entry/Explicit-vs-Implicit-Feedback-Datasets?category=1066301"
   ]
  },
  {
   "cell_type": "code",
   "execution_count": 19,
   "id": "thirty-miniature",
   "metadata": {},
   "outputs": [],
   "source": [
    "# implicit 라이브러리에서 권장하고 있는 세팅\n",
    "os.environ['OPENBLAS_NUM_THREADS']='1'\n",
    "os.environ['KMP_DUPLICATE_LIB_OK']='True'\n",
    "os.environ['MKL_NUM_THREADS']='1'"
   ]
  },
  {
   "cell_type": "markdown",
   "id": "practical-balance",
   "metadata": {},
   "source": [
    "__AlternatingLeastSquares__ 클래스의 **\\_\\_init\\_\\_ 파라미터**를 살펴보면,\n",
    "\n",
    "1. factors : 유저와 아이템의 벡터를 몇 차원으로 할 것인지 \n",
    "2. regularization : 과적합을 방지하기 위해 정규화 값을 얼마나 사용할 것인지 \n",
    "3. use_gpu : GPU를 사용할 것인지 \n",
    "4. iterations : epochs와 같은 의미입니다. 데이터를 몇 번 반복해서 학습할 것인지\n",
    "\n",
    "1,4를 늘릴수록 학습을 잘 하게 되지만 과적합의 우려가 있다."
   ]
  },
  {
   "cell_type": "code",
   "execution_count": 20,
   "id": "ahead-organic",
   "metadata": {},
   "outputs": [
    {
     "data": {
      "text/plain": [
       "<function implicit.als.AlternatingLeastSquares.__init__(self, factors=100, regularization=0.01, dtype=<class 'numpy.float32'>, use_native=True, use_cg=True, use_gpu=False, iterations=15, calculate_training_loss=False, num_threads=0, random_state=None)>"
      ]
     },
     "execution_count": 20,
     "metadata": {},
     "output_type": "execute_result"
    }
   ],
   "source": [
    "AlternatingLeastSquares.__init__"
   ]
  },
  {
   "cell_type": "markdown",
   "id": "lined-canvas",
   "metadata": {},
   "source": [
    "### 모델 설계"
   ]
  },
  {
   "cell_type": "code",
   "execution_count": 31,
   "id": "driving-science",
   "metadata": {},
   "outputs": [],
   "source": [
    "# Implicit AlternatingLeastSquares 모델의 선언\n",
    "als_model = AlternatingLeastSquares(factors=200, regularization=0.01, use_gpu=False, iterations=20, dtype=np.float32)"
   ]
  },
  {
   "cell_type": "code",
   "execution_count": 32,
   "id": "moved-sodium",
   "metadata": {},
   "outputs": [
    {
     "data": {
      "text/plain": [
       "<3628x6040 sparse matrix of type '<class 'numpy.longlong'>'\n",
       "\twith 836483 stored elements in Compressed Sparse Column format>"
      ]
     },
     "execution_count": 32,
     "metadata": {},
     "output_type": "execute_result"
    }
   ],
   "source": [
    "# als 모델은 input으로 (item X user 꼴의 matrix를 받기 때문에 Transpose해줍니다.)\n",
    "csr_data_transpose = csr_data.T\n",
    "csr_data_transpose"
   ]
  },
  {
   "cell_type": "markdown",
   "id": "agreed-bookmark",
   "metadata": {},
   "source": [
    "### 모델 학습"
   ]
  },
  {
   "cell_type": "code",
   "execution_count": 33,
   "id": "balanced-effects",
   "metadata": {},
   "outputs": [
    {
     "data": {
      "application/vnd.jupyter.widget-view+json": {
       "model_id": "de161416dc2b433291feb94b01a3daf1",
       "version_major": 2,
       "version_minor": 0
      },
      "text/plain": [
       "  0%|          | 0/20 [00:00<?, ?it/s]"
      ]
     },
     "metadata": {},
     "output_type": "display_data"
    }
   ],
   "source": [
    "# 모델 훈련\n",
    "als_model.fit(csr_data_transpose)"
   ]
  },
  {
   "cell_type": "markdown",
   "id": "center-beads",
   "metadata": {},
   "source": [
    "## 6. 결과 확인"
   ]
  },
  {
   "cell_type": "markdown",
   "id": "alive-picking",
   "metadata": {},
   "source": [
    "### 6-1. 영화 선호도 파악하기"
   ]
  },
  {
   "cell_type": "code",
   "execution_count": 34,
   "id": "marine-cartoon",
   "metadata": {},
   "outputs": [],
   "source": [
    "eunyeong, mulan = user_to_idx['6041'], movie_to_idx['Mulan (1998)']\n",
    "eunyeong_vector, mulan_vector = als_model.user_factors[eunyeong], als_model.item_factors[mulan]"
   ]
  },
  {
   "cell_type": "code",
   "execution_count": 35,
   "id": "direct-explanation",
   "metadata": {},
   "outputs": [
    {
     "data": {
      "text/plain": [
       "array([-3.90605122e-01, -4.31402549e-02, -5.47213778e-02,  2.77361959e-01,\n",
       "        1.79703869e-02, -2.50509828e-02,  3.45937639e-01, -3.66632044e-01,\n",
       "       -9.32605863e-02, -6.67776689e-02, -3.63928109e-01, -4.24080491e-01,\n",
       "        2.81437576e-01,  9.36534226e-01, -3.91867757e-02,  2.61897258e-02,\n",
       "       -5.71133271e-02,  5.23032129e-01, -4.90260184e-01, -5.75039744e-01,\n",
       "       -8.33045989e-02, -5.67516923e-01,  1.23528406e-01, -6.72973767e-02,\n",
       "       -1.94550641e-02, -7.14734674e-01,  3.19132179e-01, -4.89674360e-01,\n",
       "        5.71150362e-01,  1.64225116e-01, -6.66151464e-01, -6.87472701e-01,\n",
       "        3.40279132e-01,  4.93038505e-01,  6.94664836e-01,  7.70274818e-01,\n",
       "        1.78950578e-01, -1.70772821e-01,  1.69495076e-01,  7.22523749e-01,\n",
       "        2.80270785e-01,  4.14711207e-01,  2.89038360e-01,  4.17430580e-01,\n",
       "       -7.42264271e-01,  2.61259317e-01,  1.80783883e-01,  6.82639003e-01,\n",
       "        4.43345994e-01,  7.66689554e-02, -2.62236893e-01,  6.54647127e-02,\n",
       "        8.28569159e-02, -6.04713969e-02, -4.45765734e-01, -1.28635824e-01,\n",
       "       -6.80113971e-01, -3.94644380e-01, -3.55366431e-02, -1.87333748e-01,\n",
       "        9.67053056e-01, -3.84368032e-01,  3.65537047e-01, -4.71186310e-01,\n",
       "       -6.71569169e-01,  1.36495754e-01,  8.35365891e-01,  2.98641950e-01,\n",
       "       -2.04295799e-01, -3.77719790e-01,  6.33900985e-02,  3.56047750e-01,\n",
       "       -2.84681082e-01,  1.63786680e-01,  3.52553755e-01, -6.24131523e-02,\n",
       "        3.83993268e-01,  2.90166676e-01, -2.47780561e-01, -4.11826611e-01,\n",
       "        3.06600392e-01, -5.18391058e-02,  2.39227608e-01, -9.56724863e-03,\n",
       "        6.23782218e-01, -2.66612232e-01, -2.48459607e-01, -1.68427050e-01,\n",
       "        3.13118488e-01,  6.15055189e-02, -5.09584546e-01,  8.04653227e-01,\n",
       "        1.08056508e-01, -5.61607718e-01, -4.21426585e-03,  1.37069732e-01,\n",
       "        2.24942401e-01,  8.19448113e-01,  1.03716515e-02, -6.24669194e-01,\n",
       "       -5.10049760e-01,  2.31187165e-01, -1.81269452e-01,  6.20226085e-01,\n",
       "       -3.04259341e-02, -5.06236479e-02, -7.75460601e-02,  1.31347269e-01,\n",
       "        6.44177675e-01, -4.77710754e-01, -1.16171427e-01,  1.19515546e-01,\n",
       "        1.83242351e-01,  1.16570964e-01,  5.03214821e-02, -2.63831705e-01,\n",
       "        2.22520635e-01,  5.43656766e-01,  2.21981615e-01, -6.14573359e-01,\n",
       "       -3.50113250e-02, -6.47622719e-02,  4.27562892e-01, -3.92679960e-01,\n",
       "        1.49987862e-01, -4.22124982e-01, -6.71725392e-01,  2.33483881e-01,\n",
       "        3.61960143e-01, -9.54698175e-02,  4.21721190e-01,  2.94026315e-01,\n",
       "        2.91141808e-01,  1.94894552e-01, -4.82553899e-01,  2.13275909e-01,\n",
       "        3.01008582e-01, -1.04424722e-01, -1.76863298e-01, -2.95841157e-01,\n",
       "       -4.17881616e-04, -2.15284631e-01,  3.26704115e-01, -5.43163195e-02,\n",
       "       -5.40448964e-01, -6.24865174e-01,  9.38322544e-02,  1.12903818e-01,\n",
       "        4.24679518e-01, -1.68426875e-02,  5.09960532e-01,  7.40997076e-01,\n",
       "        3.76567870e-01,  4.22008455e-01,  1.58793613e-01,  5.63308418e-01,\n",
       "       -2.35339493e-01, -5.26937172e-02,  2.51879454e-01, -6.80804133e-01,\n",
       "        5.44587493e-01,  4.48931038e-01, -3.26603919e-01, -1.36707842e-01,\n",
       "       -1.08791149e+00, -4.04545069e-01, -4.47235890e-02, -7.19247103e-01,\n",
       "       -1.53410047e-01, -1.00143589e-01, -5.51524758e-01,  2.05988452e-01,\n",
       "        2.74688095e-01,  1.88609913e-01,  9.79453176e-02, -9.40337121e-01,\n",
       "       -1.82119876e-01,  4.19511497e-01,  1.20569676e-01,  2.62048036e-01,\n",
       "       -1.22549273e-01, -2.70177722e-01, -2.67909259e-01, -1.48148283e-01,\n",
       "        2.23624766e-01,  1.47735909e-01,  4.03795660e-01,  3.81815314e-01,\n",
       "        2.52076924e-01,  1.28292874e-01, -2.53119200e-01, -1.00769028e-01,\n",
       "       -8.45943332e-01,  3.36776674e-01, -5.60125522e-02, -8.54187310e-02,\n",
       "       -8.28904331e-01, -7.14222550e-01, -2.93847434e-02,  2.15367451e-01],\n",
       "      dtype=float32)"
      ]
     },
     "execution_count": 35,
     "metadata": {},
     "output_type": "execute_result"
    }
   ],
   "source": [
    "eunyeong_vector # 나의 사용자 벡터"
   ]
  },
  {
   "cell_type": "code",
   "execution_count": 36,
   "id": "professional-ukraine",
   "metadata": {},
   "outputs": [
    {
     "data": {
      "text/plain": [
       "array([ 6.96733885e-04,  9.93920024e-03,  8.21210488e-05,  2.07405128e-02,\n",
       "        4.04278701e-03,  8.45363177e-03,  6.75080018e-03,  2.18260637e-03,\n",
       "        7.49140978e-03,  1.55579648e-03, -6.49726717e-03, -2.20742784e-02,\n",
       "        1.97737366e-02,  2.78198738e-02, -4.61074151e-03,  1.55536588e-02,\n",
       "       -2.99386773e-03,  6.64541358e-03, -1.67546654e-03,  1.08125536e-02,\n",
       "       -1.10680843e-02, -2.04611402e-02, -8.94658267e-03,  5.30994264e-03,\n",
       "       -5.87085821e-03, -1.10131735e-02,  5.51885692e-03, -1.04553038e-02,\n",
       "        1.85099915e-02,  2.29236926e-03, -1.56375188e-02, -7.50134187e-03,\n",
       "        8.10484122e-03,  6.29697274e-03,  1.83211826e-02,  4.24057432e-02,\n",
       "        1.11224344e-02,  9.61569045e-03,  7.28878519e-03,  8.23131762e-03,\n",
       "        1.32358689e-02, -4.03971737e-03,  1.28876017e-02,  1.04650147e-02,\n",
       "       -1.04570771e-02,  6.57843612e-03,  1.66645285e-03,  2.03032177e-02,\n",
       "        9.99143068e-03,  1.10408226e-02,  5.82855567e-03, -1.57057552e-03,\n",
       "        4.33494523e-03,  2.12010667e-02, -8.01350921e-03,  7.07547367e-03,\n",
       "       -2.21841577e-02, -1.71964802e-03, -9.82307270e-03,  1.20688754e-03,\n",
       "        3.52639407e-02,  1.14245871e-02, -3.14500346e-03, -1.17346989e-02,\n",
       "        7.33511697e-04,  8.42385553e-03,  1.61761530e-02,  7.43637513e-03,\n",
       "        1.19583234e-02, -6.26343722e-03, -2.13302136e-03,  7.79992854e-03,\n",
       "        5.84053481e-03, -1.82565453e-03, -4.78888024e-03,  1.00985290e-02,\n",
       "        1.52343614e-02, -3.06972535e-03,  8.47899076e-03,  1.20598823e-03,\n",
       "        2.23531704e-02, -2.40894337e-03,  8.84401333e-03,  1.25320749e-02,\n",
       "        2.18863450e-02,  9.42681264e-03, -1.02308812e-02, -8.99639563e-04,\n",
       "        1.00828055e-02, -3.09897540e-03, -2.04132404e-04,  2.18844060e-02,\n",
       "        1.14452774e-02, -4.19775024e-03,  7.47945020e-03,  1.76500212e-02,\n",
       "        2.17854809e-02,  1.21228723e-03, -2.46185693e-03, -2.16612825e-03,\n",
       "       -5.81032177e-03,  1.07750446e-02, -5.21414774e-03,  1.63260028e-02,\n",
       "        5.94084430e-03,  5.83230564e-03,  1.73239540e-02,  2.80679320e-03,\n",
       "        3.10380943e-02, -7.88148260e-04,  1.65494520e-03,  3.86882853e-03,\n",
       "       -3.61979497e-03,  5.19214384e-03,  1.97408982e-02,  1.03075644e-02,\n",
       "        1.11943921e-02,  1.10477433e-02,  2.17545927e-02, -2.00661533e-02,\n",
       "        3.79588990e-03,  1.07141556e-02,  2.79061752e-03,  3.08482395e-03,\n",
       "        6.85530528e-03,  7.37014925e-04,  3.72192520e-03,  1.39022963e-02,\n",
       "        1.37006100e-02,  1.79552697e-02,  2.88905818e-02,  1.30308885e-02,\n",
       "        7.27662304e-03, -2.19686073e-03, -4.43309266e-03,  1.97406430e-02,\n",
       "        6.73901988e-03,  1.09441560e-02,  8.91802460e-03,  1.17518613e-02,\n",
       "       -7.48521322e-03,  1.08230882e-03, -1.97011745e-03,  6.86178962e-03,\n",
       "       -1.13659985e-02, -2.04369649e-02, -1.37900040e-02,  9.65718832e-03,\n",
       "        1.66488755e-02, -3.41857970e-03,  2.02318616e-02,  2.14073472e-02,\n",
       "        2.72151525e-03,  1.17514310e-02, -1.80689082e-03,  2.36716475e-02,\n",
       "       -1.83572751e-02, -5.61105227e-03,  1.86237656e-02, -7.82482978e-03,\n",
       "        3.57478275e-03,  1.84063264e-03, -8.30409955e-03,  8.11545830e-03,\n",
       "       -2.23286450e-02, -3.28156794e-03,  3.12429084e-03, -1.34935826e-02,\n",
       "       -2.88462907e-04, -1.16078528e-02,  2.13290914e-03,  6.56997552e-03,\n",
       "        1.14002293e-02,  7.43031362e-03, -3.71057470e-03, -1.77659988e-02,\n",
       "       -5.34065999e-03,  1.95656344e-02, -3.53530841e-03, -2.89488910e-03,\n",
       "        1.09015265e-02, -5.26537979e-03, -2.18611700e-03, -3.24151129e-03,\n",
       "        1.36436266e-03,  4.19297954e-03,  1.89560894e-02,  3.34509858e-03,\n",
       "       -9.49797872e-03,  1.87134016e-02, -2.04456504e-03,  2.29129358e-03,\n",
       "       -8.89245328e-03,  1.36267226e-02,  9.90108866e-03, -4.24965285e-04,\n",
       "       -1.57898068e-02, -2.48783585e-02,  2.16954830e-03,  1.47298153e-03],\n",
       "      dtype=float32)"
      ]
     },
     "execution_count": 36,
     "metadata": {},
     "output_type": "execute_result"
    }
   ],
   "source": [
    "mulan_vector # 영화 뮬란의 벡터"
   ]
  },
  {
   "cell_type": "code",
   "execution_count": 37,
   "id": "suitable-answer",
   "metadata": {},
   "outputs": [
    {
     "data": {
      "text/plain": [
       "0.6135275"
      ]
     },
     "execution_count": 37,
     "metadata": {},
     "output_type": "execute_result"
    }
   ],
   "source": [
    "# 나와 뮬란의 내적 구하기 (선호 리스트에 있는 영화)\n",
    "np.dot(eunyeong_vector, mulan_vector)"
   ]
  },
  {
   "cell_type": "code",
   "execution_count": 38,
   "id": "infrared-chassis",
   "metadata": {},
   "outputs": [
    {
     "data": {
      "text/plain": [
       "0.11037781"
      ]
     },
     "execution_count": 38,
     "metadata": {},
     "output_type": "execute_result"
    }
   ],
   "source": [
    "# 모델이 나의 titanic 대한 선호도를 어떻게 예측하는지 확인(선호 리스트에 없는 영화)\n",
    "titanic = movie_to_idx['Titanic (1997)']\n",
    "titanic_vector = als_model.item_factors[titanic]\n",
    "np.dot(eunyeong_vector, titanic_vector)"
   ]
  },
  {
   "cell_type": "code",
   "execution_count": 39,
   "id": "productive-webcam",
   "metadata": {},
   "outputs": [
    {
     "data": {
      "text/plain": [
       "0.4887701"
      ]
     },
     "execution_count": 39,
     "metadata": {},
     "output_type": "execute_result"
    }
   ],
   "source": [
    "# 모델이 나의 Bug's Life대한 선호도를 어떻게 예측하는지 확인\n",
    "bugs_life = movie_to_idx[\"Bug's Life, A (1998)\"]\n",
    "bugs_life_vector = als_model.item_factors[bugs_life]\n",
    "np.dot(eunyeong_vector, bugs_life_vector)"
   ]
  },
  {
   "cell_type": "code",
   "execution_count": 40,
   "id": "golden-burner",
   "metadata": {},
   "outputs": [
    {
     "data": {
      "text/plain": [
       "-0.010847442"
      ]
     },
     "execution_count": 40,
     "metadata": {},
     "output_type": "execute_result"
    }
   ],
   "source": [
    "# 모델이 나의 Matrix 대한 선호도를 어떻게 예측하는지 확인\n",
    "matrix = movie_to_idx['Matrix, The (1999)']\n",
    "matrix_vector = als_model.item_factors[matrix]\n",
    "np.dot(eunyeong_vector, matrix_vector)"
   ]
  },
  {
   "cell_type": "markdown",
   "id": "swedish-shelter",
   "metadata": {},
   "source": [
    "선호하는 영화 리스트에 있는 Mulan에 대한 선호도는 0.6정도이다.\n",
    "Bugs' Life에 대한 예측된 선호도는 0.49정도로\n",
    "Matrix 나 Titanic에 대한 예측값이 0.11, -0.01인것을 보면 높은 선호도를 보일 것이라 예측 해준다. \n",
    "사용자 초기 정보 세팅할 때 선호하는 영화 5개를 모두 장르가 `Animation|Children's`에 속하는 영화로  넣어주었기 때문에, 나는 애니메이션을 매우 좋아하는 사용자라고 학습되었고, 그 결과 애니메이션 장르인 Bug's Life는 높은 선호도를 가질 것이라 예측 해준것 같다.\n",
    "`Drama|Romance`인 Titanic 보다 `Action|Sci-Fi|Thriller`인 Matrix의 선호도가 낮을 거라 예측해준 것도 흥미롭다."
   ]
  },
  {
   "cell_type": "markdown",
   "id": "identified-economy",
   "metadata": {},
   "source": [
    "### 6-2. 내가 좋아하는 영화와 비슷한 영화 추천\n",
    "\n",
    "`AlternatingLeastSquares` 클래스에 구현되어 있는 `similar_items` 메서드를 통하여 비슷한 영화를 찾는다."
   ]
  },
  {
   "cell_type": "code",
   "execution_count": 46,
   "id": "surface-arlington",
   "metadata": {},
   "outputs": [],
   "source": [
    "def get_similar_artist(movie_title: str):\n",
    "    movie_id = movie_to_idx[movie_title]\n",
    "    similar_movie = als_model.similar_items(movie_id)\n",
    "    idx_to_movie = {v:k for k,v in movie_to_idx.items()}\n",
    "    similar_movie = [idx_to_movie[i[0]] for i in similar_movie]\n",
    "    return similar_movie"
   ]
  },
  {
   "cell_type": "code",
   "execution_count": 47,
   "id": "crude-financing",
   "metadata": {},
   "outputs": [
    {
     "data": {
      "text/plain": [
       "['Mulan (1998)',\n",
       " 'Tarzan (1999)',\n",
       " 'Hunchback of Notre Dame, The (1996)',\n",
       " 'Hercules (1997)',\n",
       " 'Rescuers Down Under, The (1990)',\n",
       " 'Antz (1998)',\n",
       " 'Anastasia (1997)',\n",
       " 'Beauty and the Beast (1991)',\n",
       " 'Lion King, The (1994)',\n",
       " 'Aladdin and the King of Thieves (1996)']"
      ]
     },
     "execution_count": 47,
     "metadata": {},
     "output_type": "execute_result"
    }
   ],
   "source": [
    "get_similar_artist('Mulan (1998)')"
   ]
  },
  {
   "cell_type": "code",
   "execution_count": 48,
   "id": "ranking-school",
   "metadata": {},
   "outputs": [
    {
     "data": {
      "text/plain": [
       "['Titanic (1997)',\n",
       " 'Ever After: A Cinderella Story (1998)',\n",
       " 'Snow Day (2000)',\n",
       " 'Jerry Maguire (1996)',\n",
       " 'City of Angels (1998)',\n",
       " 'English Patient, The (1996)',\n",
       " 'Walking Dead, The (1995)',\n",
       " 'Idolmaker, The (1980)',\n",
       " \"You've Got Mail (1998)\",\n",
       " \"Mr. Holland's Opus (1995)\"]"
      ]
     },
     "execution_count": 48,
     "metadata": {},
     "output_type": "execute_result"
    }
   ],
   "source": [
    "get_similar_artist('Titanic (1997)')"
   ]
  },
  {
   "cell_type": "code",
   "execution_count": 49,
   "id": "partial-victory",
   "metadata": {},
   "outputs": [
    {
     "data": {
      "text/plain": [
       "['Matrix, The (1999)',\n",
       " 'Terminator 2: Judgment Day (1991)',\n",
       " 'Total Recall (1990)',\n",
       " 'Fugitive, The (1993)',\n",
       " 'Fifth Element, The (1997)',\n",
       " 'Terminator, The (1984)',\n",
       " 'Face/Off (1997)',\n",
       " 'Twelve Monkeys (1995)',\n",
       " 'Star Wars: Episode V - The Empire Strikes Back (1980)',\n",
       " 'Men in Black (1997)']"
      ]
     },
     "execution_count": 49,
     "metadata": {},
     "output_type": "execute_result"
    }
   ],
   "source": [
    "get_similar_artist('Matrix, The (1999)')"
   ]
  },
  {
   "cell_type": "markdown",
   "id": "settled-recipient",
   "metadata": {},
   "source": [
    "### 6-3. 내가 좋아할 만한 영화는?"
   ]
  },
  {
   "cell_type": "code",
   "execution_count": 55,
   "id": "judicial-pathology",
   "metadata": {},
   "outputs": [
    {
     "data": {
      "text/plain": [
       "['Lion King, The (1994)',\n",
       " 'Beauty and the Beast (1991)',\n",
       " \"Bug's Life, A (1998)\",\n",
       " 'Tarzan (1999)',\n",
       " 'Toy Story 2 (1999)',\n",
       " 'Hunchback of Notre Dame, The (1996)',\n",
       " 'Little Mermaid, The (1989)',\n",
       " 'Anastasia (1997)',\n",
       " 'Nightmare Before Christmas, The (1993)',\n",
       " 'James and the Giant Peach (1996)',\n",
       " 'Iron Giant, The (1999)',\n",
       " 'Pocahontas (1995)',\n",
       " 'Prince of Egypt, The (1998)',\n",
       " 'South Park: Bigger, Longer and Uncut (1999)',\n",
       " '101 Dalmatians (1961)',\n",
       " 'Rescuers Down Under, The (1990)',\n",
       " 'Babe (1995)',\n",
       " 'Aladdin and the King of Thieves (1996)',\n",
       " 'Cinderella (1950)',\n",
       " \"Charlotte's Web (1973)\"]"
      ]
     },
     "execution_count": 55,
     "metadata": {},
     "output_type": "execute_result"
    }
   ],
   "source": [
    "user = user_to_idx['6041']\n",
    "\n",
    "# recommend에서는 user*item CSR Matrix를 받습니다.\n",
    "movie_recommended = als_model.recommend(user, csr_data, N=20, filter_already_liked_items=True)\n",
    "\n",
    "# 인덱스를 영화 제목으로 변환\n",
    "idx_to_movie = {v:k for k,v in movie_to_idx.items()}\n",
    "[idx_to_movie[i[0]] for i in movie_recommended]"
   ]
  },
  {
   "cell_type": "markdown",
   "id": "particular-license",
   "metadata": {},
   "source": [
    "추천된 영화 모두 `Animation`이나 `Children's` 장르의 영화로 성향을 잘 파악하고 추천해 주는 것을 확인 할 수 있다."
   ]
  },
  {
   "cell_type": "markdown",
   "id": "necessary-wellington",
   "metadata": {},
   "source": [
    "__모델들은 왜 Lion King을 가장 추천해 주었을까?__<br>\n",
    "AlternatingLeastSquares 클래스에 구현된 explain 메소드를 사용하면 기록을 남긴 데이터 중 이 추천에 기여한 정도를 확인할 수 있다."
   ]
  },
  {
   "cell_type": "code",
   "execution_count": 63,
   "id": "essential-playback",
   "metadata": {},
   "outputs": [
    {
     "data": {
      "text/plain": [
       "[('Aladdin (1992)', 0.2420083656883179),\n",
       " ('Antz (1998)', 0.10499965916134685),\n",
       " ('Mulan (1998)', 0.10389637616608918),\n",
       " ('Hercules (1997)', 0.07654569307218391),\n",
       " ('Toy Story (1995)', 0.05825559764228709)]"
      ]
     },
     "execution_count": 63,
     "metadata": {},
     "output_type": "execute_result"
    }
   ],
   "source": [
    "lionking = movie_to_idx['Lion King, The (1994)']\n",
    "explain_lionking = als_model.explain(user, csr_data, itemid=lionking)\n",
    "\n",
    "# 추천한 콘텐츠의 점수에 기여한 다른 콘텐츠와 기여도(합이 콘텐츠의 점수가 됩니다.)\n",
    "[(idx_to_movie[i[0]], i[1]) for i in explain_lionking[1]]"
   ]
  },
  {
   "cell_type": "markdown",
   "id": "retired-omaha",
   "metadata": {},
   "source": [
    "Aladdin에 대한 기여도가 가장 크다. Lion King도 뮤지컬 애니메이션이어서 일까?"
   ]
  },
  {
   "cell_type": "markdown",
   "id": "piano-anxiety",
   "metadata": {},
   "source": [
    "https://danthetech.netlify.app/DataScience/evaluation-metrics-for-recommendation-system"
   ]
  },
  {
   "cell_type": "code",
   "execution_count": null,
   "id": "seasonal-property",
   "metadata": {},
   "outputs": [],
   "source": []
  }
 ],
 "metadata": {
  "kernelspec": {
   "display_name": "Python 3",
   "language": "python",
   "name": "python3"
  },
  "language_info": {
   "codemirror_mode": {
    "name": "ipython",
    "version": 3
   },
   "file_extension": ".py",
   "mimetype": "text/x-python",
   "name": "python",
   "nbconvert_exporter": "python",
   "pygments_lexer": "ipython3",
   "version": "3.7.9"
  }
 },
 "nbformat": 4,
 "nbformat_minor": 5
}
