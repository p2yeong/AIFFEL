{
 "cells": [
  {
   "cell_type": "markdown",
   "id": "opposite-canadian",
   "metadata": {},
   "source": [
    "# Movielens 영화 추천🎬"
   ]
  },
  {
   "cell_type": "markdown",
   "id": "adjusted-summit",
   "metadata": {},
   "source": [
    "__프로젝트 목표__<br>\n",
    "- 추천시스템의 개념과 목적을 이해한다.\n",
    "- Implicit 라이브러리를 활용하여 Matrix Factorization(이하 MF) 기반의 추천 모델을 만들어 본다.\n",
    "- 영화 시청 기록을 활용하여 비슷한 영화를 찾고 사용자에 따른 영화를 추천해 본다.\n",
    "- 추천 시스템에서 자주 사용되는 데이터 구조인 CSR Matrix을 익힌다\n",
    "- 유저의 행위 데이터 중 Explicit data와 Implicit data의 차이점을 익힌다."
   ]
  },
  {
   "cell_type": "code",
   "execution_count": 1,
   "id": "catholic-camcorder",
   "metadata": {},
   "outputs": [],
   "source": [
    "import os\n",
    "import pandas as pd\n",
    "import numpy as np\n",
    "\n",
    "from scipy.sparse import csr_matrix\n",
    "from implicit.als import AlternatingLeastSquares"
   ]
  },
  {
   "cell_type": "markdown",
   "id": "responsible-split",
   "metadata": {},
   "source": [
    "## 1. 데이터 준비와 전처리"
   ]
  },
  {
   "cell_type": "markdown",
   "id": "collectible-strain",
   "metadata": {},
   "source": [
    "사용할 데이터셋은 Movielens 데이터이다.\n",
    "\n",
    "- 유저가 영화에 대해 평점을 매긴 데이터가 데이터 크기 별로 존재한다\n",
    "- 별점 데이터는 대표적인 explicit 데이터이나, implicit 데이터로 간주하고 테스트한다.\n",
    "- 별점을 시청횟수로 해석해서 생각한다.\n",
    "- 또한 유저가 3점 미만으로 준 데이터는 선호하지 않는다고 가정하고 제외한다."
   ]
  },
  {
   "cell_type": "code",
   "execution_count": 2,
   "id": "parallel-router",
   "metadata": {},
   "outputs": [
    {
     "data": {
      "text/html": [
       "<div>\n",
       "<style scoped>\n",
       "    .dataframe tbody tr th:only-of-type {\n",
       "        vertical-align: middle;\n",
       "    }\n",
       "\n",
       "    .dataframe tbody tr th {\n",
       "        vertical-align: top;\n",
       "    }\n",
       "\n",
       "    .dataframe thead th {\n",
       "        text-align: right;\n",
       "    }\n",
       "</style>\n",
       "<table border=\"1\" class=\"dataframe\">\n",
       "  <thead>\n",
       "    <tr style=\"text-align: right;\">\n",
       "      <th></th>\n",
       "      <th>user_id</th>\n",
       "      <th>movie_id</th>\n",
       "      <th>rating</th>\n",
       "      <th>timestamp</th>\n",
       "    </tr>\n",
       "  </thead>\n",
       "  <tbody>\n",
       "    <tr>\n",
       "      <th>0</th>\n",
       "      <td>1</td>\n",
       "      <td>1193</td>\n",
       "      <td>5</td>\n",
       "      <td>978300760</td>\n",
       "    </tr>\n",
       "    <tr>\n",
       "      <th>1</th>\n",
       "      <td>1</td>\n",
       "      <td>661</td>\n",
       "      <td>3</td>\n",
       "      <td>978302109</td>\n",
       "    </tr>\n",
       "    <tr>\n",
       "      <th>2</th>\n",
       "      <td>1</td>\n",
       "      <td>914</td>\n",
       "      <td>3</td>\n",
       "      <td>978301968</td>\n",
       "    </tr>\n",
       "    <tr>\n",
       "      <th>3</th>\n",
       "      <td>1</td>\n",
       "      <td>3408</td>\n",
       "      <td>4</td>\n",
       "      <td>978300275</td>\n",
       "    </tr>\n",
       "    <tr>\n",
       "      <th>4</th>\n",
       "      <td>1</td>\n",
       "      <td>2355</td>\n",
       "      <td>5</td>\n",
       "      <td>978824291</td>\n",
       "    </tr>\n",
       "  </tbody>\n",
       "</table>\n",
       "</div>"
      ],
      "text/plain": [
       "   user_id  movie_id  rating  timestamp\n",
       "0        1      1193       5  978300760\n",
       "1        1       661       3  978302109\n",
       "2        1       914       3  978301968\n",
       "3        1      3408       4  978300275\n",
       "4        1      2355       5  978824291"
      ]
     },
     "execution_count": 2,
     "metadata": {},
     "output_type": "execute_result"
    }
   ],
   "source": [
    "rating_file_path=os.getenv('HOME') + '/aiffel/recommendata_iu/data/ml-1m/ratings.dat'\n",
    "ratings_cols = ['user_id', 'movie_id', 'rating', 'timestamp']\n",
    "ratings = pd.read_csv(rating_file_path, sep='::', names=ratings_cols, engine='python', encoding = \"ISO-8859-1\")\n",
    "orginal_data_size = len(ratings)\n",
    "ratings.head()"
   ]
  },
  {
   "cell_type": "code",
   "execution_count": 3,
   "id": "coral-level",
   "metadata": {},
   "outputs": [
    {
     "name": "stdout",
     "output_type": "stream",
     "text": [
      "orginal_data_size: 1000209, filtered_data_size: 836478\n",
      "Ratio of Remaining Data is 83.63%\n"
     ]
    }
   ],
   "source": [
    "# 3점 이상만 남깁니다.\n",
    "ratings = ratings[ratings['rating']>=3]\n",
    "filtered_data_size = len(ratings)\n",
    "\n",
    "print(f'orginal_data_size: {orginal_data_size}, filtered_data_size: {filtered_data_size}')\n",
    "print(f'Ratio of Remaining Data is {filtered_data_size / orginal_data_size:.2%}')"
   ]
  },
  {
   "cell_type": "code",
   "execution_count": 4,
   "id": "charged-bikini",
   "metadata": {},
   "outputs": [
    {
     "data": {
      "text/plain": [
       "0          5\n",
       "1          3\n",
       "2          3\n",
       "3          4\n",
       "4          5\n",
       "          ..\n",
       "1000203    3\n",
       "1000205    5\n",
       "1000206    5\n",
       "1000207    4\n",
       "1000208    4\n",
       "Name: count, Length: 836478, dtype: int64"
      ]
     },
     "execution_count": 4,
     "metadata": {},
     "output_type": "execute_result"
    }
   ],
   "source": [
    "# rating 컬럼의 이름을 count로 바꿉니다.\n",
    "ratings.rename(columns={'rating':'count'}, inplace=True)\n",
    "ratings['count']"
   ]
  },
  {
   "cell_type": "code",
   "execution_count": 5,
   "id": "naval-questionnaire",
   "metadata": {},
   "outputs": [
    {
     "data": {
      "text/html": [
       "<div>\n",
       "<style scoped>\n",
       "    .dataframe tbody tr th:only-of-type {\n",
       "        vertical-align: middle;\n",
       "    }\n",
       "\n",
       "    .dataframe tbody tr th {\n",
       "        vertical-align: top;\n",
       "    }\n",
       "\n",
       "    .dataframe thead th {\n",
       "        text-align: right;\n",
       "    }\n",
       "</style>\n",
       "<table border=\"1\" class=\"dataframe\">\n",
       "  <thead>\n",
       "    <tr style=\"text-align: right;\">\n",
       "      <th></th>\n",
       "      <th>movie_id</th>\n",
       "      <th>title</th>\n",
       "      <th>genre</th>\n",
       "    </tr>\n",
       "  </thead>\n",
       "  <tbody>\n",
       "    <tr>\n",
       "      <th>0</th>\n",
       "      <td>1</td>\n",
       "      <td>Toy Story (1995)</td>\n",
       "      <td>Animation|Children's|Comedy</td>\n",
       "    </tr>\n",
       "    <tr>\n",
       "      <th>1</th>\n",
       "      <td>2</td>\n",
       "      <td>Jumanji (1995)</td>\n",
       "      <td>Adventure|Children's|Fantasy</td>\n",
       "    </tr>\n",
       "    <tr>\n",
       "      <th>2</th>\n",
       "      <td>3</td>\n",
       "      <td>Grumpier Old Men (1995)</td>\n",
       "      <td>Comedy|Romance</td>\n",
       "    </tr>\n",
       "    <tr>\n",
       "      <th>3</th>\n",
       "      <td>4</td>\n",
       "      <td>Waiting to Exhale (1995)</td>\n",
       "      <td>Comedy|Drama</td>\n",
       "    </tr>\n",
       "    <tr>\n",
       "      <th>4</th>\n",
       "      <td>5</td>\n",
       "      <td>Father of the Bride Part II (1995)</td>\n",
       "      <td>Comedy</td>\n",
       "    </tr>\n",
       "  </tbody>\n",
       "</table>\n",
       "</div>"
      ],
      "text/plain": [
       "   movie_id                               title                         genre\n",
       "0         1                    Toy Story (1995)   Animation|Children's|Comedy\n",
       "1         2                      Jumanji (1995)  Adventure|Children's|Fantasy\n",
       "2         3             Grumpier Old Men (1995)                Comedy|Romance\n",
       "3         4            Waiting to Exhale (1995)                  Comedy|Drama\n",
       "4         5  Father of the Bride Part II (1995)                        Comedy"
      ]
     },
     "execution_count": 5,
     "metadata": {},
     "output_type": "execute_result"
    }
   ],
   "source": [
    "# 영화 제목을 보기 위해 메타 데이터를 읽어옵니다.\n",
    "movie_file_path=os.getenv('HOME') + '/aiffel/recommendata_iu/data/ml-1m/movies.dat'\n",
    "cols = ['movie_id', 'title', 'genre'] \n",
    "movies = pd.read_csv(movie_file_path, sep='::', names=cols, engine='python', encoding='ISO-8859-1')\n",
    "movies.head()"
   ]
  },
  {
   "cell_type": "code",
   "execution_count": 6,
   "id": "technological-feeding",
   "metadata": {},
   "outputs": [
    {
     "data": {
      "text/html": [
       "<div>\n",
       "<style scoped>\n",
       "    .dataframe tbody tr th:only-of-type {\n",
       "        vertical-align: middle;\n",
       "    }\n",
       "\n",
       "    .dataframe tbody tr th {\n",
       "        vertical-align: top;\n",
       "    }\n",
       "\n",
       "    .dataframe thead th {\n",
       "        text-align: right;\n",
       "    }\n",
       "</style>\n",
       "<table border=\"1\" class=\"dataframe\">\n",
       "  <thead>\n",
       "    <tr style=\"text-align: right;\">\n",
       "      <th></th>\n",
       "      <th>user_id</th>\n",
       "      <th>movie_id</th>\n",
       "      <th>count</th>\n",
       "      <th>timestamp</th>\n",
       "      <th>title</th>\n",
       "      <th>genre</th>\n",
       "    </tr>\n",
       "  </thead>\n",
       "  <tbody>\n",
       "    <tr>\n",
       "      <th>0</th>\n",
       "      <td>1</td>\n",
       "      <td>1193</td>\n",
       "      <td>5</td>\n",
       "      <td>978300760</td>\n",
       "      <td>One Flew Over the Cuckoo's Nest (1975)</td>\n",
       "      <td>Drama</td>\n",
       "    </tr>\n",
       "    <tr>\n",
       "      <th>1</th>\n",
       "      <td>1</td>\n",
       "      <td>661</td>\n",
       "      <td>3</td>\n",
       "      <td>978302109</td>\n",
       "      <td>James and the Giant Peach (1996)</td>\n",
       "      <td>Animation|Children's|Musical</td>\n",
       "    </tr>\n",
       "    <tr>\n",
       "      <th>2</th>\n",
       "      <td>1</td>\n",
       "      <td>914</td>\n",
       "      <td>3</td>\n",
       "      <td>978301968</td>\n",
       "      <td>My Fair Lady (1964)</td>\n",
       "      <td>Musical|Romance</td>\n",
       "    </tr>\n",
       "    <tr>\n",
       "      <th>3</th>\n",
       "      <td>1</td>\n",
       "      <td>3408</td>\n",
       "      <td>4</td>\n",
       "      <td>978300275</td>\n",
       "      <td>Erin Brockovich (2000)</td>\n",
       "      <td>Drama</td>\n",
       "    </tr>\n",
       "    <tr>\n",
       "      <th>4</th>\n",
       "      <td>1</td>\n",
       "      <td>2355</td>\n",
       "      <td>5</td>\n",
       "      <td>978824291</td>\n",
       "      <td>Bug's Life, A (1998)</td>\n",
       "      <td>Animation|Children's|Comedy</td>\n",
       "    </tr>\n",
       "  </tbody>\n",
       "</table>\n",
       "</div>"
      ],
      "text/plain": [
       "   user_id  movie_id  count  timestamp  \\\n",
       "0        1      1193      5  978300760   \n",
       "1        1       661      3  978302109   \n",
       "2        1       914      3  978301968   \n",
       "3        1      3408      4  978300275   \n",
       "4        1      2355      5  978824291   \n",
       "\n",
       "                                    title                         genre  \n",
       "0  One Flew Over the Cuckoo's Nest (1975)                         Drama  \n",
       "1        James and the Giant Peach (1996)  Animation|Children's|Musical  \n",
       "2                     My Fair Lady (1964)               Musical|Romance  \n",
       "3                  Erin Brockovich (2000)                         Drama  \n",
       "4                    Bug's Life, A (1998)   Animation|Children's|Comedy  "
      ]
     },
     "execution_count": 6,
     "metadata": {},
     "output_type": "execute_result"
    }
   ],
   "source": [
    "# ratings 와 movies 데이터 프레임 합치기\n",
    "data = ratings.join(movies.set_index('movie_id'), on='movie_id')\n",
    "data.head()"
   ]
  },
  {
   "cell_type": "code",
   "execution_count": 7,
   "id": "regulated-disability",
   "metadata": {},
   "outputs": [
    {
     "data": {
      "text/plain": [
       "0                One Flew Over the Cuckoo's Nest (1975)\n",
       "1                      James and the Giant Peach (1996)\n",
       "2                                   My Fair Lady (1964)\n",
       "3                                Erin Brockovich (2000)\n",
       "4                                  Bug's Life, A (1998)\n",
       "5                            Princess Bride, The (1987)\n",
       "6                                        Ben-Hur (1959)\n",
       "7                             Christmas Story, A (1983)\n",
       "8                Snow White and the Seven Dwarfs (1937)\n",
       "9                              Wizard of Oz, The (1939)\n",
       "10                          Beauty and the Beast (1991)\n",
       "11                                          Gigi (1958)\n",
       "12                        Miracle on 34th Street (1947)\n",
       "13                      Ferris Bueller's Day Off (1986)\n",
       "14                           Sound of Music, The (1965)\n",
       "15                                     Airplane! (1980)\n",
       "16                                        Tarzan (1999)\n",
       "17                                         Bambi (1942)\n",
       "18                                    Awakenings (1990)\n",
       "19                                           Big (1988)\n",
       "20                                 Pleasantville (1998)\n",
       "21    Wallace & Gromit: The Best of Aardman Animatio...\n",
       "22                            Back to the Future (1985)\n",
       "23                              Schindler's List (1993)\n",
       "24                                Meet Joe Black (1998)\n",
       "25                                    Pocahontas (1995)\n",
       "26                    E.T. the Extra-Terrestrial (1982)\n",
       "27                                       Titanic (1997)\n",
       "28                                       Ponette (1996)\n",
       "29                                Close Shave, A (1995)\n",
       "30                                          Antz (1998)\n",
       "31                             Girl, Interrupted (1999)\n",
       "32                                      Hercules (1997)\n",
       "33                                       Aladdin (1992)\n",
       "34                                         Mulan (1998)\n",
       "35                  Hunchback of Notre Dame, The (1996)\n",
       "36                       Last Days of Disco, The (1998)\n",
       "37                                    Cinderella (1950)\n",
       "38                              Sixth Sense, The (1999)\n",
       "39                                     Apollo 13 (1995)\n",
       "40                                     Toy Story (1995)\n",
       "41                                      Rain Man (1988)\n",
       "42                            Driving Miss Daisy (1989)\n",
       "43                     Run Lola Run (Lola rennt) (1998)\n",
       "44            Star Wars: Episode IV - A New Hope (1977)\n",
       "45                                  Mary Poppins (1964)\n",
       "46                                         Dumbo (1941)\n",
       "47                         To Kill a Mockingbird (1962)\n",
       "48                           Saving Private Ryan (1998)\n",
       "49                            Secret Garden, The (1993)\n",
       "50                                   Toy Story 2 (1999)\n",
       "51                                         Fargo (1996)\n",
       "52                            Dead Poets Society (1989)\n",
       "Name: title, dtype: object"
      ]
     },
     "execution_count": 7,
     "metadata": {},
     "output_type": "execute_result"
    }
   ],
   "source": [
    "# user_id가 1인 사용자가 어떤 영화를 시청했는지 확인해봅니다.\n",
    "movie_id_user1 = data[data['user_id']== 1]['title']\n",
    "movie_id_user1"
   ]
  },
  {
   "cell_type": "markdown",
   "id": "lightweight-source",
   "metadata": {},
   "source": [
    "## 2. 데이터 탐색하기"
   ]
  },
  {
   "cell_type": "markdown",
   "id": "committed-approach",
   "metadata": {},
   "source": [
    "- ratings에 있는 유니크한 영화 개수\n",
    "- rating에 있는 유니크한 사용자 수\n",
    "- 가장 인기 있는 영화 30개(인기순)"
   ]
  },
  {
   "cell_type": "code",
   "execution_count": 8,
   "id": "innovative-northern",
   "metadata": {},
   "outputs": [
    {
     "name": "stdout",
     "output_type": "stream",
     "text": [
      "영화 개수:  3628\n"
     ]
    }
   ],
   "source": [
    "# 영화 개수\n",
    "print('영화 개수: ', data['movie_id'].nunique())"
   ]
  },
  {
   "cell_type": "code",
   "execution_count": 9,
   "id": "otherwise-interface",
   "metadata": {},
   "outputs": [
    {
     "name": "stdout",
     "output_type": "stream",
     "text": [
      "사용자 수:  6039\n"
     ]
    }
   ],
   "source": [
    "# 사용자 수\n",
    "print('사용자 수: ', data['user_id'].nunique())"
   ]
  },
  {
   "cell_type": "code",
   "execution_count": 10,
   "id": "stock-reflection",
   "metadata": {},
   "outputs": [
    {
     "name": "stdout",
     "output_type": "stream",
     "text": [
      "인기있는 영화 Top 30\n"
     ]
    },
    {
     "data": {
      "text/plain": [
       "title\n",
       "American Beauty (1999)                                   3211\n",
       "Star Wars: Episode IV - A New Hope (1977)                2910\n",
       "Star Wars: Episode V - The Empire Strikes Back (1980)    2885\n",
       "Star Wars: Episode VI - Return of the Jedi (1983)        2716\n",
       "Saving Private Ryan (1998)                               2561\n",
       "Terminator 2: Judgment Day (1991)                        2509\n",
       "Silence of the Lambs, The (1991)                         2498\n",
       "Raiders of the Lost Ark (1981)                           2473\n",
       "Back to the Future (1985)                                2460\n",
       "Matrix, The (1999)                                       2434\n",
       "Jurassic Park (1993)                                     2413\n",
       "Sixth Sense, The (1999)                                  2385\n",
       "Fargo (1996)                                             2371\n",
       "Braveheart (1995)                                        2314\n",
       "Men in Black (1997)                                      2297\n",
       "Schindler's List (1993)                                  2257\n",
       "Princess Bride, The (1987)                               2252\n",
       "Shakespeare in Love (1998)                               2213\n",
       "L.A. Confidential (1997)                                 2210\n",
       "Shawshank Redemption, The (1994)                         2194\n",
       "Godfather, The (1972)                                    2167\n",
       "Groundhog Day (1993)                                     2121\n",
       "E.T. the Extra-Terrestrial (1982)                        2102\n",
       "Being John Malkovich (1999)                              2066\n",
       "Ghostbusters (1984)                                      2051\n",
       "Pulp Fiction (1994)                                      2030\n",
       "Forrest Gump (1994)                                      2022\n",
       "Terminator, The (1984)                                   2019\n",
       "Toy Story (1995)                                         2000\n",
       "Fugitive, The (1993)                                     1941\n",
       "Name: user_id, dtype: int64"
      ]
     },
     "execution_count": 10,
     "metadata": {},
     "output_type": "execute_result"
    }
   ],
   "source": [
    "# 인기있는 영화 Top 30\n",
    "print('인기있는 영화 Top 30')\n",
    "movie_count = data.groupby('title')['user_id'].count()\n",
    "movie_count.sort_values(ascending=False).head(30)"
   ]
  },
  {
   "cell_type": "code",
   "execution_count": 11,
   "id": "quality-updating",
   "metadata": {},
   "outputs": [
    {
     "data": {
      "text/plain": [
       "count    6039.000000\n",
       "mean      138.512668\n",
       "std       156.241599\n",
       "min         1.000000\n",
       "25%        38.000000\n",
       "50%        81.000000\n",
       "75%       177.000000\n",
       "max      1968.000000\n",
       "Name: movie_id, dtype: float64"
      ]
     },
     "execution_count": 11,
     "metadata": {},
     "output_type": "execute_result"
    }
   ],
   "source": [
    "# 유저별 몇 편의 영화를 시청했는지에 대한 통계\n",
    "user_count = data.groupby('user_id')['movie_id'].count()\n",
    "user_count.describe()"
   ]
  },
  {
   "cell_type": "code",
   "execution_count": 12,
   "id": "municipal-notion",
   "metadata": {},
   "outputs": [
    {
     "data": {
      "text/plain": [
       "count    6039.000000\n",
       "mean        4.055970\n",
       "std         0.432143\n",
       "min         3.000000\n",
       "25%         4.000000\n",
       "50%         4.000000\n",
       "75%         4.000000\n",
       "max         5.000000\n",
       "Name: count, dtype: float64"
      ]
     },
     "execution_count": 12,
     "metadata": {},
     "output_type": "execute_result"
    }
   ],
   "source": [
    "# 영화 별 시청(count)횟수 중앙값에 대한 통계\n",
    "user_median = data.groupby('user_id')['count'].median()\n",
    "user_median.describe()"
   ]
  },
  {
   "cell_type": "markdown",
   "id": "actual-whole",
   "metadata": {},
   "source": [
    "## 3. 모델 검증을 위한 사용자 초기 정보 세팅\n",
    "내가 선호하는 영화를 5가지 골라서 rating에 추가해준다. 예측값 해석을 용이하게 하기 위해 애니메이션 장르의 영화 5개를 초기 정보값으로 입력해 주었다."
   ]
  },
  {
   "cell_type": "code",
   "execution_count": 51,
   "id": "active-leisure",
   "metadata": {},
   "outputs": [
    {
     "data": {
      "text/html": [
       "<div>\n",
       "<style scoped>\n",
       "    .dataframe tbody tr th:only-of-type {\n",
       "        vertical-align: middle;\n",
       "    }\n",
       "\n",
       "    .dataframe tbody tr th {\n",
       "        vertical-align: top;\n",
       "    }\n",
       "\n",
       "    .dataframe thead th {\n",
       "        text-align: right;\n",
       "    }\n",
       "</style>\n",
       "<table border=\"1\" class=\"dataframe\">\n",
       "  <thead>\n",
       "    <tr style=\"text-align: right;\">\n",
       "      <th></th>\n",
       "      <th>movie_id</th>\n",
       "      <th>title</th>\n",
       "      <th>genre</th>\n",
       "    </tr>\n",
       "  </thead>\n",
       "  <tbody>\n",
       "    <tr>\n",
       "      <th>1166</th>\n",
       "      <td>1183</td>\n",
       "      <td>English Patient, The (1996)</td>\n",
       "      <td>Drama|Romance|War</td>\n",
       "    </tr>\n",
       "    <tr>\n",
       "      <th>1484</th>\n",
       "      <td>1519</td>\n",
       "      <td>Broken English (1996)</td>\n",
       "      <td>Drama</td>\n",
       "    </tr>\n",
       "  </tbody>\n",
       "</table>\n",
       "</div>"
      ],
      "text/plain": [
       "      movie_id                        title              genre\n",
       "1166      1183  English Patient, The (1996)  Drama|Romance|War\n",
       "1484      1519        Broken English (1996)              Drama"
      ]
     },
     "execution_count": 51,
     "metadata": {},
     "output_type": "execute_result"
    }
   ],
   "source": [
    "# 영화 제목 키워드로 검색\n",
    "movies[movies['title'].str.lower().str.contains('english ', regex=False)]"
   ]
  },
  {
   "cell_type": "code",
   "execution_count": 14,
   "id": "hydraulic-standing",
   "metadata": {},
   "outputs": [
    {
     "data": {
      "text/html": [
       "<div>\n",
       "<style scoped>\n",
       "    .dataframe tbody tr th:only-of-type {\n",
       "        vertical-align: middle;\n",
       "    }\n",
       "\n",
       "    .dataframe tbody tr th {\n",
       "        vertical-align: top;\n",
       "    }\n",
       "\n",
       "    .dataframe thead th {\n",
       "        text-align: right;\n",
       "    }\n",
       "</style>\n",
       "<table border=\"1\" class=\"dataframe\">\n",
       "  <thead>\n",
       "    <tr style=\"text-align: right;\">\n",
       "      <th></th>\n",
       "      <th>user_id</th>\n",
       "      <th>movie_id</th>\n",
       "      <th>title</th>\n",
       "      <th>count</th>\n",
       "    </tr>\n",
       "  </thead>\n",
       "  <tbody>\n",
       "    <tr>\n",
       "      <th>0</th>\n",
       "      <td>6041</td>\n",
       "      <td>1</td>\n",
       "      <td>Toy Story (1995)</td>\n",
       "      <td>5</td>\n",
       "    </tr>\n",
       "    <tr>\n",
       "      <th>1</th>\n",
       "      <td>6041</td>\n",
       "      <td>2294</td>\n",
       "      <td>Antz (1998)</td>\n",
       "      <td>5</td>\n",
       "    </tr>\n",
       "    <tr>\n",
       "      <th>2</th>\n",
       "      <td>6041</td>\n",
       "      <td>1566</td>\n",
       "      <td>Hercules (1997)</td>\n",
       "      <td>5</td>\n",
       "    </tr>\n",
       "    <tr>\n",
       "      <th>3</th>\n",
       "      <td>6041</td>\n",
       "      <td>588</td>\n",
       "      <td>Aladdin (1992)</td>\n",
       "      <td>5</td>\n",
       "    </tr>\n",
       "    <tr>\n",
       "      <th>4</th>\n",
       "      <td>6041</td>\n",
       "      <td>1907</td>\n",
       "      <td>Mulan (1998)</td>\n",
       "      <td>5</td>\n",
       "    </tr>\n",
       "  </tbody>\n",
       "</table>\n",
       "</div>"
      ],
      "text/plain": [
       "  user_id  movie_id             title  count\n",
       "0    6041         1  Toy Story (1995)      5\n",
       "1    6041      2294       Antz (1998)      5\n",
       "2    6041      1566   Hercules (1997)      5\n",
       "3    6041       588    Aladdin (1992)      5\n",
       "4    6041      1907      Mulan (1998)      5"
      ]
     },
     "execution_count": 14,
     "metadata": {},
     "output_type": "execute_result"
    }
   ],
   "source": [
    "# 좋아하는 영화의 id 리스트\n",
    "my_favoite_id = [1, 2294, 1566, 588, 1907]\n",
    "\n",
    "# id 리스트를 title 리스트로 변환해준다\n",
    "my_favorite_movie = []\n",
    "for mid in my_favoite_id:\n",
    "    my_favorite_movie.append(list(movies[movies['movie_id']==mid]['title'])[0])\n",
    "    \n",
    "# '6041'6이라는 user_id가 위 영화를 5회씩 시청했다고 가정하겠습니다.\n",
    "my_watchlist = pd.DataFrame({'user_id': ['6041']*5, 'movie_id': my_favoite_id, 'title': my_favorite_movie, 'count':[5]*5})\n",
    "\n",
    "if not data.isin({'user_id':['6041']})['user_id'].any():  # user_id에 'eunyoeng'이라는 데이터가 없다면\n",
    "    data = data.append(my_watchlist)                           # 위에 임의로 만든 my_favorite 데이터를 추가해 줍니다. \n",
    "\n",
    "data = data[['user_id', 'movie_id', 'title', 'count']]\n",
    "data.tail()"
   ]
  },
  {
   "cell_type": "markdown",
   "id": "ceramic-campbell",
   "metadata": {},
   "source": [
    "## 4. CSR(Compressed Sparse Row) Matrix 만들기"
   ]
  },
  {
   "cell_type": "markdown",
   "id": "laden-convertible",
   "metadata": {},
   "source": [
    "![csr matrix](https://lovit.github.io/assets/figures/sparse_matrix_csr.png)\n",
    "출처:https://lovit.github.io/nlp/machine%20learning/2018/04/09/sparse_mtarix_handling/#csr-matrix\n",
    "\n",
    "CSR Matrix는 sparse한 matrix에서 유효한 데이터의 값과 과표 정보만으로 구성되어 메모리 사용량을 최소화할 수 있는 데이터 구조이다. row 순서대로 데이터를 저장한다."
   ]
  },
  {
   "cell_type": "code",
   "execution_count": 15,
   "id": "political-alcohol",
   "metadata": {},
   "outputs": [],
   "source": [
    "# 고유한 유저, 영화를 찾기\n",
    "user_unique = data['user_id'].unique()\n",
    "movie_unique = data['title'].unique()"
   ]
  },
  {
   "cell_type": "code",
   "execution_count": 16,
   "id": "formal-ontario",
   "metadata": {},
   "outputs": [],
   "source": [
    "# 유저, 영화 indexing\n",
    "user_to_idx = {v:k for k,v in enumerate(user_unique)}\n",
    "movie_to_idx = {v:k for k,v in enumerate(movie_unique)}"
   ]
  },
  {
   "cell_type": "code",
   "execution_count": 17,
   "id": "unlikely-excuse",
   "metadata": {},
   "outputs": [
    {
     "name": "stdout",
     "output_type": "stream",
     "text": [
      "user_id column indexing OK!!\n",
      "title column indexing OK!!\n"
     ]
    },
    {
     "data": {
      "text/html": [
       "<div>\n",
       "<style scoped>\n",
       "    .dataframe tbody tr th:only-of-type {\n",
       "        vertical-align: middle;\n",
       "    }\n",
       "\n",
       "    .dataframe tbody tr th {\n",
       "        vertical-align: top;\n",
       "    }\n",
       "\n",
       "    .dataframe thead th {\n",
       "        text-align: right;\n",
       "    }\n",
       "</style>\n",
       "<table border=\"1\" class=\"dataframe\">\n",
       "  <thead>\n",
       "    <tr style=\"text-align: right;\">\n",
       "      <th></th>\n",
       "      <th>user_id</th>\n",
       "      <th>movie_id</th>\n",
       "      <th>title</th>\n",
       "      <th>count</th>\n",
       "      <th>new_user_id</th>\n",
       "      <th>new_movie_id</th>\n",
       "    </tr>\n",
       "  </thead>\n",
       "  <tbody>\n",
       "    <tr>\n",
       "      <th>0</th>\n",
       "      <td>1</td>\n",
       "      <td>1193</td>\n",
       "      <td>One Flew Over the Cuckoo's Nest (1975)</td>\n",
       "      <td>5</td>\n",
       "      <td>0</td>\n",
       "      <td>0</td>\n",
       "    </tr>\n",
       "    <tr>\n",
       "      <th>1</th>\n",
       "      <td>1</td>\n",
       "      <td>661</td>\n",
       "      <td>James and the Giant Peach (1996)</td>\n",
       "      <td>3</td>\n",
       "      <td>0</td>\n",
       "      <td>1</td>\n",
       "    </tr>\n",
       "    <tr>\n",
       "      <th>2</th>\n",
       "      <td>1</td>\n",
       "      <td>914</td>\n",
       "      <td>My Fair Lady (1964)</td>\n",
       "      <td>3</td>\n",
       "      <td>0</td>\n",
       "      <td>2</td>\n",
       "    </tr>\n",
       "    <tr>\n",
       "      <th>3</th>\n",
       "      <td>1</td>\n",
       "      <td>3408</td>\n",
       "      <td>Erin Brockovich (2000)</td>\n",
       "      <td>4</td>\n",
       "      <td>0</td>\n",
       "      <td>3</td>\n",
       "    </tr>\n",
       "    <tr>\n",
       "      <th>4</th>\n",
       "      <td>1</td>\n",
       "      <td>2355</td>\n",
       "      <td>Bug's Life, A (1998)</td>\n",
       "      <td>5</td>\n",
       "      <td>0</td>\n",
       "      <td>4</td>\n",
       "    </tr>\n",
       "    <tr>\n",
       "      <th>...</th>\n",
       "      <td>...</td>\n",
       "      <td>...</td>\n",
       "      <td>...</td>\n",
       "      <td>...</td>\n",
       "      <td>...</td>\n",
       "      <td>...</td>\n",
       "    </tr>\n",
       "    <tr>\n",
       "      <th>0</th>\n",
       "      <td>6041</td>\n",
       "      <td>1</td>\n",
       "      <td>Toy Story (1995)</td>\n",
       "      <td>5</td>\n",
       "      <td>6039</td>\n",
       "      <td>40</td>\n",
       "    </tr>\n",
       "    <tr>\n",
       "      <th>1</th>\n",
       "      <td>6041</td>\n",
       "      <td>2294</td>\n",
       "      <td>Antz (1998)</td>\n",
       "      <td>5</td>\n",
       "      <td>6039</td>\n",
       "      <td>30</td>\n",
       "    </tr>\n",
       "    <tr>\n",
       "      <th>2</th>\n",
       "      <td>6041</td>\n",
       "      <td>1566</td>\n",
       "      <td>Hercules (1997)</td>\n",
       "      <td>5</td>\n",
       "      <td>6039</td>\n",
       "      <td>32</td>\n",
       "    </tr>\n",
       "    <tr>\n",
       "      <th>3</th>\n",
       "      <td>6041</td>\n",
       "      <td>588</td>\n",
       "      <td>Aladdin (1992)</td>\n",
       "      <td>5</td>\n",
       "      <td>6039</td>\n",
       "      <td>33</td>\n",
       "    </tr>\n",
       "    <tr>\n",
       "      <th>4</th>\n",
       "      <td>6041</td>\n",
       "      <td>1907</td>\n",
       "      <td>Mulan (1998)</td>\n",
       "      <td>5</td>\n",
       "      <td>6039</td>\n",
       "      <td>34</td>\n",
       "    </tr>\n",
       "  </tbody>\n",
       "</table>\n",
       "<p>836483 rows × 6 columns</p>\n",
       "</div>"
      ],
      "text/plain": [
       "   user_id  movie_id                                   title  count  \\\n",
       "0        1      1193  One Flew Over the Cuckoo's Nest (1975)      5   \n",
       "1        1       661        James and the Giant Peach (1996)      3   \n",
       "2        1       914                     My Fair Lady (1964)      3   \n",
       "3        1      3408                  Erin Brockovich (2000)      4   \n",
       "4        1      2355                    Bug's Life, A (1998)      5   \n",
       "..     ...       ...                                     ...    ...   \n",
       "0     6041         1                        Toy Story (1995)      5   \n",
       "1     6041      2294                             Antz (1998)      5   \n",
       "2     6041      1566                         Hercules (1997)      5   \n",
       "3     6041       588                          Aladdin (1992)      5   \n",
       "4     6041      1907                            Mulan (1998)      5   \n",
       "\n",
       "    new_user_id  new_movie_id  \n",
       "0             0             0  \n",
       "1             0             1  \n",
       "2             0             2  \n",
       "3             0             3  \n",
       "4             0             4  \n",
       "..          ...           ...  \n",
       "0          6039            40  \n",
       "1          6039            30  \n",
       "2          6039            32  \n",
       "3          6039            33  \n",
       "4          6039            34  \n",
       "\n",
       "[836483 rows x 6 columns]"
      ]
     },
     "execution_count": 17,
     "metadata": {},
     "output_type": "execute_result"
    }
   ],
   "source": [
    "# 데이터 컬럼 내 값을 indexing된 값으로 교체\n",
    "\n",
    "# user_to_idx.get을 통해 user_id 컬럼의 모든 값을 인덱싱한 Series를 구해 봅시다. \n",
    "# 혹시 정상적으로 인덱싱되지 않은 row가 있다면 인덱스가 NaN이 될 테니 dropna()로 제거합니다. \n",
    "temp_user_data = data['user_id'].map(user_to_idx.get).dropna()\n",
    "if len(temp_user_data) == len(data):   # 모든 row가 정상적으로 인덱싱되었다면\n",
    "    print('user_id column indexing OK!!')\n",
    "    data['new_user_id'] = temp_user_data   # data['user_id']을 인덱싱된 Series로 교체해 줍니다. \n",
    "else:\n",
    "    print('user_id column indexing Fail!!')\n",
    "    \n",
    "# movie_to_idx을 통해 title 컬럼도 동일한 방식으로 인덱싱해 줍니다. \n",
    "temp_movie_data = data['title'].map(movie_to_idx.get).dropna()\n",
    "if len(temp_movie_data) == len(data):\n",
    "    print('title column indexing OK!!')\n",
    "    data['new_movie_id'] = temp_movie_data\n",
    "else:\n",
    "    print('movie_id column indexing Fail!!')\n",
    "\n",
    "data"
   ]
  },
  {
   "cell_type": "code",
   "execution_count": 18,
   "id": "rotary-polish",
   "metadata": {},
   "outputs": [
    {
     "data": {
      "text/plain": [
       "<6040x3628 sparse matrix of type '<class 'numpy.longlong'>'\n",
       "\twith 836483 stored elements in Compressed Sparse Row format>"
      ]
     },
     "execution_count": 18,
     "metadata": {},
     "output_type": "execute_result"
    }
   ],
   "source": [
    "# CSR Matrix 생성\n",
    "num_user = data['new_user_id'].nunique()\n",
    "num_movie = data['new_movie_id'].nunique()\n",
    "\n",
    "# csr_matrix((data, (row_ind, col_ind)), [shape=(M, N)])\n",
    "csr_data = csr_matrix((data['count'], (data.new_user_id, data.new_movie_id)), shape= (num_user, num_movie))\n",
    "csr_data"
   ]
  },
  {
   "cell_type": "markdown",
   "id": "neutral-journey",
   "metadata": {},
   "source": [
    "## 5. MF 모델 학습하기"
   ]
  },
  {
   "cell_type": "markdown",
   "id": "auburn-click",
   "metadata": {},
   "source": [
    "![Fast and Scalable Matrix Factorization](https://d3s0tskafalll9.cloudfront.net/media/images/E-3v2-2_ekCv9hW.max-800x600.png)\n",
    "출처:https://arxiv.org/pdf/1610.05838.pdf"
   ]
  },
  {
   "cell_type": "markdown",
   "id": "private-belly",
   "metadata": {},
   "source": [
    "- (m,n) 사이즈의 행렬 R을 (m,k) 사이즈의 행렬 P와 (k,n) 사이즈의 행렬 Q로 분해한다면 R은 P와 Q의 행렬곱으로 표현 가능할 수 있다.\n",
    "- 이때의 P와 Q는 Feature Matrix\n",
    "- 영화를 추천하는 모델에 대입한다면, 사용자의 특성(Feature) 벡터인 P, 영화의 특성 벡터인 Q로 볼 수 있고 두 벡터를 내적해서 얻어지는 R이 사용자의 영화 선호도를 보는 것\n",
    "- k는 m,n보다 작은 값이기 때문에 계산량 측면으로도 훨씬 유리하다.\n",
    "- MF 모델은 성능이 준수하고 Scalability가 좋아서 많이 사용된다."
   ]
  },
  {
   "cell_type": "markdown",
   "id": "worst-interim",
   "metadata": {},
   "source": [
    "- 모델의 **목표**는 모든 유저와 아이템에 대해  **k-dimension의 벡터를 잘 만드는 것**\n",
    "- 벡터를 잘 만든다는 기준은 유저i의 벡터$U_i$와 아이템j의 벡터$I_j$를 내적했을 때 유저i가 아이템j에 대해 평가한 수치$M_ij$와 비슷한가이다.\n",
    "$$U_i*I_j=M_{ij}$$"
   ]
  },
  {
   "cell_type": "markdown",
   "id": "respiratory-possible",
   "metadata": {},
   "source": [
    "***"
   ]
  },
  {
   "cell_type": "markdown",
   "id": "editorial-current",
   "metadata": {},
   "source": [
    "Matrix Factorization 모델을 implicit 패키지를 사용하여 학습해 본다.\n",
    "- `implicit` 패키지는 implicit dataset을 사용하는 다양한 모델을 빠르게 학습할 수 있는 패키지\n",
    "- `als(AlternatingLeastSquares) model`: MF에서 두 Feature Matrix를 한번에 훈련하는 것은 잘 수렴하지 않아, 한쪽을 고정시키고 다른 쪽을 학습하는 방식을 번갈아 수행하는 방식(AlternatingLeastSquares)이 효과적이다.\n",
    ">__Implicit Datasets__<br>\n",
    "Implicit Data는 유저가 간접적(Implicit)으로 선호, 취향을 나타내는 데이터를 의미한다. 예시로는 검색 기록, 방문 페이지, 구매 내역 등이 있다\n",
    "    \n",
    "    출처: https://orill.tistory.com/entry/Explicit-vs-Implicit-Feedback-Datasets?category=1066301"
   ]
  },
  {
   "cell_type": "code",
   "execution_count": 19,
   "id": "bibliographic-removal",
   "metadata": {},
   "outputs": [],
   "source": [
    "# implicit 라이브러리에서 권장하고 있는 세팅\n",
    "os.environ['OPENBLAS_NUM_THREADS']='1'\n",
    "os.environ['KMP_DUPLICATE_LIB_OK']='True'\n",
    "os.environ['MKL_NUM_THREADS']='1'"
   ]
  },
  {
   "cell_type": "markdown",
   "id": "behind-packaging",
   "metadata": {},
   "source": [
    "__AlternatingLeastSquares__ 클래스의 **\\_\\_init\\_\\_ 파라미터**를 살펴보면,\n",
    "\n",
    "1. factors : 유저와 아이템의 벡터를 몇 차원으로 할 것인지 \n",
    "2. regularization : 과적합을 방지하기 위해 정규화 값을 얼마나 사용할 것인지 \n",
    "3. use_gpu : GPU를 사용할 것인지 \n",
    "4. iterations : epochs와 같은 의미입니다. 데이터를 몇 번 반복해서 학습할 것인지\n",
    "\n",
    "1,4를 늘릴수록 학습을 잘 하게 되지만 과적합의 우려가 있다."
   ]
  },
  {
   "cell_type": "code",
   "execution_count": 20,
   "id": "premium-ferry",
   "metadata": {},
   "outputs": [
    {
     "data": {
      "text/plain": [
       "<function implicit.als.AlternatingLeastSquares.__init__(self, factors=100, regularization=0.01, dtype=<class 'numpy.float32'>, use_native=True, use_cg=True, use_gpu=False, iterations=15, calculate_training_loss=False, num_threads=0, random_state=None)>"
      ]
     },
     "execution_count": 20,
     "metadata": {},
     "output_type": "execute_result"
    }
   ],
   "source": [
    "AlternatingLeastSquares.__init__"
   ]
  },
  {
   "cell_type": "markdown",
   "id": "catholic-metadata",
   "metadata": {},
   "source": [
    "### 모델 설계"
   ]
  },
  {
   "cell_type": "code",
   "execution_count": 21,
   "id": "biological-mongolia",
   "metadata": {},
   "outputs": [],
   "source": [
    "# Implicit AlternatingLeastSquares 모델의 선언\n",
    "als_model = AlternatingLeastSquares(factors=200, regularization=0.01, use_gpu=False, iterations=20, dtype=np.float32)"
   ]
  },
  {
   "cell_type": "code",
   "execution_count": 22,
   "id": "deluxe-block",
   "metadata": {},
   "outputs": [
    {
     "data": {
      "text/plain": [
       "<3628x6040 sparse matrix of type '<class 'numpy.longlong'>'\n",
       "\twith 836483 stored elements in Compressed Sparse Column format>"
      ]
     },
     "execution_count": 22,
     "metadata": {},
     "output_type": "execute_result"
    }
   ],
   "source": [
    "# als 모델은 input으로 (item X user 꼴의 matrix를 받기 때문에 Transpose해줍니다.)\n",
    "csr_data_transpose = csr_data.T\n",
    "csr_data_transpose"
   ]
  },
  {
   "cell_type": "markdown",
   "id": "former-archives",
   "metadata": {},
   "source": [
    "### 모델 학습"
   ]
  },
  {
   "cell_type": "code",
   "execution_count": 23,
   "id": "lasting-current",
   "metadata": {},
   "outputs": [
    {
     "data": {
      "application/vnd.jupyter.widget-view+json": {
       "model_id": "975470041dfc4fb48a9fadb03aad348b",
       "version_major": 2,
       "version_minor": 0
      },
      "text/plain": [
       "  0%|          | 0/20 [00:00<?, ?it/s]"
      ]
     },
     "metadata": {},
     "output_type": "display_data"
    }
   ],
   "source": [
    "# 모델 훈련\n",
    "als_model.fit(csr_data_transpose)"
   ]
  },
  {
   "cell_type": "markdown",
   "id": "arranged-browser",
   "metadata": {},
   "source": [
    "## 6. 결과 확인"
   ]
  },
  {
   "cell_type": "markdown",
   "id": "elementary-cycling",
   "metadata": {},
   "source": [
    "### 6-1. 영화 선호도 파악하기"
   ]
  },
  {
   "cell_type": "code",
   "execution_count": 24,
   "id": "hundred-editor",
   "metadata": {},
   "outputs": [],
   "source": [
    "eunyeong, mulan = user_to_idx['6041'], movie_to_idx['Mulan (1998)']\n",
    "eunyeong_vector, mulan_vector = als_model.user_factors[eunyeong], als_model.item_factors[mulan]"
   ]
  },
  {
   "cell_type": "code",
   "execution_count": 25,
   "id": "recreational-unknown",
   "metadata": {},
   "outputs": [
    {
     "data": {
      "text/plain": [
       "array([-0.02651836, -0.32261422, -0.22656272,  0.41848746, -0.63098246,\n",
       "       -0.40613934,  0.15849115,  0.17943887,  0.2960535 ,  0.1503299 ,\n",
       "       -0.11008499,  0.3787967 , -0.22134264, -0.37247333, -0.8027481 ,\n",
       "        0.18460505,  0.60743886, -0.2789573 ,  0.00968763,  0.4532709 ,\n",
       "        0.19175573, -0.23922448,  0.47254458,  0.46992213, -0.1658966 ,\n",
       "       -0.3459084 ,  0.17316577, -0.54285645,  0.51116884,  0.06958477,\n",
       "       -0.02090974,  0.49625254,  0.26293573,  0.6111128 , -0.37499815,\n",
       "       -0.16596475,  0.5389047 , -0.03437606, -0.3600217 ,  0.12816498,\n",
       "       -0.1850889 , -0.0707109 , -0.08358204,  0.0487445 , -0.19351631,\n",
       "        0.47655082, -0.24719447, -0.27171072,  0.511615  ,  0.4338859 ,\n",
       "       -0.16637062,  0.928505  ,  0.23089571, -0.11596956,  0.01475885,\n",
       "       -0.3360982 ,  0.00347733, -0.0943657 , -0.33658054,  0.14959477,\n",
       "       -0.38512838, -0.04933478, -0.0117647 , -0.13889939,  1.1659265 ,\n",
       "        0.95981264, -0.04724602, -0.02381607,  0.279917  , -0.42016482,\n",
       "        0.6405965 ,  0.5880287 ,  0.35666022, -0.078968  , -0.21837625,\n",
       "        0.42868936, -0.4278875 ,  0.13223943, -0.18076013,  0.20488141,\n",
       "        0.06071411,  0.3043355 ,  0.32770455, -0.25318116,  0.07686766,\n",
       "        0.39744413,  0.11647756, -0.00592   ,  0.46665013, -0.41242218,\n",
       "       -0.8501155 , -0.57871   , -0.17410819, -0.02648308,  0.38655716,\n",
       "       -0.05658968,  0.1375935 , -0.09813234, -0.2679245 ,  0.55681247,\n",
       "       -0.54029936,  0.00601603, -0.81019324,  0.08606692, -0.13950016,\n",
       "       -1.3634509 , -0.00437106, -0.01461878,  0.49423882, -0.73478746,\n",
       "        0.46633697,  0.47448546, -0.78939253, -0.11674005,  0.40399146,\n",
       "        0.42118347, -0.48941553,  0.24886702,  0.33945498, -0.68390846,\n",
       "       -0.45050877, -0.9841483 ,  0.5596832 ,  0.17907959, -0.13248162,\n",
       "        0.25280437,  0.5133133 ,  0.25167248,  0.05334939,  0.16735782,\n",
       "        0.49836862, -0.21188043, -0.30438793,  0.16124177,  0.27050027,\n",
       "        0.5613081 ,  0.49431163, -0.7089541 ,  0.1853256 , -0.32028642,\n",
       "        0.10971855, -0.2282526 , -0.29312372, -0.21012639, -0.11209603,\n",
       "       -0.14528105, -0.15795438,  0.01540597,  0.04496401,  0.22468998,\n",
       "        0.34147364,  0.08678583,  0.11713517, -0.22682296,  0.8337284 ,\n",
       "       -0.11918097, -0.21216087,  0.35358593, -0.49902138, -0.571195  ,\n",
       "       -0.05627132, -0.3687894 , -0.22084746, -0.5035917 ,  0.25982782,\n",
       "        0.45907405, -0.28566042,  0.8154962 , -0.73228776, -0.26492488,\n",
       "       -0.10850326,  0.11135648,  0.27881095,  0.33815396,  0.4008077 ,\n",
       "       -0.7535926 ,  0.1463946 ,  0.4502311 ,  0.12258767, -0.1430934 ,\n",
       "       -0.09176194,  0.11941842,  0.10109442, -0.5509425 ,  0.13419046,\n",
       "       -0.20751879,  0.55897224, -0.16413666, -0.11737104, -0.18474697,\n",
       "       -0.55683285, -0.3058222 ,  0.21009237,  0.14108855, -0.5176819 ,\n",
       "        0.22997029,  0.5191784 , -0.42442414,  0.09997047,  0.34494343],\n",
       "      dtype=float32)"
      ]
     },
     "execution_count": 25,
     "metadata": {},
     "output_type": "execute_result"
    }
   ],
   "source": [
    "eunyeong_vector # 나의 사용자 벡터"
   ]
  },
  {
   "cell_type": "code",
   "execution_count": 26,
   "id": "turkish-disability",
   "metadata": {},
   "outputs": [
    {
     "data": {
      "text/plain": [
       "array([ 1.81849592e-03,  4.80828388e-03,  9.28055216e-03,  1.84755512e-02,\n",
       "        1.11160196e-04,  3.32128140e-03,  1.06173260e-02,  7.52274122e-04,\n",
       "       -5.93188778e-03,  2.37716897e-03, -2.78835854e-04,  9.91005823e-03,\n",
       "        1.72225647e-02,  8.91456939e-03, -3.05081997e-02,  1.22858835e-02,\n",
       "        2.22746171e-02,  9.71779693e-03,  8.16260278e-03,  1.33153955e-02,\n",
       "        3.17045185e-03, -1.97088416e-03,  1.22168502e-02,  1.88700873e-02,\n",
       "       -1.03791282e-02, -1.10949669e-02,  6.89681666e-03, -1.42777041e-02,\n",
       "        1.74110159e-02,  1.12375626e-02,  2.82779103e-03,  1.28789498e-02,\n",
       "        1.15250675e-02,  1.93215255e-02,  2.17331457e-03,  2.06251745e-03,\n",
       "        8.50532483e-03,  1.10619375e-02,  5.47457021e-03, -5.76784229e-03,\n",
       "       -5.16748149e-03,  3.33372480e-03,  1.58949476e-02, -4.75158263e-03,\n",
       "       -7.61701586e-03,  1.28713520e-02, -2.05325931e-02,  6.00214256e-03,\n",
       "        8.44523776e-03,  1.21211272e-03, -2.88846553e-03,  1.65639743e-02,\n",
       "        3.48075619e-03,  6.70524081e-03,  1.23198815e-02, -9.98425297e-03,\n",
       "        3.60996253e-03,  6.58567902e-03, -1.15488572e-02,  2.12364607e-02,\n",
       "        5.14865853e-03,  5.33857057e-03, -1.06110619e-02,  1.18101509e-02,\n",
       "        1.86147355e-02,  1.79249048e-02, -1.09628057e-02, -9.49286949e-03,\n",
       "        1.61988009e-02, -9.99495387e-03,  1.57077406e-02,  7.34840799e-03,\n",
       "        1.71668585e-02, -2.05672276e-03,  3.95524502e-03,  1.51121961e-02,\n",
       "       -1.75689138e-03,  2.50108982e-03, -8.77854042e-03,  5.90742705e-03,\n",
       "        1.68191791e-02, -6.66669011e-03,  1.48255387e-02,  5.10875415e-03,\n",
       "        9.77573916e-03,  2.07917709e-02,  5.19630825e-03,  1.16528478e-02,\n",
       "        2.29239669e-02,  7.73862121e-05, -2.15073805e-02, -5.51033486e-03,\n",
       "       -4.97466605e-03,  1.93698891e-02,  2.35738270e-02, -3.38730565e-03,\n",
       "        7.51143438e-04, -7.01715425e-03,  4.39755339e-03,  1.41777089e-02,\n",
       "       -1.24797300e-02,  1.15224933e-02, -1.26339737e-02,  1.97870377e-02,\n",
       "       -9.47153254e-04, -1.91782713e-02,  1.57390367e-02, -5.58488676e-03,\n",
       "        1.34734241e-02, -5.46881510e-03, -2.16209097e-03,  1.81102753e-02,\n",
       "       -1.89029034e-02, -8.26901663e-03,  1.82507616e-02, -4.39000595e-03,\n",
       "        9.02879576e-04, -8.06417037e-03,  1.58987846e-02, -4.21747478e-04,\n",
       "        8.76261108e-03, -2.33684760e-02,  2.37822533e-02,  6.97927782e-03,\n",
       "       -9.76782176e-04,  1.09181162e-02,  1.19547453e-02,  2.71733981e-02,\n",
       "       -4.37792012e-04,  1.06049841e-02,  2.10324698e-03,  7.42545770e-03,\n",
       "       -9.46336798e-03,  5.87956514e-03,  4.33539506e-03,  1.90308802e-02,\n",
       "        2.70948559e-02, -1.65471388e-03,  1.78244209e-03,  6.41360926e-03,\n",
       "        3.27128405e-03,  4.10281494e-03, -1.42372958e-02, -6.81242160e-03,\n",
       "        4.06733947e-03,  2.28855330e-02, -2.32375716e-03,  6.20745402e-03,\n",
       "        1.59632638e-02,  1.89404674e-02,  1.90046187e-02,  1.24028074e-02,\n",
       "        4.43772320e-03,  5.62137247e-05,  2.09518988e-02,  1.55321481e-02,\n",
       "       -2.94926600e-03,  5.26568107e-03, -1.81459109e-04, -1.17550988e-03,\n",
       "        4.27584490e-03, -1.32004567e-03,  7.78886583e-03, -7.92384986e-03,\n",
       "        2.97366511e-02,  1.79235712e-02, -5.41459629e-03,  3.37095670e-02,\n",
       "       -8.63417890e-03, -7.45035289e-03, -1.10355671e-02,  1.81302112e-02,\n",
       "        1.10752070e-02,  7.60027021e-03,  1.48801198e-02,  7.97395501e-03,\n",
       "        1.69627480e-02,  9.13815573e-03, -5.88791957e-03, -4.24529053e-03,\n",
       "        2.87693553e-03,  3.64401075e-03,  2.64902809e-03, -7.77066359e-03,\n",
       "       -1.15790195e-03,  1.66242961e-02,  2.51657646e-02, -3.79700563e-03,\n",
       "       -8.66246130e-03,  1.26123363e-02, -2.33163200e-02,  4.21164883e-03,\n",
       "        2.85812048e-03,  4.00957838e-03, -7.56579312e-03,  4.20413073e-03,\n",
       "        1.43327983e-02, -1.49365244e-02,  1.17834760e-02,  2.06535161e-02],\n",
       "      dtype=float32)"
      ]
     },
     "execution_count": 26,
     "metadata": {},
     "output_type": "execute_result"
    }
   ],
   "source": [
    "mulan_vector # 영화 뮬란의 벡터"
   ]
  },
  {
   "cell_type": "code",
   "execution_count": 27,
   "id": "intended-watson",
   "metadata": {},
   "outputs": [
    {
     "data": {
      "text/plain": [
       "0.6081663"
      ]
     },
     "execution_count": 27,
     "metadata": {},
     "output_type": "execute_result"
    }
   ],
   "source": [
    "# 나와 뮬란의 내적 구하기 (선호 리스트에 있는 영화)\n",
    "np.dot(eunyeong_vector, mulan_vector)"
   ]
  },
  {
   "cell_type": "code",
   "execution_count": 28,
   "id": "spatial-webmaster",
   "metadata": {},
   "outputs": [
    {
     "data": {
      "text/plain": [
       "0.12802732"
      ]
     },
     "execution_count": 28,
     "metadata": {},
     "output_type": "execute_result"
    }
   ],
   "source": [
    "# 모델이 나의 titanic 대한 선호도를 어떻게 예측하는지 확인(선호 리스트에 없는 영화)\n",
    "titanic = movie_to_idx['Titanic (1997)']\n",
    "titanic_vector = als_model.item_factors[titanic]\n",
    "np.dot(eunyeong_vector, titanic_vector)"
   ]
  },
  {
   "cell_type": "code",
   "execution_count": 29,
   "id": "contained-large",
   "metadata": {},
   "outputs": [
    {
     "data": {
      "text/plain": [
       "0.51062787"
      ]
     },
     "execution_count": 29,
     "metadata": {},
     "output_type": "execute_result"
    }
   ],
   "source": [
    "# 모델이 나의 Bug's Life대한 선호도를 어떻게 예측하는지 확인\n",
    "bugs_life = movie_to_idx[\"Bug's Life, A (1998)\"]\n",
    "bugs_life_vector = als_model.item_factors[bugs_life]\n",
    "np.dot(eunyeong_vector, bugs_life_vector)"
   ]
  },
  {
   "cell_type": "code",
   "execution_count": 30,
   "id": "flexible-qatar",
   "metadata": {},
   "outputs": [
    {
     "data": {
      "text/plain": [
       "0.0024028323"
      ]
     },
     "execution_count": 30,
     "metadata": {},
     "output_type": "execute_result"
    }
   ],
   "source": [
    "# 모델이 나의 Matrix 대한 선호도를 어떻게 예측하는지 확인\n",
    "matrix = movie_to_idx['Matrix, The (1999)']\n",
    "matrix_vector = als_model.item_factors[matrix]\n",
    "np.dot(eunyeong_vector, matrix_vector)"
   ]
  },
  {
   "cell_type": "markdown",
   "id": "streaming-situation",
   "metadata": {},
   "source": [
    "선호하는 영화 리스트에 있는 `Mulan`에 대한 선호도는 0.60정도이다.\n",
    "`Bugs' Life`에 대한 예측된 선호도는 0.51정도로\n",
    "`Matrix` 나 `Titanic`에 대한 예측값이 0.13, 0.002인것을 보면 높은 선호도를 보일 것이라 예측 해준다. \n",
    "사용자 초기 정보 세팅할 때 선호하는 영화 5개를 모두 장르가 _Animation\\|Children's_  속하는 영화로  넣어주었기 때문에, 나는 애니메이션을 매우 좋아하는 사용자라고 학습되었고, 그 결과 애니메이션 장르인 `Bug's Life`는 높은 선호도를 가질 것이라 예측 해준것 같다.\n",
    "_Drama\\|Romance_  장르인 `Titanic` 보다 _Action\\|Sci-Fi\\|Thriller_ 장르인 `Matrix`의 선호도가 낮을 거라 예측해준 것도 흥미롭다."
   ]
  },
  {
   "cell_type": "markdown",
   "id": "subtle-guatemala",
   "metadata": {},
   "source": [
    "### 6-2. 내가 좋아하는 영화와 비슷한 영화 추천\n",
    "\n",
    "`AlternatingLeastSquares` 클래스에 구현되어 있는 `similar_items` 메서드를 통하여 비슷한 영화를 찾는다."
   ]
  },
  {
   "cell_type": "code",
   "execution_count": 31,
   "id": "early-secretary",
   "metadata": {},
   "outputs": [],
   "source": [
    "def get_similar_artist(movie_title: str):\n",
    "    movie_id = movie_to_idx[movie_title]\n",
    "    similar_movie = als_model.similar_items(movie_id)\n",
    "    idx_to_movie = {v:k for k,v in movie_to_idx.items()}\n",
    "    similar_movie = [idx_to_movie[i[0]] for i in similar_movie]\n",
    "    return similar_movie"
   ]
  },
  {
   "cell_type": "code",
   "execution_count": 32,
   "id": "three-lender",
   "metadata": {},
   "outputs": [
    {
     "data": {
      "text/plain": [
       "['Mulan (1998)',\n",
       " 'Tarzan (1999)',\n",
       " 'Hunchback of Notre Dame, The (1996)',\n",
       " 'Hercules (1997)',\n",
       " 'Antz (1998)',\n",
       " 'Rescuers Down Under, The (1990)',\n",
       " 'Anastasia (1997)',\n",
       " 'Beauty and the Beast (1991)',\n",
       " 'Balto (1995)',\n",
       " 'Lion King, The (1994)']"
      ]
     },
     "execution_count": 32,
     "metadata": {},
     "output_type": "execute_result"
    }
   ],
   "source": [
    "get_similar_artist('Mulan (1998)')"
   ]
  },
  {
   "cell_type": "code",
   "execution_count": 33,
   "id": "polar-edward",
   "metadata": {},
   "outputs": [
    {
     "data": {
      "text/plain": [
       "['Titanic (1997)',\n",
       " \"You've Got Mail (1998)\",\n",
       " 'Jerry Maguire (1996)',\n",
       " 'Ever After: A Cinderella Story (1998)',\n",
       " 'Walking Dead, The (1995)',\n",
       " 'English Patient, The (1996)',\n",
       " 'Snow Day (2000)',\n",
       " 'Bridges of Madison County, The (1995)',\n",
       " 'Paris, France (1993)',\n",
       " 'Mr. & Mrs. Smith (1941)']"
      ]
     },
     "execution_count": 33,
     "metadata": {},
     "output_type": "execute_result"
    }
   ],
   "source": [
    "get_similar_artist('Titanic (1997)')"
   ]
  },
  {
   "cell_type": "code",
   "execution_count": 34,
   "id": "choice-brisbane",
   "metadata": {},
   "outputs": [
    {
     "data": {
      "text/plain": [
       "['Matrix, The (1999)',\n",
       " 'Terminator 2: Judgment Day (1991)',\n",
       " 'Total Recall (1990)',\n",
       " 'Fugitive, The (1993)',\n",
       " 'Fifth Element, The (1997)',\n",
       " 'Terminator, The (1984)',\n",
       " 'Face/Off (1997)',\n",
       " 'Men in Black (1997)',\n",
       " 'Twelve Monkeys (1995)',\n",
       " 'Surviving Picasso (1996)']"
      ]
     },
     "execution_count": 34,
     "metadata": {},
     "output_type": "execute_result"
    }
   ],
   "source": [
    "get_similar_artist('Matrix, The (1999)')"
   ]
  },
  {
   "cell_type": "markdown",
   "id": "regional-midwest",
   "metadata": {},
   "source": [
    "### 6-3. 내가 좋아할 만한 영화는?"
   ]
  },
  {
   "cell_type": "code",
   "execution_count": 35,
   "id": "religious-snake",
   "metadata": {},
   "outputs": [
    {
     "data": {
      "text/plain": [
       "['Lion King, The (1994)',\n",
       " 'Beauty and the Beast (1991)',\n",
       " \"Bug's Life, A (1998)\",\n",
       " 'Tarzan (1999)',\n",
       " 'Toy Story 2 (1999)',\n",
       " 'Hunchback of Notre Dame, The (1996)',\n",
       " 'Iron Giant, The (1999)',\n",
       " 'Anastasia (1997)',\n",
       " 'Babe (1995)',\n",
       " 'Little Mermaid, The (1989)',\n",
       " 'James and the Giant Peach (1996)',\n",
       " 'Pocahontas (1995)',\n",
       " 'Nightmare Before Christmas, The (1993)',\n",
       " 'Prince of Egypt, The (1998)',\n",
       " '101 Dalmatians (1961)',\n",
       " 'Santa Clause, The (1994)',\n",
       " 'English Patient, The (1996)',\n",
       " 'Secret of NIMH, The (1982)',\n",
       " 'Aladdin and the King of Thieves (1996)',\n",
       " 'Bambi (1942)']"
      ]
     },
     "execution_count": 35,
     "metadata": {},
     "output_type": "execute_result"
    }
   ],
   "source": [
    "user = user_to_idx['6041']\n",
    "\n",
    "# recommend에서는 user*item CSR Matrix를 받습니다.\n",
    "movie_recommended = als_model.recommend(user, csr_data, N=20, filter_already_liked_items=True)\n",
    "\n",
    "# 인덱스를 영화 제목으로 변환\n",
    "idx_to_movie = {v:k for k,v in movie_to_idx.items()}\n",
    "recommend_movies = [idx_to_movie[i[0]] for i in movie_recommended]\n",
    "recommend_movies"
   ]
  },
  {
   "cell_type": "markdown",
   "id": "fifty-clearance",
   "metadata": {},
   "source": [
    "추천된 영화가 대부분 `Animation`이나 `Children's` 장르의 영화로 성향을 잘 파악하고 추천해 주는 것을 확인 할 수 있다. `Toy Story`와 `Aladdin`을 선호하는 영화로 입력해줬는데 시리즈물인 `Toy Story 2`와 `Aladdin and the King of Thieves`가 추천되는 점은 신뢰성을 높여주는 결과라 생각된다. 추천된 영화들 중에 유일하게 장르가 다른 영화는 `English Patient`인데 찾아보니 전쟁영화이면서 로맨스 물이라 한다. 예고편을 보는 정도로는 다른 영화들과의 공통점을 찾을 수 없었다. 결과를 잘 해석하기 위해서 도메인 지식이 요구된다는 점을 다시 상기할 수 있었다."
   ]
  },
  {
   "cell_type": "markdown",
   "id": "worse-sociology",
   "metadata": {},
   "source": [
    "__모델들은 왜 Lion King을 가장 추천해 주었을까?__<br>\n",
    "AlternatingLeastSquares 클래스에 구현된 explain 메소드를 사용하면 기록을 남긴 데이터 중 이 추천에 기여한 정도를 확인할 수 있다."
   ]
  },
  {
   "cell_type": "code",
   "execution_count": 36,
   "id": "excessive-exchange",
   "metadata": {},
   "outputs": [
    {
     "data": {
      "text/plain": [
       "[('Aladdin (1992)', 0.2412715061312232),\n",
       " ('Antz (1998)', 0.11178395585543138),\n",
       " ('Mulan (1998)', 0.1016707111583918),\n",
       " ('Hercules (1997)', 0.07121596127497602),\n",
       " ('Toy Story (1995)', 0.06312665311724185)]"
      ]
     },
     "execution_count": 36,
     "metadata": {},
     "output_type": "execute_result"
    }
   ],
   "source": [
    "lionking = movie_to_idx['Lion King, The (1994)']\n",
    "explain_lionking = als_model.explain(user, csr_data, itemid=lionking)\n",
    "\n",
    "# 추천한 콘텐츠의 점수에 기여한 다른 콘텐츠와 기여도(합이 콘텐츠의 점수가 됩니다.)\n",
    "[(idx_to_movie[i[0]], i[1]) for i in explain_lionking[1]]"
   ]
  },
  {
   "cell_type": "markdown",
   "id": "freelance-attraction",
   "metadata": {},
   "source": [
    "알라딘이 같은 장르에 뮤지컬, 로맨스 등의 요소들이 함께 있어 가장 많은 영향을 끼친 것일까.?"
   ]
  },
  {
   "cell_type": "code",
   "execution_count": 48,
   "id": "medical-transfer",
   "metadata": {},
   "outputs": [
    {
     "data": {
      "text/plain": [
       "[('Antz (1998)', 0.06060928221766998),\n",
       " ('Aladdin (1992)', 0.04532519544562793),\n",
       " ('Hercules (1997)', 0.03022720951888227),\n",
       " ('Toy Story (1995)', 0.027366333920500505),\n",
       " ('Mulan (1998)', -0.002571804179136275)]"
      ]
     },
     "execution_count": 48,
     "metadata": {},
     "output_type": "execute_result"
    }
   ],
   "source": [
    "english_patient = movie_to_idx['English Patient, The (1996)']\n",
    "explain_english_patient = als_model.explain(user, csr_data, itemid=english_patient)\n",
    "\n",
    "# 추천한 콘텐츠의 점수에 기여한 다른 콘텐츠와 기여도(합이 콘텐츠의 점수가 됩니다.)\n",
    "[(idx_to_movie[i[0]], i[1]) for i in explain_english_patient[1]]"
   ]
  },
  {
   "cell_type": "markdown",
   "id": "posted-information",
   "metadata": {},
   "source": [
    "#### English Patient가 왜 추천되었을까?"
   ]
  },
  {
   "cell_type": "code",
   "execution_count": 80,
   "id": "aerial-cisco",
   "metadata": {},
   "outputs": [
    {
     "data": {
      "text/plain": [
       "580"
      ]
     },
     "execution_count": 80,
     "metadata": {},
     "output_type": "execute_result"
    }
   ],
   "source": [
    "ep = data[data['movie_id']==1183] # english patient 영화를 본사람\n",
    "ep2 = df[df['count']>3]# 그중 점수 4점 이상을 준사람 =  그영화를 좋아하는 사람\n",
    "user_unique_ep = ep2['user_id'].unique() # eglish patient의 팬인 사람의 고유 id\n",
    "\n",
    "user_unique_ep = list(user_unique_ep)\n",
    "len(user_unique_ep)"
   ]
  },
  {
   "cell_type": "code",
   "execution_count": 83,
   "id": "acute-school",
   "metadata": {},
   "outputs": [
    {
     "data": {
      "text/html": [
       "<div>\n",
       "<style scoped>\n",
       "    .dataframe tbody tr th:only-of-type {\n",
       "        vertical-align: middle;\n",
       "    }\n",
       "\n",
       "    .dataframe tbody tr th {\n",
       "        vertical-align: top;\n",
       "    }\n",
       "\n",
       "    .dataframe thead th {\n",
       "        text-align: right;\n",
       "    }\n",
       "</style>\n",
       "<table border=\"1\" class=\"dataframe\">\n",
       "  <thead>\n",
       "    <tr style=\"text-align: right;\">\n",
       "      <th></th>\n",
       "      <th>user_id</th>\n",
       "      <th>movie_id</th>\n",
       "      <th>title</th>\n",
       "      <th>count</th>\n",
       "      <th>new_user_id</th>\n",
       "      <th>new_movie_id</th>\n",
       "    </tr>\n",
       "  </thead>\n",
       "  <tbody>\n",
       "    <tr>\n",
       "      <th>5420</th>\n",
       "      <td>38</td>\n",
       "      <td>648</td>\n",
       "      <td>Mission: Impossible (1996)</td>\n",
       "      <td>3</td>\n",
       "      <td>37</td>\n",
       "      <td>58</td>\n",
       "    </tr>\n",
       "    <tr>\n",
       "      <th>5421</th>\n",
       "      <td>38</td>\n",
       "      <td>2485</td>\n",
       "      <td>She's All That (1999)</td>\n",
       "      <td>3</td>\n",
       "      <td>37</td>\n",
       "      <td>789</td>\n",
       "    </tr>\n",
       "    <tr>\n",
       "      <th>5422</th>\n",
       "      <td>38</td>\n",
       "      <td>141</td>\n",
       "      <td>Birdcage, The (1996)</td>\n",
       "      <td>3</td>\n",
       "      <td>37</td>\n",
       "      <td>790</td>\n",
       "    </tr>\n",
       "    <tr>\n",
       "      <th>5423</th>\n",
       "      <td>38</td>\n",
       "      <td>215</td>\n",
       "      <td>Before Sunrise (1995)</td>\n",
       "      <td>3</td>\n",
       "      <td>37</td>\n",
       "      <td>213</td>\n",
       "    </tr>\n",
       "    <tr>\n",
       "      <th>5424</th>\n",
       "      <td>38</td>\n",
       "      <td>1688</td>\n",
       "      <td>Anastasia (1997)</td>\n",
       "      <td>3</td>\n",
       "      <td>37</td>\n",
       "      <td>329</td>\n",
       "    </tr>\n",
       "    <tr>\n",
       "      <th>...</th>\n",
       "      <td>...</td>\n",
       "      <td>...</td>\n",
       "      <td>...</td>\n",
       "      <td>...</td>\n",
       "      <td>...</td>\n",
       "      <td>...</td>\n",
       "    </tr>\n",
       "    <tr>\n",
       "      <th>999738</th>\n",
       "      <td>6038</td>\n",
       "      <td>1296</td>\n",
       "      <td>Room with a View, A (1986)</td>\n",
       "      <td>5</td>\n",
       "      <td>6036</td>\n",
       "      <td>351</td>\n",
       "    </tr>\n",
       "    <tr>\n",
       "      <th>999739</th>\n",
       "      <td>6038</td>\n",
       "      <td>1354</td>\n",
       "      <td>Breaking the Waves (1996)</td>\n",
       "      <td>3</td>\n",
       "      <td>6036</td>\n",
       "      <td>2265</td>\n",
       "    </tr>\n",
       "    <tr>\n",
       "      <th>999742</th>\n",
       "      <td>6038</td>\n",
       "      <td>2716</td>\n",
       "      <td>Ghostbusters (1984)</td>\n",
       "      <td>3</td>\n",
       "      <td>6036</td>\n",
       "      <td>243</td>\n",
       "    </tr>\n",
       "    <tr>\n",
       "      <th>999743</th>\n",
       "      <td>6038</td>\n",
       "      <td>3396</td>\n",
       "      <td>Muppet Movie, The (1979)</td>\n",
       "      <td>3</td>\n",
       "      <td>6036</td>\n",
       "      <td>953</td>\n",
       "    </tr>\n",
       "    <tr>\n",
       "      <th>999744</th>\n",
       "      <td>6038</td>\n",
       "      <td>1079</td>\n",
       "      <td>Fish Called Wanda, A (1988)</td>\n",
       "      <td>5</td>\n",
       "      <td>6036</td>\n",
       "      <td>169</td>\n",
       "    </tr>\n",
       "  </tbody>\n",
       "</table>\n",
       "<p>156917 rows × 6 columns</p>\n",
       "</div>"
      ],
      "text/plain": [
       "       user_id  movie_id                        title  count  new_user_id  \\\n",
       "5420        38       648   Mission: Impossible (1996)      3           37   \n",
       "5421        38      2485        She's All That (1999)      3           37   \n",
       "5422        38       141         Birdcage, The (1996)      3           37   \n",
       "5423        38       215        Before Sunrise (1995)      3           37   \n",
       "5424        38      1688             Anastasia (1997)      3           37   \n",
       "...        ...       ...                          ...    ...          ...   \n",
       "999738    6038      1296   Room with a View, A (1986)      5         6036   \n",
       "999739    6038      1354    Breaking the Waves (1996)      3         6036   \n",
       "999742    6038      2716          Ghostbusters (1984)      3         6036   \n",
       "999743    6038      3396     Muppet Movie, The (1979)      3         6036   \n",
       "999744    6038      1079  Fish Called Wanda, A (1988)      5         6036   \n",
       "\n",
       "        new_movie_id  \n",
       "5420              58  \n",
       "5421             789  \n",
       "5422             790  \n",
       "5423             213  \n",
       "5424             329  \n",
       "...              ...  \n",
       "999738           351  \n",
       "999739          2265  \n",
       "999742           243  \n",
       "999743           953  \n",
       "999744           169  \n",
       "\n",
       "[156917 rows x 6 columns]"
      ]
     },
     "execution_count": 83,
     "metadata": {},
     "output_type": "execute_result"
    }
   ],
   "source": [
    "# eglish patient의 팬들의 ratings 기록\n",
    "df_fans = data[data['user_id'].isin(user_unique_ep)]\n",
    "df_fans"
   ]
  },
  {
   "cell_type": "code",
   "execution_count": 90,
   "id": "outside-ghost",
   "metadata": {},
   "outputs": [],
   "source": [
    "# 장르 정보 추가하기\n",
    "df_fans = df_fans.join(movies[['movie_id', 'genre']].set_index('movie_id'), on='movie_id')"
   ]
  },
  {
   "cell_type": "code",
   "execution_count": 100,
   "id": "amended-craft",
   "metadata": {},
   "outputs": [
    {
     "data": {
      "text/plain": [
       "genre\n",
       "Drama                           24928\n",
       "Comedy                          16231\n",
       "Comedy|Romance                   7901\n",
       "Comedy|Drama                     7603\n",
       "Drama|Romance                    7401\n",
       "Action|Thriller                  3530\n",
       "Drama|Thriller                   3154\n",
       "Drama|War                        3114\n",
       "Thriller                         2875\n",
       "Comedy|Drama|Romance             2467\n",
       "Crime|Drama                      2367\n",
       "Horror                           2089\n",
       "Action|Drama|War                 1922\n",
       "Drama|Romance|War                1880\n",
       "Action|Adventure|Sci-Fi          1858\n",
       "Action                           1548\n",
       "Action|Drama                     1477\n",
       "Action|Sci-Fi|Thriller           1424\n",
       "Action|Sci-Fi                    1313\n",
       "Crime|Thriller                   1295\n",
       "Mystery|Thriller                 1280\n",
       "Documentary                      1249\n",
       "Animation|Children's|Musical     1231\n",
       "Action|Adventure                 1218\n",
       "Drama|Mystery                    1188\n",
       "Animation|Children's             1156\n",
       "Comedy|Sci-Fi                    1089\n",
       "Action|Crime|Drama               1033\n",
       "Children's|Comedy                1031\n",
       "Animation|Children's|Comedy       982\n",
       "Name: user_id, dtype: int64"
      ]
     },
     "execution_count": 100,
     "metadata": {},
     "output_type": "execute_result"
    }
   ],
   "source": [
    "# english patient의 팬들팬들이 선호하는 장르\n",
    "df_fans.groupby('genre')['user_id'].count().sort_values(ascending=False).head(30)"
   ]
  },
  {
   "cell_type": "code",
   "execution_count": 99,
   "id": "consecutive-backup",
   "metadata": {
    "scrolled": true
   },
   "outputs": [
    {
     "data": {
      "text/plain": [
       "title\n",
       "English Patient, The (1996)                              580\n",
       "American Beauty (1999)                                   408\n",
       "Schindler's List (1993)                                  403\n",
       "Shakespeare in Love (1998)                               400\n",
       "Fargo (1996)                                             393\n",
       "Saving Private Ryan (1998)                               387\n",
       "Silence of the Lambs, The (1991)                         363\n",
       "L.A. Confidential (1997)                                 361\n",
       "Forrest Gump (1994)                                      357\n",
       "Star Wars: Episode V - The Empire Strikes Back (1980)    357\n",
       "Shawshank Redemption, The (1994)                         353\n",
       "Groundhog Day (1993)                                     351\n",
       "Pulp Fiction (1994)                                      345\n",
       "Braveheart (1995)                                        343\n",
       "Crying Game, The (1992)                                  328\n",
       "Star Wars: Episode IV - A New Hope (1977)                328\n",
       "Star Wars: Episode VI - Return of the Jedi (1983)        322\n",
       "Sixth Sense, The (1999)                                  319\n",
       "Good Will Hunting (1997)                                 315\n",
       "Godfather, The (1972)                                    308\n",
       "E.T. the Extra-Terrestrial (1982)                        306\n",
       "Four Weddings and a Funeral (1994)                       304\n",
       "Raiders of the Lost Ark (1981)                           302\n",
       "Being John Malkovich (1999)                              302\n",
       "Jurassic Park (1993)                                     302\n",
       "Terminator 2: Judgment Day (1991)                        300\n",
       "Jerry Maguire (1996)                                     299\n",
       "Matrix, The (1999)                                       297\n",
       "Back to the Future (1985)                                297\n",
       "Princess Bride, The (1987)                               295\n",
       "Name: user_id, dtype: int64"
      ]
     },
     "execution_count": 99,
     "metadata": {},
     "output_type": "execute_result"
    }
   ],
   "source": [
    "# english patient의 팬들팬들이 선호하는 영화\n",
    "df_fans.groupby('title')['user_id'].count().sort_values(ascending=False).head(30)"
   ]
  },
  {
   "cell_type": "markdown",
   "id": "sporting-session",
   "metadata": {},
   "source": [
    "..공통점을 찾기가 쉽지않다😭"
   ]
  },
  {
   "cell_type": "markdown",
   "id": "running-rachel",
   "metadata": {},
   "source": [
    "## 7. 추천시스템 평가"
   ]
  },
  {
   "cell_type": "markdown",
   "id": "distinct-fellow",
   "metadata": {},
   "source": [
    " __Mean Average Precision(MAP)__<br>\n",
    "추천결과가 추천의도와 관련도가 높은 순으로 잘 나열되어있는지 평가 하는 방법"
   ]
  },
  {
   "cell_type": "markdown",
   "id": "muslim-force",
   "metadata": {},
   "source": [
    "__Precision and Recall__<br>\n",
    "\n",
    "|종류|의미|\n",
    "|:------|:---|\n",
    "|Precision|우리가 추천한 아이템 중에 사용자가 정말 관심있어야 하는 아이템의 비율|\n",
    "|Recall|실제로 사용자가 관심있어하는 아이템 중에 우리가 추천한 아이템의 비율|"
   ]
  },
  {
   "cell_type": "markdown",
   "id": "mature-geography",
   "metadata": {},
   "source": [
    "__Map@K에서 K의 의미__<br>\n",
    "Precision과 Recall은 순서를 고려하지 않는다. MAP에서는 K라는 값을 설정하여 순서를 고려하는데, 여기서 K의 의미는 추천 리스트의 어디까지 평가할 것인지 결정하는 Index 값이다."
   ]
  },
  {
   "cell_type": "markdown",
   "id": "private-serial",
   "metadata": {},
   "source": [
    "__Avarage Precisoin__\n",
    "$$AP@K=\\frac{1}{m}\\sum^K_{i=1}P(i) * rel(i)$$\n",
    "\n",
    "|종류|의미|\n",
    "|:-|:-----------|\n",
    "|P(i)|해당 index까지의 Precision값|\n",
    "|rel(i)|해당 index에서 user engagement가 일어났는지 여부, 잘 추천되었는지 여부|\n",
    "|m|실제로 사용자가 engage한 횟수를 의미|\n",
    "\n",
    "동일한 양의 아이템을 추천에 성공하더라도라고 그 아이템이 더 앞쪽에 배치될 수록 높은 점수를 받는다."
   ]
  },
  {
   "cell_type": "markdown",
   "id": "hairy-webmaster",
   "metadata": {},
   "source": [
    "__“Mean” Average Precision__<br>\n",
    "한 명의 사용자에게 추천한 결과를 평가한 것이 `Average Precision`이고, 사용자 U에 대해 평가를 하는 것이 `Mean Average Precision`이다.\n",
    "$$MAP@K=\\frac{1}{|U|}\\sum^{|U|}_{u=1}(AP@K)_u$$"
   ]
  },
  {
   "cell_type": "markdown",
   "id": "declared-journey",
   "metadata": {},
   "source": [
    "출처:https://danthetech.netlify.app/DataScience/evaluation-metrics-for-recommendation-system"
   ]
  },
  {
   "cell_type": "markdown",
   "id": "operating-knock",
   "metadata": {},
   "source": [
    "***"
   ]
  },
  {
   "cell_type": "markdown",
   "id": "vanilla-spiritual",
   "metadata": {},
   "source": [
    "추천된 영화들 중 썸네일 및 예고편을 보고 관심있을 만한 영화를 액션을 취했다고 가정하고 평가 해본다.\n",
    "\n",
    "|Recommend Movie|Action|\n",
    "|:-|:-----------|\n",
    "|Lion King The (1994)|🤩|\n",
    "|Beauty and the Beast (1991)|🤩|\n",
    "|Bugs Life A (1998)|🤩|\n",
    "|Tarzan (1999)|🤩|\n",
    "|Toy Story 2 (1999)|🤩|\n",
    "|Hunchback of Notre Dame The (1996)|🤩|\n",
    "|Iron Giant The (1999)|🤢|\n",
    "|Anastasia (1997)|🤩|\n",
    "|Babe (1995)|🤢|\n",
    "|Little Mermaid The (1989)|🤩|\n",
    "|James and the Giant Peach (1996)|🤢|\n",
    "|Pocahontas (1995)|🤩|\n",
    "|Nightmare Before Christmas The (1993)|🤩|\n",
    "|Prince of Egypt The (1998)|🤢|\n",
    "|101 Dalmatians (1961)|🤩|\n",
    "|Santa Clause The (1994)|🤩|\n",
    "|English Patient The (1996)|🤢|\n",
    "|Secret of NIMH The (1982)|🤩|\n",
    "|Aladdin and the King of Thieves (1996)|🤩|\n",
    "|Bambi (1942)|🤩|"
   ]
  },
  {
   "cell_type": "code",
   "execution_count": 43,
   "id": "regulation-tablet",
   "metadata": {},
   "outputs": [
    {
     "data": {
      "text/html": [
       "<div>\n",
       "<style scoped>\n",
       "    .dataframe tbody tr th:only-of-type {\n",
       "        vertical-align: middle;\n",
       "    }\n",
       "\n",
       "    .dataframe tbody tr th {\n",
       "        vertical-align: top;\n",
       "    }\n",
       "\n",
       "    .dataframe thead th {\n",
       "        text-align: right;\n",
       "    }\n",
       "</style>\n",
       "<table border=\"1\" class=\"dataframe\">\n",
       "  <thead>\n",
       "    <tr style=\"text-align: right;\">\n",
       "      <th></th>\n",
       "      <th>precision</th>\n",
       "      <th>recall</th>\n",
       "    </tr>\n",
       "  </thead>\n",
       "  <tbody>\n",
       "    <tr>\n",
       "      <th>0</th>\n",
       "      <td>1.000000</td>\n",
       "      <td>0.066667</td>\n",
       "    </tr>\n",
       "    <tr>\n",
       "      <th>1</th>\n",
       "      <td>1.000000</td>\n",
       "      <td>0.133333</td>\n",
       "    </tr>\n",
       "    <tr>\n",
       "      <th>2</th>\n",
       "      <td>1.000000</td>\n",
       "      <td>0.200000</td>\n",
       "    </tr>\n",
       "    <tr>\n",
       "      <th>3</th>\n",
       "      <td>1.000000</td>\n",
       "      <td>0.266667</td>\n",
       "    </tr>\n",
       "    <tr>\n",
       "      <th>4</th>\n",
       "      <td>1.000000</td>\n",
       "      <td>0.333333</td>\n",
       "    </tr>\n",
       "    <tr>\n",
       "      <th>5</th>\n",
       "      <td>1.000000</td>\n",
       "      <td>0.400000</td>\n",
       "    </tr>\n",
       "    <tr>\n",
       "      <th>6</th>\n",
       "      <td>0.857143</td>\n",
       "      <td>0.400000</td>\n",
       "    </tr>\n",
       "    <tr>\n",
       "      <th>7</th>\n",
       "      <td>0.875000</td>\n",
       "      <td>0.466667</td>\n",
       "    </tr>\n",
       "    <tr>\n",
       "      <th>8</th>\n",
       "      <td>0.777778</td>\n",
       "      <td>0.466667</td>\n",
       "    </tr>\n",
       "    <tr>\n",
       "      <th>9</th>\n",
       "      <td>0.800000</td>\n",
       "      <td>0.533333</td>\n",
       "    </tr>\n",
       "    <tr>\n",
       "      <th>10</th>\n",
       "      <td>0.727273</td>\n",
       "      <td>0.533333</td>\n",
       "    </tr>\n",
       "    <tr>\n",
       "      <th>11</th>\n",
       "      <td>0.750000</td>\n",
       "      <td>0.600000</td>\n",
       "    </tr>\n",
       "    <tr>\n",
       "      <th>12</th>\n",
       "      <td>0.769231</td>\n",
       "      <td>0.666667</td>\n",
       "    </tr>\n",
       "    <tr>\n",
       "      <th>13</th>\n",
       "      <td>0.714286</td>\n",
       "      <td>0.666667</td>\n",
       "    </tr>\n",
       "    <tr>\n",
       "      <th>14</th>\n",
       "      <td>0.733333</td>\n",
       "      <td>0.733333</td>\n",
       "    </tr>\n",
       "    <tr>\n",
       "      <th>15</th>\n",
       "      <td>0.750000</td>\n",
       "      <td>0.800000</td>\n",
       "    </tr>\n",
       "    <tr>\n",
       "      <th>16</th>\n",
       "      <td>0.705882</td>\n",
       "      <td>0.800000</td>\n",
       "    </tr>\n",
       "    <tr>\n",
       "      <th>17</th>\n",
       "      <td>0.722222</td>\n",
       "      <td>0.866667</td>\n",
       "    </tr>\n",
       "    <tr>\n",
       "      <th>18</th>\n",
       "      <td>0.736842</td>\n",
       "      <td>0.933333</td>\n",
       "    </tr>\n",
       "    <tr>\n",
       "      <th>19</th>\n",
       "      <td>0.750000</td>\n",
       "      <td>1.000000</td>\n",
       "    </tr>\n",
       "  </tbody>\n",
       "</table>\n",
       "</div>"
      ],
      "text/plain": [
       "    precision    recall\n",
       "0    1.000000  0.066667\n",
       "1    1.000000  0.133333\n",
       "2    1.000000  0.200000\n",
       "3    1.000000  0.266667\n",
       "4    1.000000  0.333333\n",
       "5    1.000000  0.400000\n",
       "6    0.857143  0.400000\n",
       "7    0.875000  0.466667\n",
       "8    0.777778  0.466667\n",
       "9    0.800000  0.533333\n",
       "10   0.727273  0.533333\n",
       "11   0.750000  0.600000\n",
       "12   0.769231  0.666667\n",
       "13   0.714286  0.666667\n",
       "14   0.733333  0.733333\n",
       "15   0.750000  0.800000\n",
       "16   0.705882  0.800000\n",
       "17   0.722222  0.866667\n",
       "18   0.736842  0.933333\n",
       "19   0.750000  1.000000"
      ]
     },
     "execution_count": 43,
     "metadata": {},
     "output_type": "execute_result"
    }
   ],
   "source": [
    "recoms = [1,1,1,1,1,1,0,1,0,1,0,1,1,0,1,1,0,1,1,1]  # N = 20\n",
    "NUM_ACTUAL_ADDED_ACCT = 15 \n",
    "precs = []\n",
    "recalls = []\n",
    "\n",
    "for indx, rec in enumerate(recoms):\n",
    "    precs.append(sum(recoms[:indx+1])/(indx+1))\n",
    "    recalls.append(sum(recoms[:indx+1])/NUM_ACTUAL_ADDED_ACCT)\n",
    "\n",
    "pd.DataFrame({'precision':precs, 'recall':recalls})"
   ]
  },
  {
   "cell_type": "code",
   "execution_count": 45,
   "id": "excellent-insight",
   "metadata": {},
   "outputs": [
    {
     "data": {
      "text/plain": [
       "Text(0.5, 1.0, 'P(i) vs. r(i) for Increasing $i$ for AP@20')"
      ]
     },
     "execution_count": 45,
     "metadata": {},
     "output_type": "execute_result"
    },
    {
     "data": {
      "image/png": "[encoded data removed]",
      "text/plain": [
       "<Figure size 432x288 with 1 Axes>"
      ]
     },
     "metadata": {
      "needs_background": "light"
     },
     "output_type": "display_data"
    }
   ],
   "source": [
    "import matplotlib.pyplot as plt\n",
    "%matplotlib inline\n",
    "fig, ax = plt.subplots()\n",
    "ax.plot(recalls, precs, markersize=10, marker=\"o\")\n",
    "ax.set_xlabel(\"Recall\")\n",
    "ax.set_ylabel(\"Precision\")\n",
    "ax.set_title(\"P(i) vs. r(i) for Increasing $i$ for AP@20\")"
   ]
  },
  {
   "cell_type": "markdown",
   "id": "confident-chester",
   "metadata": {},
   "source": [
    "추천된 6번째 영화까지는 모두 사용자의 액션을 이끌어 냈기 때문에 Precision이 1.0이지만 그 후부터 사용자가 관심갖지 않는 영화가 존재하기 때문에 점점 수치가 낮아지는 것을 볼 수 있다.\n",
    "recall은 사용자가 관심있어하는 아이템 중에 우리가 추천한 아이템의 비율이기 때문에 k가 증가할 수록 함께 수치가 증가하는 것을 확인할 수 있다."
   ]
  },
  {
   "cell_type": "markdown",
   "id": "civil-shepherd",
   "metadata": {},
   "source": [
    "***"
   ]
  },
  {
   "cell_type": "markdown",
   "id": "changing-failure",
   "metadata": {},
   "source": [
    "## 프로젝트 정리"
   ]
  },
  {
   "cell_type": "markdown",
   "id": "discrete-marsh",
   "metadata": {},
   "source": [
    "- __데이터 전처리__:ratings의 사용자 정보와 movies의 영화 정보가 함께 필요한 경우가 많아 두 데이터 프레임을 합쳐 data라는 데이터 프레임을 만들어 사용하였다. \n",
    "- __초기 정보 세팅__: 추천시스템이 추천을 잘 해주는 지 좀더 잘 판단할 수 있도록 초기 정보 세팅을 할 때 좋아하는 영화 장르들을 _animation|musical|childeren's_ 장르로 좁혀 전달하였다.\n",
    "- 추천 결과를 보면 위 정보를 가지고 내가 애니메이션 장르를 선호한다는 것을 잘 파악하고 있다는 것을 알 수 있었다.\n",
    "- __csr matrix__: user_id와 movie_id가 숫자로 되어 있어  작업이 필요하지 않을 거라 생각했는데 csr matrix를 만들며 자꾸 오류가 생겨 확인해보니 인덱싱을 새로 해줘야 했다. \n",
    "-  __영화 선호도__: 추천 시스템의 결과를 보면 선호리스트에 있는 영화인 `Mulan`의 선호도는 0.60 정도로 가장 높았고, 선호 리스트에 없는 영화들 중 선호하는 애니메이션 장르인 `Bug's Life`의 점수가 약 0.51로 높은 편이었다. _Drama\\|Romance_  장르인 `Titanic` 이 0.19 의 선호도를 얻었고 _Action\\|Sci-Fi\\|Thriller_ 장르인 `Matrix`의 선호도는 0.002로 가장 낮았다. 실제로 애니메이션 장르를 선호하는 나는 로맨스, 드라마 장르를 액션, 스릴러보다 선호하는 편이기 때문에 추천 결과가 굉장히 흥미로웠다. \n",
    "- __비슷한 영화 추천__:  기준이 되는 영화와 장르가 같은 영화들이 주로 추천되었다. \n",
    "- __좋아할 만한 영화 추천__:  추천 결과가 대부분 `Animation`이나 `Children's` 장르의 영화였다. 입력한 정보를 바탕으로 성향을 잘 파악하고 추천해 주는 것을 확인 할 수 있었다. 대부분의 영화들이 실제로 재밌게 봤던 영화 들이어서 결과가 잘 나왔다고 판단하였다. 특이했던 것은 `English Patient`라는 영화인데, 유일하게 장르가 전쟁물인 영화였다. \n",
    "- `English Patient`선호하는 사용자들(평점 4점 이상)이 선호하는 장르는 드라마,코메디, 로맨스, 전쟁물 등이 있고 애니메이션은 딱히 선호하는 장르가 아니다..\n",
    "- 또 `English Patient`선호하는 사용자들이 많이 본 영화도 English Patient, American Beauty, Schindler's List, Shakespeare in Love 순으로 애니메이션과는 거리가 있어 보인다..추천된 이유를 쉽게 파악 할 수는 없었다..\n",
    "- 추천된 20개의 영화 중 15개의 영화가 재밌게 봤던 영화이거나 재밌게 볼 수 있을 것 같은 영화였다.\n",
    "- __Mean Average Precision(MAP)__: 수치적으로 얼마나 잘 추천되었는지 알아보고자 MAP를 이용하여 평가하여 보았다."
   ]
  }
 ],
 "metadata": {
  "kernelspec": {
   "display_name": "Python 3",
   "language": "python",
   "name": "python3"
  },
  "language_info": {
   "codemirror_mode": {
    "name": "ipython",
    "version": 3
   },
   "file_extension": ".py",
   "mimetype": "text/x-python",
   "name": "python",
   "nbconvert_exporter": "python",
   "pygments_lexer": "ipython3",
   "version": "3.7.9"
  }
 },
 "nbformat": 4,
 "nbformat_minor": 5
}
