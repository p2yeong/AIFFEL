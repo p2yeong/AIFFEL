{
 "cells": [
  {
   "cell_type": "markdown",
   "metadata": {},
   "source": [
    "# 셰익스피어 극본 생성 모델"
   ]
  },
  {
   "cell_type": "markdown",
   "metadata": {
    "toc": true
   },
   "source": [
    "<h1>Table of Contents<span class=\"tocSkip\"></span></h1>\n",
    "<div class=\"toc\"><ul class=\"toc-item\"><li><span><a href=\"#데이터-전처리\" data-toc-modified-id=\"데이터-전처리-1\"><span class=\"toc-item-num\">1&nbsp;&nbsp;</span>데이터 전처리</a></span><ul class=\"toc-item\"><li><span><a href=\"#데이터-불러오기\" data-toc-modified-id=\"데이터-불러오기-1.1\"><span class=\"toc-item-num\">1.1&nbsp;&nbsp;</span>데이터 불러오기</a></span></li><li><span><a href=\"#정규표현식을-이용한-corpus-생성\" data-toc-modified-id=\"정규표현식을-이용한-corpus-생성-1.2\"><span class=\"toc-item-num\">1.2&nbsp;&nbsp;</span>정규표현식을 이용한 corpus 생성</a></span></li><li><span><a href=\"#corpus를-텐서로-변환\" data-toc-modified-id=\"corpus를-텐서로-변환-1.3\"><span class=\"toc-item-num\">1.3&nbsp;&nbsp;</span>corpus를 텐서로 변환</a></span></li><li><span><a href=\"#생성된-텐서를-소스와-타겟으로-분리\" data-toc-modified-id=\"생성된-텐서를-소스와-타겟으로-분리-1.4\"><span class=\"toc-item-num\">1.4&nbsp;&nbsp;</span>생성된 텐서를 소스와 타겟으로 분리</a></span></li><li><span><a href=\"#corpus-텐서를-tf.data.Dataset객체로-변환\" data-toc-modified-id=\"corpus-텐서를-tf.data.Dataset객체로-변환-1.5\"><span class=\"toc-item-num\">1.5&nbsp;&nbsp;</span>corpus 텐서를 tf.data.Dataset객체로 변환</a></span></li></ul></li><li><span><a href=\"#모델-학습\" data-toc-modified-id=\"모델-학습-2\"><span class=\"toc-item-num\">2&nbsp;&nbsp;</span>모델 학습</a></span></li><li><span><a href=\"#모델-평가\" data-toc-modified-id=\"모델-평가-3\"><span class=\"toc-item-num\">3&nbsp;&nbsp;</span>모델 평가</a></span></li></ul></div>"
   ]
  },
  {
   "cell_type": "markdown",
   "metadata": {},
   "source": [
    "## 데이터 전처리"
   ]
  },
  {
   "cell_type": "code",
   "execution_count": 1,
   "metadata": {},
   "outputs": [],
   "source": [
    "import os, re \n",
    "import numpy as np\n",
    "import tensorflow as tf"
   ]
  },
  {
   "cell_type": "markdown",
   "metadata": {},
   "source": [
    "### 데이터 불러오기"
   ]
  },
  {
   "cell_type": "code",
   "execution_count": 2,
   "metadata": {},
   "outputs": [
    {
     "name": "stdout",
     "output_type": "stream",
     "text": [
      "['First Citizen:', 'Before we proceed any further, hear me speak.', '', 'All:', 'Speak, speak.', '', 'First Citizen:', 'You are all resolved rather to die than to famish?', '']\n"
     ]
    }
   ],
   "source": [
    "# 파일을 읽기모드로 열고\n",
    "# 라인 단위로 끊어서 list 형태로 읽어옵니다.\n",
    "file_path = os.getenv('HOME') + '/aiffel/lyricist/data/shakespeare.txt'\n",
    "with open(file_path, \"r\") as f:\n",
    "    raw_corpus = f.read().splitlines()\n",
    "\n",
    "# 앞에서부터 10라인만 화면에 출력해 볼까요?\n",
    "print(raw_corpus[:9])"
   ]
  },
  {
   "cell_type": "code",
   "execution_count": 3,
   "metadata": {},
   "outputs": [
    {
     "name": "stdout",
     "output_type": "stream",
     "text": [
      "Before we proceed any further, hear me speak.\n",
      "Speak, speak.\n",
      "You are all resolved rather to die than to famish?\n"
     ]
    }
   ],
   "source": [
    "for idx, sentence in enumerate(raw_corpus):\n",
    "    if len(sentence) == 0: continue   # 길이가 0인 문장은 건너뜁니다.\n",
    "    if sentence[-1] == \":\": continue  # 문장의 끝이 : 인 문장은 건너뜁니다.\n",
    "\n",
    "    if idx > 9: break   # 일단 문장 10개만 확인해 볼 겁니다.\n",
    "        \n",
    "    print(sentence)"
   ]
  },
  {
   "cell_type": "markdown",
   "metadata": {},
   "source": [
    "### 정규표현식을 이용한 corpus 생성"
   ]
  },
  {
   "cell_type": "code",
   "execution_count": 4,
   "metadata": {},
   "outputs": [
    {
     "name": "stdout",
     "output_type": "stream",
     "text": [
      "<start> this is sample sentence . <end>\n"
     ]
    }
   ],
   "source": [
    "# 입력된 문장을\n",
    "#     1. 소문자로 바꾸고, 양쪽 공백을 지웁니다\n",
    "#     2. 특수문자 양쪽에 공백을 넣고\n",
    "#     3. 여러개의 공백은 하나의 공백으로 바꿉니다\n",
    "#     4. a-zA-Z?.!,¿가 아닌 모든 문자를 하나의 공백으로 바꿉니다\n",
    "#     5. 다시 양쪽 공백을 지웁니다\n",
    "#     6. 문장 시작에는 <start>, 끝에는 <end>를 추가합니다\n",
    "# 이 순서로 처리해주면 문제가 되는 상황을 방지할 수 있겠네요!\n",
    "def preprocess_sentence(sentence):\n",
    "    sentence = sentence.lower().strip() # 1\n",
    "    sentence = re.sub(r\"([?.!,¿])\", r\" \\1 \", sentence) # 2\n",
    "    sentence = re.sub(r'[\" \"]+', \" \", sentence) # 3\n",
    "    sentence = re.sub(r\"[^a-zA-Z?.!,¿]+\", \" \", sentence) # 4\n",
    "    sentence = sentence.strip() # 5\n",
    "    sentence = '<start> ' + sentence + ' <end>' # 6\n",
    "    return sentence\n",
    "\n",
    "# 이 문장이 어떻게 필터링되는지 확인해 보세요.\n",
    "print(preprocess_sentence(\"This @_is ;;;sample        sentence.\"))"
   ]
  },
  {
   "cell_type": "code",
   "execution_count": 5,
   "metadata": {},
   "outputs": [
    {
     "data": {
      "text/plain": [
       "['<start> before we proceed any further , hear me speak . <end>',\n",
       " '<start> speak , speak . <end>',\n",
       " '<start> you are all resolved rather to die than to famish ? <end>',\n",
       " '<start> resolved . resolved . <end>',\n",
       " '<start> first , you know caius marcius is chief enemy to the people . <end>',\n",
       " '<start> we know t , we know t . <end>',\n",
       " '<start> let us kill him , and we ll have corn at our own price . <end>',\n",
       " '<start> is t a verdict ? <end>',\n",
       " '<start> no more talking on t let it be done away , away ! <end>',\n",
       " '<start> one word , good citizens . <end>']"
      ]
     },
     "execution_count": 5,
     "metadata": {},
     "output_type": "execute_result"
    }
   ],
   "source": [
    "# 여기에 정제된 문장을 모을겁니다\n",
    "corpus = []\n",
    "\n",
    "for sentence in raw_corpus:\n",
    "    # 우리가 원하지 않는 문장은 건너뜁니다\n",
    "    if len(sentence) == 0: continue\n",
    "    if sentence[-1] == \":\": continue\n",
    "    \n",
    "    # 정제를 하고 담아주세요\n",
    "    preprocessed_sentence = preprocess_sentence(sentence)\n",
    "    corpus.append(preprocessed_sentence)\n",
    "        \n",
    "# 정제된 결과를 10개만 확인해보죠\n",
    "corpus[:10]"
   ]
  },
  {
   "cell_type": "markdown",
   "metadata": {},
   "source": [
    "### corpus를 텐서로 변환"
   ]
  },
  {
   "cell_type": "code",
   "execution_count": 6,
   "metadata": {},
   "outputs": [
    {
     "name": "stdout",
     "output_type": "stream",
     "text": [
      "[[   2  143   40 ...    0    0    0]\n",
      " [   2  110    4 ...    0    0    0]\n",
      " [   2   11   50 ...    0    0    0]\n",
      " ...\n",
      " [   2  149 4553 ...    0    0    0]\n",
      " [   2   34   71 ...    0    0    0]\n",
      " [   2  945   34 ...    0    0    0]] <keras_preprocessing.text.Tokenizer object at 0x7ff6806128d0>\n"
     ]
    }
   ],
   "source": [
    "# 토큰화 할 때 텐서플로우의 Tokenizer와 pad_sequences를 사용합니다\n",
    "def tokenize(corpus):\n",
    "    # 7000단어를 기억할 수 있는 tokenizer를 만들겁니다\n",
    "    # 우리는 이미 문장을 정제했으니 filters가 필요없어요\n",
    "    # 7000단어에 포함되지 못한 단어는 '<unk>'로 바꿀거에요\n",
    "    tokenizer = tf.keras.preprocessing.text.Tokenizer(\n",
    "        num_words=12000, \n",
    "        filters=' ',\n",
    "        oov_token=\"<unk>\"\n",
    "    )\n",
    "    # corpus를 이용해 tokenizer 내부의 단어장을 완성합니다\n",
    "    tokenizer.fit_on_texts(corpus)\n",
    "    # 준비한 tokenizer를 이용해 corpus를 Tensor로 변환합니다\n",
    "    tensor = tokenizer.texts_to_sequences(corpus)   \n",
    "    # 입력 데이터의 시퀀스 길이를 일정하게 맞춰줍니다\n",
    "    # 만약 시퀀스가 짧다면 문장 뒤에 패딩을 붙여 길이를 맞춰줍니다.\n",
    "    # 문장 앞에 패딩을 붙여 길이를 맞추고 싶다면 padding='pre'를 사용합니다\n",
    "    tensor = tf.keras.preprocessing.sequence.pad_sequences(tensor, padding='post')  \n",
    "    \n",
    "    print(tensor,tokenizer)\n",
    "    return tensor, tokenizer\n",
    "\n",
    "tensor, tokenizer = tokenize(corpus)"
   ]
  },
  {
   "cell_type": "code",
   "execution_count": 7,
   "metadata": {},
   "outputs": [
    {
     "name": "stdout",
     "output_type": "stream",
     "text": [
      "[[   2  143   40  933  140  591    4  124   24  110]\n",
      " [   2  110    4  110    5    3    0    0    0    0]\n",
      " [   2   11   50   43 1201  316    9  201   74    9]]\n"
     ]
    }
   ],
   "source": [
    "print(tensor[:3, :10]) # 생성된 텐서 데이터를 3번째 행, 10번째 열까지 출력"
   ]
  },
  {
   "cell_type": "code",
   "execution_count": 18,
   "metadata": {},
   "outputs": [
    {
     "name": "stdout",
     "output_type": "stream",
     "text": [
      "1 : <unk>\n",
      "2 : <start>\n",
      "3 : <end>\n",
      "4 : ,\n",
      "5 : .\n",
      "6 : the\n",
      "7 : and\n",
      "8 : i\n",
      "9 : to\n",
      "10 : of\n"
     ]
    }
   ],
   "source": [
    "# 단어사전 확인\n",
    "for idx in tokenizer.index_word:\n",
    "    print(idx, \":\", tokenizer.index_word[idx])\n",
    "\n",
    "    if idx >= 10: break"
   ]
  },
  {
   "cell_type": "markdown",
   "metadata": {},
   "source": [
    "### 생성된 텐서를 소스와 타겟으로 분리"
   ]
  },
  {
   "cell_type": "code",
   "execution_count": 10,
   "metadata": {},
   "outputs": [
    {
     "name": "stdout",
     "output_type": "stream",
     "text": [
      "[  2 143  40 933 140 591   4 124  24 110   5   3   0   0   0   0   0   0\n",
      "   0   0]\n",
      "[143  40 933 140 591   4 124  24 110   5   3   0   0   0   0   0   0   0\n",
      "   0   0]\n"
     ]
    }
   ],
   "source": [
    "# tensor에서 마지막 토큰을 잘라내서 소스 문장을 생성합니다\n",
    "# 마지막 토큰은 <end>가 아니라 <pad>일 가능성이 높습니다.\n",
    "src_input = tensor[:, :-1]  \n",
    "# tensor에서 <start>를 잘라내서 타겟 문장을 생성합니다.\n",
    "tgt_input = tensor[:, 1:]    \n",
    "\n",
    "print(src_input[0])\n",
    "print(tgt_input[0])"
   ]
  },
  {
   "cell_type": "markdown",
   "metadata": {},
   "source": [
    "### corpus 텐서를 tf.data.Dataset객체로 변환"
   ]
  },
  {
   "cell_type": "code",
   "execution_count": 11,
   "metadata": {},
   "outputs": [
    {
     "data": {
      "text/plain": [
       "<BatchDataset shapes: ((256, 20), (256, 20)), types: (tf.int32, tf.int32)>"
      ]
     },
     "execution_count": 11,
     "metadata": {},
     "output_type": "execute_result"
    }
   ],
   "source": [
    "BUFFER_SIZE = len(src_input)\n",
    "BATCH_SIZE = 256\n",
    "steps_per_epoch = len(src_input) // BATCH_SIZE\n",
    "\n",
    " # tokenizer가 구축한 단어사전 내 7000개와, 여기 포함되지 않은 0:<pad>를 포함하여 7001개\n",
    "VOCAB_SIZE = tokenizer.num_words + 1   \n",
    "\n",
    "# 준비한 데이터 소스로부터 데이터셋을 만듭니다\n",
    "# 데이터셋에 대해서는 아래 문서를 참고하세요\n",
    "# 자세히 알아둘수록 도움이 많이 되는 중요한 문서입니다\n",
    "# https://www.tensorflow.org/api_docs/python/tf/data/Dataset\n",
    "dataset = tf.data.Dataset.from_tensor_slices((src_input, tgt_input))\n",
    "dataset = dataset.shuffle(BUFFER_SIZE)\n",
    "dataset = dataset.batch(BATCH_SIZE, drop_remainder=True)\n",
    "dataset"
   ]
  },
  {
   "cell_type": "markdown",
   "metadata": {},
   "source": [
    "## 모델 학습"
   ]
  },
  {
   "cell_type": "code",
   "execution_count": 12,
   "metadata": {},
   "outputs": [],
   "source": [
    "class TextGenerator(tf.keras.Model):\n",
    "    def __init__(self, vocab_size, embedding_size, hidden_size):\n",
    "        super().__init__()\n",
    "        \n",
    "        self.embedding = tf.keras.layers.Embedding(vocab_size, embedding_size)\n",
    "        self.rnn_1 = tf.keras.layers.LSTM(hidden_size, return_sequences=True)\n",
    "        self.rnn_2 = tf.keras.layers.LSTM(hidden_size, return_sequences=True)\n",
    "        self.linear = tf.keras.layers.Dense(vocab_size)\n",
    "        \n",
    "    def call(self, x):\n",
    "        out = self.embedding(x)\n",
    "        out = self.rnn_1(out)\n",
    "        out = self.rnn_2(out)\n",
    "        out = self.linear(out)\n",
    "        \n",
    "        return out\n",
    "    \n",
    "embedding_size = 256 # 단어가 추상적으로 표현되는 크기\n",
    "hidden_size = 1024 # 모델에 둘 일꾼의 수(많으면 배가 산으로)\n",
    "model = TextGenerator(tokenizer.num_words + 1, embedding_size , hidden_size)"
   ]
  },
  {
   "cell_type": "code",
   "execution_count": 13,
   "metadata": {},
   "outputs": [
    {
     "data": {
      "text/plain": [
       "<tf.Tensor: shape=(256, 20, 7001), dtype=float32, numpy=\n",
       "array([[[ 2.95444450e-04,  2.04314158e-04, -1.87394835e-04, ...,\n",
       "          2.58050568e-04,  1.16693431e-04,  1.08304877e-04],\n",
       "        [ 6.22706721e-04,  2.39100438e-04,  3.59912628e-05, ...,\n",
       "          4.25605103e-04,  7.33845955e-05,  3.39448416e-05],\n",
       "        [ 3.26945330e-04,  2.26082790e-04,  2.03560587e-04, ...,\n",
       "          4.94319072e-04,  1.28015206e-04, -6.07165348e-05],\n",
       "        ...,\n",
       "        [ 3.30594019e-03, -7.24661746e-04, -2.55561806e-03, ...,\n",
       "          7.13848218e-04,  1.32173428e-03,  3.30246170e-03],\n",
       "        [ 3.78496759e-03, -8.38077045e-04, -2.57296069e-03, ...,\n",
       "          7.03943835e-04,  1.42167532e-03,  3.87646491e-03],\n",
       "        [ 4.21282090e-03, -9.24564374e-04, -2.54853955e-03, ...,\n",
       "          6.85613195e-04,  1.48080569e-03,  4.41115024e-03]],\n",
       "\n",
       "       [[ 2.95444450e-04,  2.04314158e-04, -1.87394835e-04, ...,\n",
       "          2.58050568e-04,  1.16693431e-04,  1.08304877e-04],\n",
       "        [ 5.30050718e-04,  9.93854555e-05,  2.07633329e-05, ...,\n",
       "          2.21872819e-04,  7.55070650e-05,  3.50839691e-04],\n",
       "        [ 7.56317575e-04,  9.05054840e-05,  1.67608359e-05, ...,\n",
       "          2.04805081e-04,  2.15823791e-04,  3.34547920e-04],\n",
       "        ...,\n",
       "        [ 3.56576615e-03, -9.55300289e-04, -2.28088279e-03, ...,\n",
       "         -1.83656175e-05,  1.00338948e-03,  3.65077658e-03],\n",
       "        [ 4.04931419e-03, -1.03659183e-03, -2.32561235e-03, ...,\n",
       "          5.81705317e-05,  1.10337010e-03,  4.29649372e-03],\n",
       "        [ 4.47316188e-03, -1.09074463e-03, -2.32723588e-03, ...,\n",
       "          1.27265332e-04,  1.17821374e-03,  4.87071741e-03]],\n",
       "\n",
       "       [[ 2.95444450e-04,  2.04314158e-04, -1.87394835e-04, ...,\n",
       "          2.58050568e-04,  1.16693431e-04,  1.08304877e-04],\n",
       "        [ 3.95497540e-04,  8.53716861e-04, -2.98323168e-04, ...,\n",
       "          2.40653433e-04,  2.77732674e-04,  1.52774766e-04],\n",
       "        [ 9.58894147e-04,  1.14621897e-03, -5.65001159e-04, ...,\n",
       "          4.36458824e-04,  1.85901517e-04, -1.77644979e-04],\n",
       "        ...,\n",
       "        [ 2.52713915e-03, -1.77046328e-04, -2.14849785e-03, ...,\n",
       "         -1.00571822e-04,  2.47173524e-03,  3.57838930e-03],\n",
       "        [ 3.04656103e-03, -3.20309482e-04, -2.33046012e-03, ...,\n",
       "         -3.79521771e-05,  2.43968586e-03,  4.07524314e-03],\n",
       "        [ 3.53320758e-03, -4.51467582e-04, -2.43522902e-03, ...,\n",
       "          2.47611897e-05,  2.37119896e-03,  4.54820087e-03]],\n",
       "\n",
       "       ...,\n",
       "\n",
       "       [[ 2.95444450e-04,  2.04314158e-04, -1.87394835e-04, ...,\n",
       "          2.58050568e-04,  1.16693431e-04,  1.08304877e-04],\n",
       "        [ 4.68329032e-04,  2.15519380e-04, -2.34397230e-04, ...,\n",
       "          5.08342928e-04,  1.20086625e-04,  4.25927225e-04],\n",
       "        [ 4.94185137e-04,  1.71195104e-04, -3.89617235e-05, ...,\n",
       "          7.11286732e-04,  2.38487628e-05,  3.52423056e-04],\n",
       "        ...,\n",
       "        [ 2.37975991e-03, -6.45424763e-04, -1.94222119e-03, ...,\n",
       "          1.13317335e-03,  2.22613616e-03,  3.66122788e-03],\n",
       "        [ 2.94738449e-03, -7.36687041e-04, -2.13379436e-03, ...,\n",
       "          1.08184211e-03,  2.23388965e-03,  4.14833054e-03],\n",
       "        [ 3.46863014e-03, -8.10630503e-04, -2.25095288e-03, ...,\n",
       "          1.03096245e-03,  2.20281235e-03,  4.61756624e-03]],\n",
       "\n",
       "       [[ 2.95444450e-04,  2.04314158e-04, -1.87394835e-04, ...,\n",
       "          2.58050568e-04,  1.16693431e-04,  1.08304877e-04],\n",
       "        [ 3.50928254e-04, -5.42721900e-05, -7.09949119e-04, ...,\n",
       "          4.29142296e-04, -1.12895927e-04,  2.49191653e-04],\n",
       "        [ 3.78677069e-04, -3.12478747e-04, -9.23942949e-04, ...,\n",
       "          6.31959760e-04, -2.70805700e-04,  6.53193973e-04],\n",
       "        ...,\n",
       "        [ 1.71303295e-03, -4.08653286e-04, -2.31781253e-03, ...,\n",
       "          1.13602924e-04,  1.49933039e-03,  3.92874703e-03],\n",
       "        [ 2.34469818e-03, -5.51382196e-04, -2.45471904e-03, ...,\n",
       "          1.67809223e-04,  1.63780118e-03,  4.36882721e-03],\n",
       "        [ 2.93580559e-03, -6.72958791e-04, -2.52122595e-03, ...,\n",
       "          2.16659653e-04,  1.72478054e-03,  4.80134506e-03]],\n",
       "\n",
       "       [[ 2.95444450e-04,  2.04314158e-04, -1.87394835e-04, ...,\n",
       "          2.58050568e-04,  1.16693431e-04,  1.08304877e-04],\n",
       "        [ 6.22706721e-04,  2.39100438e-04,  3.59912628e-05, ...,\n",
       "          4.25605103e-04,  7.33845955e-05,  3.39448416e-05],\n",
       "        [ 6.55640615e-04,  3.04104731e-04, -8.24233357e-05, ...,\n",
       "          8.42529931e-04, -5.52353813e-05, -1.33396316e-05],\n",
       "        ...,\n",
       "        [ 2.74538319e-03, -8.39504006e-04, -2.46197823e-03, ...,\n",
       "          2.51973979e-04,  1.92364049e-03,  3.95904435e-03],\n",
       "        [ 3.28382244e-03, -8.93266872e-04, -2.51297979e-03, ...,\n",
       "          3.03446141e-04,  1.93338632e-03,  4.45267372e-03],\n",
       "        [ 3.77139891e-03, -9.42805724e-04, -2.50756950e-03, ...,\n",
       "          3.42507527e-04,  1.91403646e-03,  4.91168955e-03]]],\n",
       "      dtype=float32)>"
      ]
     },
     "execution_count": 13,
     "metadata": {},
     "output_type": "execute_result"
    }
   ],
   "source": [
    "# model에 작은 데이터셋으로 input shape를 결정\n",
    "for src_sample, tgt_sample in dataset.take(1): break\n",
    "\n",
    "# 한 배치만 불러온 데이터를 모델에 넣어봅니다\n",
    "model(src_sample)"
   ]
  },
  {
   "cell_type": "markdown",
   "metadata": {},
   "source": [
    "tf.Tensor: shape=(배치사이즈, LSTM에 입력된 시퀀스의 길이,Dense 레이어의 출력 차원수)"
   ]
  },
  {
   "cell_type": "code",
   "execution_count": 14,
   "metadata": {},
   "outputs": [
    {
     "name": "stdout",
     "output_type": "stream",
     "text": [
      "Model: \"text_generator\"\n",
      "_________________________________________________________________\n",
      "Layer (type)                 Output Shape              Param #   \n",
      "=================================================================\n",
      "embedding (Embedding)        multiple                  1792256   \n",
      "_________________________________________________________________\n",
      "lstm (LSTM)                  multiple                  5246976   \n",
      "_________________________________________________________________\n",
      "lstm_1 (LSTM)                multiple                  8392704   \n",
      "_________________________________________________________________\n",
      "dense (Dense)                multiple                  7176025   \n",
      "=================================================================\n",
      "Total params: 22,607,961\n",
      "Trainable params: 22,607,961\n",
      "Non-trainable params: 0\n",
      "_________________________________________________________________\n"
     ]
    }
   ],
   "source": [
    "model.summary()"
   ]
  },
  {
   "cell_type": "code",
   "execution_count": 15,
   "metadata": {},
   "outputs": [
    {
     "name": "stdout",
     "output_type": "stream",
     "text": [
      "Epoch 1/30\n",
      "93/93 [==============================] - 35s 342ms/step - loss: 4.3847\n",
      "Epoch 2/30\n",
      "93/93 [==============================] - 32s 345ms/step - loss: 2.8178\n",
      "Epoch 3/30\n",
      "93/93 [==============================] - 32s 349ms/step - loss: 2.7260\n",
      "Epoch 4/30\n",
      "93/93 [==============================] - 33s 350ms/step - loss: 2.5950\n",
      "Epoch 5/30\n",
      "93/93 [==============================] - 33s 352ms/step - loss: 2.5428\n",
      "Epoch 6/30\n",
      "93/93 [==============================] - 33s 353ms/step - loss: 2.4853\n",
      "Epoch 7/30\n",
      "93/93 [==============================] - 33s 352ms/step - loss: 2.4279\n",
      "Epoch 8/30\n",
      "93/93 [==============================] - 33s 352ms/step - loss: 2.3650\n",
      "Epoch 9/30\n",
      "93/93 [==============================] - 33s 352ms/step - loss: 2.3092\n",
      "Epoch 10/30\n",
      "93/93 [==============================] - 33s 352ms/step - loss: 2.2650\n",
      "Epoch 11/30\n",
      "93/93 [==============================] - 33s 351ms/step - loss: 2.2101\n",
      "Epoch 12/30\n",
      "93/93 [==============================] - 33s 351ms/step - loss: 2.1546\n",
      "Epoch 13/30\n",
      "93/93 [==============================] - 33s 351ms/step - loss: 2.1131\n",
      "Epoch 14/30\n",
      "93/93 [==============================] - 33s 350ms/step - loss: 2.0706\n",
      "Epoch 15/30\n",
      "93/93 [==============================] - 33s 351ms/step - loss: 2.0193\n",
      "Epoch 16/30\n",
      "93/93 [==============================] - 33s 351ms/step - loss: 1.9689\n",
      "Epoch 17/30\n",
      "93/93 [==============================] - 33s 351ms/step - loss: 1.9217\n",
      "Epoch 18/30\n",
      "93/93 [==============================] - 33s 351ms/step - loss: 1.8769\n",
      "Epoch 19/30\n",
      "93/93 [==============================] - 33s 350ms/step - loss: 1.8234\n",
      "Epoch 20/30\n",
      "93/93 [==============================] - 33s 350ms/step - loss: 1.7804\n",
      "Epoch 21/30\n",
      "93/93 [==============================] - 33s 350ms/step - loss: 1.7315\n",
      "Epoch 22/30\n",
      "93/93 [==============================] - 33s 350ms/step - loss: 1.6851\n",
      "Epoch 23/30\n",
      "93/93 [==============================] - 33s 350ms/step - loss: 1.6392\n",
      "Epoch 24/30\n",
      "93/93 [==============================] - 33s 350ms/step - loss: 1.5878\n",
      "Epoch 25/30\n",
      "93/93 [==============================] - 33s 350ms/step - loss: 1.5390\n",
      "Epoch 26/30\n",
      "93/93 [==============================] - 33s 350ms/step - loss: 1.4935\n",
      "Epoch 27/30\n",
      "93/93 [==============================] - 33s 350ms/step - loss: 1.4430\n",
      "Epoch 28/30\n",
      "93/93 [==============================] - 33s 351ms/step - loss: 1.3985\n",
      "Epoch 29/30\n",
      "93/93 [==============================] - 33s 350ms/step - loss: 1.3544\n",
      "Epoch 30/30\n",
      "93/93 [==============================] - 33s 351ms/step - loss: 1.3051\n",
      "WARNING:tensorflow:From <ipython-input-15-212621778df7>:14: is_gpu_available (from tensorflow.python.framework.test_util) is deprecated and will be removed in a future version.\n",
      "Instructions for updating:\n",
      "Use `tf.config.list_physical_devices('GPU')` instead.\n"
     ]
    },
    {
     "data": {
      "text/plain": [
       "True"
      ]
     },
     "execution_count": 15,
     "metadata": {},
     "output_type": "execute_result"
    }
   ],
   "source": [
    "\n",
    "loss = tf.keras.losses.SparseCategoricalCrossentropy(\n",
    "    from_logits=True,\n",
    "    reduction='none'\n",
    ")\n",
    "\n",
    "model.compile(loss=loss, optimizer=optimizer)\n",
    "model.fit(dataset, epochs=30)\n",
    "tf.test.is_gpu_available()"
   ]
  },
  {
   "cell_type": "markdown",
   "metadata": {},
   "source": [
    "## 모델 평가\n",
    "모델에게 작문을 시켜보고 직접 평가"
   ]
  },
  {
   "cell_type": "code",
   "execution_count": 16,
   "metadata": {},
   "outputs": [],
   "source": [
    "def generate_text(model, tokenizer, init_sentence=\"<start>\", max_len=20):\n",
    "    # 테스트를 위해서 입력받은 init_sentence도 텐서로 변환합니다\n",
    "    test_input = tokenizer.texts_to_sequences([init_sentence])\n",
    "    test_tensor = tf.convert_to_tensor(test_input, dtype=tf.int64)\n",
    "    end_token = tokenizer.word_index[\"<end>\"]\n",
    "\n",
    "    # 단어 하나씩 예측해 문장을 만듭니다\n",
    "    #    1. 입력받은 문장의 텐서를 입력합니다\n",
    "    #    2. 예측된 값 중 가장 높은 확률인 word index를 뽑아냅니다\n",
    "    #    3. 2에서 예측된 word index를 문장 뒤에 붙입니다\n",
    "    #    4. 모델이 <end>를 예측했거나, max_len에 도달했다면 문장 생성을 마칩니다\n",
    "    while True:\n",
    "        # 1\n",
    "        predict = model(test_tensor) \n",
    "        # 2\n",
    "        predict_word = tf.argmax(tf.nn.softmax(predict, axis=-1), axis=-1)[:, -1] \n",
    "        # 3 \n",
    "        test_tensor = tf.concat([test_tensor, tf.expand_dims(predict_word, axis=0)], axis=-1)\n",
    "        # 4\n",
    "        if predict_word.numpy()[0] == end_token: break\n",
    "        if test_tensor.shape[1] >= max_len: break\n",
    "\n",
    "    generated = \"\"\n",
    "    # tokenizer를 이용해 word index를 단어로 하나씩 변환합니다 \n",
    "    for word_index in test_tensor[0].numpy():\n",
    "        generated += tokenizer.index_word[word_index] + \" \"\n",
    "\n",
    "    return generated"
   ]
  },
  {
   "cell_type": "code",
   "execution_count": 17,
   "metadata": {},
   "outputs": [
    {
     "data": {
      "text/plain": [
       "'<start> her smile , and <unk> and <unk> , <end> '"
      ]
     },
     "execution_count": 17,
     "metadata": {},
     "output_type": "execute_result"
    }
   ],
   "source": [
    "generate_text(model, tokenizer, init_sentence=\"<start> her smile\")"
   ]
  }
 ],
 "metadata": {
  "kernelspec": {
   "display_name": "Python 3",
   "language": "python",
   "name": "python3"
  },
  "language_info": {
   "codemirror_mode": {
    "name": "ipython",
    "version": 3
   },
   "file_extension": ".py",
   "mimetype": "text/x-python",
   "name": "python",
   "nbconvert_exporter": "python",
   "pygments_lexer": "ipython3",
   "version": "3.8.5"
  },
  "toc": {
   "base_numbering": 1,
   "nav_menu": {},
   "number_sections": true,
   "sideBar": true,
   "skip_h1_title": true,
   "title_cell": "Table of Contents",
   "title_sidebar": "Contents",
   "toc_cell": true,
   "toc_position": {},
   "toc_section_display": true,
   "toc_window_display": false
  }
 },
 "nbformat": 4,
 "nbformat_minor": 5
}
