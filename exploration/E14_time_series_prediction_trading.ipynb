{
 "cells": [
  {
   "cell_type": "markdown",
   "id": "floating-korea",
   "metadata": {},
   "source": [
    "# 14. 어제 오른 내 주식, 과연 내일은?"
   ]
  },
  {
   "cell_type": "markdown",
   "id": "perceived-morning",
   "metadata": {},
   "source": [
    "## 14-1. 들어가며"
   ]
  },
  {
   "cell_type": "markdown",
   "id": "prescribed-refund",
   "metadata": {},
   "source": [
    "### 학습목표\n",
    "- 시계열 데이터의 특성과 안정적(Stationary) 시계열의 개념을 이해한다.\n",
    "- ARIMA 모델을 구성하는 AR, MA, Diffencing의 개념을 이해하고 간단한 시계열 데이터에 적용해 본다.\n",
    "- 실제 주식 데이터에 ARIMA를 적용해서 예측 정확도를 확인해 본다.\n",
    "\n",
    "### 목차\n",
    "__시계열 예측이란__\n",
    "- 미래를 예측한다는 것은 가능할까?\n",
    "- Stationary한 시계열 데이터란?\n",
    "- 시계열 데이터 사례분석\n",
    "\n",
    "\n",
    "__Stationary 여부를 체크하는 통계적 방법__\n",
    "- ARIMA 시계열 예측\n",
    "- 시계열 예측의 기본 아이디어 : Stationary하게 만들 방법은 없을까?\n",
    "- ARIMA 모델의 개념\n",
    "- ARIMA 모델 훈련과 추론"
   ]
  },
  {
   "cell_type": "markdown",
   "id": "duplicate-monday",
   "metadata": {},
   "source": [
    "## 14-2. 시계열 예측이란(1) 미래를 예측한다는 것은 가능할까?"
   ]
  },
  {
   "cell_type": "markdown",
   "id": "alien-dominican",
   "metadata": {},
   "source": [
    "아래와 같은 미래 예측 시나리오를 생각해 봅시다.\n",
    "\n",
    "- 지금까지의 주가변곡선을 바탕으로 다음 주가변동 예측\n",
    "- 특정 지역의 기후데이터를 바탕으로 내일의 온도변화 예측\n",
    "- 공장 센터데이터 변화이력을 토대로 이상 발생 예측\n",
    "\n",
    "위 예시의 공통점이 무엇일까요? 바로 예측의 근거가 되는 시계열(Time-Series) 데이터가 있다는 것입니다. 시계열이란 시간 순서대로 발생한 데이터의 수열이라는 뜻입니다.\n",
    "\n",
    "$$Y={Y_t:t \\in T}, when\\ T\\ is\\ the\\ index\\ set$$\n",
    "\n",
    "미래 예측은 불가능한 것입니다. 그럼에도 불구하고 미래의 데이터를 예측하려 든다면 적어도 다음 두 가지의 전제가 필요합니다.\n",
    "1. 과거의 데이터에 일정한 패턴이 발견된다.\n",
    "2. 과거의 패턴은 미래에도 동일하게 반복될 것이다.\n",
    "\n",
    "➡ __안정적(Stationary)__ 데이터에 대해서만 미래 예측이 가능하다.\n",
    "\n"
   ]
  },
  {
   "cell_type": "markdown",
   "id": "coordinate-polyester",
   "metadata": {},
   "source": [
    "## 14-3. 시계열 예측이란(2) Stationary한 시계열 데이터"
   ]
  },
  {
   "cell_type": "code",
   "execution_count": null,
   "id": "applied-convention",
   "metadata": {},
   "outputs": [],
   "source": []
  }
 ],
 "metadata": {
  "kernelspec": {
   "display_name": "Python 3",
   "language": "python",
   "name": "python3"
  },
  "language_info": {
   "codemirror_mode": {
    "name": "ipython",
    "version": 3
   },
   "file_extension": ".py",
   "mimetype": "text/x-python",
   "name": "python",
   "nbconvert_exporter": "python",
   "pygments_lexer": "ipython3",
   "version": "3.7.9"
  }
 },
 "nbformat": 4,
 "nbformat_minor": 5
}
