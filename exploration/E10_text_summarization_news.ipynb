{
 "cells": [
  {
   "cell_type": "markdown",
   "id": "yellow-workplace",
   "metadata": {},
   "source": [
    "# 뉴스 요약봇 만들기📰"
   ]
  },
  {
   "cell_type": "markdown",
   "id": "varied-czech",
   "metadata": {},
   "source": [
    "## 학습 목표\n",
    "- Extractive/Abstractive summarization 이해하기\n",
    "- 단어장 크기를 줄이는 다양한 text normalization 적용해보기\n",
    "- seq2seq의 성능을 Up시키는 Attention Mechanism 적용하기"
   ]
  },
  {
   "cell_type": "markdown",
   "id": "intense-location",
   "metadata": {},
   "source": [
    "***"
   ]
  },
  {
   "cell_type": "markdown",
   "id": "accredited-dealing",
   "metadata": {},
   "source": [
    "## 목차\n",
    "- 텍스트 요약 개념 정리\n",
    "- 추상적 요약\n",
    "    - 데이터 수집\n",
    "    - 데이터 전처리\n",
    "    - 모델 설계 및 훈련\n",
    "        - 어텐션 메커니즘 사용하기\n",
    "    - 실제 결과와 요약문 비교하기\n",
    "- 추출적 요약\n",
    "- 추상적 요약과 추출적 요약 비교\n",
    "- 프로젝트 정리"
   ]
  },
  {
   "cell_type": "markdown",
   "id": "cross-ozone",
   "metadata": {},
   "source": [
    "## 텍스트 요약(Text Summarization)이란?\n",
    "\n",
    "- Document 원문을 핵심 주제만으로 구성된 짧은 Summary 문장들로 변화하는 것을 말한다.\n",
    "-  예)뉴스 기사로 뉴스 제목 생성\n",
    "- 요약 전후에 정보 손실 발생이 최소화 되어야 한다\n",
    "\n",
    "### 추출적 요약(Extractive Summarization)\n",
    "- 원문에서 __문장들을 추출__해서 요약하는 방식\n",
    "- 예)10개의 문장으로 구성된 텍스트에서 핵심적인 문장 3개를 꺼내온다\n",
    "- Text Classification 문제로 볼 수 있다\n",
    "- 문장들 간의 호응이 자연스럽지 않을 수 있다\n",
    "- 주로 ML인 텍스트 랭크(TextRank) 같은 알고리즘을 사용한다\n",
    "- 사례)네이버 뉴스 서비스 요약봇\n",
    "\n",
    "![요약봇](https://media.vlpt.us/images/dev_halo/post/fc1bf96f-0877-4db1-a4ee-a4a67f3e9c6c/20171128000144_0640.png)\n",
    "\n",
    "### 추상적 요약(Abxtractive Summarization)\n",
    "- 원문에서 내용이 요약된 __새로운 문장을 생성__하는 방식\n",
    "- Natural Language Generation의 영역\n",
    "\n",
    "### Seq2seq\n",
    "\n",
    "- 두 개의 RNN 아키텍처를 사용하여 입력 시퀀스로 부터 출력 시퀀스를 생성해내는 모델\n",
    "- 원문을 encoder(1st RNN)으로 입력하면 하나의 고정된 벡터로 변환(context vector)\n",
    "- decoder(2nd RNN)은 context vector을 입력으로 받아 한 단어씩 생성해내서 요약 문장을 완성한다.\n",
    "\n",
    "- encoder, decoder로 __LSTM__을 사용 → time step의 셀에 hidden state와 cell state가 함께 전달(context vector에도 hidden state와 cell state 모두 존재)\n",
    "- 데이터의 예측 대상 시퀀스의 앞, 뒤에는 __시작 토큰과 종료 토큰__을 넣어주는 전처리를 해주어 어디서 멈춰야 하는지를 알려줄 필요가 있다.\n",
    "- __Attention Mechanism__은 encoder의 모든 step의 hidden state의 정보가 context vector에 전부 반영되도록 하는 것\n",
    "- decoder의 현재 스텝에 따라 동적으로 달라지는 encoder의 context vector를 사용해서 현재의 예측에 활용하면, decoder가 좀 더 정확한 예측을 할 수 있게 된다."
   ]
  },
  {
   "cell_type": "markdown",
   "id": "universal-billy",
   "metadata": {},
   "source": [
    "***"
   ]
  },
  {
   "cell_type": "markdown",
   "id": "cultural-eclipse",
   "metadata": {},
   "source": [
    "# 추상적 요약"
   ]
  },
  {
   "cell_type": "code",
   "execution_count": 1,
   "id": "stunning-physiology",
   "metadata": {},
   "outputs": [
    {
     "name": "stderr",
     "output_type": "stream",
     "text": [
      "[nltk_data] Downloading package stopwords to /aiffel/nltk_data...\n",
      "[nltk_data]   Package stopwords is already up-to-date!\n"
     ]
    },
    {
     "name": "stdout",
     "output_type": "stream",
     "text": [
      "=3\n"
     ]
    }
   ],
   "source": [
    "import nltk\n",
    "nltk.download('stopwords')\n",
    "\n",
    "import numpy as np\n",
    "import pandas as pd\n",
    "import os\n",
    "import re\n",
    "import matplotlib.pyplot as plt\n",
    "from nltk.corpus import stopwords\n",
    "from bs4 import BeautifulSoup \n",
    "import tensorflow as tf\n",
    "from tensorflow.keras.preprocessing.text import Tokenizer \n",
    "from tensorflow.keras.preprocessing.sequence import pad_sequences\n",
    "import urllib.request\n",
    "\n",
    "print('=3')"
   ]
  },
  {
   "cell_type": "markdown",
   "id": "hairy-asian",
   "metadata": {},
   "source": [
    "## 1. 데이터 준비"
   ]
  },
  {
   "cell_type": "markdown",
   "id": "aging-access",
   "metadata": {},
   "source": [
    "- 사용 데이터: [New_Summary](https://github.com/sunnysai12345/News_Summary)\n",
    "    - 데이터 세트는 4515개의 예시로 구성\n",
    "    - Author_name, Headlines, Url of Article, Short text, Complete Article을 포함<br>(이 중 headlines, text만 사용)\n",
    "    - 인쇼츠에서 요약된 뉴스를 모아서 힌두, 인디언 타임즈, 가디언 뉴스 기사만 스크랩\n",
    "    - 기간: 2017년 2월부터 8월까지"
   ]
  },
  {
   "cell_type": "code",
   "execution_count": 2,
   "id": "productive-jason",
   "metadata": {},
   "outputs": [],
   "source": [
    "# 데이터 다운로드\n",
    "import urllib.request\n",
    "urllib.request.urlretrieve(\"https://raw.githubusercontent.com/sunnysai12345/News_Summary/master/news_summary_more.csv\", filename=\"news_summary_more.csv\")\n",
    "data = pd.read_csv('news_summary_more.csv', encoding='iso-8859-1')"
   ]
  },
  {
   "cell_type": "code",
   "execution_count": 3,
   "id": "still-authentication",
   "metadata": {},
   "outputs": [
    {
     "data": {
      "text/html": [
       "<div>\n",
       "<style scoped>\n",
       "    .dataframe tbody tr th:only-of-type {\n",
       "        vertical-align: middle;\n",
       "    }\n",
       "\n",
       "    .dataframe tbody tr th {\n",
       "        vertical-align: top;\n",
       "    }\n",
       "\n",
       "    .dataframe thead th {\n",
       "        text-align: right;\n",
       "    }\n",
       "</style>\n",
       "<table border=\"1\" class=\"dataframe\">\n",
       "  <thead>\n",
       "    <tr style=\"text-align: right;\">\n",
       "      <th></th>\n",
       "      <th>headlines</th>\n",
       "      <th>text</th>\n",
       "    </tr>\n",
       "  </thead>\n",
       "  <tbody>\n",
       "    <tr>\n",
       "      <th>71390</th>\n",
       "      <td>Surgical strike a message that we can cross Lo...</td>\n",
       "      <td>Lieutenant General Devraj Anbu on Thursday sai...</td>\n",
       "    </tr>\n",
       "    <tr>\n",
       "      <th>3394</th>\n",
       "      <td>Nearby galaxy to collide with Milky Way in 2.5...</td>\n",
       "      <td>Durham University astrophysicists have suggest...</td>\n",
       "    </tr>\n",
       "    <tr>\n",
       "      <th>36255</th>\n",
       "      <td>Rats 68% better at spotting TB than FDA-approv...</td>\n",
       "      <td>A Tanzania-based study found that rats can sni...</td>\n",
       "    </tr>\n",
       "    <tr>\n",
       "      <th>19006</th>\n",
       "      <td>Eminem's rap song for 'Venom' mentions Gandhi,...</td>\n",
       "      <td>Rapper Eminem has mentioned Mahatma Gandhi and...</td>\n",
       "    </tr>\n",
       "    <tr>\n",
       "      <th>39612</th>\n",
       "      <td>Russian accidentally digs up bones of partner'...</td>\n",
       "      <td>A Russian man, while digging a vegetable patch...</td>\n",
       "    </tr>\n",
       "    <tr>\n",
       "      <th>61324</th>\n",
       "      <td>Over 900 booked for drunken driving in 20 hrs ...</td>\n",
       "      <td>Over 900 people were caught on Saturday for dr...</td>\n",
       "    </tr>\n",
       "    <tr>\n",
       "      <th>97979</th>\n",
       "      <td>Who was Ashwin Sundar, the racer who died in a...</td>\n",
       "      <td>Professional car racer Ashwin Sundar, who died...</td>\n",
       "    </tr>\n",
       "    <tr>\n",
       "      <th>97965</th>\n",
       "      <td>LG sued over flaw that made smartphones unusable</td>\n",
       "      <td>Electronics company LG has been sued by four G...</td>\n",
       "    </tr>\n",
       "    <tr>\n",
       "      <th>91032</th>\n",
       "      <td>US families receive Iran payouts, decades afte...</td>\n",
       "      <td>American families of people killed in the 1983...</td>\n",
       "    </tr>\n",
       "    <tr>\n",
       "      <th>52381</th>\n",
       "      <td>Google Duo lets users call others who don't ha...</td>\n",
       "      <td>Google has launched an update for its video ch...</td>\n",
       "    </tr>\n",
       "  </tbody>\n",
       "</table>\n",
       "</div>"
      ],
      "text/plain": [
       "                                               headlines  \\\n",
       "71390  Surgical strike a message that we can cross Lo...   \n",
       "3394   Nearby galaxy to collide with Milky Way in 2.5...   \n",
       "36255  Rats 68% better at spotting TB than FDA-approv...   \n",
       "19006  Eminem's rap song for 'Venom' mentions Gandhi,...   \n",
       "39612  Russian accidentally digs up bones of partner'...   \n",
       "61324  Over 900 booked for drunken driving in 20 hrs ...   \n",
       "97979  Who was Ashwin Sundar, the racer who died in a...   \n",
       "97965   LG sued over flaw that made smartphones unusable   \n",
       "91032  US families receive Iran payouts, decades afte...   \n",
       "52381  Google Duo lets users call others who don't ha...   \n",
       "\n",
       "                                                    text  \n",
       "71390  Lieutenant General Devraj Anbu on Thursday sai...  \n",
       "3394   Durham University astrophysicists have suggest...  \n",
       "36255  A Tanzania-based study found that rats can sni...  \n",
       "19006  Rapper Eminem has mentioned Mahatma Gandhi and...  \n",
       "39612  A Russian man, while digging a vegetable patch...  \n",
       "61324  Over 900 people were caught on Saturday for dr...  \n",
       "97979  Professional car racer Ashwin Sundar, who died...  \n",
       "97965  Electronics company LG has been sued by four G...  \n",
       "91032  American families of people killed in the 1983...  \n",
       "52381  Google has launched an update for its video ch...  "
      ]
     },
     "execution_count": 3,
     "metadata": {},
     "output_type": "execute_result"
    }
   ],
   "source": [
    "# 데이터 확인\n",
    "data.sample(10)"
   ]
  },
  {
   "cell_type": "markdown",
   "id": "connected-welsh",
   "metadata": {},
   "source": [
    "text를 본문, headlines를 요약된 데이터로 삼아 모델을 학습해본다,"
   ]
  },
  {
   "cell_type": "code",
   "execution_count": 4,
   "id": "indonesian-transportation",
   "metadata": {},
   "outputs": [],
   "source": [
    "data = data[['text', 'headlines']]\n",
    "data.rename(columns = {'text': 'Text', 'headlines': 'Summary'}, inplace = True)"
   ]
  },
  {
   "cell_type": "markdown",
   "id": "public-synthesis",
   "metadata": {},
   "source": [
    "## 2. 데이터 전처리"
   ]
  },
  {
   "cell_type": "markdown",
   "id": "unlike-archives",
   "metadata": {},
   "source": [
    "### 2.1 중복 샘플 및 NULL 값 제거\n",
    "신문기사 헤드라인의 경우 해당 사건의 요약문 이기 때문에 다른 샘플이어도 중복될 수 있다고 생각된다.그러나 text가 중복된 경우는 중복 샘플로 판단되므로 text의 중복샘플을 제거한다."
   ]
  },
  {
   "cell_type": "code",
   "execution_count": 5,
   "id": "religious-drawing",
   "metadata": {},
   "outputs": [
    {
     "name": "stdout",
     "output_type": "stream",
     "text": [
      "Text 열에서 중복을 배제한 유일한 샘플의 수 : 98360\n",
      "Summary 열에서 중복을 배제한 유일한 샘플의 수 : 98280\n"
     ]
    }
   ],
   "source": [
    "# 중복 샘플 유무 확인\n",
    "print('Text 열에서 중복을 배제한 유일한 샘플의 수 :', data['Text'].nunique())\n",
    "print('Summary 열에서 중복을 배제한 유일한 샘플의 수 :', data['Summary'].nunique())"
   ]
  },
  {
   "cell_type": "code",
   "execution_count": 6,
   "id": "third-arena",
   "metadata": {},
   "outputs": [
    {
     "name": "stdout",
     "output_type": "stream",
     "text": [
      "Isha Ambani features on February cover of Vogue magazine\n",
      "Indian Oil looking for annual deal to buy crude from US\n",
      "David Beckham once scored a 60-yard goal from his own half\n",
      "Sachin once fielded for Pakistan before making India debut\n",
      "Iraq launches air strikes against ISIS in Syria\n",
      "500-kg World War II bomb defused in Germany\n",
      "Murali picked up 800th Test wicket on career's last ball\n",
      "What is polar vortex, setting temperatures in US below Antarctica?\n",
      "DMRC reserves 1st coach in all lines, except Red, for women\n",
      "CARS24 enables car owners to sell their cars in less than 2 hours\n",
      "Gautam Gambhir once gave his Man of the Match award to Virat Kohli\n",
      "Pacer once took 7 wickets for just 1 run in 32 balls in a Test\n",
      "Suzuki Connect helps you connect to your car seamlessly\n",
      "Don Bradman once scored 100 runs in 3 overs\n",
      "Indian spinner once bowled record 21 maiden overs in a row\n",
      "Notice to Domino's for not passing GST benefit to customers\n",
      "Mukesh Ambani's son Akash gets engaged to Shloka Mehta\n",
      "World Cup's highest scorer is nicknamed Marty Two Toes\n",
      "Stolen football World Cup trophy was found by a dog in 1966\n",
      "A solar eclipse once proved Einstein right, Newton wrong\n",
      "A footballer once helped end civil war in his country\n",
      "Three astronauts return to Earth after 168 days in space\n",
      "Warne rightly predicted India-Eng 2011 WC match to be a tie\n",
      "Sridevi was paid more than Rajinikanth for a 1976 Tamil film\n",
      "Dhoni sets record for most catches by a wicketkeeper in T20s\n",
      "Shahid Kapoor shares pic from sets of Batti Gul Meter Chalu\n",
      "Srinath bowled wide to help Kumble get 10-wicket haul\n",
      "Ronaldo had surgery for heart issue at 15 to save his career\n",
      "Mughal Gardens to open for public from February 6\n",
      "Longest Test innings was longer than 10 football games\n",
      "Buzz Aldrin once punched a man for calling Moon landing hoax\n",
      "AB de Villiers hit ODIs' fastest hundred in 40 minutes\n",
      "Ronaldinho once scored all 23 goals in his side's 23-0 win\n",
      "Dravid spent 44,152 min at crease, most for any Test batsman\n",
      "HG Khorana is the only India-born Medicine Nobel Laureate\n",
      "What led to the birth of One Day International cricket?\n",
      "Captain once dropped himself, replacement broke his ribs\n",
      "ISRO founder Vikram Sarabhai had brought cable TV to India\n",
      "India's highest ODI and T20I totals came at the same stadium\n",
      "How can a Test end as drawn, not tied when scores are level?\n",
      "India marks National Mathematics Day in memory of Ramanujan\n",
      "Rohit has hit India's highest ODI score each year since 2013\n",
      "Why is December 4 celebrated as Indian Navy Day?\n",
      "Indian bowler once took 2 hat-tricks in a single innings\n",
      "Veteran actor Dilip Kumar diagnosed with pneumonia\n",
      "Indian scientist JC Bose was first to prove plants have life\n",
      "Why is England-Australia Test series called 'The Ashes'?\n",
      "PelÃÂ© was the 1st footballer in history to score 1,000 goals\n",
      "Sachin's debut was not telecast in India due to elections\n",
      "Who is the cricketer with longest known surname in history?\n",
      "An ODI was once played in the middle of a Test match\n",
      "Virat Kohli took a wicket on the 0th ball of his T20I career\n",
      "Don Bradman once scored 100 runs in 3 overs\n",
      "Bhabha convinced PM Nehru to start India's nuclear programme\n",
      "Irfan Pathan took Test history's only first-over hat-trick\n",
      "WeWork offers collaborative co-working space for companies\n",
      "Geoffrey Boycott faced the first-ever ball of ODI cricket\n",
      "'Merchant of death' title inspired founding of Nobel Prizes\n",
      "Gambhir top scored in India's 2007 and 2011 World Cup finals\n",
      "What is the Yo-Yo test, compulsory for Team India selection?\n",
      "Hayden took 10 hours to slam then highest Test score of 380\n",
      "What gets cheaper after the revised GST rates?\n",
      "16-yr-old Afridi hit then-fastest ODI ton with Sachin's bat\n",
      "What are some of CERN's most notable achievements?\n",
      "Who are the most powerful women in business?\n",
      "Chris Gayle only batsman to hit a six off a Test's 1st ball\n",
      "Cheque books of six banks that merged with SBI to be invalid\n",
      "Yuvraj only player to hit 6 sixes in 1 over off pace bowling\n",
      "3 pairs of brothers once played for the same team in a Test\n",
      "Inzamam once attacked fan with bat for calling him 'aalu'\n",
      "Warne rightly predicted India-Eng 2011 WC match to be a tie\n",
      "Sachin scored his first ODI century in his 79th match\n",
      "Garry Sobers got out on duck in his career's only ODI match\n",
      "Virat Kohli came to bat the same day his father passed away\n",
      "Warne produced 'ball of century' with his 1st Ashes delivery\n",
      "Eng players once flew planes over stadium during their match\n",
      "New poster of Sonam, Kareena starrer 'Veere Di Wedding' out\n",
      "Indian spinner once bowled record 21 maiden overs in a row\n",
      "Batsman's helmet goes flying after being struck by a bouncer\n",
      "1st bowler hit for 6 sixes in 1 over was pacer bowling spin\n",
      "Why is England-Australia Test series called 'The Ashes'?\n",
      "A solar eclipse once proved Einstein right, Newton wrong\n",
      "Bradman averaged 101.39 before last Test, ended with 99.94\n",
      "How do elections to the Rajya Sabha take place?\n",
      "Veteran actor Dilip Kumar discharged from hospital\n",
      "A Japanese man survived both Hiroshima & Nagasaki atom bombs\n",
      "Federer was gifted a cow after 1st Wimbledon title in 2003\n",
      "Federer has never retired from a professional tennis match\n",
      "Int'l cricket's only all-LBW hat-trick came against India\n",
      "Kapil Dev was 1st to hit 4 consecutive sixes in a Test match\n",
      "Jayawardene-Sangakkara's record 624-run stand lasted 10 hrs\n",
      "1st player to hit 6 sixes in 1 over was born with 12 fingers\n",
      "CARS24 enables car owners to sell their cars in less than 2 hours\n",
      "Reebok launches FlexWeave technology in its latest running range\n",
      "Sensex, Nifty close at all-time high\n",
      "Nelson Mandela was the first black President of South Africa\n",
      "Katrina only B'wood actress to be crafted into a Barbie doll\n",
      "Soldier martyred in ceasefire violation by Pakistan in J&K\n",
      "Ganguly called his shirt-waving celebration a 'big mistake'\n",
      "Nikola Tesla once worked for his arch rival Thomas Edison\n",
      "1st Wimbledon was organised to fund repair of ground roller\n",
      "Bail flew exactly 61.4 metres away twice in cricket history\n",
      "India is Afghanistan's most reliable regional partner: US\n",
      "Northern Hemisphere witnesses longest day of the year today\n",
      "Warne produced 'ball of century' with his 1st Ashes delivery\n",
      "Nuclear-capable Prithvi-II missile successfully test-fired\n",
      "Amla fastest to 2000, 3000, 4000, 5000, 6000, 7000 ODI runs\n",
      "First 300-run partnership came after 28 years of ODI cricket\n",
      "4 Indian batsmen once put up a 408-run stand for 1st wicket\n",
      "Why is May 11 observed as the National Technology Day?\n",
      "Why is 1729 known as Ramanujan's number?\n",
      "Charles Darwin did not coin phrase 'survival of the fittest'\n",
      "Vijay Mallya arrested in London\n",
      "Einstein offered Nobel Prize money in divorce before winning\n",
      "Charlie Chaplin's daughter played his mother in his biopic\n",
      "Leonardo da Vinci was first to explain why the sky is blue\n",
      "Parveen Babi was 1st Indian film star on TIME magazine cover\n",
      "Sachin had not let Sehwag watch 2011 World Cup final live\n",
      "How did the tradition of April Fools' Day originate?\n",
      "Sachin first opened in ODIs due to Sidhu's 'stiff neck'\n",
      "Who are the richest women in the world?\n"
     ]
    }
   ],
   "source": [
    "# 중복된 값 확인\n",
    "for i in data.Summary[data['Summary'].duplicated()]:\n",
    "    print(i)"
   ]
  },
  {
   "cell_type": "code",
   "execution_count": 7,
   "id": "digital-penguin",
   "metadata": {},
   "outputs": [
    {
     "name": "stdout",
     "output_type": "stream",
     "text": [
      "전체 샘플수 : 98360\n"
     ]
    }
   ],
   "source": [
    "# 중복 샘플 제거\n",
    "# inplace=True 를 설정하면 DataFrame 타입 값을 return 하지 않고 data 내부를 직접적으로 바꿉니다\n",
    "data.drop_duplicates(subset = ['Text'], inplace=True)\n",
    "print('전체 샘플수 :', (len(data)))"
   ]
  },
  {
   "cell_type": "code",
   "execution_count": 8,
   "id": "protective-stress",
   "metadata": {},
   "outputs": [
    {
     "name": "stdout",
     "output_type": "stream",
     "text": [
      "Text       0\n",
      "Summary    0\n",
      "dtype: int64\n"
     ]
    }
   ],
   "source": [
    "# 데이터의 NULL값 확인\n",
    "print(data.isnull().sum())"
   ]
  },
  {
   "cell_type": "code",
   "execution_count": 9,
   "id": "broken-trace",
   "metadata": {},
   "outputs": [
    {
     "name": "stdout",
     "output_type": "stream",
     "text": [
      "전체 샘플수 : 98360\n"
     ]
    }
   ],
   "source": [
    "## NULL값 제거\n",
    "data.dropna(axis=0, inplace=True)\n",
    "print('전체 샘플수 :', (len(data)))"
   ]
  },
  {
   "cell_type": "markdown",
   "id": "external-hours",
   "metadata": {},
   "source": [
    "### 2.2 텍스트 정규화와 불용어 제거"
   ]
  },
  {
   "cell_type": "markdown",
   "id": "accepted-carnival",
   "metadata": {},
   "source": [
    "__텍스트 정규화(Text normalization)__ : 같은 의미인데 다른 표현으로 쓰여 다른 단어로 간주되는 경우\n",
    "학습전에 미리 같은 표현으로 통일 시켜주어 연산량을 줄인다."
   ]
  },
  {
   "cell_type": "code",
   "execution_count": 10,
   "id": "demonstrated-freeware",
   "metadata": {},
   "outputs": [
    {
     "name": "stdout",
     "output_type": "stream",
     "text": [
      "정규화 사전의 수:  120\n"
     ]
    }
   ],
   "source": [
    "# 텍스트 정규화를 위한 사전\n",
    "contractions = {\"ain't\": \"is not\", \"aren't\": \"are not\",\"can't\": \"cannot\", \"'cause\": \"because\", \"could've\": \"could have\", \"couldn't\": \"could not\",\n",
    "                           \"didn't\": \"did not\",  \"doesn't\": \"does not\", \"don't\": \"do not\", \"hadn't\": \"had not\", \"hasn't\": \"has not\", \"haven't\": \"have not\",\n",
    "                           \"he'd\": \"he would\",\"he'll\": \"he will\", \"he's\": \"he is\", \"how'd\": \"how did\", \"how'd'y\": \"how do you\", \"how'll\": \"how will\", \"how's\": \"how is\",\n",
    "                           \"I'd\": \"I would\", \"I'd've\": \"I would have\", \"I'll\": \"I will\", \"I'll've\": \"I will have\",\"I'm\": \"I am\", \"I've\": \"I have\", \"i'd\": \"i would\",\n",
    "                           \"i'd've\": \"i would have\", \"i'll\": \"i will\",  \"i'll've\": \"i will have\",\"i'm\": \"i am\", \"i've\": \"i have\", \"isn't\": \"is not\", \"it'd\": \"it would\",\n",
    "                           \"it'd've\": \"it would have\", \"it'll\": \"it will\", \"it'll've\": \"it will have\",\"it's\": \"it is\", \"let's\": \"let us\", \"ma'am\": \"madam\",\n",
    "                           \"mayn't\": \"may not\", \"might've\": \"might have\",\"mightn't\": \"might not\",\"mightn't've\": \"might not have\", \"must've\": \"must have\",\n",
    "                           \"mustn't\": \"must not\", \"mustn't've\": \"must not have\", \"needn't\": \"need not\", \"needn't've\": \"need not have\",\"o'clock\": \"of the clock\",\n",
    "                           \"oughtn't\": \"ought not\", \"oughtn't've\": \"ought not have\", \"shan't\": \"shall not\", \"sha'n't\": \"shall not\", \"shan't've\": \"shall not have\",\n",
    "                           \"she'd\": \"she would\", \"she'd've\": \"she would have\", \"she'll\": \"she will\", \"she'll've\": \"she will have\", \"she's\": \"she is\",\n",
    "                           \"should've\": \"should have\", \"shouldn't\": \"should not\", \"shouldn't've\": \"should not have\", \"so've\": \"so have\",\"so's\": \"so as\",\n",
    "                           \"this's\": \"this is\",\"that'd\": \"that would\", \"that'd've\": \"that would have\", \"that's\": \"that is\", \"there'd\": \"there would\",\n",
    "                           \"there'd've\": \"there would have\", \"there's\": \"there is\", \"here's\": \"here is\",\"they'd\": \"they would\", \"they'd've\": \"they would have\",\n",
    "                           \"they'll\": \"they will\", \"they'll've\": \"they will have\", \"they're\": \"they are\", \"they've\": \"they have\", \"to've\": \"to have\",\n",
    "                           \"wasn't\": \"was not\", \"we'd\": \"we would\", \"we'd've\": \"we would have\", \"we'll\": \"we will\", \"we'll've\": \"we will have\", \"we're\": \"we are\",\n",
    "                           \"we've\": \"we have\", \"weren't\": \"were not\", \"what'll\": \"what will\", \"what'll've\": \"what will have\", \"what're\": \"what are\",\n",
    "                           \"what's\": \"what is\", \"what've\": \"what have\", \"when's\": \"when is\", \"when've\": \"when have\", \"where'd\": \"where did\", \"where's\": \"where is\",\n",
    "                           \"where've\": \"where have\", \"who'll\": \"who will\", \"who'll've\": \"who will have\", \"who's\": \"who is\", \"who've\": \"who have\",\n",
    "                           \"why's\": \"why is\", \"why've\": \"why have\", \"will've\": \"will have\", \"won't\": \"will not\", \"won't've\": \"will not have\",\n",
    "                           \"would've\": \"would have\", \"wouldn't\": \"would not\", \"wouldn't've\": \"would not have\", \"y'all\": \"you all\",\n",
    "                           \"y'all'd\": \"you all would\",\"y'all'd've\": \"you all would have\",\"y'all're\": \"you all are\",\"y'all've\": \"you all have\",\n",
    "                           \"you'd\": \"you would\", \"you'd've\": \"you would have\", \"you'll\": \"you will\", \"you'll've\": \"you will have\",\n",
    "                           \"you're\": \"you are\", \"you've\": \"you have\"}\n",
    "\n",
    "print(\"정규화 사전의 수: \", len(contractions))"
   ]
  },
  {
   "cell_type": "markdown",
   "id": "wooden-breast",
   "metadata": {},
   "source": [
    "__불용어__: 텍스트에 자주 등장하지만 자연어 처리를 할 때 실질적으로 도움이 되지 않는 단어들"
   ]
  },
  {
   "cell_type": "code",
   "execution_count": 11,
   "id": "attractive-caution",
   "metadata": {},
   "outputs": [
    {
     "name": "stdout",
     "output_type": "stream",
     "text": [
      "불용어 개수 : 179\n",
      "['i', 'me', 'my', 'myself', 'we', 'our', 'ours', 'ourselves', 'you', \"you're\", \"you've\", \"you'll\", \"you'd\", 'your', 'yours', 'yourself', 'yourselves', 'he', 'him', 'his', 'himself', 'she', \"she's\", 'her', 'hers', 'herself', 'it', \"it's\", 'its', 'itself', 'they', 'them', 'their', 'theirs', 'themselves', 'what', 'which', 'who', 'whom', 'this', 'that', \"that'll\", 'these', 'those', 'am', 'is', 'are', 'was', 'were', 'be', 'been', 'being', 'have', 'has', 'had', 'having', 'do', 'does', 'did', 'doing', 'a', 'an', 'the', 'and', 'but', 'if', 'or', 'because', 'as', 'until', 'while', 'of', 'at', 'by', 'for', 'with', 'about', 'against', 'between', 'into', 'through', 'during', 'before', 'after', 'above', 'below', 'to', 'from', 'up', 'down', 'in', 'out', 'on', 'off', 'over', 'under', 'again', 'further', 'then', 'once', 'here', 'there', 'when', 'where', 'why', 'how', 'all', 'any', 'both', 'each', 'few', 'more', 'most', 'other', 'some', 'such', 'no', 'nor', 'not', 'only', 'own', 'same', 'so', 'than', 'too', 'very', 's', 't', 'can', 'will', 'just', 'don', \"don't\", 'should', \"should've\", 'now', 'd', 'll', 'm', 'o', 're', 've', 'y', 'ain', 'aren', \"aren't\", 'couldn', \"couldn't\", 'didn', \"didn't\", 'doesn', \"doesn't\", 'hadn', \"hadn't\", 'hasn', \"hasn't\", 'haven', \"haven't\", 'isn', \"isn't\", 'ma', 'mightn', \"mightn't\", 'mustn', \"mustn't\", 'needn', \"needn't\", 'shan', \"shan't\", 'shouldn', \"shouldn't\", 'wasn', \"wasn't\", 'weren', \"weren't\", 'won', \"won't\", 'wouldn', \"wouldn't\"]\n"
     ]
    }
   ],
   "source": [
    "# LTK에서 제공하는 불용어 리스트를 참조\n",
    "print('불용어 개수 :', len(stopwords.words('english') ))\n",
    "print(stopwords.words('english'))"
   ]
  },
  {
   "cell_type": "code",
   "execution_count": 12,
   "id": "realistic-apollo",
   "metadata": {},
   "outputs": [],
   "source": [
    "# 데이터 전처리 함수\n",
    "def preprocess_sentence(sentence, remove_stopwords=True):\n",
    "    sentence = sentence.lower() # 텍스트 소문자화\n",
    "    sentence = BeautifulSoup(sentence, \"lxml\").text # <br />, <a href = ...> 등의 html 태그 제거\n",
    "    sentence = re.sub(r'\\([^)]*\\)', '', sentence) # 괄호로 닫힌 문자열 (...) 제거 Ex) my husband (and myself!) for => my husband for\n",
    "    sentence = re.sub('\"','', sentence) # 쌍따옴표 \" 제거\n",
    "    sentence = ' '.join([contractions[t] if t in contractions else t for t in sentence.split(\" \")]) # 약어 정규화\n",
    "    sentence = re.sub(r\"'s\\b\",\"\", sentence) # 소유격 제거. Ex) roland's -> roland\n",
    "    sentence = re.sub(\"[^a-zA-Z]\", \" \", sentence) # 영어 외 문자(숫자, 특수문자 등) 공백으로 변환\n",
    "    sentence = re.sub('[m]{2,}', 'mm', sentence) # m이 3개 이상이면 2개로 변경. Ex) ummmmmmm yeah -> umm yeah\n",
    "    \n",
    "    # 불용어 제거 (Text)\n",
    "    if remove_stopwords:\n",
    "        tokens = ' '.join(word for word in sentence.split() if not word in stopwords.words('english') if len(word) > 1)\n",
    "    # 불용어 미제거 (Summary)\n",
    "    else:\n",
    "        tokens = ' '.join(word for word in sentence.split() if len(word) > 1)\n",
    "    return tokens"
   ]
  },
  {
   "cell_type": "code",
   "execution_count": 13,
   "id": "little-morrison",
   "metadata": {},
   "outputs": [
    {
     "name": "stdout",
     "output_type": "stream",
     "text": [
      "203.54169821739197  seconds\n",
      "['saurav kant alumnus upgrad iiit pg program machine learning artificial intelligence sr systems engineer infosys almost years work experience program upgrad degree career support helped transition data scientist tech mahindra salary hike upgrad online power learning powered lakh careers'\n",
      " 'kunal shah credit card bill payment platform cred gave users chance win free food swiggy one year pranav kaushik delhi techie bagged reward spending cred coins users get one cred coin per rupee bill paid used avail rewards brands like ixigo bookmyshow ubereats cult fit'\n",
      " 'new zealand defeated india wickets fourth odi hamilton thursday win first match five match odi series india lost international match rohit sharma captaincy consecutive victories dating back march match witnessed india getting seventh lowest total odi cricket history'\n",
      " ...\n",
      " 'according reports new version science fiction film matrix development michael jordan reportedly play lead role film screenwriter zak penn talks write script film reports added actor keanu reeves starred original film followed two sequels'\n",
      " 'new music video shows rapper snoop dogg aiming toy gun clown character parodying us president donald trump video also shows tv airing news conference headline ronald klump wants deport doggs airing live clown house video remixed version song lavender'\n",
      " 'madhesi morcha alliance seven political parties withdrawn support pm pushpa kamal dahal led nepal government failed meet seven day ultimatum fulfil demands including endorsement revised constitution amendment bill morcha seats parliament despite withdrawal support immediate threat government']\n",
      "6.513477325439453  seconds\n",
      "['upgrad learner switches to career in ml al with salary hike'\n",
      " 'delhi techie wins free food from swiggy for one year on cred'\n",
      " 'new zealand end rohit sharma led india match winning streak' ...\n",
      " 'the matrix film to get reboot reports'\n",
      " 'snoop dogg aims gun at clown dressed as trump in new video'\n",
      " 'madhesi morcha withdraws support to nepalese government']\n"
     ]
    }
   ],
   "source": [
    "# multiprocessing 으로훈련 데이터 전체에 대해서 전처리를 수행\n",
    "\n",
    "import multiprocessing as mp   # 멀티 프로세싱으로 전처리 속도를 획기적으로 줄여봅시다\n",
    "from multiprocessing import Pool\n",
    "import numpy as np\n",
    "import time\n",
    "from functools import partial  # map을 할 때 함수에 여러 인자를 넣어줄 수 있도록 합니다\n",
    "\n",
    "start = time.time()\n",
    "\n",
    "# num_cores 만큼 쪼개진 데이터를 전처리하여 반환합니다\n",
    "def appendTexts(sentences, remove_stopwords):\n",
    "  texts = []\n",
    "  for s in sentences:\n",
    "    texts += preprocess_sentence(s, remove_stopwords),\n",
    "  return texts\n",
    "\n",
    "def preprocess_data(data, remove_stopwords=True):\n",
    "  start_time = time.time()\n",
    "  num_cores = mp.cpu_count()  # 컴퓨터의 코어 수를 구합니다\n",
    "\n",
    "  text_data_split = np.array_split(data, num_cores)  # 코어 수만큼 데이터를 배분하여 병렬적으로 처리할 수 있게 합니다\n",
    "  pool = Pool(num_cores)\n",
    "\n",
    "  processed_data = np.concatenate(pool.map(partial(appendTexts, remove_stopwords=remove_stopwords), text_data_split))  # 각자 작업한 데이터를 하나로 합쳐줍니다\n",
    "  pool.close()\n",
    "  pool.join()\n",
    "  print(time.time() - start_time, \" seconds\")\n",
    "  return processed_data\n",
    "\n",
    "clean_text = preprocess_data(data['Text'])\n",
    "print(clean_text)\n",
    "\n",
    "clean_summary = preprocess_data(data['Summary'], remove_stopwords=False) # 불용어를 제거를 하지 않습니다.\n",
    "print(clean_summary)"
   ]
  },
  {
   "cell_type": "markdown",
   "id": "worthy-delhi",
   "metadata": {},
   "source": [
    "텍스트 정제 과정을 거친 후에는 빈 샘플이 생겼는지 확인해보는 게 좋다."
   ]
  },
  {
   "cell_type": "code",
   "execution_count": 14,
   "id": "fancy-mistress",
   "metadata": {},
   "outputs": [],
   "source": [
    "data['Text'] = clean_text\n",
    "data['Summary'] = clean_summary\n",
    "\n",
    "# 빈 값을 Null 값으로 변환\n",
    "data.replace('', np.nan, inplace=True)"
   ]
  },
  {
   "cell_type": "code",
   "execution_count": 15,
   "id": "reflected-deadline",
   "metadata": {},
   "outputs": [
    {
     "data": {
      "text/plain": [
       "Text       0\n",
       "Summary    0\n",
       "dtype: int64"
      ]
     },
     "execution_count": 15,
     "metadata": {},
     "output_type": "execute_result"
    }
   ],
   "source": [
    "# 결측치 확인\n",
    "data.isnull().sum()"
   ]
  },
  {
   "cell_type": "code",
   "execution_count": 16,
   "id": "prime-consolidation",
   "metadata": {},
   "outputs": [
    {
     "name": "stdout",
     "output_type": "stream",
     "text": [
      "전체 샘플수 : 98360\n"
     ]
    }
   ],
   "source": [
    "# 정제과정에서 생긴 Null값 삭제\n",
    "data.dropna(axis=0, inplace=True)\n",
    "print('전체 샘플수 :', (len(data)))"
   ]
  },
  {
   "cell_type": "markdown",
   "id": "innovative-endorsement",
   "metadata": {},
   "source": [
    "### 2.3 샘플의 최대 길이 정하기\n",
    "Text와 Summary의 최소, 최대, 평균 길이를 구하고 또한 길이 분포를 시각화해본다"
   ]
  },
  {
   "cell_type": "code",
   "execution_count": 17,
   "id": "invisible-evolution",
   "metadata": {},
   "outputs": [
    {
     "name": "stdout",
     "output_type": "stream",
     "text": [
      "텍스트의 최소 길이 : 1\n",
      "텍스트의 최대 길이 : 60\n",
      "텍스트의 평균 길이 : 35.09968483123221\n",
      "요약의 최소 길이 : 1\n",
      "요약의 최대 길이 : 16\n",
      "요약의 평균 길이 : 9.299532330215534\n"
     ]
    },
    {
     "data": {
      "image/png": "[encoded data removed]",
      "text/plain": [
       "<Figure size 432x288 with 2 Axes>"
      ]
     },
     "metadata": {
      "needs_background": "light"
     },
     "output_type": "display_data"
    },
    {
     "data": {
      "image/png": "[encoded data removed]",
      "text/plain": [
       "<Figure size 432x288 with 1 Axes>"
      ]
     },
     "metadata": {
      "needs_background": "light"
     },
     "output_type": "display_data"
    },
    {
     "data": {
      "image/png": "[encoded data removed]",
      "text/plain": [
       "<Figure size 432x288 with 1 Axes>"
      ]
     },
     "metadata": {
      "needs_background": "light"
     },
     "output_type": "display_data"
    }
   ],
   "source": [
    "# 길이 분포 출력\n",
    "import matplotlib.pyplot as plt\n",
    "\n",
    "text_len = [len(s.split()) for s in data['Text']]\n",
    "summary_len = [len(s.split()) for s in data['Summary']]\n",
    "\n",
    "print('텍스트의 최소 길이 : {}'.format(np.min(text_len)))\n",
    "print('텍스트의 최대 길이 : {}'.format(np.max(text_len)))\n",
    "print('텍스트의 평균 길이 : {}'.format(np.mean(text_len)))\n",
    "print('요약의 최소 길이 : {}'.format(np.min(summary_len)))\n",
    "print('요약의 최대 길이 : {}'.format(np.max(summary_len)))\n",
    "print('요약의 평균 길이 : {}'.format(np.mean(summary_len)))\n",
    "\n",
    "plt.subplot(1,2,1)\n",
    "plt.boxplot(summary_len)\n",
    "plt.title('Summary')\n",
    "plt.subplot(1,2,2)\n",
    "plt.boxplot(text_len)\n",
    "plt.title('Text')\n",
    "plt.tight_layout()\n",
    "plt.show()\n",
    "\n",
    "plt.title('Summary')\n",
    "plt.hist(summary_len, bins = 40)\n",
    "plt.xlabel('length of samples')\n",
    "plt.ylabel('number of samples')\n",
    "plt.show()\n",
    "\n",
    "plt.title('Text')\n",
    "plt.hist(text_len, bins = 40)\n",
    "plt.xlabel('length of samples')\n",
    "plt.ylabel('number of samples')\n",
    "plt.show()"
   ]
  },
  {
   "cell_type": "code",
   "execution_count": 18,
   "id": "brutal-length",
   "metadata": {},
   "outputs": [],
   "source": [
    "# text의 최대 길이와 Summary의 적절한 최대 길이를 임의로 정한다.\n",
    "text_max_len = 40\n",
    "summary_max_len = 11"
   ]
  },
  {
   "cell_type": "code",
   "execution_count": 19,
   "id": "tribal-illinois",
   "metadata": {},
   "outputs": [],
   "source": [
    "# 최대 길이를 선택했을 때, 얼만큼의 샘플을 포함할 수 있는지 확인\n",
    "def below_threshold_len(max_len, nested_list):\n",
    "  cnt = 0\n",
    "  for s in nested_list:\n",
    "    if(len(s.split()) <= max_len):\n",
    "        cnt = cnt + 1\n",
    "  print('전체 샘플 중 길이가 %s 이하인 샘플의 비율: %s'%(max_len, (cnt / len(nested_list))))"
   ]
  },
  {
   "cell_type": "code",
   "execution_count": 20,
   "id": "through-hudson",
   "metadata": {},
   "outputs": [
    {
     "name": "stdout",
     "output_type": "stream",
     "text": [
      "전체 샘플 중 길이가 40 이하인 샘플의 비율: 0.9238714924766165\n",
      "전체 샘플 중 길이가 11 이하인 샘플의 비율: 0.9449877999186661\n"
     ]
    }
   ],
   "source": [
    "below_threshold_len(text_max_len, data['Text'])\n",
    "below_threshold_len(summary_max_len,  data['Summary'])"
   ]
  },
  {
   "cell_type": "code",
   "execution_count": 21,
   "id": "facial-separation",
   "metadata": {},
   "outputs": [
    {
     "name": "stdout",
     "output_type": "stream",
     "text": [
      "전체 샘플수 : 85843\n"
     ]
    }
   ],
   "source": [
    "# 정해진 길이보다 길면 제외\n",
    "data = data[data['Text'].apply(lambda x: len(x.split()) <= text_max_len)]\n",
    "data = data[data['Summary'].apply(lambda x: len(x.split()) <= summary_max_len)]\n",
    "print('전체 샘플수 :', (len(data)))"
   ]
  },
  {
   "cell_type": "markdown",
   "id": "lesser-answer",
   "metadata": {},
   "source": [
    "### 2.4 시작 토큰과 종료 토큰 추가하기"
   ]
  },
  {
   "cell_type": "code",
   "execution_count": 22,
   "id": "alone-champion",
   "metadata": {},
   "outputs": [
    {
     "data": {
      "text/html": [
       "<div>\n",
       "<style scoped>\n",
       "    .dataframe tbody tr th:only-of-type {\n",
       "        vertical-align: middle;\n",
       "    }\n",
       "\n",
       "    .dataframe tbody tr th {\n",
       "        vertical-align: top;\n",
       "    }\n",
       "\n",
       "    .dataframe thead th {\n",
       "        text-align: right;\n",
       "    }\n",
       "</style>\n",
       "<table border=\"1\" class=\"dataframe\">\n",
       "  <thead>\n",
       "    <tr style=\"text-align: right;\">\n",
       "      <th></th>\n",
       "      <th>Text</th>\n",
       "      <th>Summary</th>\n",
       "      <th>decoder_input</th>\n",
       "      <th>decoder_target</th>\n",
       "    </tr>\n",
       "  </thead>\n",
       "  <tbody>\n",
       "    <tr>\n",
       "      <th>0</th>\n",
       "      <td>saurav kant alumnus upgrad iiit pg program mac...</td>\n",
       "      <td>upgrad learner switches to career in ml al wit...</td>\n",
       "      <td>sostoken upgrad learner switches to career in ...</td>\n",
       "      <td>upgrad learner switches to career in ml al wit...</td>\n",
       "    </tr>\n",
       "    <tr>\n",
       "      <th>2</th>\n",
       "      <td>new zealand defeated india wickets fourth odi ...</td>\n",
       "      <td>new zealand end rohit sharma led india match w...</td>\n",
       "      <td>sostoken new zealand end rohit sharma led indi...</td>\n",
       "      <td>new zealand end rohit sharma led india match w...</td>\n",
       "    </tr>\n",
       "    <tr>\n",
       "      <th>3</th>\n",
       "      <td>aegon life iterm insurance plan customers enjo...</td>\n",
       "      <td>aegon life iterm insurance plan helps customer...</td>\n",
       "      <td>sostoken aegon life iterm insurance plan helps...</td>\n",
       "      <td>aegon life iterm insurance plan helps customer...</td>\n",
       "    </tr>\n",
       "    <tr>\n",
       "      <th>5</th>\n",
       "      <td>pakistani singer rahat fateh ali khan denied r...</td>\n",
       "      <td>rahat fateh ali khan denies getting notice for...</td>\n",
       "      <td>sostoken rahat fateh ali khan denies getting n...</td>\n",
       "      <td>rahat fateh ali khan denies getting notice for...</td>\n",
       "    </tr>\n",
       "    <tr>\n",
       "      <th>7</th>\n",
       "      <td>weeks ex cbi director alok verma told departme...</td>\n",
       "      <td>govt directs alok verma to join work day befor...</td>\n",
       "      <td>sostoken govt directs alok verma to join work ...</td>\n",
       "      <td>govt directs alok verma to join work day befor...</td>\n",
       "    </tr>\n",
       "  </tbody>\n",
       "</table>\n",
       "</div>"
      ],
      "text/plain": [
       "                                                Text  \\\n",
       "0  saurav kant alumnus upgrad iiit pg program mac...   \n",
       "2  new zealand defeated india wickets fourth odi ...   \n",
       "3  aegon life iterm insurance plan customers enjo...   \n",
       "5  pakistani singer rahat fateh ali khan denied r...   \n",
       "7  weeks ex cbi director alok verma told departme...   \n",
       "\n",
       "                                             Summary  \\\n",
       "0  upgrad learner switches to career in ml al wit...   \n",
       "2  new zealand end rohit sharma led india match w...   \n",
       "3  aegon life iterm insurance plan helps customer...   \n",
       "5  rahat fateh ali khan denies getting notice for...   \n",
       "7  govt directs alok verma to join work day befor...   \n",
       "\n",
       "                                       decoder_input  \\\n",
       "0  sostoken upgrad learner switches to career in ...   \n",
       "2  sostoken new zealand end rohit sharma led indi...   \n",
       "3  sostoken aegon life iterm insurance plan helps...   \n",
       "5  sostoken rahat fateh ali khan denies getting n...   \n",
       "7  sostoken govt directs alok verma to join work ...   \n",
       "\n",
       "                                      decoder_target  \n",
       "0  upgrad learner switches to career in ml al wit...  \n",
       "2  new zealand end rohit sharma led india match w...  \n",
       "3  aegon life iterm insurance plan helps customer...  \n",
       "5  rahat fateh ali khan denies getting notice for...  \n",
       "7  govt directs alok verma to join work day befor...  "
      ]
     },
     "execution_count": 22,
     "metadata": {},
     "output_type": "execute_result"
    }
   ],
   "source": [
    "# 요약 데이터에는 시작 토큰과 종료 토큰을 추가한다.\n",
    "data['decoder_input'] = data['Summary'].apply(lambda x : 'sostoken '+ x)\n",
    "data['decoder_target'] = data['Summary'].apply(lambda x : x + ' eostoken')\n",
    "data.head()"
   ]
  },
  {
   "cell_type": "code",
   "execution_count": 23,
   "id": "alike-pathology",
   "metadata": {},
   "outputs": [],
   "source": [
    "# 인코더, 디코더의 입력과 레이블을 각각 Numpy 타입으로 저장한다.\n",
    "encoder_input = np.array(data['Text']) # 인코더의 입력\n",
    "decoder_input = np.array(data['decoder_input']) # 디코더의 입력\n",
    "decoder_target = np.array(data['decoder_target']) # 디코더의 레이블"
   ]
  },
  {
   "cell_type": "code",
   "execution_count": 24,
   "id": "marine-graph",
   "metadata": {},
   "outputs": [
    {
     "name": "stdout",
     "output_type": "stream",
     "text": [
      "[83645 45374 11825 ... 38534 18249 46435]\n"
     ]
    }
   ],
   "source": [
    "# encoder_input과 크기와 형태가 같은 순서가 섞인 정수 시퀀스를 만든다.\n",
    "indices = np.arange(encoder_input.shape[0])\n",
    "np.random.shuffle(indices)\n",
    "print(indices)"
   ]
  },
  {
   "cell_type": "code",
   "execution_count": 25,
   "id": "certain-warning",
   "metadata": {},
   "outputs": [],
   "source": [
    "#  정수 시퀀스를 이용해 다시 데이터의 샘플 순서를 정의해 주면 잘 섞인 샘플이 된다.\n",
    "encoder_input = encoder_input[indices]\n",
    "decoder_input = decoder_input[indices]\n",
    "decoder_target = decoder_target[indices]"
   ]
  },
  {
   "cell_type": "code",
   "execution_count": 26,
   "id": "widespread-suspension",
   "metadata": {},
   "outputs": [
    {
     "name": "stdout",
     "output_type": "stream",
     "text": [
      "테스트 데이터의 수 : 17168\n"
     ]
    }
   ],
   "source": [
    "# 훈련 데이터와 테스트 데이터 분리\n",
    "n_of_val = int(len(encoder_input)*0.2)\n",
    "print('테스트 데이터의 수 :', n_of_val)"
   ]
  },
  {
   "cell_type": "code",
   "execution_count": 27,
   "id": "flush-glasgow",
   "metadata": {},
   "outputs": [
    {
     "name": "stdout",
     "output_type": "stream",
     "text": [
      "훈련 데이터의 개수 : 68675\n",
      "훈련 레이블의 개수 : 68675\n",
      "테스트 데이터의 개수 : 17168\n",
      "테스트 레이블의 개수 : 17168\n"
     ]
    }
   ],
   "source": [
    "# 훈련 데이터\n",
    "encoder_input_train = encoder_input[:-n_of_val]\n",
    "decoder_input_train = decoder_input[:-n_of_val]\n",
    "decoder_target_train = decoder_target[:-n_of_val]\n",
    "# 테스트 데이터\n",
    "encoder_input_test = encoder_input[-n_of_val:]\n",
    "decoder_input_test = decoder_input[-n_of_val:]\n",
    "decoder_target_test = decoder_target[-n_of_val:]\n",
    "\n",
    "print('훈련 데이터의 개수 :', len(encoder_input_train))\n",
    "print('훈련 레이블의 개수 :', len(decoder_input_train))\n",
    "print('테스트 데이터의 개수 :', len(encoder_input_test))\n",
    "print('테스트 레이블의 개수 :', len(decoder_input_test))"
   ]
  },
  {
   "cell_type": "markdown",
   "id": "overhead-fashion",
   "metadata": {},
   "source": [
    "### 2.5 정수 인코딩"
   ]
  },
  {
   "cell_type": "markdown",
   "id": "arbitrary-ebony",
   "metadata": {},
   "source": [
    "- `src_tokenizer.word_index`: 단어 집합 저장\n",
    "- `src_tokenizer.word_counts.items()`: 단어와 각 단어의 등장 빈도수가 저장"
   ]
  },
  {
   "cell_type": "markdown",
   "id": "valid-saver",
   "metadata": {},
   "source": [
    "#### Text 데이터 정수 인코딩"
   ]
  },
  {
   "cell_type": "code",
   "execution_count": 28,
   "id": "integrated-present",
   "metadata": {},
   "outputs": [],
   "source": [
    "src_tokenizer = Tokenizer() # 토크나이저 정의\n",
    "src_tokenizer.fit_on_texts(encoder_input_train) # 입력된 데이터로부터 단어 집합 생성"
   ]
  },
  {
   "cell_type": "code",
   "execution_count": 29,
   "id": "mobile-squad",
   "metadata": {},
   "outputs": [
    {
     "name": "stdout",
     "output_type": "stream",
     "text": [
      "단어 집합(vocabulary)의 크기 : 64668\n",
      "등장 빈도가 9번 이하인 희귀 단어의 수: 47665\n",
      "단어 집합에서 희귀 단어를 제외시킬 경우의 단어 집합의 크기 17003\n",
      "단어 집합에서 희귀 단어의 비율: 73.70724314962578\n",
      "전체 등장 빈도에서 희귀 단어 등장 빈도 비율: 4.959937137116714\n"
     ]
    }
   ],
   "source": [
    "threshold = 10\n",
    "total_cnt = len(src_tokenizer.word_index) # 단어의 수\n",
    "rare_cnt = 0 # 등장 빈도수가 threshold보다 작은 단어의 개수를 카운트\n",
    "total_freq = 0 # 훈련 데이터의 전체 단어 빈도수 총 합\n",
    "rare_freq = 0 # 등장 빈도수가 threshold보다 작은 단어의 등장 빈도수의 총 합\n",
    "\n",
    "# 단어와 빈도수의 쌍(pair)을 key와 value로 받는다.\n",
    "for key, value in src_tokenizer.word_counts.items():\n",
    "    total_freq = total_freq + value\n",
    "\n",
    "    # 단어의 등장 빈도수가 threshold보다 작으면\n",
    "    if(value < threshold):\n",
    "        rare_cnt = rare_cnt + 1\n",
    "        rare_freq = rare_freq + value\n",
    "\n",
    "print('단어 집합(vocabulary)의 크기 :', total_cnt)\n",
    "print('등장 빈도가 %s번 이하인 희귀 단어의 수: %s'%(threshold - 1, rare_cnt))\n",
    "print('단어 집합에서 희귀 단어를 제외시킬 경우의 단어 집합의 크기 %s'%(total_cnt - rare_cnt))\n",
    "print(\"단어 집합에서 희귀 단어의 비율:\", (rare_cnt / total_cnt)*100)\n",
    "print(\"전체 등장 빈도에서 희귀 단어 등장 빈도 비율:\", (rare_freq / total_freq)*100)"
   ]
  },
  {
   "cell_type": "code",
   "execution_count": 30,
   "id": "modified-tolerance",
   "metadata": {},
   "outputs": [],
   "source": [
    "# 등장빈도가 9회 이하인 단어들은 훈련 데이터에서 제거\n",
    "src_vocab = 17000\n",
    "src_tokenizer = Tokenizer(num_words=src_vocab) # 단어 집합의 크기를 제한\n",
    "src_tokenizer.fit_on_texts(encoder_input_train) # 단어 집합 재생성."
   ]
  },
  {
   "cell_type": "markdown",
   "id": "suffering-commerce",
   "metadata": {},
   "source": [
    "- `texts_to_sequences()`: 생성된 단어 집합에 기반하여 입력으로 주어진 텍스트 데이터의 단어들을 모두 정수로 변환"
   ]
  },
  {
   "cell_type": "code",
   "execution_count": 31,
   "id": "elect-acrobat",
   "metadata": {},
   "outputs": [
    {
     "name": "stdout",
     "output_type": "stream",
     "text": [
      "[[176, 19, 68, 2389, 368, 1616, 1918, 92, 848, 1610, 2580, 9182, 831, 116, 100, 1610, 2580, 9183, 2133, 710, 1988, 7284, 1164, 220, 14159, 1610, 33, 194, 69, 1515, 4783, 4240, 512], [151, 646, 2581, 32, 7637, 3842, 7637, 1567, 1175, 2967, 10307, 732, 3789, 37, 1404, 1567, 4833, 6, 828, 1921, 486, 4967, 2581, 171, 8795, 180, 7637, 6, 486, 8045, 2967, 10307, 1567, 732, 1921, 156, 252], [48, 11474, 9184, 80, 533, 13, 12260, 150, 13, 1660, 250, 566, 165, 158, 152, 5348, 9184, 96, 59, 4876, 366, 2, 14, 48, 10, 3704, 690, 1131, 12260, 13, 10, 1103]]\n"
     ]
    }
   ],
   "source": [
    "# 텍스트 시퀀스를 정수 시퀀스로 변환\n",
    "encoder_input_train = src_tokenizer.texts_to_sequences(encoder_input_train) \n",
    "encoder_input_test = src_tokenizer.texts_to_sequences(encoder_input_test)\n",
    "\n",
    "# 잘 진행되었는지 샘플 출력\n",
    "print(encoder_input_train[:3])"
   ]
  },
  {
   "cell_type": "markdown",
   "id": "referenced-culture",
   "metadata": {},
   "source": [
    "#### summary 정수 인코딩"
   ]
  },
  {
   "cell_type": "code",
   "execution_count": 32,
   "id": "adapted-marketing",
   "metadata": {},
   "outputs": [],
   "source": [
    "tar_tokenizer = Tokenizer()\n",
    "tar_tokenizer.fit_on_texts(decoder_input_train)"
   ]
  },
  {
   "cell_type": "code",
   "execution_count": 33,
   "id": "exact-passenger",
   "metadata": {},
   "outputs": [
    {
     "name": "stdout",
     "output_type": "stream",
     "text": [
      "단어 집합(vocabulary)의 크기 : 28507\n",
      "등장 빈도가 5번 이하인 희귀 단어의 수: 18829\n",
      "단어 집합에서 희귀 단어를 제외시킬 경우의 단어 집합의 크기 9678\n",
      "단어 집합에서 희귀 단어의 비율: 66.05044375065773\n",
      "전체 등장 빈도에서 희귀 단어 등장 빈도 비율: 5.207025536816764\n"
     ]
    }
   ],
   "source": [
    "threshold = 6\n",
    "total_cnt = len(tar_tokenizer.word_index) # 단어의 수\n",
    "rare_cnt = 0 # 등장 빈도수가 threshold보다 작은 단어의 개수를 카운트\n",
    "total_freq = 0 # 훈련 데이터의 전체 단어 빈도수 총 합\n",
    "rare_freq = 0 # 등장 빈도수가 threshold보다 작은 단어의 등장 빈도수의 총 합\n",
    "\n",
    "# 단어와 빈도수의 쌍(pair)을 key와 value로 받는다.\n",
    "for key, value in tar_tokenizer.word_counts.items():\n",
    "    total_freq = total_freq + value\n",
    "\n",
    "    # 단어의 등장 빈도수가 threshold보다 작으면\n",
    "    if(value < threshold):\n",
    "        rare_cnt = rare_cnt + 1\n",
    "        rare_freq = rare_freq + value\n",
    "\n",
    "print('단어 집합(vocabulary)의 크기 :', total_cnt)\n",
    "print('등장 빈도가 %s번 이하인 희귀 단어의 수: %s'%(threshold - 1, rare_cnt))\n",
    "print('단어 집합에서 희귀 단어를 제외시킬 경우의 단어 집합의 크기 %s'%(total_cnt - rare_cnt))\n",
    "print(\"단어 집합에서 희귀 단어의 비율:\", (rare_cnt / total_cnt)*100)\n",
    "print(\"전체 등장 빈도에서 희귀 단어 등장 빈도 비율:\", (rare_freq / total_freq)*100)"
   ]
  },
  {
   "cell_type": "code",
   "execution_count": 34,
   "id": "formed-tyler",
   "metadata": {},
   "outputs": [
    {
     "name": "stdout",
     "output_type": "stream",
     "text": [
      "input\n",
      "input  [[1, 464, 2659, 7073, 6, 71, 3, 2917, 667, 794, 66], [1, 4410, 616, 5144, 317, 368, 82, 3725, 24, 102, 1056], [1, 7074, 5935, 471, 44, 385, 13, 7582], [1, 15, 3, 249, 1220, 10, 877, 54, 5367, 4563, 2250], [1, 51, 6, 37, 743, 4, 421, 77, 4735, 36]]\n",
      "target\n",
      "decoder  [[464, 2659, 7073, 6, 71, 3, 2917, 667, 794, 66, 2], [4410, 616, 5144, 317, 368, 82, 3725, 24, 102, 1056, 2], [7074, 5935, 471, 44, 385, 13, 7582, 2], [15, 3, 249, 1220, 10, 877, 54, 5367, 4563, 2250, 2], [51, 6, 37, 743, 4, 421, 77, 4735, 36, 2]]\n"
     ]
    }
   ],
   "source": [
    "# 등장빈도가 5회 이하인 단어들은 훈련 데이터에서 제거\n",
    "tar_vocab = 9700\n",
    "tar_tokenizer = Tokenizer(num_words=tar_vocab) \n",
    "tar_tokenizer.fit_on_texts(decoder_input_train)\n",
    "tar_tokenizer.fit_on_texts(decoder_target_train)\n",
    "\n",
    "# 텍스트 시퀀스를 정수 시퀀스로 변환\n",
    "decoder_input_train = tar_tokenizer.texts_to_sequences(decoder_input_train) \n",
    "decoder_target_train = tar_tokenizer.texts_to_sequences(decoder_target_train)\n",
    "decoder_input_test = tar_tokenizer.texts_to_sequences(decoder_input_test)\n",
    "decoder_target_test = tar_tokenizer.texts_to_sequences(decoder_target_test)\n",
    "\n",
    "# 잘 변환되었는지 확인\n",
    "print('input')\n",
    "print('input ',decoder_input_train[:5])\n",
    "print('target')\n",
    "print('decoder ',decoder_target_train[:5])"
   ]
  },
  {
   "cell_type": "code",
   "execution_count": 35,
   "id": "armed-arcade",
   "metadata": {},
   "outputs": [
    {
     "name": "stdout",
     "output_type": "stream",
     "text": [
      "삭제할 훈련 데이터의 개수 : 0\n",
      "삭제할 테스트 데이터의 개수 : 0\n",
      "훈련 데이터의 개수 : 68675\n",
      "훈련 레이블의 개수 : 68675\n",
      "테스트 데이터의 개수 : 17168\n",
      "테스트 레이블의 개수 : 17168\n"
     ]
    },
    {
     "name": "stderr",
     "output_type": "stream",
     "text": [
      "/opt/conda/lib/python3.7/site-packages/numpy/core/_asarray.py:83: VisibleDeprecationWarning: Creating an ndarray from ragged nested sequences (which is a list-or-tuple of lists-or-tuples-or ndarrays with different lengths or shapes) is deprecated. If you meant to do this, you must specify 'dtype=object' when creating the ndarray\n",
      "  return array(a, dtype, copy=False, order=order)\n"
     ]
    }
   ],
   "source": [
    "# 빈도수가 낮은 단어가 삭제되어 생긴 빈 샘플 제거 (길이 1인 경우)\n",
    "drop_train = [index for index, sentence in enumerate(decoder_input_train) if len(sentence) == 1]\n",
    "drop_test = [index for index, sentence in enumerate(decoder_input_test) if len(sentence) == 1]\n",
    "\n",
    "print('삭제할 훈련 데이터의 개수 :', len(drop_train))\n",
    "print('삭제할 테스트 데이터의 개수 :', len(drop_test))\n",
    "\n",
    "encoder_input_train = np.delete(encoder_input_train, drop_train, axis=0)\n",
    "decoder_input_train = np.delete(decoder_input_train, drop_train, axis=0)\n",
    "decoder_target_train = np.delete(decoder_target_train, drop_train, axis=0)\n",
    "\n",
    "encoder_input_test = np.delete(encoder_input_test, drop_test, axis=0)\n",
    "decoder_input_test = np.delete(decoder_input_test, drop_test, axis=0)\n",
    "decoder_target_test = np.delete(decoder_target_test, drop_test, axis=0)\n",
    "\n",
    "print('훈련 데이터의 개수 :', len(encoder_input_train))\n",
    "print('훈련 레이블의 개수 :', len(decoder_input_train))\n",
    "print('테스트 데이터의 개수 :', len(encoder_input_test))\n",
    "print('테스트 레이블의 개수 :', len(decoder_input_test))"
   ]
  },
  {
   "cell_type": "markdown",
   "id": "spare-circular",
   "metadata": {},
   "source": [
    "### 2.6 padding\n",
    "서로 다른 길이의 샘플들을 병렬 처리하기 위해 같은 길이로 맞춰주는 패딩 작업을 해준다."
   ]
  },
  {
   "cell_type": "code",
   "execution_count": 36,
   "id": "advisory-metallic",
   "metadata": {},
   "outputs": [],
   "source": [
    "encoder_input_train = pad_sequences(encoder_input_train, maxlen=text_max_len, padding='post')\n",
    "encoder_input_test = pad_sequences(encoder_input_test, maxlen=text_max_len, padding='post')\n",
    "decoder_input_train = pad_sequences(decoder_input_train, maxlen=summary_max_len, padding='post')\n",
    "decoder_target_train = pad_sequences(decoder_target_train, maxlen=summary_max_len, padding='post')\n",
    "decoder_input_test = pad_sequences(decoder_input_test, maxlen=summary_max_len, padding='post')\n",
    "decoder_target_test = pad_sequences(decoder_target_test, maxlen=summary_max_len, padding='post')"
   ]
  },
  {
   "cell_type": "markdown",
   "id": "empirical-sender",
   "metadata": {},
   "source": [
    "## 3. 모델 설계 및 훈련"
   ]
  },
  {
   "cell_type": "code",
   "execution_count": 38,
   "id": "accredited-significance",
   "metadata": {},
   "outputs": [],
   "source": [
    "from tensorflow.keras.layers import Input, LSTM, Embedding, Dense, Concatenate\n",
    "from tensorflow.keras.models import Model\n",
    "from tensorflow.keras.callbacks import EarlyStopping, ModelCheckpoint"
   ]
  },
  {
   "cell_type": "markdown",
   "id": "textile-faith",
   "metadata": {},
   "source": [
    "### 3.1 encoder 설계"
   ]
  },
  {
   "cell_type": "code",
   "execution_count": 39,
   "id": "geographic-energy",
   "metadata": {},
   "outputs": [
    {
     "name": "stdout",
     "output_type": "stream",
     "text": [
      "WARNING:tensorflow:Layer lstm will not use cuDNN kernel since it doesn't meet the cuDNN kernel criteria. It will use generic GPU kernel as fallback when running on GPU\n",
      "WARNING:tensorflow:Layer lstm_1 will not use cuDNN kernel since it doesn't meet the cuDNN kernel criteria. It will use generic GPU kernel as fallback when running on GPU\n",
      "WARNING:tensorflow:Layer lstm_2 will not use cuDNN kernel since it doesn't meet the cuDNN kernel criteria. It will use generic GPU kernel as fallback when running on GPU\n"
     ]
    }
   ],
   "source": [
    "# 인코더 설계 시작\n",
    "embedding_dim = 128 # 임베딩 벡터의 차원\n",
    "hidden_size = 256 # lstm에서 얼만큼의 수용력(capacity)를 가질지 정하는 파라미터\n",
    "\n",
    "# 인코더\n",
    "encoder_inputs = Input(shape=(text_max_len,))\n",
    "\n",
    "# 인코더의 임베딩 층\n",
    "enc_emb = Embedding(src_vocab, embedding_dim)(encoder_inputs)\n",
    "\n",
    "# 인코더의 LSTM 1\n",
    "encoder_lstm1 = LSTM(hidden_size, return_sequences=True, return_state=True ,dropout = 0.4, recurrent_dropout = 0.4)\n",
    "encoder_output1, state_h1, state_c1 = encoder_lstm1(enc_emb)\n",
    "\n",
    "# 인코더의 LSTM 2\n",
    "encoder_lstm2 = LSTM(hidden_size, return_sequences=True, return_state=True, dropout=0.4, recurrent_dropout=0.4)\n",
    "encoder_output2, state_h2, state_c2 = encoder_lstm2(encoder_output1)\n",
    "\n",
    "# 인코더의 LSTM 3\n",
    "encoder_lstm3 = LSTM(hidden_size, return_state=True, return_sequences=True, dropout=0.4, recurrent_dropout=0.4)\n",
    "encoder_outputs, state_h, state_c= encoder_lstm3(encoder_output2)"
   ]
  },
  {
   "cell_type": "markdown",
   "id": "opposite-george",
   "metadata": {},
   "source": [
    "### 3.2 decoder 설계"
   ]
  },
  {
   "cell_type": "code",
   "execution_count": 40,
   "id": "critical-reasoning",
   "metadata": {},
   "outputs": [
    {
     "name": "stdout",
     "output_type": "stream",
     "text": [
      "WARNING:tensorflow:Layer lstm_3 will not use cuDNN kernel since it doesn't meet the cuDNN kernel criteria. It will use generic GPU kernel as fallback when running on GPU\n",
      "Model: \"model\"\n",
      "__________________________________________________________________________________________________\n",
      "Layer (type)                    Output Shape         Param #     Connected to                     \n",
      "==================================================================================================\n",
      "input_1 (InputLayer)            [(None, 40)]         0                                            \n",
      "__________________________________________________________________________________________________\n",
      "embedding (Embedding)           (None, 40, 128)      2176000     input_1[0][0]                    \n",
      "__________________________________________________________________________________________________\n",
      "lstm (LSTM)                     [(None, 40, 256), (N 394240      embedding[0][0]                  \n",
      "__________________________________________________________________________________________________\n",
      "input_2 (InputLayer)            [(None, None)]       0                                            \n",
      "__________________________________________________________________________________________________\n",
      "lstm_1 (LSTM)                   [(None, 40, 256), (N 525312      lstm[0][0]                       \n",
      "__________________________________________________________________________________________________\n",
      "embedding_1 (Embedding)         (None, None, 128)    1241600     input_2[0][0]                    \n",
      "__________________________________________________________________________________________________\n",
      "lstm_2 (LSTM)                   [(None, 40, 256), (N 525312      lstm_1[0][0]                     \n",
      "__________________________________________________________________________________________________\n",
      "lstm_3 (LSTM)                   [(None, None, 256),  394240      embedding_1[0][0]                \n",
      "                                                                 lstm_2[0][1]                     \n",
      "                                                                 lstm_2[0][2]                     \n",
      "__________________________________________________________________________________________________\n",
      "dense (Dense)                   (None, None, 9700)   2492900     lstm_3[0][0]                     \n",
      "==================================================================================================\n",
      "Total params: 7,749,604\n",
      "Trainable params: 7,749,604\n",
      "Non-trainable params: 0\n",
      "__________________________________________________________________________________________________\n"
     ]
    }
   ],
   "source": [
    "# 디코더 설계\n",
    "decoder_inputs = Input(shape=(None,))\n",
    "\n",
    "# 디코더의 임베딩 층\n",
    "dec_emb_layer = Embedding(tar_vocab, embedding_dim)\n",
    "dec_emb = dec_emb_layer(decoder_inputs)\n",
    "\n",
    "# 디코더의 LSTM\n",
    "decoder_lstm = LSTM(hidden_size, return_sequences=True, return_state=True, dropout=0.4, recurrent_dropout=0.2)\n",
    "decoder_outputs, _, _ = decoder_lstm(dec_emb, initial_state=[state_h, state_c])\n",
    "\n",
    "# 디코더의 출력층\n",
    "decoder_softmax_layer = Dense(tar_vocab, activation='softmax') # tar_vocab에서 하나의 단어를 선택하는 다중 클래스 분류 문제\n",
    "decoder_softmax_outputs = decoder_softmax_layer(decoder_outputs) \n",
    "\n",
    "# 모델 정의\n",
    "model = Model([encoder_inputs, decoder_inputs], decoder_softmax_outputs)\n",
    "model.summary()"
   ]
  },
  {
   "cell_type": "markdown",
   "id": "negative-african",
   "metadata": {},
   "source": [
    "### 3.3 Attention mechanism 설계"
   ]
  },
  {
   "cell_type": "code",
   "execution_count": 42,
   "id": "neither-rachel",
   "metadata": {},
   "outputs": [],
   "source": [
    "# 구현된 어텐션 함수 다운로드\n",
    "urllib.request.urlretrieve(\"https://raw.githubusercontent.com/thushv89/attention_keras/master/src/layers/attention.py\", filename=\"attention.py\")\n",
    "from attention import AttentionLayer"
   ]
  },
  {
   "cell_type": "code",
   "execution_count": 43,
   "id": "lined-franklin",
   "metadata": {},
   "outputs": [
    {
     "name": "stdout",
     "output_type": "stream",
     "text": [
      "Model: \"model_1\"\n",
      "__________________________________________________________________________________________________\n",
      "Layer (type)                    Output Shape         Param #     Connected to                     \n",
      "==================================================================================================\n",
      "input_1 (InputLayer)            [(None, 40)]         0                                            \n",
      "__________________________________________________________________________________________________\n",
      "embedding (Embedding)           (None, 40, 128)      2176000     input_1[0][0]                    \n",
      "__________________________________________________________________________________________________\n",
      "lstm (LSTM)                     [(None, 40, 256), (N 394240      embedding[0][0]                  \n",
      "__________________________________________________________________________________________________\n",
      "input_2 (InputLayer)            [(None, None)]       0                                            \n",
      "__________________________________________________________________________________________________\n",
      "lstm_1 (LSTM)                   [(None, 40, 256), (N 525312      lstm[0][0]                       \n",
      "__________________________________________________________________________________________________\n",
      "embedding_1 (Embedding)         (None, None, 128)    1241600     input_2[0][0]                    \n",
      "__________________________________________________________________________________________________\n",
      "lstm_2 (LSTM)                   [(None, 40, 256), (N 525312      lstm_1[0][0]                     \n",
      "__________________________________________________________________________________________________\n",
      "lstm_3 (LSTM)                   [(None, None, 256),  394240      embedding_1[0][0]                \n",
      "                                                                 lstm_2[0][1]                     \n",
      "                                                                 lstm_2[0][2]                     \n",
      "__________________________________________________________________________________________________\n",
      "attention_layer (AttentionLayer ((None, None, 256),  131328      lstm_2[0][0]                     \n",
      "                                                                 lstm_3[0][0]                     \n",
      "__________________________________________________________________________________________________\n",
      "concat_layer (Concatenate)      (None, None, 512)    0           lstm_3[0][0]                     \n",
      "                                                                 attention_layer[0][0]            \n",
      "__________________________________________________________________________________________________\n",
      "dense_1 (Dense)                 (None, None, 9700)   4976100     concat_layer[0][0]               \n",
      "==================================================================================================\n",
      "Total params: 10,364,132\n",
      "Trainable params: 10,364,132\n",
      "Non-trainable params: 0\n",
      "__________________________________________________________________________________________________\n"
     ]
    }
   ],
   "source": [
    "# 어텐션 층(어텐션 함수)\n",
    "attn_layer = AttentionLayer(name='attention_layer')\n",
    "# 인코더와 디코더의 모든 time step의 hidden state를 어텐션 층에 전달하고 결과를 리턴\n",
    "attn_out, attn_states = attn_layer([encoder_outputs, decoder_outputs])\n",
    "\n",
    "# 어텐션의 결과와 디코더의 hidden state들을 연결\n",
    "decoder_concat_input = Concatenate(axis=-1, name='concat_layer')([decoder_outputs, attn_out])\n",
    "\n",
    "# 디코더의 출력층\n",
    "decoder_softmax_layer = Dense(tar_vocab, activation='softmax')\n",
    "decoder_softmax_outputs = decoder_softmax_layer(decoder_concat_input)\n",
    "\n",
    "# 모델 정의\n",
    "model = Model([encoder_inputs, decoder_inputs], decoder_softmax_outputs)\n",
    "model.summary()"
   ]
  },
  {
   "cell_type": "markdown",
   "id": "adverse-theory",
   "metadata": {},
   "source": [
    "### 3.4 모델 훈련"
   ]
  },
  {
   "cell_type": "markdown",
   "id": "german-malaysia",
   "metadata": {},
   "source": [
    "#### 모델 저장"
   ]
  },
  {
   "cell_type": "code",
   "execution_count": 44,
   "id": "threaded-somewhere",
   "metadata": {},
   "outputs": [],
   "source": [
    "checkpoint_path = \"ex10/LSTM_AM.ckpt\"             # 저장할 가중치의 확장자 및 파일 이름\n",
    "checkpoint_dir = os.path.dirname(checkpoint_path)  # 저장할 경로\n",
    "\n",
    "checkpoint = tf.keras.callbacks.ModelCheckpoint(filepath=checkpoint_path, # 학습 시 callback함수를 반환하여 학습\n",
    "                                                 save_weights_only=True,\n",
    "                                                 verbose=1)"
   ]
  },
  {
   "cell_type": "markdown",
   "id": "distinct-affair",
   "metadata": {},
   "source": [
    "#### Early Stopping\n",
    "모니터링 항목의 개선이 중지되면 학습을 중지하는 함수\n",
    "\n",
    "|Args||\n",
    "|------:|:---|\n",
    "|monitor|모니터링 할 성능|\n",
    "|patience|성능이 증가하지 않는 epoch 을 몇 번이나 허용할 것인가를 정의|\n",
    "|min_delta|개선의 자격을 갖추기 위해 모니터링되는 수량의 최소 변경, 즉 min_delta 미만의 절대 변경은 개선되지 않은 것으로 간주.|\n",
    "|verbose|1 로 지정하면, 언제 keras 에서 training 을 멈추었는지를 화면에 출력|\n",
    "|mode|{\"auto\", \"min\", \"max\"}, auto는 keras에서 알아서 min,max 선택,performance measure를 정의하고, 이것을 최대화 할지, 최소화 할지를 지정하는 것이다. 그러면 keras 에서 알아서 적절한 epoch 에서 training 을 멈춘다.|\n",
    "|baseline|performance measure 를 practical 하게 설정한 경우 성능의 증가의 기준을 직접 정의. 모델이 기준선보다 개선되지 않으면 학습이 중지|\n",
    "|restore_best_weights|모니터링된 수량의 최상의 값으로 에포크에서 모델 가중치를 복원할지 여부|"
   ]
  },
  {
   "cell_type": "code",
   "execution_count": 46,
   "id": "opened-equipment",
   "metadata": {
    "scrolled": true
   },
   "outputs": [
    {
     "name": "stdout",
     "output_type": "stream",
     "text": [
      "Epoch 1/50\n",
      "269/269 [==============================] - 214s 750ms/step - loss: 6.3906 - val_loss: 5.6024\n",
      "\n",
      "Epoch 00001: saving model to ex10/LSTM_AM.ckpt\n",
      "Epoch 2/50\n",
      "269/269 [==============================] - 207s 771ms/step - loss: 5.5276 - val_loss: 5.2340\n",
      "\n",
      "Epoch 00002: saving model to ex10/LSTM_AM.ckpt\n",
      "Epoch 3/50\n",
      "269/269 [==============================] - 207s 769ms/step - loss: 5.1546 - val_loss: 4.9613\n",
      "\n",
      "Epoch 00003: saving model to ex10/LSTM_AM.ckpt\n",
      "Epoch 4/50\n",
      "269/269 [==============================] - 207s 771ms/step - loss: 4.8443 - val_loss: 4.7305\n",
      "\n",
      "Epoch 00004: saving model to ex10/LSTM_AM.ckpt\n",
      "Epoch 5/50\n",
      "269/269 [==============================] - 206s 765ms/step - loss: 4.6006 - val_loss: 4.5965\n",
      "\n",
      "Epoch 00005: saving model to ex10/LSTM_AM.ckpt\n",
      "Epoch 6/50\n",
      "269/269 [==============================] - 205s 761ms/step - loss: 4.4051 - val_loss: 4.4578\n",
      "\n",
      "Epoch 00006: saving model to ex10/LSTM_AM.ckpt\n",
      "Epoch 7/50\n",
      "269/269 [==============================] - 204s 759ms/step - loss: 4.2396 - val_loss: 4.3661\n",
      "\n",
      "Epoch 00007: saving model to ex10/LSTM_AM.ckpt\n",
      "Epoch 8/50\n",
      "269/269 [==============================] - 206s 765ms/step - loss: 4.0881 - val_loss: 4.2948\n",
      "\n",
      "Epoch 00008: saving model to ex10/LSTM_AM.ckpt\n",
      "Epoch 9/50\n",
      "269/269 [==============================] - 210s 780ms/step - loss: 3.9607 - val_loss: 4.2244\n",
      "\n",
      "Epoch 00009: saving model to ex10/LSTM_AM.ckpt\n",
      "Epoch 10/50\n",
      "269/269 [==============================] - 207s 769ms/step - loss: 3.8506 - val_loss: 4.1548\n",
      "\n",
      "Epoch 00010: saving model to ex10/LSTM_AM.ckpt\n",
      "Epoch 11/50\n",
      "269/269 [==============================] - 206s 765ms/step - loss: 3.7348 - val_loss: 4.1180\n",
      "\n",
      "Epoch 00011: saving model to ex10/LSTM_AM.ckpt\n",
      "Epoch 12/50\n",
      "269/269 [==============================] - 209s 777ms/step - loss: 3.6459 - val_loss: 4.0794\n",
      "\n",
      "Epoch 00012: saving model to ex10/LSTM_AM.ckpt\n",
      "Epoch 13/50\n",
      "269/269 [==============================] - 207s 770ms/step - loss: 3.5621 - val_loss: 4.0361\n",
      "\n",
      "Epoch 00013: saving model to ex10/LSTM_AM.ckpt\n",
      "Epoch 14/50\n",
      "269/269 [==============================] - 210s 780ms/step - loss: 3.4752 - val_loss: 4.0040\n",
      "\n",
      "Epoch 00014: saving model to ex10/LSTM_AM.ckpt\n",
      "Epoch 15/50\n",
      "269/269 [==============================] - 207s 769ms/step - loss: 3.4097 - val_loss: 3.9919\n",
      "\n",
      "Epoch 00015: saving model to ex10/LSTM_AM.ckpt\n",
      "Epoch 16/50\n",
      "269/269 [==============================] - 205s 763ms/step - loss: 3.3407 - val_loss: 3.9671\n",
      "\n",
      "Epoch 00016: saving model to ex10/LSTM_AM.ckpt\n",
      "Epoch 17/50\n",
      "269/269 [==============================] - 208s 773ms/step - loss: 3.2806 - val_loss: 3.9456\n",
      "\n",
      "Epoch 00017: saving model to ex10/LSTM_AM.ckpt\n",
      "Epoch 18/50\n",
      "269/269 [==============================] - 207s 768ms/step - loss: 3.2233 - val_loss: 3.9296\n",
      "\n",
      "Epoch 00018: saving model to ex10/LSTM_AM.ckpt\n",
      "Epoch 19/50\n",
      "269/269 [==============================] - 206s 766ms/step - loss: 3.1702 - val_loss: 3.9197\n",
      "\n",
      "Epoch 00019: saving model to ex10/LSTM_AM.ckpt\n",
      "Epoch 20/50\n",
      "269/269 [==============================] - 207s 771ms/step - loss: 3.1108 - val_loss: 3.9100\n",
      "\n",
      "Epoch 00020: saving model to ex10/LSTM_AM.ckpt\n",
      "Epoch 21/50\n",
      "269/269 [==============================] - 211s 784ms/step - loss: 3.0681 - val_loss: 3.8995\n",
      "\n",
      "Epoch 00021: saving model to ex10/LSTM_AM.ckpt\n",
      "Epoch 22/50\n",
      "269/269 [==============================] - 207s 768ms/step - loss: 3.0275 - val_loss: 3.8948\n",
      "\n",
      "Epoch 00022: saving model to ex10/LSTM_AM.ckpt\n",
      "Epoch 23/50\n",
      "269/269 [==============================] - 206s 767ms/step - loss: 2.9868 - val_loss: 3.8869\n",
      "\n",
      "Epoch 00023: saving model to ex10/LSTM_AM.ckpt\n",
      "Epoch 24/50\n",
      "269/269 [==============================] - 207s 771ms/step - loss: 2.9450 - val_loss: 3.8778\n",
      "\n",
      "Epoch 00024: saving model to ex10/LSTM_AM.ckpt\n",
      "Epoch 25/50\n",
      "269/269 [==============================] - 204s 760ms/step - loss: 2.8997 - val_loss: 3.8790\n",
      "\n",
      "Epoch 00025: saving model to ex10/LSTM_AM.ckpt\n",
      "Epoch 26/50\n",
      "269/269 [==============================] - 205s 764ms/step - loss: 2.8698 - val_loss: 3.8751\n",
      "\n",
      "Epoch 00026: saving model to ex10/LSTM_AM.ckpt\n",
      "Epoch 27/50\n",
      "269/269 [==============================] - 204s 759ms/step - loss: 2.8403 - val_loss: 3.8713\n",
      "\n",
      "Epoch 00027: saving model to ex10/LSTM_AM.ckpt\n",
      "Epoch 28/50\n",
      "269/269 [==============================] - 204s 758ms/step - loss: 2.8058 - val_loss: 3.8778\n",
      "\n",
      "Epoch 00028: saving model to ex10/LSTM_AM.ckpt\n",
      "Epoch 29/50\n",
      "269/269 [==============================] - 202s 752ms/step - loss: 2.7734 - val_loss: 3.8689\n",
      "\n",
      "Epoch 00029: saving model to ex10/LSTM_AM.ckpt\n",
      "Epoch 30/50\n",
      "269/269 [==============================] - 203s 753ms/step - loss: 2.7366 - val_loss: 3.8723\n",
      "\n",
      "Epoch 00030: saving model to ex10/LSTM_AM.ckpt\n",
      "Epoch 31/50\n",
      "269/269 [==============================] - 203s 753ms/step - loss: 2.7044 - val_loss: 3.8673\n",
      "\n",
      "Epoch 00031: saving model to ex10/LSTM_AM.ckpt\n",
      "Epoch 32/50\n",
      "269/269 [==============================] - 205s 762ms/step - loss: 2.6874 - val_loss: 3.8664\n",
      "\n",
      "Epoch 00032: saving model to ex10/LSTM_AM.ckpt\n",
      "Epoch 33/50\n",
      "269/269 [==============================] - 204s 757ms/step - loss: 2.6583 - val_loss: 3.8695\n",
      "\n",
      "Epoch 00033: saving model to ex10/LSTM_AM.ckpt\n",
      "Epoch 34/50\n",
      "269/269 [==============================] - 203s 756ms/step - loss: 2.6338 - val_loss: 3.8690\n",
      "\n",
      "Epoch 00034: saving model to ex10/LSTM_AM.ckpt\n",
      "Epoch 00034: early stopping\n"
     ]
    }
   ],
   "source": [
    "model.compile(optimizer='rmsprop', loss='sparse_categorical_crossentropy')\n",
    "earlystopping = EarlyStopping(monitor='val_loss', patience=2, verbose=1)\n",
    "history = model.fit(x=[encoder_input_train, decoder_input_train], y=decoder_target_train, \\\n",
    "          validation_data=([encoder_input_test, decoder_input_test], decoder_target_test), \\\n",
    "          batch_size=256, callbacks=[checkpoint ,earlystopping], epochs=50) # model.fit()에 callback으로 es객체를 넣어줘야 es 적용 가능"
   ]
  },
  {
   "cell_type": "code",
   "execution_count": 47,
   "id": "atomic-black",
   "metadata": {},
   "outputs": [
    {
     "data": {
      "image/png": "[encoded data removed]",
      "text/plain": [
       "<Figure size 432x288 with 1 Axes>"
      ]
     },
     "metadata": {
      "needs_background": "light"
     },
     "output_type": "display_data"
    }
   ],
   "source": [
    "# 훈련 과정 시각화\n",
    "plt.plot(history.history['loss'], label='train')\n",
    "plt.plot(history.history['val_loss'], label='test')\n",
    "plt.legend()\n",
    "plt.show()"
   ]
  },
  {
   "cell_type": "markdown",
   "id": "annual-assignment",
   "metadata": {},
   "source": [
    "#### Trial2 - padding이 'pre' 인 경우"
   ]
  },
  {
   "cell_type": "code",
   "execution_count": 78,
   "id": "revolutionary-comment",
   "metadata": {},
   "outputs": [
    {
     "name": "stdout",
     "output_type": "stream",
     "text": [
      "WARNING:tensorflow:Layer lstm_4 will not use cuDNN kernel since it doesn't meet the cuDNN kernel criteria. It will use generic GPU kernel as fallback when running on GPU\n",
      "WARNING:tensorflow:Layer lstm_5 will not use cuDNN kernel since it doesn't meet the cuDNN kernel criteria. It will use generic GPU kernel as fallback when running on GPU\n",
      "WARNING:tensorflow:Layer lstm_6 will not use cuDNN kernel since it doesn't meet the cuDNN kernel criteria. It will use generic GPU kernel as fallback when running on GPU\n",
      "WARNING:tensorflow:Layer lstm_7 will not use cuDNN kernel since it doesn't meet the cuDNN kernel criteria. It will use generic GPU kernel as fallback when running on GPU\n",
      "Model: \"model_4\"\n",
      "__________________________________________________________________________________________________\n",
      "Layer (type)                    Output Shape         Param #     Connected to                     \n",
      "==================================================================================================\n",
      "input_6 (InputLayer)            [(None, 40)]         0                                            \n",
      "__________________________________________________________________________________________________\n",
      "embedding_2 (Embedding)         (None, 40, 128)      2176000     input_6[0][0]                    \n",
      "__________________________________________________________________________________________________\n",
      "lstm_4 (LSTM)                   [(None, 40, 256), (N 394240      embedding_2[0][0]                \n",
      "__________________________________________________________________________________________________\n",
      "input_7 (InputLayer)            [(None, None)]       0                                            \n",
      "__________________________________________________________________________________________________\n",
      "lstm_5 (LSTM)                   [(None, 40, 256), (N 525312      lstm_4[0][0]                     \n",
      "__________________________________________________________________________________________________\n",
      "embedding_3 (Embedding)         (None, None, 128)    1241600     input_7[0][0]                    \n",
      "__________________________________________________________________________________________________\n",
      "lstm_6 (LSTM)                   [(None, 40, 256), (N 525312      lstm_5[0][0]                     \n",
      "__________________________________________________________________________________________________\n",
      "lstm_7 (LSTM)                   [(None, None, 256),  394240      embedding_3[0][0]                \n",
      "                                                                 lstm_6[0][1]                     \n",
      "                                                                 lstm_6[0][2]                     \n",
      "__________________________________________________________________________________________________\n",
      "attention_layer (AttentionLayer ((None, None, 256),  131328      lstm_6[0][0]                     \n",
      "                                                                 lstm_7[0][0]                     \n",
      "__________________________________________________________________________________________________\n",
      "concat_layer (Concatenate)      (None, None, 512)    0           lstm_7[0][0]                     \n",
      "                                                                 attention_layer[0][0]            \n",
      "__________________________________________________________________________________________________\n",
      "dense_3 (Dense)                 (None, None, 9700)   4976100     concat_layer[0][0]               \n",
      "==================================================================================================\n",
      "Total params: 10,364,132\n",
      "Trainable params: 10,364,132\n",
      "Non-trainable params: 0\n",
      "__________________________________________________________________________________________________\n"
     ]
    }
   ],
   "source": [
    "# 패딩만 'pre'로 변경\n",
    "encoder_input_train = pad_sequences(encoder_input_train, maxlen=text_max_len, padding='pre')\n",
    "encoder_input_test = pad_sequences(encoder_input_test, maxlen=text_max_len, padding='pre')\n",
    "decoder_input_train = pad_sequences(decoder_input_train, maxlen=summary_max_len, padding='pre')\n",
    "decoder_target_train = pad_sequences(decoder_target_train, maxlen=summary_max_len, padding='pre')\n",
    "decoder_input_test = pad_sequences(decoder_input_test, maxlen=summary_max_len, padding='pre')\n",
    "decoder_target_test = pad_sequences(decoder_target_test, maxlen=summary_max_len, padding='pre')\n",
    "\n",
    "# 모델 정의\n",
    "model2 = Model([encoder_inputs, decoder_inputs], decoder_softmax_outputs)\n",
    "model2.summary()"
   ]
  },
  {
   "cell_type": "code",
   "execution_count": 79,
   "id": "continent-explorer",
   "metadata": {},
   "outputs": [
    {
     "name": "stdout",
     "output_type": "stream",
     "text": [
      "Epoch 1/50\n",
      "269/269 [==============================] - 202s 750ms/step - loss: 2.6508 - val_loss: 3.8785\n",
      "\n",
      "Epoch 00001: saving model to ex10/LSTM_AM2.ckpt\n",
      "Epoch 2/50\n",
      "269/269 [==============================] - 202s 751ms/step - loss: 2.6240 - val_loss: 3.8859\n",
      "\n",
      "Epoch 00002: saving model to ex10/LSTM_AM2.ckpt\n",
      "Epoch 3/50\n",
      "269/269 [==============================] - 201s 748ms/step - loss: 2.5992 - val_loss: 3.8807\n",
      "\n",
      "Epoch 00003: saving model to ex10/LSTM_AM2.ckpt\n",
      "Epoch 00003: early stopping\n"
     ]
    }
   ],
   "source": [
    "checkpoint_path = \"ex10/LSTM_AM2.ckpt\"             # 저장할 가중치의 확장자 및 파일 이름\n",
    "checkpoint_dir = os.path.dirname(checkpoint_path)  # 저장할 경로\n",
    "\n",
    "checkpoint2 = tf.keras.callbacks.ModelCheckpoint(filepath=checkpoint_path, # 학습 시 callback함수를 반환하여 학습\n",
    "                                                 save_weights_only=True,\n",
    "                                                 verbose=1)\n",
    "\n",
    "model2.compile(optimizer='rmsprop', loss='sparse_categorical_crossentropy')\n",
    "earlystopping2 = EarlyStopping(monitor='val_loss', patience=2, verbose=1)\n",
    "history2 = model.fit(x=[encoder_input_train, decoder_input_train], y=decoder_target_train, \\\n",
    "          validation_data=([encoder_input_test, decoder_input_test], decoder_target_test), \\\n",
    "          batch_size=256, callbacks=[checkpoint2 ,earlystopping2], epochs=50) # model.fit()에 callback으로 es객체를 넣어줘야 es 적용 가능"
   ]
  },
  {
   "cell_type": "code",
   "execution_count": 80,
   "id": "acceptable-hardware",
   "metadata": {},
   "outputs": [
    {
     "data": {
      "image/png": "[encoded data removed]",
      "text/plain": [
       "<Figure size 432x288 with 1 Axes>"
      ]
     },
     "metadata": {
      "needs_background": "light"
     },
     "output_type": "display_data"
    }
   ],
   "source": [
    "# 훈련 과정 시각화\n",
    "plt.plot(history2.history['loss'], label='train')\n",
    "plt.plot(history2.history['val_loss'], label='test')\n",
    "plt.legend()\n",
    "plt.show()"
   ]
  },
  {
   "cell_type": "markdown",
   "id": "aboriginal-inquiry",
   "metadata": {},
   "source": [
    "'pre' padding으로 학습된 결과 overfitting이 발생하였다."
   ]
  },
  {
   "cell_type": "markdown",
   "id": "increasing-chester",
   "metadata": {},
   "source": [
    "## 4. 모델 테스트"
   ]
  },
  {
   "cell_type": "markdown",
   "id": "respected-oakland",
   "metadata": {},
   "source": [
    "### 4.1 Inference Model 구현"
   ]
  },
  {
   "cell_type": "markdown",
   "id": "affected-overall",
   "metadata": {},
   "source": [
    "> __Inference__? 학습을 마친 모델로 실제 과제를 수행하는 행위 혹은 그 과정\n",
    "\n",
    "- Seq2seq는 훈련할 때와 인퍼런스 단계의 방식이 달라 그에 맞는 모델 설계를 별개로 진행해야 한다\n",
    "- 훈련 단계: 인코더와 디코더를 엮은 모델 준비\n",
    "- 인퍼런스 단계: 인코더 모델과 디코더 모델을 분리해서 설계(정답X, 디코더가 반복구조로 동작할 필요)"
   ]
  },
  {
   "cell_type": "code",
   "execution_count": 48,
   "id": "novel-happiness",
   "metadata": {},
   "outputs": [],
   "source": [
    "# 정수로 된 데이터를 실제로 복원해야 하므로 필요한 사전을 세팅한다.\n",
    "src_index_to_word = src_tokenizer.index_word # 원문 단어 집합에서 정수 -> 단어를 얻음\n",
    "tar_word_to_index = tar_tokenizer.word_index # 요약 단어 집합에서 단어 -> 정수를 얻음\n",
    "tar_index_to_word = tar_tokenizer.index_word # 요약 단어 집합에서 정수 -> 단어를 얻음"
   ]
  },
  {
   "cell_type": "code",
   "execution_count": 49,
   "id": "forbidden-choice",
   "metadata": {},
   "outputs": [],
   "source": [
    "# 인코더 설계\n",
    "encoder_model = Model(inputs=encoder_inputs, outputs=[encoder_outputs, state_h, state_c])\n",
    "\n",
    "# 이전 시점의 상태들을 저장하는 텐서\n",
    "decoder_state_input_h = Input(shape=(hidden_size,))\n",
    "decoder_state_input_c = Input(shape=(hidden_size,))\n",
    "\n",
    "dec_emb2 = dec_emb_layer(decoder_inputs)\n",
    "\n",
    "# 문장의 다음 단어를 예측하기 위해서 초기 상태(initial_state)를 이전 시점의 상태로 사용. 이는 뒤의 함수 decode_sequence()에 구현\n",
    "# 훈련 과정에서와 달리 LSTM의 리턴하는 은닉 상태와 셀 상태인 state_h와 state_c를 버리지 않음.\n",
    "decoder_outputs2, state_h2, state_c2 = decoder_lstm(dec_emb2, initial_state=[decoder_state_input_h, decoder_state_input_c])"
   ]
  },
  {
   "cell_type": "code",
   "execution_count": 50,
   "id": "otherwise-christian",
   "metadata": {},
   "outputs": [],
   "source": [
    "# 어텐션 메커니즘을 사용하는 출력층 설계\n",
    "# 어텐션 함수\n",
    "decoder_hidden_state_input = Input(shape=(text_max_len, hidden_size))\n",
    "attn_out_inf, attn_states_inf = attn_layer([decoder_hidden_state_input, decoder_outputs2])\n",
    "decoder_inf_concat = Concatenate(axis=-1, name='concat')([decoder_outputs2, attn_out_inf])\n",
    "\n",
    "# 디코더의 출력층\n",
    "decoder_outputs2 = decoder_softmax_layer(decoder_inf_concat) \n",
    "\n",
    "# 최종 디코더 모델\n",
    "decoder_model = Model(\n",
    "    [decoder_inputs] + [decoder_hidden_state_input,decoder_state_input_h, decoder_state_input_c],\n",
    "    [decoder_outputs2] + [state_h2, state_c2])"
   ]
  },
  {
   "cell_type": "code",
   "execution_count": 51,
   "id": "involved-gallery",
   "metadata": {},
   "outputs": [],
   "source": [
    "# 단어 시퀀스를 완성하는 함수\n",
    "def decode_sequence(input_seq):\n",
    "    # 입력으로부터 인코더의 상태를 얻음\n",
    "    e_out, e_h, e_c = encoder_model.predict(input_seq)\n",
    "\n",
    "     # <SOS>에 해당하는 토큰 생성\n",
    "    target_seq = np.zeros((1,1))\n",
    "    target_seq[0, 0] = tar_word_to_index['sostoken']\n",
    "\n",
    "    stop_condition = False\n",
    "    decoded_sentence = ''\n",
    "    while not stop_condition: # stop_condition이 True가 될 때까지 루프 반복\n",
    "\n",
    "        output_tokens, h, c = decoder_model.predict([target_seq] + [e_out, e_h, e_c])\n",
    "        sampled_token_index = np.argmax(output_tokens[0, -1, :])\n",
    "        sampled_token = tar_index_to_word[sampled_token_index]\n",
    "\n",
    "        if (sampled_token!='eostoken'):\n",
    "            decoded_sentence += ' '+sampled_token\n",
    "\n",
    "        #  <eos>에 도달하거나 최대 길이를 넘으면 중단.\n",
    "        if (sampled_token == 'eostoken'  or len(decoded_sentence.split()) >= (summary_max_len-1)):\n",
    "            stop_condition = True\n",
    "\n",
    "        # 길이가 1인 타겟 시퀀스를 업데이트\n",
    "        target_seq = np.zeros((1,1))\n",
    "        target_seq[0, 0] = sampled_token_index\n",
    "\n",
    "        # 상태를 업데이트 합니다.\n",
    "        e_h, e_c = h, c\n",
    "\n",
    "    return decoded_sentence"
   ]
  },
  {
   "cell_type": "markdown",
   "id": "absent-reviewer",
   "metadata": {},
   "source": [
    "### 4.2 원문과 요약문 비교"
   ]
  },
  {
   "cell_type": "code",
   "execution_count": 52,
   "id": "impossible-metropolitan",
   "metadata": {},
   "outputs": [],
   "source": [
    "# 원문의 정수 시퀀스를 텍스트 시퀀스로 변환\n",
    "def seq2text(input_seq):\n",
    "    temp=''\n",
    "    for i in input_seq:\n",
    "        if (i!=0):\n",
    "            temp = temp + src_index_to_word[i]+' '\n",
    "    return temp\n",
    "\n",
    "# 요약문의 정수 시퀀스를 텍스트 시퀀스로 변환\n",
    "def seq2summary(input_seq):\n",
    "    temp=''\n",
    "    for i in input_seq:\n",
    "        if ((i!=0 and i!=tar_word_to_index['sostoken']) and i!=tar_word_to_index['eostoken']):\n",
    "            temp = temp + tar_index_to_word[i] + ' '\n",
    "    return temp"
   ]
  },
  {
   "cell_type": "code",
   "execution_count": 92,
   "id": "numerous-convention",
   "metadata": {},
   "outputs": [],
   "source": [
    "test_idx = np.random.randint(17168, size=10)"
   ]
  },
  {
   "cell_type": "code",
   "execution_count": 94,
   "id": "collect-veteran",
   "metadata": {
    "scrolled": false
   },
   "outputs": [
    {
     "name": "stdout",
     "output_type": "stream",
     "text": [
      "원문 : russian foreign minister sergei lavrov claimed us president donald trump friday accepted russia meddle us election asserted russian president vladimir putin summit trump recently said russia probably countries us election adding nobody really knows sure nn \n",
      "실제 요약 : trump accepts we did not meddle in us election russia \n",
      "예측 요약 :  russia will not allow russia to russia presidential elections\n",
      "\n",
      "\n",
      "원문 : viral message asking facebook users type comment section check account hacked actually hoax per message term turned green account safe remained black account hacked comments turned green due new facebook update \n",
      "실제 요약 : viral message to check facebook account hack is hoax \n",
      "예측 요약 :  facebook suspends facebook account over fake news\n",
      "\n",
      "\n",
      "원문 : us credit reporting agency equifax monday acknowledged suffered major hacking attack march company said march breach related latest hack exposed personal financial data million us consumers latest breach discovered july exposed names dates birth social security numbers addresses \n",
      "실제 요약 : credit firm admits to second data breach in march \n",
      "예측 요약 :  us warns cyber attack on facebook data leak\n",
      "\n",
      "\n",
      "원문 : technology giant apple ceo tim cook wednesday said government leader would aggressively recruiting smart immigrants adding would trying world talent cook said aggressive plan let people would recruiting \n",
      "실제 요약 : if was leader would be immigrants tim cook \n",
      "예측 요약 :  apple ceo tim cook says he is an\n",
      "\n",
      "\n",
      "원문 : sweden distributing leaflets lakh households prepared event war first time nearly years swedish government said page titled crisis war comes meant help citizens prepare serious accident extreme weather attack military conflict \n",
      "실제 요약 : sweden distributes war to all homes \n",
      "예측 요약 :  bitcoin to be part of refugee war in war army\n",
      "\n",
      "\n",
      "원문 : three time nba champion lebron james took twitter tuesday praise man recorded video breaking fight two young black boys boys engaged fight middle street us man intervened managed get shake hands \n",
      "실제 요약 : nba player lebron james lauds man for stopping fight \n",
      "예측 요약 :  nba star lebron champ charged with stage with face\n",
      "\n",
      "\n",
      "원문 : one child killed six members family hospitalised consuming mid day meal prepared school rajasthan khera thursday incident occurred victims residence two working village school reportedly took back food family police said investigation launched \n",
      "실제 요약 : dead sick after having mid day meal from raj school \n",
      "예측 요약 :  children fall ill after eating mid day meal in up\n",
      "\n",
      "\n",
      "원문 : pnb said honour letters undertaking foreign letters credit repay crore seven banks march pnb settle subsequent lous linked nirav modi fraud due banks provided buyers credit favour overseas suppliers nirav modi firms based allegedly unauthorised lous \n",
      "실제 요약 : pnb agrees to repay cr scam linked loans by march \n",
      "예측 요약 :  pnb to pay crore to settle nirav modi loans\n",
      "\n",
      "\n",
      "원문 : dubai marriott fired michelin starred indian origin chef atul kochhar tweet slamming priyanka chopra apology quantico episode portrayed indians terrorist share views read marriott statement tweet apologised kochhar wrote respected sentiments hindus islam \n",
      "실제 요약 : indian origin chef fired over anti islam tweet to priyanka \n",
      "예측 요약 :  dubai firm who named indian origin brand for\n",
      "\n",
      "\n",
      "원문 : banita sandhu made bollywood debut shoojit sircar october revealed working ever since added passion always signed first agent banita said ever since young always known wanted actress \n",
      "실제 요약 : have been working ever since was banita sandhu \n",
      "예측 요약 :  did not play playing october banita on october\n",
      "\n",
      "\n",
      "원문 : one every four government colleges karnataka functioning rented premises according survey conducted across government colleges state department education department informed government crore would required provide academic administrative infrastructure colleges \n",
      "실제 요약 : out of govt colleges in taka run on rented premises \n",
      "예측 요약 :  karnataka to get quota for\n",
      "\n",
      "\n",
      "원문 : russian opposition leader posted video hidden island mansion claiming president vladimir putin uses holiday retreat alleged property bars locals owned putin close friends mansion known villa located acre site reportedly houses \n",
      "실제 요약 : russian opposition leader reveals putin hidden mansion \n",
      "예측 요약 :  russian leader claims he was the president of putin\n",
      "\n",
      "\n",
      "원문 : former shiromani akali dal leader singh booked allegedly raping woman police constable nearly decade threatening kill woman reportedly handed minute video police shows sexually exploiting victim accused cheating selling property extorting money \n",
      "실제 요약 : ex akali minister booked for raping woman cop for decade \n",
      "예측 요약 :  ex dmk leader booked for raping woman in kerala\n",
      "\n",
      "\n",
      "원문 : maharashtra bjp mp friday resigned lok sabha party expressing displeasure party stand state crisis criticised state government implementing recommendations swaminathan commission aims safeguard interests farmers added deeply felt let party \n",
      "실제 요약 : bjp mp quits party lok sabha over crisis in maha \n",
      "예측 요약 :  bjp leaders oppose bjp to resign over demand\n",
      "\n",
      "\n",
      "원문 : union minister ravi shankar prasad thursday said rahul gandhi president congress rahul born gandhi family would even head party congress leader said know several generations rahul gandhi family modi shows beliefs prasad added \n",
      "실제 요약 : rahul without gandhi will not even be cong head minister \n",
      "예측 요약 :  rahul gandhi is rahul gandhi\n",
      "\n",
      "\n",
      "원문 : philippine president rodrigo duterte friday european union critics war drugs come talk want slap duterte said comes eu lawmakers suggested philippine government set clinics public get drug fix \n",
      "실제 요약 : philippine prez invites eu critics threatens to slap them \n",
      "예측 요약 :  philippine prez duterte calls for philippine prez\n",
      "\n",
      "\n",
      "원문 : prime minister narendra modi tweeted elected world leader us president trump year according data released microblogging site twitter venezuelan president nicol maduro third list followed turkey president recep tayyip erdo meanwhile pm modi also followed indian following million \n",
      "실제 요약 : pm modi is most tweeted about elected leader after trump \n",
      "예측 요약 :  pm modi is world most powerful leader\n",
      "\n",
      "\n",
      "원문 : fir registered hostel warden government school uttar pradesh muzaffarnagar allegedly girls naked check menstruating per reports warden ordered students remove clothes upset blood stains left toilet seat \n",
      "실제 요약 : fir against warden who stripped girls to check period blood \n",
      "예측 요약 :  fir against school for molesting female in up\n",
      "\n",
      "\n",
      "원문 : madhya pradesh chief minister shivraj singh chouhan sunday called formation independent cow protection ministry state chouhan said already madhya pradesh gau board added board receives lesser government funds urged people contribute towards protection cows \n",
      "실제 요약 : madhya pradesh cm seeks formation of cow protection ministry \n",
      "예측 요약 :  mp should not allow cow in mp shivraj chouhan\n",
      "\n",
      "\n",
      "원문 : north korea wednesday staged mass rally un passed new round sanctions us president donald trump threatened country fire fury missile tests thousands people gathered kim il sung square pyongyang citizens holding propaganda placards chanting slogans support regime \n",
      "실제 요약 : in pics korea stages mass rally after trump threat \n",
      "예측 요약 :  korea threatens to withdraw us sanctions against korea\n",
      "\n",
      "\n",
      "원문 : income tax department launched online chat service taxpayers seeking answers basic queries doubts relating direct tax issues chat window hosted www main page department website option also provided taxpayers entire chats ids future reference \n",
      "실제 요약 : dept launches online chat to answer taxpayers queries \n",
      "예측 요약 :  dept issues online gst for companies\n",
      "\n",
      "\n",
      "원문 : former australian captain george bailey revealed ms dhoni would bond younger players ipl hookah bailey said dhoni would set hookah room open door policy find room late night chatting game great way break barriers added \n",
      "실제 요약 : dhoni with over hookah ex australia captain \n",
      "예측 요약 :  dhoni will not be given to ipl ipl ex captain\n",
      "\n",
      "\n",
      "원문 : ford monday debuted powerful gt claims go kmph mid three seconds detroit us vehicle horsepower litre engine vehicle equipped seven speed dual clutch transmission shift less one tenth second ford added \n",
      "실제 요약 : ford debuts its most powerful \n",
      "예측 요약 :  rolls royce launches its fastest car car\n",
      "\n",
      "\n",
      "원문 : india russia tuesday signed million deal build two warships goa indian navy officials said goa limited russia signed agreement class project technology transfer russia construction warships begin first one delivered \n",
      "실제 요약 : india russia sign mn deal to build warships in goa \n",
      "예측 요약 :  russia to buy military for billion in india\n",
      "\n",
      "\n",
      "원문 : talking issue farmers committing suicide madhya pradesh raj minister gopal friday said mlas also die past four years mlas died anybody control death mlas live forever also concerned problem also farmers added \n",
      "실제 요약 : mlas also die madhya pradesh minister on farmer suicides \n",
      "예측 요약 :  up cm chouhan to probe into mlas in taka\n",
      "\n",
      "\n",
      "원문 : candidate contesting local council elections belgium banned using full name facebook social media platform community guidelines wanted promote campaign ideas facebook said platform accept name registered facebook anu \n",
      "실제 요약 : fb bans poll candidate from campaigning over surname \n",
      "예측 요약 :  ec bans facebook from hate on facebook in\n",
      "\n",
      "\n",
      "원문 : infrastructure leasing financial services built india longest highway tunnel jammu kashmir sent experts check problems high pollution poor visibility system inside probably work effectively enter tunnel peak hours visibility starts commuter reportedly said \n",
      "실제 요약 : pollution poor reported in tunnel \n",
      "예측 요약 :  india to build km tunnel to build pollution in india\n",
      "\n",
      "\n",
      "원문 : asked big threat amazon commerce firm ceo said amazon biggest threat every business planet adding amazon powerful probably ambitious company world also said welcoming competition confident ability adapt \n",
      "실제 요약 : amazon biggest threat to businesses on planet ceo \n",
      "예측 요약 :  amazon is amazon amazon in india amazon ceo\n",
      "\n",
      "\n",
      "원문 : wipro icici bank topped list sexual harassment cases women among nse nifty companies cases respectively total number cases increased cases notably among top firms tech mahindra said receive sexual harassment complaints year \n",
      "실제 요약 : wipro icici bank top list with most sexual harassment cases \n",
      "예측 요약 :  icici bank ceo of sexual misconduct in indian\n",
      "\n",
      "\n",
      "원문 : ministry home affairs planning law prevent misuse drones especially near airports country operations delhi airport recently suspended two hours pilot complained getting distracted drones landing notably airport security personnel told treat drones possible security threats \n",
      "실제 요약 : after delhi airport scare govt plans law to control drones \n",
      "예측 요약 :  govt proposes to use security for security in delhi airport\n",
      "\n",
      "\n",
      "원문 : around four lakh old four wheelers seized delhi ncr transport department said friday ten year old diesel vehicles year old petrol vehicles seized ncr districts department added comes national green tribunal slammed delhi government severe plus pollution level national capital \n",
      "실제 요약 : lakh old four wheelers to be seized in delhi ncr \n",
      "예측 요약 :  govt to delhi govt seizes petrol diesel\n",
      "\n",
      "\n",
      "원문 : us president donald trump today lauded india un general assembly said india free society billion people successfully lifting millions poverty middle class added question kind world leave children kind nations \n",
      "실제 요약 : india lifting millions out of poverty us president trump at un \n",
      "예측 요약 :  us cabinet approves india policy for india\n",
      "\n",
      "\n",
      "원문 : us hit earthquakes one week including one measuring scale scientists confirmed likely result movement transferring strain locations scientists said although pose risk eruption could cover whole country ash scientists estimate \n",
      "실제 요약 : us volcano hit by earthquakes in week \n",
      "예측 요약 :  scientists study of year old telescope\n",
      "\n",
      "\n",
      "원문 : government friday said cases fraud related credit debit cards internet banking involving amount lakh reported government said extent losses cases totalled crore december alone cases losses touching crore reported government added \n",
      "실제 요약 : card net banking frauds worth cr reported in \n",
      "예측 요약 :  govt to pay crore to bank frauds in sector\n",
      "\n",
      "\n",
      "원문 : indian batsman cheteshwar pujara scored th test century completed test runs second test sri lanka career th test pujara took innings reach run landmark rahul dravid pujara third century five innings sri lankan soil nine come india \n",
      "실제 요약 : pujara scores th century completes runs in th test \n",
      "예측 요약 :  pujara st to score runs in test cricket by runs\n",
      "\n",
      "\n",
      "원문 : butterfly new song shah rukh khan anushka sharma starrer jab harry met sejal released song composed pritam vocals sisters dev negi sunidhi chauhan lyrics irshad kamil directed imtiaz ali film scheduled release august \n",
      "실제 요약 : butterfly song from srk anushka jab harry met sejal out \n",
      "예측 요약 :  srk anushka jab harry met sejal hits the theatres\n",
      "\n",
      "\n",
      "원문 : several passengers board mathura bound train allegedly stabbed man death injured two cousins suspicion carrying beef however police said heated dispute broke two groups near station seats victim returning home haryana shopping eid delhi \n",
      "실제 요약 : man killed on train for carrying beef cops say seat fight \n",
      "예측 요약 :  man dies after being beaten up by mob in up\n",
      "\n",
      "\n",
      "원문 : india lost first two test matches south africa india coach ravi shastri said another days practice country would made difference unfortunately schedule matches sure future made taken account added \n",
      "실제 요약 : extra days in sa would have made difference shastri \n",
      "예측 요약 :  india has played runs in the same team india coach\n",
      "\n",
      "\n",
      "원문 : bengaluru based mobile gaming startup raised crore series round funding led accel partners capital existing investor ventures also participated round founded iiit gwalior graduates mohit arpita kapoor gupta \n",
      "실제 요약 : bengaluru mobile gaming startup raises crore \n",
      "예측 요약 :  bengaluru startup raises crore\n",
      "\n",
      "\n",
      "원문 : jacqueline fernandez said salman khan came like guardian angel picked career low never made feel kick always made seem like added jacqueline said still gets lines working salman \n",
      "실제 요약 : salman picked me up from career low jacqueline fernandez \n",
      "예측 요약 :  salman is very being like in race jacqueline\n",
      "\n",
      "\n",
      "원문 : india benchmark index sensex rose points close friday biggest single day gain two years ahead retail inflation data rupee also strengthened us dollar following gains equity markets oil prices fell overnight share nifty index ended points higher \n",
      "실제 요약 : sensex posts biggest gain in over yrs rallies points \n",
      "예측 요약 :  sensex hits record high of the biggest dollar\n",
      "\n",
      "\n",
      "원문 : mumbai indians yadav pulled catch despite losing balance slipping backwards dismiss rajasthan royals captain ajinkya rahane ipl sunday rahane hit hardik pandya delivery th towards deep mid yadav held catch rahane dismissed \n",
      "실제 요약 : yadav pulls off catch to dismiss rahane despite \n",
      "예측 요약 :  mumbai costliest pull off balls to score by mi\n",
      "\n",
      "\n",
      "원문 : video shows actor salman khan live concert tour dancing song teri meri film bodyguard video uploaded salman stylist fashion designer ashley year old actor performing multiple cities australia new zealand part tour \n",
      "실제 요약 : video shows salman khan for his live concert \n",
      "예측 요약 :  salman khan dance dance to salman khan dance\n",
      "\n",
      "\n",
      "원문 : teaser bradley bobby brown starrer king released film reportedly budget million advertised another million directed michael film scheduled release may \n",
      "실제 요약 : teaser of king of the released \n",
      "예측 요약 :  teaser of the film released\n",
      "\n",
      "\n",
      "원문 : pakistani police rescued members family allegedly held hostage gunpoint drunken relative city rawalpindi investigators said man got drunk suffering heavy gambling losses including machinery family construction business undergo medical tests ascertain mental condition prosecuted accordingly \n",
      "실제 요약 : pak man loses in gambling gets drunk holds family hostage \n",
      "예측 요약 :  pak police rescue indian police to get out of\n",
      "\n",
      "\n",
      "원문 : neha dhupia recalling incident tried copy priyanka chopra style said priyanka looked really hot golden sari wore thing ended looking like idiot added thing call bed sheet dress way want \n",
      "실제 요약 : tried to copy priyanka style looked like an idiot neha \n",
      "예측 요약 :  priyanka chopra is priyanka chopra\n",
      "\n",
      "\n",
      "원문 : around six students alleged police took away black part college uniform cm shivraj singh chouhan event madhya pradesh tuesday comes amid series incidents showing black flags political leaders mp students claimed asked go police station fetch \n",
      "실제 요약 : girls black part of uniform removed at mp cm event \n",
      "예측 요약 :  up school principal makes cm visit to cm\n",
      "\n",
      "\n",
      "원문 : according police figures children went missing delhi first five months year per data around children reported missing every day delhi deputy commissioner police rajan bhagat said police suspect human trafficking gangs behind abduction slum kids cheap labour \n",
      "실제 요약 : over delhi children reported missing till may in \n",
      "예측 요약 :  children rescued from delhi medical shelter home\n",
      "\n",
      "\n",
      "원문 : teaser madhuri dixit debut marathi film bucket list released directed tejas vijay film said slice life drama based woman path self realisation film scheduled summer release year \n",
      "실제 요약 : teaser of madhuri debut marathi film bucket list out \n",
      "예측 요약 :  teaser of madhuri debut film on the theatres\n",
      "\n",
      "\n",
      "원문 : congress leader shashi tharoor leading member delegation parliamentary standing committee external affairs monday said passports could applied post offices shortly congress mp added around post offices already started work regard parliamentary committee members visited passport office punjab amritsar \n",
      "실제 요약 : passports could be applied from post offices soon tharoor \n",
      "예측 요약 :  tharoor calls for mp govt over remark\n",
      "\n",
      "\n"
     ]
    }
   ],
   "source": [
    "# 테스트 데이터 약 50개의 샘플에 대해서 실제 요약과 예측된 요약을 비교\n",
    "for i in range(5000,5050):\n",
    "    print(\"원문 :\", seq2text(encoder_input_test[i]))\n",
    "    print(\"실제 요약 :\", seq2summary(decoder_input_test[i]))\n",
    "    print(\"예측 요약 :\", decode_sequence(encoder_input_test[i].reshape(1, text_max_len)))\n",
    "    print(\"\\n\")"
   ]
  },
  {
   "cell_type": "markdown",
   "id": "applied-bronze",
   "metadata": {},
   "source": [
    "- 의미가 있는 문장도 나오지만, 같은 단어가 반복되는 현상이 보인다."
   ]
  },
  {
   "cell_type": "markdown",
   "id": "robust-colon",
   "metadata": {},
   "source": [
    "# 추출적 요약"
   ]
  },
  {
   "cell_type": "markdown",
   "id": "european-pitch",
   "metadata": {},
   "source": [
    "동일한 데이터를 가지고 summarize를 이용해 추출적 요약을 수행해본다."
   ]
  },
  {
   "cell_type": "code",
   "execution_count": 55,
   "id": "hundred-sweet",
   "metadata": {},
   "outputs": [],
   "source": [
    "import requests\n",
    "from summa.summarizer import summarize"
   ]
  },
  {
   "cell_type": "code",
   "execution_count": 54,
   "id": "smoking-building",
   "metadata": {},
   "outputs": [],
   "source": [
    "data2 = pd.read_csv('news_summary_more.csv', encoding='iso-8859-1')"
   ]
  },
  {
   "cell_type": "code",
   "execution_count": 57,
   "id": "neither-roulette",
   "metadata": {},
   "outputs": [
    {
     "data": {
      "text/html": [
       "<div>\n",
       "<style scoped>\n",
       "    .dataframe tbody tr th:only-of-type {\n",
       "        vertical-align: middle;\n",
       "    }\n",
       "\n",
       "    .dataframe tbody tr th {\n",
       "        vertical-align: top;\n",
       "    }\n",
       "\n",
       "    .dataframe thead th {\n",
       "        text-align: right;\n",
       "    }\n",
       "</style>\n",
       "<table border=\"1\" class=\"dataframe\">\n",
       "  <thead>\n",
       "    <tr style=\"text-align: right;\">\n",
       "      <th></th>\n",
       "      <th>headlines</th>\n",
       "      <th>text</th>\n",
       "    </tr>\n",
       "  </thead>\n",
       "  <tbody>\n",
       "    <tr>\n",
       "      <th>0</th>\n",
       "      <td>upGrad learner switches to career in ML &amp; Al w...</td>\n",
       "      <td>Saurav Kant, an alumnus of upGrad and IIIT-B's...</td>\n",
       "    </tr>\n",
       "    <tr>\n",
       "      <th>1</th>\n",
       "      <td>Delhi techie wins free food from Swiggy for on...</td>\n",
       "      <td>Kunal Shah's credit card bill payment platform...</td>\n",
       "    </tr>\n",
       "    <tr>\n",
       "      <th>2</th>\n",
       "      <td>New Zealand end Rohit Sharma-led India's 12-ma...</td>\n",
       "      <td>New Zealand defeated India by 8 wickets in the...</td>\n",
       "    </tr>\n",
       "    <tr>\n",
       "      <th>3</th>\n",
       "      <td>Aegon life iTerm insurance plan helps customer...</td>\n",
       "      <td>With Aegon Life iTerm Insurance plan, customer...</td>\n",
       "    </tr>\n",
       "    <tr>\n",
       "      <th>4</th>\n",
       "      <td>Have known Hirani for yrs, what if MeToo claim...</td>\n",
       "      <td>Speaking about the sexual harassment allegatio...</td>\n",
       "    </tr>\n",
       "  </tbody>\n",
       "</table>\n",
       "</div>"
      ],
      "text/plain": [
       "                                           headlines  \\\n",
       "0  upGrad learner switches to career in ML & Al w...   \n",
       "1  Delhi techie wins free food from Swiggy for on...   \n",
       "2  New Zealand end Rohit Sharma-led India's 12-ma...   \n",
       "3  Aegon life iTerm insurance plan helps customer...   \n",
       "4  Have known Hirani for yrs, what if MeToo claim...   \n",
       "\n",
       "                                                text  \n",
       "0  Saurav Kant, an alumnus of upGrad and IIIT-B's...  \n",
       "1  Kunal Shah's credit card bill payment platform...  \n",
       "2  New Zealand defeated India by 8 wickets in the...  \n",
       "3  With Aegon Life iTerm Insurance plan, customer...  \n",
       "4  Speaking about the sexual harassment allegatio...  "
      ]
     },
     "execution_count": 57,
     "metadata": {},
     "output_type": "execute_result"
    }
   ],
   "source": [
    "# 내용 확인\n",
    "data2.head()"
   ]
  },
  {
   "cell_type": "markdown",
   "id": "combined-sauce",
   "metadata": {},
   "source": [
    "### summarize 사용하기"
   ]
  },
  {
   "cell_type": "markdown",
   "id": "framed-background",
   "metadata": {},
   "source": [
    "#### summa의 summarize()\n",
    "\n",
    "|Args||\n",
    "|:------|:---|\n",
    "|text (str)|요약할 테스트|\n",
    "|ratio (float, optional)|요약문에서 원본에서 선택되는 문장 비율. 0~1 사이값|\n",
    "|words (int or None, optional)|출력에 포함할 단어 수.만약, ratio와 함께 두 파라미터가 모두 제공되는 경우 ratio는 무시한다.|\n",
    "|split (bool, optional)|True면 문장 list / False는 조인(join)된 문자열을 반환|\n",
    "\n",
    "* 내부적으로 문장토큰화 수행"
   ]
  },
  {
   "cell_type": "code",
   "execution_count": 61,
   "id": "imported-details",
   "metadata": {},
   "outputs": [],
   "source": [
    "text = data2['text'].apply(str)"
   ]
  },
  {
   "cell_type": "code",
   "execution_count": 128,
   "id": "disabled-device",
   "metadata": {},
   "outputs": [
    {
     "name": "stdout",
     "output_type": "stream",
     "text": [
      "Summary:\n",
      "Users get one CRED coin per rupee of bill paid, which can be used to avail rewards from brands like Ixigo, BookMyShow, UberEats, Cult.Fit and more.\n"
     ]
    }
   ],
   "source": [
    "print('Summary:')\n",
    "print(summarize(text.loc[1], ratio=0.4)) # 요약문으로 선택되는 문장의 개수, 원문의 0.005%만을 출력"
   ]
  },
  {
   "cell_type": "code",
   "execution_count": 123,
   "id": "everyday-backing",
   "metadata": {},
   "outputs": [
    {
     "name": "stdout",
     "output_type": "stream",
     "text": [
      "Summary:\n",
      "Users get one CRED coin per rupee of bill paid, which can be used to avail rewards from brands like Ixigo, BookMyShow, UberEats, Cult.Fit and more.\n"
     ]
    }
   ],
   "source": [
    "print('Summary:')\n",
    "print(summarize(text.loc[1], words=20)) # 요약문으로 선택되는 문장의 개수, 원문의 0.005%만을 출력"
   ]
  },
  {
   "cell_type": "code",
   "execution_count": 76,
   "id": "korean-degree",
   "metadata": {},
   "outputs": [],
   "source": [
    "def summarize_news(index, ratio):\n",
    "    for i in index:\n",
    "        print('[text]\\n',text.iloc[i], '\\n')\n",
    "        print('[summary]\\n',summarize(text.iloc[i], ratio=ratio),'\\n')\n",
    "        print('='*80)"
   ]
  },
  {
   "cell_type": "code",
   "execution_count": 98,
   "id": "primary-division",
   "metadata": {},
   "outputs": [
    {
     "name": "stdout",
     "output_type": "stream",
     "text": [
      "[text]\n",
      " The Confederation of Indian Industry (CII) has urged the government to not cap remunerations of independent directors under the amendments to the Companies Act, 2013. Independent directors contribute to shareholder value creation through strategy evaluation, risk management, governance and control, it further said. Caps on remuneration may discourage them from fulfilling this role, CII added. \n",
      "\n",
      "[summary]\n",
      " The Confederation of Indian Industry (CII) has urged the government to not cap remunerations of independent directors under the amendments to the Companies Act, 2013. \n",
      "\n",
      "================================================================================\n",
      "[text]\n",
      " The Central Board of Secondary Education (CBSE) today released the board examinations date sheet for the academic year 2018-19. Class 12 examinations will begin from February 15 and conclude on April 3, while Class 10 examinations will take place from February 21 to March 29. All the exams will be conducted in the morning session (10.30 am to 1.30 pm). \n",
      "\n",
      "[summary]\n",
      " The Central Board of Secondary Education (CBSE) today released the board examinations date sheet for the academic year 2018-19. \n",
      "\n",
      "================================================================================\n",
      "[text]\n",
      " Reacting to actor Naseeruddin Shah's remark that India captain Virat Kohli is the world's worst behaved cricketer, actor Suniel Shetty said he doesn't agree with Naseeruddin. \"For me, Kohli is the god of cricket when it comes to the Indian cricket team. If Indian cricket has become aggressive, they think of winning then it's because of Kohli,\" Shetty added. \n",
      "\n",
      "[summary]\n",
      " If Indian cricket has become aggressive, they think of winning then it's because of Kohli,\" Shetty added. \n",
      "\n",
      "================================================================================\n",
      "[text]\n",
      " On being asked which cricketer he would like to play onscreen, Bollywood actor Shah Rukh Khan revealed he would like to portray Team India captain Virat Kohli. \"In Jab Harry Met Sejal, I looked just like Virat Kohli. Exactly like him,\" Shah Rukh said. He added that he would like Katrina Kaif opposite him as she looks just like Anushka. \n",
      "\n",
      "[summary]\n",
      " On being asked which cricketer he would like to play onscreen, Bollywood actor Shah Rukh Khan revealed he would like to portray Team India captain Virat Kohli. \n",
      "\n",
      "================================================================================\n",
      "[text]\n",
      " Ashish Singh, the 31-year-old and 4-foot-tall Uttar Pradesh man who worked as the body double for actor Shah Rukh Khan in 'Zero', said his height became his \"biggest plus\" in his life. In 2015, Singh joined a six-month-long acting course and bagged three Bhojpuri films, which didn't do well. Zero's director Aanand L Rai later spotted Singh at an event. \n",
      "\n",
      "[summary]\n",
      " Zero's director Aanand L Rai later spotted Singh at an event. \n",
      "\n",
      "================================================================================\n",
      "[text]\n",
      " After the ICC rated the pitch used for the second Australia-India Test at Perth as 'average', Sachin Tendulkar criticised the governing body, saying \"the pitch was by no means average\". Suggesting that skills of batsmen and bowlers were truly tested in the Perth Test, Sachin added that such pitches should be frequently provided to \"revive Test cricket and generate excitement\". \n",
      "\n",
      "[summary]\n",
      "  \n",
      "\n",
      "================================================================================\n",
      "[text]\n",
      " UP Sports Minister and ex-India cricketer Chetan Chauhan has said Lord Hanuman's caste should not be discussed. Adding that gods have no caste, Chauhan said Lord Hanuman was a sportsman who used to wrestle with his enemies and wrestlers worship him as they require power and energy like him. Earlier, UP CM Yogi Adityanath said Lord Hanuman was a Dalit. \n",
      "\n",
      "[summary]\n",
      " UP Sports Minister and ex-India cricketer Chetan Chauhan has said Lord Hanuman's caste should not be discussed. \n",
      "\n",
      "================================================================================\n",
      "[text]\n",
      " California Institute of Technology researchers have created the world's smallest tic-tac-toe game in which players place their X's and O's by adding special DNA tiles to the board. \"Every move involves molecular self-reconfiguration for swapping in and out hundreds of DNA strands at once,\" a researcher said. The technology could be used to develop more sophisticated nanomachines with reconfigurable parts. \n",
      "\n",
      "[summary]\n",
      " \"Every move involves molecular self-reconfiguration for swapping in and out hundreds of DNA strands at once,\" a researcher said. \n",
      "\n",
      "================================================================================\n",
      "[text]\n",
      " A young Bengaluru couple visited a hospital with their son who required a delicate surgical procedure and demanded to do it on their own after watching a YouTube video about the procedure. The couple allegedly argued that the hospital would charge for 'unnecessary things' and only sought a nurse for help. The hospital refused to comply with the couple's demands. \n",
      "\n",
      "[summary]\n",
      " The hospital refused to comply with the couple's demands. \n",
      "\n",
      "================================================================================\n",
      "[text]\n",
      " Criticising Naseeruddin Shah for his remark, on Bulandshahr mob violence, that he fears for his children, Baba Ramdev said, \"Accusing India of religious intolerance is equal to degrading country's pride.\" \"Naseeruddin Shah has earned his popularity due to love of common people...Labelling one's own country with religious intolerance is akin to ungratefulness, disrespect and treason,\" he added.   \n",
      "\n",
      "[summary]\n",
      "  \n",
      "\n",
      "================================================================================\n",
      "[text]\n",
      " Speaking about his injury that he suffered in the second India-Australia Test, Australian batsman Aaron Finch said that he felt like his finger was going to explode after he got struck by a delivery from Mohammad Shami. \"It was a bit of a shock, just the initial pain was the thing that got me,\" Finch said about the injury. \n",
      "\n",
      "[summary]\n",
      "  \n",
      "\n",
      "================================================================================\n",
      "[text]\n",
      " Former Indian cricketer VVS Laxman picked Sourav Ganguly as the best captain he has ever played under. Laxman had made his debut under Sachin Tendulkar's captaincy and also went on to play cricket under MS Dhoni's captaincy. Laxman's famous 281-run knock against Australia at the Eden Gardens had come under Ganguly's captaincy. \n",
      "\n",
      "[summary]\n",
      " Former Indian cricketer VVS Laxman picked Sourav Ganguly as the best captain he has ever played under. \n",
      "\n",
      "================================================================================\n",
      "[text]\n",
      " ECB CEO Tom Harrison has said that he hopes that England all-rounder Ben Stokes will learn from his mistake and eventually become a better cricketer than before. Stokes had been handed a ban by the ECB after he was involved in a brawl in Bristol last year. \"Ben is a key part of the Test and ODI team,\" Harrison said. \n",
      "\n",
      "[summary]\n",
      " ECB CEO Tom Harrison has said that he hopes that England all-rounder Ben Stokes will learn from his mistake and eventually become a better cricketer than before. \n",
      "\n",
      "================================================================================\n",
      "[text]\n",
      " Former Indian cricket team captain Sourav Ganguly visited Spanish football side FC Barcelona's home ground Camp Nou where he was presented with a customised club jersey with the name 'Dada' written on the back.  A picture of Ganguly was shared by La Liga's official page on Facebook. The former Indian cricket captain also watched a match from the stands. \n",
      "\n",
      "[summary]\n",
      " Former Indian cricket team captain Sourav Ganguly visited Spanish football side FC Barcelona's home ground Camp Nou where he was presented with a customised club jersey with the name 'Dada' written on the back. \n",
      "\n",
      "================================================================================\n",
      "[text]\n",
      " The US Food and Drug Administration (FDA) has given its approval to app-connected digital inhaler ProAir Digihaler. The device uses inbuilt sensors to detect when the inhaler is used and measure the strength of the user's inhalation. It then sends this data to a companion application on the user's mobile phone using wireless Bluetooth technology.  \n",
      "\n",
      "[summary]\n",
      " The device uses inbuilt sensors to detect when the inhaler is used and measure the strength of the user's inhalation. \n",
      "\n",
      "================================================================================\n",
      "[text]\n",
      " Honda researchers have created a stuffed toy car that uses car engine sounds to calm crying babies. The researchers said the engine sounds successfully calmed 11 out of 12 babies aged six months to 1.5 years. Researchers said that the induced comfort could be a result of similarity between low-frequency engine sounds and the sounds made in the mother's womb. \n",
      "\n",
      "[summary]\n",
      " The researchers said the engine sounds successfully calmed 11 out of 12 babies aged six months to 1.5 years. \n",
      "\n",
      "================================================================================\n",
      "[text]\n",
      " Chhattisgarh Chief Minister Bhupesh Baghel on Sunday said that the state will not withdraw security forces from Maoist-hit areas in the state. He added that the immediate withdrawal of forces can prove to be a suicidal step. However, he said gun was not an answer to tackle the Naxal menace and favoured talks with violence affected people and other stakeholders. \n",
      "\n",
      "[summary]\n",
      " Chhattisgarh Chief Minister Bhupesh Baghel on Sunday said that the state will not withdraw security forces from Maoist-hit areas in the state. \n",
      "\n",
      "================================================================================\n",
      "[text]\n",
      " Uttar Pradesh BJP General Secretary Pankaj Singh on Sunday exuded confidence that the BJP will register a bigger win in the 2019 Lok Sabha elections compared to the 2014 elections. He also accused the SP and the BSP of \"doing little\" for the development of the state. Grand alliance will have no impact on the BJP's electoral prospects, he added. \n",
      "\n",
      "[summary]\n",
      " Uttar Pradesh BJP General Secretary Pankaj Singh on Sunday exuded confidence that the BJP will register a bigger win in the 2019 Lok Sabha elections compared to the 2014 elections. \n",
      "\n",
      "================================================================================\n",
      "[text]\n",
      " BJP President Amit Shah has said that Congress chief Rahul Gandhi is worried about infiltrators but not about citizens \"who die in bomb blasts conducted by infiltrators\". \"In Assam, 40 lakh infiltrators were identified. Soon Rahul baba and company started creating ruckus in the Parliament,\" Shah added. He further accused Congress of harbouring the perpetrators of 1984 anti-Sikh riots.  \n",
      "\n",
      "[summary]\n",
      " BJP President Amit Shah has said that Congress chief Rahul Gandhi is worried about infiltrators but not about citizens \"who die in bomb blasts conducted by infiltrators\". \n",
      "\n",
      "================================================================================\n",
      "[text]\n",
      " West Bengal CM Mamata Banerjee on Sunday said the average annual income of farmers in the state has tripled during the past seven years of TMC rule. While paying homage to former PM Chaudhary Charan Singh on his 116th birth anniversary, she said the day is also observed as 'Kisan Diwas'. TMC is committed to welfare of farmers, she tweeted. \n",
      "\n",
      "[summary]\n",
      " West Bengal CM Mamata Banerjee on Sunday said the average annual income of farmers in the state has tripled during the past seven years of TMC rule. \n",
      "\n",
      "================================================================================\n",
      "[text]\n",
      " Terming 'Mahagathbandhan' as a club of rich dynasties, PM Narendra Modi said that the 'grand alliance' was formed for \"personal survival\" of its leaders and not in support of an ideology. \"It is for power, and not for people,\" PM Modi added. He also highlighted that TDP, a constituent of the 'Mahagathbandhan', was formed against the \"high-handedness\" of the Congress. \n",
      "\n",
      "[summary]\n",
      " Terming 'Mahagathbandhan' as a club of rich dynasties, PM Narendra Modi said that the 'grand alliance' was formed for \"personal survival\" of its leaders and not in support of an ideology. \n",
      "\n",
      "================================================================================\n",
      "[text]\n",
      " Mukesh Ambani-led Reliance Industries on Saturday said it acquired a 5.56% equity stake in UK-based technology startup VAKT Holdings for Ã¢ÂÂ¹35 crore. Founded in 2018, the startup provides a platform for physical post-trade processing using blockchain technologies. The startup is also backed by banks including ING, Societe Generale and ABN AMRO.  \n",
      "\n",
      "[summary]\n",
      " Founded in 2018, the startup provides a platform for physical post-trade processing using blockchain technologies. \n",
      "\n",
      "================================================================================\n",
      "[text]\n",
      " Ousted Nissan Chairman Carlos Ghosn will be spending Christmas and New Year in prison after a Tokyo court on Sunday extended his detention to January 1. This comes after he was re-arrested on Friday on suspicion that he shifted over $16 million in personal losses to Nissan. Ghosn has been in jail for over a month for allegedly understating income. \n",
      "\n",
      "[summary]\n",
      " Ousted Nissan Chairman Carlos Ghosn will be spending Christmas and New Year in prison after a Tokyo court on Sunday extended his detention to January 1. \n",
      "\n",
      "================================================================================\n",
      "[text]\n",
      " UP Power Minister Shrikant Sharma stated the government will try to achieve 100% electrification in the state by end of 2018. The power department will celebrate symbolic Diwali on January 26, 2019 to mark the 100% electrification, Sharma said. He added that power department will ensure 24 and 18 hours of power supply daily for district headquarters and villages respectively. \n",
      "\n",
      "[summary]\n",
      " The power department will celebrate symbolic Diwali on January 26, 2019 to mark the 100% electrification, Sharma said. \n",
      "\n",
      "================================================================================\n",
      "[text]\n",
      " A group of 11 women, aged less than 50 years, was blocked by protestors from entering the Sabarimala Temple in Kerala on Sunday. The women had reached the Pamba base camp and were allegedly chased out of the camp by the protestors. This was the 11th attempt by women since October to enter the shrine. \n",
      "\n",
      "[summary]\n",
      " A group of 11 women, aged less than 50 years, was blocked by protestors from entering the Sabarimala Temple in Kerala on Sunday. \n",
      "\n",
      "================================================================================\n",
      "[text]\n",
      " Uttar Pradesh CM Yogi Adityanath on Sunday said only the BJP will build the Ram Mandir and no one else. While speaking in Lucknow, he added the people have to identify who are against the country and the \"youths have to be very careful\". He said those who used to call Lord Ram imaginary are now talking about his gotra. \n",
      "\n",
      "[summary]\n",
      " Uttar Pradesh CM Yogi Adityanath on Sunday said only the BJP will build the Ram Mandir and no one else. \n",
      "\n",
      "================================================================================\n",
      "[text]\n",
      " Union Home Minister Rajnath Singh on Sunday said that no country is as tolerant as India. \"India is the only country in the world where people from various prominent religions co-exist peacefully,\" he added. \"[This] has contributed in making India empowered, self-reliant and prosperous and will continue to do so,\" Singh further said. \n",
      "\n",
      "[summary]\n",
      " Union Home Minister Rajnath Singh on Sunday said that no country is as tolerant as India. \n",
      "\n",
      "================================================================================\n",
      "[text]\n",
      " Vedanta has said it would move Supreme Court to challenge Madras High Court's order to keep Sterlite copper plant shut. The court had restrained the company from reopening the Tuticorin plant despite Sterlite getting a clearance from the National Green Tribunal (NGT). Sterlite was closed by the state in May after locals protested against its planned expansion citing pollution concerns. \n",
      "\n",
      "[summary]\n",
      " Vedanta has said it would move Supreme Court to challenge Madras High Court's order to keep Sterlite copper plant shut. \n",
      "\n",
      "================================================================================\n",
      "[text]\n",
      " After being asked what he made of India captain Virat Kohli's behaviour in the ongoing Test series against Australia, head coach Ravi Shastri said, \"He has been fantastic.\" \"What's wrong with his behaviour? As far as we are concerned, he is an absolute gentleman,\" Shastri added. Notably, Kohli was criticised for sledging Australia captain Tim Paine in the second Test. \n",
      "\n",
      "[summary]\n",
      " After being asked what he made of India captain Virat Kohli's behaviour in the ongoing Test series against Australia, head coach Ravi Shastri said, \"He has been fantastic.\" \"What's wrong with his behaviour? \n",
      "\n",
      "================================================================================\n",
      "[text]\n",
      " Union Minister Nitin Gadkari has alleged that there is a \"sinister campaign\" by Opposition and a section of the media to \"twist\" his statements. \"Conspiracies to create a wedge between me and the BJP leadership will never succeed,\" he added. This comes after his remark that \"leadership should own up to defeats\" was linked to BJP's defeat in three states. \n",
      "\n",
      "[summary]\n",
      " \"Conspiracies to create a wedge between me and the BJP leadership will never succeed,\" he added. \n",
      "\n",
      "================================================================================\n",
      "[text]\n",
      " Three-time defending Champions League champions Real Madrid defeated UAE-based Al Ain 4-1 to win Club World Cup for the third consecutive time and overall a record fourth time. Real moved ahead of their Spanish rivals Barcelona as the team to have won the title the most times. Recently-crowned Ballon d'Or winner Luka ModriÃÂ scored the opening goal for Real. \n",
      "\n",
      "[summary]\n",
      " Real moved ahead of their Spanish rivals Barcelona as the team to have won the title the most times. \n",
      "\n",
      "================================================================================\n",
      "[text]\n",
      " After SAD chief Sukhbir Singh Badal criticised Congress chief Rahul Gandhi over 1984 anti-Sikh riots, Punjab CM Captain Amarinder Singh said Badal had packed his bags and left for the US for studies when the riots erupted. Earlier, Badal had criticised Gandhi for trying to mislead people by claiming that no Congress leaders were involved in the riots.  \n",
      "\n",
      "[summary]\n",
      "  \n",
      "\n",
      "================================================================================\n",
      "[text]\n",
      " An eight-year-old boy from Hyderabad, who became the youngest to climb Africa's highest peak Mount Kilimanjaro earlier this year, has now scaled Australia's highest peak Mount Kosciuszko. Samanyu Pothuraju achieved the feat on December 12 along with a team of five, including his mother and sister. \"Now, I am gearing up for Mount Fuji in Japan,\" he said. \n",
      "\n",
      "[summary]\n",
      " An eight-year-old boy from Hyderabad, who became the youngest to climb Africa's highest peak Mount Kilimanjaro earlier this year, has now scaled Australia's highest peak Mount Kosciuszko. \n",
      "\n",
      "================================================================================\n",
      "[text]\n",
      " A student of Jamia Millia Islamia has alleged that she was not allowed to appear for the UGC-NET exam after she refused to remove her hijab. Umaiyah Khan said that she was willing to be frisked privately but the authorities didn't relent. Earlier, a 24-year-old student in Goa alleged she was not allowed to give the exam over her hijab. \n",
      "\n",
      "[summary]\n",
      " A student of Jamia Millia Islamia has alleged that she was not allowed to appear for the UGC-NET exam after she refused to remove her hijab. \n",
      "\n",
      "================================================================================\n",
      "[text]\n",
      " Saudi King Salman bin Abdulaziz Al Saud's half-brother Prince Talal bin Abdulaziz has died aged 87, the royal court said on Saturday. The senior member of the Al Saud family and father of billionaire investor Alwaleed bin Talal had been ill for several years. He had been a vocal supporter of reforms in Saudi Arabia. \n",
      "\n",
      "[summary]\n",
      " Saudi King Salman bin Abdulaziz Al Saud's half-brother Prince Talal bin Abdulaziz has died aged 87, the royal court said on Saturday. \n",
      "\n",
      "================================================================================\n",
      "[text]\n",
      " An Indonesian pop band named 'Seventeen', which was performing live near the beach on Saturday, was struck by a tsunami wave triggered by a volcanic eruption. \"I just want to say that our bass player Bani and our manager Oki Wijaya passed away,\" band member Riefian Fajarsyah said. The band's drummer, guitarist and Fajarsyah's wife are missing after the incident. \n",
      "\n",
      "[summary]\n",
      " The band's drummer, guitarist and Fajarsyah's wife are missing after the incident. \n",
      "\n",
      "================================================================================\n",
      "[text]\n",
      " Christopher Watts, a 33-year-old US man who was jailed for killing his pregnant wife and two daughters, is receiving love letters from both men and women. Most women included their photos with the letters expressing love for Watts and the belief that he was innocent. \"You don't know me but I think you might want to,\" a woman's letter read. \n",
      "\n",
      "[summary]\n",
      " Most women included their photos with the letters expressing love for Watts and the belief that he was innocent. \n",
      "\n",
      "================================================================================\n",
      "[text]\n",
      " Virat Kohli, after watching his wife Anushka Sharma's 'Zero', tweeted, \"Loved Anushka's performance because I felt it was a very challenging role and she was outstanding.\" \"Saw 'Zero' and loved the entertainment it brought. I enjoyed myself. Everyone played their parts well,\" wrote Virat. Directed by Aanand L Rai, 'Zero' also stars Shah Rukh Khan and Katrina Kaif.   \n",
      "\n",
      "[summary]\n",
      " Virat Kohli, after watching his wife Anushka Sharma's 'Zero', tweeted, \"Loved Anushka's performance because I felt it was a very challenging role and she was outstanding.\" \"Saw 'Zero' and loved the entertainment it brought. \n",
      "\n",
      "================================================================================\n",
      "[text]\n",
      " Ayushmann Khurrana has said he would \"love\" to do conventional films, adding, \"I have grown up watching conventional films. I am a huge fan.\" \"I'd love to do that kind of film...but only if the script makes sense. If the script is engaging, entertaining and novel, then why not,\" added Ayushmann who made Bollywood debut with 2012 film 'Vicky Donor'.  \n",
      "\n",
      "[summary]\n",
      " Ayushmann Khurrana has said he would \"love\" to do conventional films, adding, \"I have grown up watching conventional films. \n",
      "\n",
      "================================================================================\n",
      "[text]\n",
      " Talking about the advice he has given to son Ahan Shetty who will make his Bollywood debut, Suniel Shetty said, \"I've told him to be honest with his work.\" \"I've also told him to love your producer because he's the one who invests money in films,\" added Suniel. Ahan will make debut with Hindi remake of Telugu film 'RX 100'. \n",
      "\n",
      "[summary]\n",
      "  \n",
      "\n",
      "================================================================================\n",
      "[text]\n",
      " After ICC rated the pitch in Perth Stadium as 'average', Australian pacer Mitchell Starc said, \"Just as a cricketing fan, it was a bit disappointing to see Perth pitch being rated average.\" \"I thought it was a fantastic battle between bat and ball, which is what you want in Test cricket,\" Starc said about the 2nd India-Australia Test. \n",
      "\n",
      "[summary]\n",
      "  \n",
      "\n",
      "================================================================================\n",
      "[text]\n",
      " Pakistan's opener Sharjeel Khan, who is serving a five-year ban for his role in a spot-fixing case, has agreed to undertake the rehabilitation program of the Pakistan Cricket Board. The 29-year-old, who was suspended and sent home after the start of the Pakistan Super League in February last year, will be eligible to play cricket again in September 2019. \n",
      "\n",
      "[summary]\n",
      "  \n",
      "\n",
      "================================================================================\n",
      "[text]\n",
      " Manchester United marked Ole Gunnar Solskjaer's first match in charge as their caretaker manager with a 5-1 thrashing of Cardiff City in the Premier League on Saturday. This was the first time since Sir Alex Ferguson's last match in charge in 2013 that United netted five goals in a Premier League match. United will next face Huddersfield on December 26. \n",
      "\n",
      "[summary]\n",
      " This was the first time since Sir Alex Ferguson's last match in charge in 2013 that United netted five goals in a Premier League match. \n",
      "\n",
      "================================================================================\n",
      "[text]\n",
      " Hyderabad Hunters' Indian shuttler PV Sindhu defeated her Spanish rival, Carolina Marin, while playing against the Pune 7 Aces side in the Premier Badminton League on Saturday. The Hyderabad Hunters defeated the Pune team on the day, winning the tie 6 to -1. Pune finished with a negative score since they lost their trump match. \n",
      "\n",
      "[summary]\n",
      " The Hyderabad Hunters defeated the Pune team on the day, winning the tie 6 to -1. \n",
      "\n",
      "================================================================================\n",
      "[text]\n",
      " Responding to the criticism faced by the Indian team over the team selection, coach Ravi Shastri said, \"When you are millions of miles away, it is very easy to fire blanks.\" \"Their comments are too far away and we are in the Southern hemisphere. We have to do what's best for the team, as simple as that,\" Shastri added. \n",
      "\n",
      "[summary]\n",
      "  \n",
      "\n",
      "================================================================================\n",
      "[text]\n",
      " IBM has developed an AI-based wearable fingernail sensor prototype that can help monitor human health. The wireless device uses an array of strain gauges to detect users' grip strength while conducting tasks like opening a jar or writing. It then sends this data to a smartwatch which uses machine learning to detect symptoms of diseases like Parkinson's. \n",
      "\n",
      "[summary]\n",
      " The wireless device uses an array of strain gauges to detect users' grip strength while conducting tasks like opening a jar or writing. \n",
      "\n",
      "================================================================================\n",
      "[text]\n",
      " BJP candidate Kunvarji Bavaliya on Sunday won the by-elections for Jasdan seat, taking the party's total tally in 182-member Gujarat Assembly to 100 seats. Bavaliya defeated Congress nominee Avsar Nakiya by a margin of over 19,900 votes. The by-election was necessitated after Bavaliya, who won the seat from Congress ticket in 2017, quit the party and Assembly to join BJP. \n",
      "\n",
      "[summary]\n",
      " The by-election was necessitated after Bavaliya, who won the seat from Congress ticket in 2017, quit the party and Assembly to join BJP. \n",
      "\n",
      "================================================================================\n",
      "[text]\n",
      " Two people were killed and one got injured on Sunday when a truck fell down a bridge at Gambarpull Nallah in Himachal Pradesh's Solan district. Initial investigation revealed that the truck was carrying bricks from Subathu to Kunihar in the district. The injured has been referred to Postgraduate Institute of Medical Education and Research in Chandigarh. \n",
      "\n",
      "[summary]\n",
      " Two people were killed and one got injured on Sunday when a truck fell down a bridge at Gambarpull Nallah in Himachal Pradesh's Solan district. \n",
      "\n",
      "================================================================================\n",
      "[text]\n",
      " At least three people were killed and eight injured after a portion of an under-construction building collapsed in Mumbai's Goregaon on Sunday.  A team of National Disaster Response Force (NDRF) is present at the spot and rescue operations are underway. The injured have been taken to a nearby hospital, as per reports.  \n",
      "\n",
      "[summary]\n",
      " At least three people were killed and eight injured after a portion of an under-construction building collapsed in Mumbai's Goregaon on Sunday. \n",
      "\n",
      "================================================================================\n",
      "[text]\n",
      " India on Sunday successfully test-fired nuclear strategic ballistic missile Agni-IV from Dr Abdul Kalam Island off the Odisha coast as a part of user trial by the Army. The missile has a 4,000-km strike range and is equipped with advanced avionics, 5th generation on board computer and distributed architecture. This is the seventh trial of Agni-IV missile. \n",
      "\n",
      "[summary]\n",
      " This is the seventh trial of Agni-IV missile. \n",
      "\n",
      "================================================================================\n"
     ]
    }
   ],
   "source": [
    "summarize_news(range(5000,5050), 0.4)"
   ]
  },
  {
   "cell_type": "markdown",
   "id": "southwest-terror",
   "metadata": {},
   "source": [
    "- 추출적 요약은 추상적 요약에 비해 난이도가 낮고 기존 문장에서 문장을 꺼내오는 것이므로 잘못된 요약이 나올 가능성이 비교적 낮다.\n",
    "- 뉴스의 short text는 주로 앞 문장에서 주요한 정보를 먼저 전달해주는 경우가 많다보니 추출 요약 결과로도 첫 문장을 가져다 주는 경우가 많다.\n",
    "- 네이버 요약봇도 위와 같은 결과를 뱉어주는 경우가 많은 것으로 보아 핵심적인 문장을 잘 추출한 것으로 판단된다.\n",
    "- 요약문의 크기 조정시 단어수와 비율 모두 지정된 숫자보다 핵심 문장의 단어수/비율이 적으면 결과를 뱉어주지 않으므로 적절한 숫자 산정도 중요한 요소이다."
   ]
  },
  {
   "cell_type": "markdown",
   "id": "expected-grenada",
   "metadata": {},
   "source": [
    "## 추상 요약 vs 추출 요약"
   ]
  },
  {
   "cell_type": "code",
   "execution_count": 97,
   "id": "declared-basketball",
   "metadata": {},
   "outputs": [
    {
     "name": "stdout",
     "output_type": "stream",
     "text": [
      "원문 : according forbes world billionaires list year old al heiress bettencourt named world richest woman second year net worth billion bettencourt owns third al children secured th spot list alice walton daughter mart founder named second richest woman \n",
      "실제 요약 : or al named world richest woman \n",
      "추상 요약 :  world richest woman wealth richest forbes singapore\n",
      "추출 요약 Thousands of people gathered outside Mizoram Chief Election Officer SB Shashank's residence seeking his removal from the post, weeks ahead of the Assembly elections.\n",
      "================================================================================\n",
      "\n",
      "\n",
      "원문 : rogue police officer behind helicopter attack venezuelan government buildings carried tuesday action film star named oscar perez reports said government said perez responsible firing shots grenades government buildings hijacking helicopter social media video perez said fighting vile government \n",
      "실제 요약 : helicopter attack in venezuela carried out by movie actor \n",
      "추상 요약 :  police bomb blast at world channel for nd time\n",
      "추출 요약 As Congress emerged victorious in Chhattisgarh and the single largest party in Madhya Pradesh and Rajasthan, MNS chief Raj Thackeray said, \"Rahul Gandhi was alone in Gujarat, even in Karnataka and now too.\n",
      "================================================================================\n",
      "\n",
      "\n",
      "원문 : workers india vulnerable employment according report international labour organisation india million labour force million poor quality jobs added report said number india increase million million \n",
      "실제 요약 : indian workers to have vulnerable employment by \n",
      "추상 요약 :  indians in india to work in india report\n",
      "추출 요약 The European Union antitrust regulators have asked GoogleÃ¢ÂÂs rivals if Google unfairly demotes local search competitors, according to Reuters.\n",
      "================================================================================\n",
      "\n",
      "\n",
      "원문 : priyanka chopra took instagram share story seen posing ring shaped balloon trolling people engagement ring priyanka wrote oh ring priyanka reportedly surprised team members sets upcoming film sky pink celebrate engagement nick jonas \n",
      "실제 요약 : oh that ring priyanka trolls people about engagement ring \n",
      "추상 요약 :  priyanka chopra shares picture with priyanka at her wedding\n",
      "추출 요약 More than 25,000 constables have been promoted to the post of head constable in the biggest mass promotion in Uttar Pradesh Police.\n",
      "================================================================================\n",
      "\n",
      "\n",
      "원문 : central railway services mumbai central line harbour line shut due water logging along tracks caused heavy rainfall city monday night tuesday morning trains plying western line reportedly terminated andheri notably lakh commuters use mumbai suburban railway services daily \n",
      "실제 요약 : mumbai train services shut down due to heavy rains \n",
      "추상 요약 :  mumbai central railway to start water services\n",
      "추출 요약 The loan, $15 billion of which has already been received by Argentina, will be disbursed over the next three years.\n",
      "================================================================================\n",
      "\n",
      "\n",
      "원문 : american singer nick jonas instagram story shared video rumoured girlfriend priyanka chopra visit india video captioned followed heart eye emoji shows priyanka walking towards camera nick arrived india priyanka thursday also met mother madhu chopra \n",
      "실제 요약 : nick shares rumoured girlfriend priyanka clip from india visit \n",
      "추상 요약 :  nick jonas shares old picture with priyanka chopra\n",
      "추출 요약 The European Parliament on Wednesday approved a free trade deal between Japan and the European Union, which is believed to be the world's largest free trade agreement.\n",
      "================================================================================\n",
      "\n",
      "\n",
      "원문 : handshake battle us president donald trump made international headlines french president emmanuel macron said sunday handshake innocent macron called handshake moment truth saying meant show macron added trump sees relationships terms balance power \n",
      "실제 요약 : my handshake with trump was not innocent french president \n",
      "추상 요약 :  trump calls for macron macron\n",
      "추출 요약 Salman Khan, who was shooting for his upcoming film 'Bharat' in Punjab, got injured while on the sets of the film and flew back to Mumbai, as per reports.\n",
      "================================================================================\n",
      "\n",
      "\n",
      "원문 : indian coach anil kumble reportedly proposed salary hike players given grade contracts bcci suggested hike take salary crore per annum bcci doubled pay crore crore earlier seven players including virat kohli ms dhoni ravichandran ashwin grade contracts \n",
      "실제 요약 : kumble proposes pay hike for players reports \n",
      "추상 요약 :  kumble paid salary hike for players to pay hike reports\n",
      "추출 요약 A statue of former Indian captain MS Dhoni has been unveiled at a wax museum in Jaipur.\n",
      "================================================================================\n",
      "\n",
      "\n",
      "원문 : salman khan become first bollywood actor three films crore club film tiger zinda hai crossed milestone th day release salman films crore club bajrangi bhaijaan sultan tiger zinda hai earned crore within three days release \n",
      "실제 요약 : salman st bollywood actor with films in crore club \n",
      "추상 요약 :  salman khan becomes nd highest grossing film in bollywood\n",
      "추출 요약 Responding to the bent iPad Pro controversy, Apple in a new support page said, \"[N]ew straight edges and presence of antenna splits (in iPad Pro) may make subtle deviations in flatness more visible\".\n",
      "================================================================================\n",
      "\n",
      "\n",
      "원문 : seven labourers working weather highway development project crushed death following landslide kedarnath uttarakhand district said district magistrate five others critically injured admitted hospital police state disaster response force launched rescue operations \n",
      "실제 요약 : labourers working on project killed in landslide \n",
      "추상 요약 :  killed in stampede at stampede plant in rajasthan\n",
      "추출 요약 A forest department official on Sunday said two lion cubs were found dead in different parts of Gir forest in Gujarat's Amreli district.\n",
      "================================================================================\n",
      "\n",
      "\n"
     ]
    }
   ],
   "source": [
    "for i in test_idx:\n",
    "    print(\"원문 :\", seq2text(encoder_input_test[i]))\n",
    "    print(\"실제 요약 :\", seq2summary(decoder_input_test[i]))\n",
    "    print(\"추상 요약 :\", decode_sequence(encoder_input_test[i].reshape(1, text_max_len)))\n",
    "    print('추출 요약',summarize(text.iloc[i], ratio=0.5))\n",
    "    print('='*80)\n",
    "    print(\"\\n\")"
   ]
  },
  {
   "cell_type": "markdown",
   "id": "mental-snowboard",
   "metadata": {},
   "source": [
    "***"
   ]
  },
  {
   "cell_type": "markdown",
   "id": "daily-fellow",
   "metadata": {},
   "source": [
    "## 프로젝트 정리"
   ]
  },
  {
   "cell_type": "code",
   "execution_count": null,
   "id": "geographic-trunk",
   "metadata": {},
   "outputs": [],
   "source": [
    "더 해볼것: 어텐션에 관련하여 https://ratsgo.github.io/natural%20language%20processing/2017/10/22/manning/"
   ]
  }
 ],
 "metadata": {
  "kernelspec": {
   "display_name": "Python 3",
   "language": "python",
   "name": "python3"
  },
  "language_info": {
   "codemirror_mode": {
    "name": "ipython",
    "version": 3
   },
   "file_extension": ".py",
   "mimetype": "text/x-python",
   "name": "python",
   "nbconvert_exporter": "python",
   "pygments_lexer": "ipython3",
   "version": "3.7.9"
  }
 },
 "nbformat": 4,
 "nbformat_minor": 5
}
