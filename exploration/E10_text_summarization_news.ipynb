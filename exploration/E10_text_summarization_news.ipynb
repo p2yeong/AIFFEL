{
 "cells": [
  {
   "cell_type": "markdown",
   "id": "dietary-second",
   "metadata": {},
   "source": [
    "# 뉴스 요약봇 만들기📰"
   ]
  },
  {
   "cell_type": "markdown",
   "id": "together-relief",
   "metadata": {},
   "source": [
    "## 학습 목표\n",
    "- Extractive/Abstractive summarization 이해하기\n",
    "- 단어장 크기를 줄이는 다양한 text normalization 적용해보기\n",
    "- seq2seq의 성능을 Up시키는 Attention Mechanism 적용하기"
   ]
  },
  {
   "cell_type": "markdown",
   "id": "dense-species",
   "metadata": {},
   "source": [
    "***"
   ]
  },
  {
   "cell_type": "markdown",
   "id": "necessary-victory",
   "metadata": {},
   "source": [
    "## 목차\n",
    "- 텍스트 요약 개념 정리\n",
    "- 추상적 요약\n",
    "    - 데이터 수집\n",
    "    - 데이터 전처리\n",
    "    - 모델 설계 및 훈련\n",
    "        - 어텐션 메커니즘 사용하기\n",
    "    - 실제 결과와 요약문 비교하기\n",
    "- 추출적 요약\n",
    "- 추상적 요약과 추출적 요약 비교\n",
    "- 프로젝트 정리"
   ]
  },
  {
   "cell_type": "markdown",
   "id": "parallel-calendar",
   "metadata": {},
   "source": [
    "## 텍스트 요약(Text Summarization)이란?\n",
    "\n",
    "- Document 원문을 핵심 주제만으로 구성된 짧은 Summary 문장들로 변화하는 것을 말한다.\n",
    "-  예)뉴스 기사로 뉴스 제목 생성\n",
    "- 요약 전후에 정보 손실 발생이 최소화 되어야 한다\n",
    "\n",
    "### 추출적 요약(Extractive Summarization)\n",
    "- 원문에서 __문장들을 추출__해서 요약하는 방식\n",
    "- 예)10개의 문장으로 구성된 텍스트에서 핵심적인 문장 3개를 꺼내온다\n",
    "- Text Classification 문제로 볼 수 있다\n",
    "- 문장들 간의 호응이 자연스럽지 않을 수 있다\n",
    "- 주로 ML인 텍스트 랭크(TextRank) 같은 알고리즘을 사용한다\n",
    "- 사례)네이버 뉴스 서비스 요약봇\n",
    "\n",
    "![요약봇](https://media.vlpt.us/images/dev_halo/post/fc1bf96f-0877-4db1-a4ee-a4a67f3e9c6c/20171128000144_0640.png)\n",
    "\n",
    "### 추상적 요약(Abxtractive Summarization)\n",
    "- 원문에서 내용이 요약된 __새로운 문장을 생성__하는 방식\n",
    "- Natural Language Generation의 영역\n",
    "\n",
    "### Seq2seq\n",
    "\n",
    "- 두 개의 RNN 아키텍처를 사용하여 입력 시퀀스로 부터 출력 시퀀스를 생성해내는 모델\n",
    "- 원문을 encoder(1st RNN)으로 입력하면 하나의 고정된 벡터로 변환(context vector)\n",
    "- decoder(2nd RNN)은 context vector을 입력으로 받아 한 단어씩 생성해내서 요약 문장을 완성한다.\n",
    "\n",
    "- encoder, decoder로 __LSTM__을 사용 → time step의 셀에 hidden state와 cell state가 함께 전달(context vector에도 hidden state와 cell state 모두 존재)\n",
    "- 데이터의 예측 대상 시퀀스의 앞, 뒤에는 __시작 토큰과 종료 토큰__을 넣어주는 전처리를 해주어 어디서 멈춰야 하는지를 알려줄 필요가 있다.\n",
    "- __Attention Mechanism__은 encoder의 모든 step의 hidden state의 정보가 context vector에 전부 반영되도록 하는 것\n",
    "- decoder의 현재 스텝에 따라 동적으로 달라지는 encoder의 context vector를 사용해서 현재의 예측에 활용하면, decoder가 좀 더 정확한 예측을 할 수 있게 된다."
   ]
  },
  {
   "cell_type": "markdown",
   "id": "growing-counter",
   "metadata": {},
   "source": [
    "***"
   ]
  },
  {
   "cell_type": "markdown",
   "id": "textile-roads",
   "metadata": {},
   "source": [
    "# 추상적 요약"
   ]
  },
  {
   "cell_type": "code",
   "execution_count": 1,
   "id": "purple-surrey",
   "metadata": {},
   "outputs": [
    {
     "name": "stderr",
     "output_type": "stream",
     "text": [
      "[nltk_data] Downloading package stopwords to /aiffel/nltk_data...\n",
      "[nltk_data]   Package stopwords is already up-to-date!\n"
     ]
    },
    {
     "name": "stdout",
     "output_type": "stream",
     "text": [
      "=3\n"
     ]
    }
   ],
   "source": [
    "import nltk\n",
    "nltk.download('stopwords')\n",
    "\n",
    "import numpy as np\n",
    "import pandas as pd\n",
    "import os\n",
    "import re\n",
    "import matplotlib.pyplot as plt\n",
    "from nltk.corpus import stopwords\n",
    "from bs4 import BeautifulSoup \n",
    "import tensorflow as tf\n",
    "from tensorflow.keras.preprocessing.text import Tokenizer \n",
    "from tensorflow.keras.preprocessing.sequence import pad_sequences\n",
    "import urllib.request\n",
    "\n",
    "print('=3')"
   ]
  },
  {
   "cell_type": "markdown",
   "id": "sustained-movie",
   "metadata": {},
   "source": [
    "## 1. 데이터 준비"
   ]
  },
  {
   "cell_type": "markdown",
   "id": "guided-lafayette",
   "metadata": {},
   "source": [
    "- 사용 데이터: [New_Summary](https://github.com/sunnysai12345/News_Summary)\n",
    "    - 데이터 세트는 4515개의 예시로 구성\n",
    "    - Author_name, Headlines, Url of Article, Short text, Complete Article을 포함<br>(이 중 headlines, text만 사용)\n",
    "    - 인쇼츠에서 요약된 뉴스를 모아서 힌두, 인디언 타임즈, 가디언 뉴스 기사만 스크랩\n",
    "    - 기간: 2017년 2월부터 8월까지"
   ]
  },
  {
   "cell_type": "code",
   "execution_count": 2,
   "id": "isolated-distinction",
   "metadata": {},
   "outputs": [],
   "source": [
    "# 데이터 다운로드\n",
    "import urllib.request\n",
    "urllib.request.urlretrieve(\"https://raw.githubusercontent.com/sunnysai12345/News_Summary/master/news_summary_more.csv\", filename=\"news_summary_more.csv\")\n",
    "data = pd.read_csv('news_summary_more.csv', encoding='iso-8859-1')"
   ]
  },
  {
   "cell_type": "code",
   "execution_count": 3,
   "id": "adaptive-quarterly",
   "metadata": {},
   "outputs": [
    {
     "data": {
      "text/html": [
       "<div>\n",
       "<style scoped>\n",
       "    .dataframe tbody tr th:only-of-type {\n",
       "        vertical-align: middle;\n",
       "    }\n",
       "\n",
       "    .dataframe tbody tr th {\n",
       "        vertical-align: top;\n",
       "    }\n",
       "\n",
       "    .dataframe thead th {\n",
       "        text-align: right;\n",
       "    }\n",
       "</style>\n",
       "<table border=\"1\" class=\"dataframe\">\n",
       "  <thead>\n",
       "    <tr style=\"text-align: right;\">\n",
       "      <th></th>\n",
       "      <th>headlines</th>\n",
       "      <th>text</th>\n",
       "    </tr>\n",
       "  </thead>\n",
       "  <tbody>\n",
       "    <tr>\n",
       "      <th>71390</th>\n",
       "      <td>Surgical strike a message that we can cross Lo...</td>\n",
       "      <td>Lieutenant General Devraj Anbu on Thursday sai...</td>\n",
       "    </tr>\n",
       "    <tr>\n",
       "      <th>3394</th>\n",
       "      <td>Nearby galaxy to collide with Milky Way in 2.5...</td>\n",
       "      <td>Durham University astrophysicists have suggest...</td>\n",
       "    </tr>\n",
       "    <tr>\n",
       "      <th>36255</th>\n",
       "      <td>Rats 68% better at spotting TB than FDA-approv...</td>\n",
       "      <td>A Tanzania-based study found that rats can sni...</td>\n",
       "    </tr>\n",
       "    <tr>\n",
       "      <th>19006</th>\n",
       "      <td>Eminem's rap song for 'Venom' mentions Gandhi,...</td>\n",
       "      <td>Rapper Eminem has mentioned Mahatma Gandhi and...</td>\n",
       "    </tr>\n",
       "    <tr>\n",
       "      <th>39612</th>\n",
       "      <td>Russian accidentally digs up bones of partner'...</td>\n",
       "      <td>A Russian man, while digging a vegetable patch...</td>\n",
       "    </tr>\n",
       "    <tr>\n",
       "      <th>61324</th>\n",
       "      <td>Over 900 booked for drunken driving in 20 hrs ...</td>\n",
       "      <td>Over 900 people were caught on Saturday for dr...</td>\n",
       "    </tr>\n",
       "    <tr>\n",
       "      <th>97979</th>\n",
       "      <td>Who was Ashwin Sundar, the racer who died in a...</td>\n",
       "      <td>Professional car racer Ashwin Sundar, who died...</td>\n",
       "    </tr>\n",
       "    <tr>\n",
       "      <th>97965</th>\n",
       "      <td>LG sued over flaw that made smartphones unusable</td>\n",
       "      <td>Electronics company LG has been sued by four G...</td>\n",
       "    </tr>\n",
       "    <tr>\n",
       "      <th>91032</th>\n",
       "      <td>US families receive Iran payouts, decades afte...</td>\n",
       "      <td>American families of people killed in the 1983...</td>\n",
       "    </tr>\n",
       "    <tr>\n",
       "      <th>52381</th>\n",
       "      <td>Google Duo lets users call others who don't ha...</td>\n",
       "      <td>Google has launched an update for its video ch...</td>\n",
       "    </tr>\n",
       "  </tbody>\n",
       "</table>\n",
       "</div>"
      ],
      "text/plain": [
       "                                               headlines  \\\n",
       "71390  Surgical strike a message that we can cross Lo...   \n",
       "3394   Nearby galaxy to collide with Milky Way in 2.5...   \n",
       "36255  Rats 68% better at spotting TB than FDA-approv...   \n",
       "19006  Eminem's rap song for 'Venom' mentions Gandhi,...   \n",
       "39612  Russian accidentally digs up bones of partner'...   \n",
       "61324  Over 900 booked for drunken driving in 20 hrs ...   \n",
       "97979  Who was Ashwin Sundar, the racer who died in a...   \n",
       "97965   LG sued over flaw that made smartphones unusable   \n",
       "91032  US families receive Iran payouts, decades afte...   \n",
       "52381  Google Duo lets users call others who don't ha...   \n",
       "\n",
       "                                                    text  \n",
       "71390  Lieutenant General Devraj Anbu on Thursday sai...  \n",
       "3394   Durham University astrophysicists have suggest...  \n",
       "36255  A Tanzania-based study found that rats can sni...  \n",
       "19006  Rapper Eminem has mentioned Mahatma Gandhi and...  \n",
       "39612  A Russian man, while digging a vegetable patch...  \n",
       "61324  Over 900 people were caught on Saturday for dr...  \n",
       "97979  Professional car racer Ashwin Sundar, who died...  \n",
       "97965  Electronics company LG has been sued by four G...  \n",
       "91032  American families of people killed in the 1983...  \n",
       "52381  Google has launched an update for its video ch...  "
      ]
     },
     "execution_count": 3,
     "metadata": {},
     "output_type": "execute_result"
    }
   ],
   "source": [
    "# 데이터 확인\n",
    "data.sample(10)"
   ]
  },
  {
   "cell_type": "markdown",
   "id": "separate-lesbian",
   "metadata": {},
   "source": [
    "text를 본문, headlines를 요약된 데이터로 삼아 모델을 학습해본다,"
   ]
  },
  {
   "cell_type": "code",
   "execution_count": 4,
   "id": "pediatric-integration",
   "metadata": {},
   "outputs": [],
   "source": [
    "data = data[['text', 'headlines']]\n",
    "data.rename(columns = {'text': 'Text', 'headlines': 'Summary'}, inplace = True)"
   ]
  },
  {
   "cell_type": "markdown",
   "id": "average-cancellation",
   "metadata": {},
   "source": [
    "## 2. 데이터 전처리"
   ]
  },
  {
   "cell_type": "markdown",
   "id": "stable-journal",
   "metadata": {},
   "source": [
    "### 2.1 중복 샘플 및 NULL 값 제거\n",
    "신문기사 헤드라인의 경우 해당 사건의 요약문 이기 때문에 다른 샘플이어도 중복될 수 있다고 생각된다.그러나 text가 중복된 경우는 중복 샘플로 판단되므로 text의 중복샘플을 제거한다."
   ]
  },
  {
   "cell_type": "code",
   "execution_count": 5,
   "id": "becoming-welsh",
   "metadata": {},
   "outputs": [
    {
     "name": "stdout",
     "output_type": "stream",
     "text": [
      "Text 열에서 중복을 배제한 유일한 샘플의 수 : 98360\n",
      "Summary 열에서 중복을 배제한 유일한 샘플의 수 : 98280\n"
     ]
    }
   ],
   "source": [
    "# 중복 샘플 유무 확인\n",
    "print('Text 열에서 중복을 배제한 유일한 샘플의 수 :', data['Text'].nunique())\n",
    "print('Summary 열에서 중복을 배제한 유일한 샘플의 수 :', data['Summary'].nunique())"
   ]
  },
  {
   "cell_type": "code",
   "execution_count": 6,
   "id": "behavioral-gilbert",
   "metadata": {},
   "outputs": [
    {
     "name": "stdout",
     "output_type": "stream",
     "text": [
      "Isha Ambani features on February cover of Vogue magazine\n",
      "Indian Oil looking for annual deal to buy crude from US\n",
      "David Beckham once scored a 60-yard goal from his own half\n",
      "Sachin once fielded for Pakistan before making India debut\n",
      "Iraq launches air strikes against ISIS in Syria\n",
      "500-kg World War II bomb defused in Germany\n",
      "Murali picked up 800th Test wicket on career's last ball\n",
      "What is polar vortex, setting temperatures in US below Antarctica?\n",
      "DMRC reserves 1st coach in all lines, except Red, for women\n",
      "CARS24 enables car owners to sell their cars in less than 2 hours\n",
      "Gautam Gambhir once gave his Man of the Match award to Virat Kohli\n",
      "Pacer once took 7 wickets for just 1 run in 32 balls in a Test\n",
      "Suzuki Connect helps you connect to your car seamlessly\n",
      "Don Bradman once scored 100 runs in 3 overs\n",
      "Indian spinner once bowled record 21 maiden overs in a row\n",
      "Notice to Domino's for not passing GST benefit to customers\n",
      "Mukesh Ambani's son Akash gets engaged to Shloka Mehta\n",
      "World Cup's highest scorer is nicknamed Marty Two Toes\n",
      "Stolen football World Cup trophy was found by a dog in 1966\n",
      "A solar eclipse once proved Einstein right, Newton wrong\n",
      "A footballer once helped end civil war in his country\n",
      "Three astronauts return to Earth after 168 days in space\n",
      "Warne rightly predicted India-Eng 2011 WC match to be a tie\n",
      "Sridevi was paid more than Rajinikanth for a 1976 Tamil film\n",
      "Dhoni sets record for most catches by a wicketkeeper in T20s\n",
      "Shahid Kapoor shares pic from sets of Batti Gul Meter Chalu\n",
      "Srinath bowled wide to help Kumble get 10-wicket haul\n",
      "Ronaldo had surgery for heart issue at 15 to save his career\n",
      "Mughal Gardens to open for public from February 6\n",
      "Longest Test innings was longer than 10 football games\n",
      "Buzz Aldrin once punched a man for calling Moon landing hoax\n",
      "AB de Villiers hit ODIs' fastest hundred in 40 minutes\n",
      "Ronaldinho once scored all 23 goals in his side's 23-0 win\n",
      "Dravid spent 44,152 min at crease, most for any Test batsman\n",
      "HG Khorana is the only India-born Medicine Nobel Laureate\n",
      "What led to the birth of One Day International cricket?\n",
      "Captain once dropped himself, replacement broke his ribs\n",
      "ISRO founder Vikram Sarabhai had brought cable TV to India\n",
      "India's highest ODI and T20I totals came at the same stadium\n",
      "How can a Test end as drawn, not tied when scores are level?\n",
      "India marks National Mathematics Day in memory of Ramanujan\n",
      "Rohit has hit India's highest ODI score each year since 2013\n",
      "Why is December 4 celebrated as Indian Navy Day?\n",
      "Indian bowler once took 2 hat-tricks in a single innings\n",
      "Veteran actor Dilip Kumar diagnosed with pneumonia\n",
      "Indian scientist JC Bose was first to prove plants have life\n",
      "Why is England-Australia Test series called 'The Ashes'?\n",
      "PelÃÂ© was the 1st footballer in history to score 1,000 goals\n",
      "Sachin's debut was not telecast in India due to elections\n",
      "Who is the cricketer with longest known surname in history?\n",
      "An ODI was once played in the middle of a Test match\n",
      "Virat Kohli took a wicket on the 0th ball of his T20I career\n",
      "Don Bradman once scored 100 runs in 3 overs\n",
      "Bhabha convinced PM Nehru to start India's nuclear programme\n",
      "Irfan Pathan took Test history's only first-over hat-trick\n",
      "WeWork offers collaborative co-working space for companies\n",
      "Geoffrey Boycott faced the first-ever ball of ODI cricket\n",
      "'Merchant of death' title inspired founding of Nobel Prizes\n",
      "Gambhir top scored in India's 2007 and 2011 World Cup finals\n",
      "What is the Yo-Yo test, compulsory for Team India selection?\n",
      "Hayden took 10 hours to slam then highest Test score of 380\n",
      "What gets cheaper after the revised GST rates?\n",
      "16-yr-old Afridi hit then-fastest ODI ton with Sachin's bat\n",
      "What are some of CERN's most notable achievements?\n",
      "Who are the most powerful women in business?\n",
      "Chris Gayle only batsman to hit a six off a Test's 1st ball\n",
      "Cheque books of six banks that merged with SBI to be invalid\n",
      "Yuvraj only player to hit 6 sixes in 1 over off pace bowling\n",
      "3 pairs of brothers once played for the same team in a Test\n",
      "Inzamam once attacked fan with bat for calling him 'aalu'\n",
      "Warne rightly predicted India-Eng 2011 WC match to be a tie\n",
      "Sachin scored his first ODI century in his 79th match\n",
      "Garry Sobers got out on duck in his career's only ODI match\n",
      "Virat Kohli came to bat the same day his father passed away\n",
      "Warne produced 'ball of century' with his 1st Ashes delivery\n",
      "Eng players once flew planes over stadium during their match\n",
      "New poster of Sonam, Kareena starrer 'Veere Di Wedding' out\n",
      "Indian spinner once bowled record 21 maiden overs in a row\n",
      "Batsman's helmet goes flying after being struck by a bouncer\n",
      "1st bowler hit for 6 sixes in 1 over was pacer bowling spin\n",
      "Why is England-Australia Test series called 'The Ashes'?\n",
      "A solar eclipse once proved Einstein right, Newton wrong\n",
      "Bradman averaged 101.39 before last Test, ended with 99.94\n",
      "How do elections to the Rajya Sabha take place?\n",
      "Veteran actor Dilip Kumar discharged from hospital\n",
      "A Japanese man survived both Hiroshima & Nagasaki atom bombs\n",
      "Federer was gifted a cow after 1st Wimbledon title in 2003\n",
      "Federer has never retired from a professional tennis match\n",
      "Int'l cricket's only all-LBW hat-trick came against India\n",
      "Kapil Dev was 1st to hit 4 consecutive sixes in a Test match\n",
      "Jayawardene-Sangakkara's record 624-run stand lasted 10 hrs\n",
      "1st player to hit 6 sixes in 1 over was born with 12 fingers\n",
      "CARS24 enables car owners to sell their cars in less than 2 hours\n",
      "Reebok launches FlexWeave technology in its latest running range\n",
      "Sensex, Nifty close at all-time high\n",
      "Nelson Mandela was the first black President of South Africa\n",
      "Katrina only B'wood actress to be crafted into a Barbie doll\n",
      "Soldier martyred in ceasefire violation by Pakistan in J&K\n",
      "Ganguly called his shirt-waving celebration a 'big mistake'\n",
      "Nikola Tesla once worked for his arch rival Thomas Edison\n",
      "1st Wimbledon was organised to fund repair of ground roller\n",
      "Bail flew exactly 61.4 metres away twice in cricket history\n",
      "India is Afghanistan's most reliable regional partner: US\n",
      "Northern Hemisphere witnesses longest day of the year today\n",
      "Warne produced 'ball of century' with his 1st Ashes delivery\n",
      "Nuclear-capable Prithvi-II missile successfully test-fired\n",
      "Amla fastest to 2000, 3000, 4000, 5000, 6000, 7000 ODI runs\n",
      "First 300-run partnership came after 28 years of ODI cricket\n",
      "4 Indian batsmen once put up a 408-run stand for 1st wicket\n",
      "Why is May 11 observed as the National Technology Day?\n",
      "Why is 1729 known as Ramanujan's number?\n",
      "Charles Darwin did not coin phrase 'survival of the fittest'\n",
      "Vijay Mallya arrested in London\n",
      "Einstein offered Nobel Prize money in divorce before winning\n",
      "Charlie Chaplin's daughter played his mother in his biopic\n",
      "Leonardo da Vinci was first to explain why the sky is blue\n",
      "Parveen Babi was 1st Indian film star on TIME magazine cover\n",
      "Sachin had not let Sehwag watch 2011 World Cup final live\n",
      "How did the tradition of April Fools' Day originate?\n",
      "Sachin first opened in ODIs due to Sidhu's 'stiff neck'\n",
      "Who are the richest women in the world?\n"
     ]
    }
   ],
   "source": [
    "# 중복된 값 확인\n",
    "for i in data.Summary[data['Summary'].duplicated()]:\n",
    "    print(i)"
   ]
  },
  {
   "cell_type": "code",
   "execution_count": 7,
   "id": "fatty-render",
   "metadata": {},
   "outputs": [
    {
     "name": "stdout",
     "output_type": "stream",
     "text": [
      "전체 샘플수 : 98360\n"
     ]
    }
   ],
   "source": [
    "# 중복 샘플 제거\n",
    "# inplace=True 를 설정하면 DataFrame 타입 값을 return 하지 않고 data 내부를 직접적으로 바꿉니다\n",
    "data.drop_duplicates(subset = ['Text'], inplace=True)\n",
    "print('전체 샘플수 :', (len(data)))"
   ]
  },
  {
   "cell_type": "code",
   "execution_count": 8,
   "id": "continuing-patrol",
   "metadata": {},
   "outputs": [
    {
     "name": "stdout",
     "output_type": "stream",
     "text": [
      "Text       0\n",
      "Summary    0\n",
      "dtype: int64\n"
     ]
    }
   ],
   "source": [
    "# 데이터의 NULL값 확인\n",
    "print(data.isnull().sum())"
   ]
  },
  {
   "cell_type": "code",
   "execution_count": 9,
   "id": "attempted-scanning",
   "metadata": {},
   "outputs": [
    {
     "name": "stdout",
     "output_type": "stream",
     "text": [
      "전체 샘플수 : 98360\n"
     ]
    }
   ],
   "source": [
    "## NULL값 제거\n",
    "data.dropna(axis=0, inplace=True)\n",
    "print('전체 샘플수 :', (len(data)))"
   ]
  },
  {
   "cell_type": "markdown",
   "id": "isolated-mirror",
   "metadata": {},
   "source": [
    "### 2.2 텍스트 정규화와 불용어 제거"
   ]
  },
  {
   "cell_type": "markdown",
   "id": "lovely-assistant",
   "metadata": {},
   "source": [
    "__텍스트 정규화(Text normalization)__ : 같은 의미인데 다른 표현으로 쓰여 다른 단어로 간주되는 경우\n",
    "학습전에 미리 같은 표현으로 통일 시켜주어 연산량을 줄인다."
   ]
  },
  {
   "cell_type": "code",
   "execution_count": 10,
   "id": "junior-phrase",
   "metadata": {},
   "outputs": [
    {
     "name": "stdout",
     "output_type": "stream",
     "text": [
      "정규화 사전의 수:  120\n"
     ]
    }
   ],
   "source": [
    "# 텍스트 정규화를 위한 사전\n",
    "contractions = {\"ain't\": \"is not\", \"aren't\": \"are not\",\"can't\": \"cannot\", \"'cause\": \"because\", \"could've\": \"could have\", \"couldn't\": \"could not\",\n",
    "                           \"didn't\": \"did not\",  \"doesn't\": \"does not\", \"don't\": \"do not\", \"hadn't\": \"had not\", \"hasn't\": \"has not\", \"haven't\": \"have not\",\n",
    "                           \"he'd\": \"he would\",\"he'll\": \"he will\", \"he's\": \"he is\", \"how'd\": \"how did\", \"how'd'y\": \"how do you\", \"how'll\": \"how will\", \"how's\": \"how is\",\n",
    "                           \"I'd\": \"I would\", \"I'd've\": \"I would have\", \"I'll\": \"I will\", \"I'll've\": \"I will have\",\"I'm\": \"I am\", \"I've\": \"I have\", \"i'd\": \"i would\",\n",
    "                           \"i'd've\": \"i would have\", \"i'll\": \"i will\",  \"i'll've\": \"i will have\",\"i'm\": \"i am\", \"i've\": \"i have\", \"isn't\": \"is not\", \"it'd\": \"it would\",\n",
    "                           \"it'd've\": \"it would have\", \"it'll\": \"it will\", \"it'll've\": \"it will have\",\"it's\": \"it is\", \"let's\": \"let us\", \"ma'am\": \"madam\",\n",
    "                           \"mayn't\": \"may not\", \"might've\": \"might have\",\"mightn't\": \"might not\",\"mightn't've\": \"might not have\", \"must've\": \"must have\",\n",
    "                           \"mustn't\": \"must not\", \"mustn't've\": \"must not have\", \"needn't\": \"need not\", \"needn't've\": \"need not have\",\"o'clock\": \"of the clock\",\n",
    "                           \"oughtn't\": \"ought not\", \"oughtn't've\": \"ought not have\", \"shan't\": \"shall not\", \"sha'n't\": \"shall not\", \"shan't've\": \"shall not have\",\n",
    "                           \"she'd\": \"she would\", \"she'd've\": \"she would have\", \"she'll\": \"she will\", \"she'll've\": \"she will have\", \"she's\": \"she is\",\n",
    "                           \"should've\": \"should have\", \"shouldn't\": \"should not\", \"shouldn't've\": \"should not have\", \"so've\": \"so have\",\"so's\": \"so as\",\n",
    "                           \"this's\": \"this is\",\"that'd\": \"that would\", \"that'd've\": \"that would have\", \"that's\": \"that is\", \"there'd\": \"there would\",\n",
    "                           \"there'd've\": \"there would have\", \"there's\": \"there is\", \"here's\": \"here is\",\"they'd\": \"they would\", \"they'd've\": \"they would have\",\n",
    "                           \"they'll\": \"they will\", \"they'll've\": \"they will have\", \"they're\": \"they are\", \"they've\": \"they have\", \"to've\": \"to have\",\n",
    "                           \"wasn't\": \"was not\", \"we'd\": \"we would\", \"we'd've\": \"we would have\", \"we'll\": \"we will\", \"we'll've\": \"we will have\", \"we're\": \"we are\",\n",
    "                           \"we've\": \"we have\", \"weren't\": \"were not\", \"what'll\": \"what will\", \"what'll've\": \"what will have\", \"what're\": \"what are\",\n",
    "                           \"what's\": \"what is\", \"what've\": \"what have\", \"when's\": \"when is\", \"when've\": \"when have\", \"where'd\": \"where did\", \"where's\": \"where is\",\n",
    "                           \"where've\": \"where have\", \"who'll\": \"who will\", \"who'll've\": \"who will have\", \"who's\": \"who is\", \"who've\": \"who have\",\n",
    "                           \"why's\": \"why is\", \"why've\": \"why have\", \"will've\": \"will have\", \"won't\": \"will not\", \"won't've\": \"will not have\",\n",
    "                           \"would've\": \"would have\", \"wouldn't\": \"would not\", \"wouldn't've\": \"would not have\", \"y'all\": \"you all\",\n",
    "                           \"y'all'd\": \"you all would\",\"y'all'd've\": \"you all would have\",\"y'all're\": \"you all are\",\"y'all've\": \"you all have\",\n",
    "                           \"you'd\": \"you would\", \"you'd've\": \"you would have\", \"you'll\": \"you will\", \"you'll've\": \"you will have\",\n",
    "                           \"you're\": \"you are\", \"you've\": \"you have\"}\n",
    "\n",
    "print(\"정규화 사전의 수: \", len(contractions))"
   ]
  },
  {
   "cell_type": "markdown",
   "id": "tropical-dancing",
   "metadata": {},
   "source": [
    "__불용어__: 텍스트에 자주 등장하지만 자연어 처리를 할 때 실질적으로 도움이 되지 않는 단어들"
   ]
  },
  {
   "cell_type": "code",
   "execution_count": 11,
   "id": "cleared-hearing",
   "metadata": {},
   "outputs": [
    {
     "name": "stdout",
     "output_type": "stream",
     "text": [
      "불용어 개수 : 179\n",
      "['i', 'me', 'my', 'myself', 'we', 'our', 'ours', 'ourselves', 'you', \"you're\", \"you've\", \"you'll\", \"you'd\", 'your', 'yours', 'yourself', 'yourselves', 'he', 'him', 'his', 'himself', 'she', \"she's\", 'her', 'hers', 'herself', 'it', \"it's\", 'its', 'itself', 'they', 'them', 'their', 'theirs', 'themselves', 'what', 'which', 'who', 'whom', 'this', 'that', \"that'll\", 'these', 'those', 'am', 'is', 'are', 'was', 'were', 'be', 'been', 'being', 'have', 'has', 'had', 'having', 'do', 'does', 'did', 'doing', 'a', 'an', 'the', 'and', 'but', 'if', 'or', 'because', 'as', 'until', 'while', 'of', 'at', 'by', 'for', 'with', 'about', 'against', 'between', 'into', 'through', 'during', 'before', 'after', 'above', 'below', 'to', 'from', 'up', 'down', 'in', 'out', 'on', 'off', 'over', 'under', 'again', 'further', 'then', 'once', 'here', 'there', 'when', 'where', 'why', 'how', 'all', 'any', 'both', 'each', 'few', 'more', 'most', 'other', 'some', 'such', 'no', 'nor', 'not', 'only', 'own', 'same', 'so', 'than', 'too', 'very', 's', 't', 'can', 'will', 'just', 'don', \"don't\", 'should', \"should've\", 'now', 'd', 'll', 'm', 'o', 're', 've', 'y', 'ain', 'aren', \"aren't\", 'couldn', \"couldn't\", 'didn', \"didn't\", 'doesn', \"doesn't\", 'hadn', \"hadn't\", 'hasn', \"hasn't\", 'haven', \"haven't\", 'isn', \"isn't\", 'ma', 'mightn', \"mightn't\", 'mustn', \"mustn't\", 'needn', \"needn't\", 'shan', \"shan't\", 'shouldn', \"shouldn't\", 'wasn', \"wasn't\", 'weren', \"weren't\", 'won', \"won't\", 'wouldn', \"wouldn't\"]\n"
     ]
    }
   ],
   "source": [
    "# LTK에서 제공하는 불용어 리스트를 참조\n",
    "print('불용어 개수 :', len(stopwords.words('english') ))\n",
    "print(stopwords.words('english'))"
   ]
  },
  {
   "cell_type": "code",
   "execution_count": 12,
   "id": "enhanced-institute",
   "metadata": {},
   "outputs": [],
   "source": [
    "# 데이터 전처리 함수\n",
    "def preprocess_sentence(sentence, remove_stopwords=True):\n",
    "    sentence = sentence.lower() # 텍스트 소문자화\n",
    "    sentence = BeautifulSoup(sentence, \"lxml\").text # <br />, <a href = ...> 등의 html 태그 제거\n",
    "    sentence = re.sub(r'\\([^)]*\\)', '', sentence) # 괄호로 닫힌 문자열 (...) 제거 Ex) my husband (and myself!) for => my husband for\n",
    "    sentence = re.sub('\"','', sentence) # 쌍따옴표 \" 제거\n",
    "    sentence = ' '.join([contractions[t] if t in contractions else t for t in sentence.split(\" \")]) # 약어 정규화\n",
    "    sentence = re.sub(r\"'s\\b\",\"\", sentence) # 소유격 제거. Ex) roland's -> roland\n",
    "    sentence = re.sub(\"[^a-zA-Z]\", \" \", sentence) # 영어 외 문자(숫자, 특수문자 등) 공백으로 변환\n",
    "    sentence = re.sub('[m]{2,}', 'mm', sentence) # m이 3개 이상이면 2개로 변경. Ex) ummmmmmm yeah -> umm yeah\n",
    "    \n",
    "    # 불용어 제거 (Text)\n",
    "    if remove_stopwords:\n",
    "        tokens = ' '.join(word for word in sentence.split() if not word in stopwords.words('english') if len(word) > 1)\n",
    "    # 불용어 미제거 (Summary)\n",
    "    else:\n",
    "        tokens = ' '.join(word for word in sentence.split() if len(word) > 1)\n",
    "    return tokens"
   ]
  },
  {
   "cell_type": "code",
   "execution_count": 13,
   "id": "cheap-september",
   "metadata": {},
   "outputs": [
    {
     "name": "stdout",
     "output_type": "stream",
     "text": [
      "203.54169821739197  seconds\n",
      "['saurav kant alumnus upgrad iiit pg program machine learning artificial intelligence sr systems engineer infosys almost years work experience program upgrad degree career support helped transition data scientist tech mahindra salary hike upgrad online power learning powered lakh careers'\n",
      " 'kunal shah credit card bill payment platform cred gave users chance win free food swiggy one year pranav kaushik delhi techie bagged reward spending cred coins users get one cred coin per rupee bill paid used avail rewards brands like ixigo bookmyshow ubereats cult fit'\n",
      " 'new zealand defeated india wickets fourth odi hamilton thursday win first match five match odi series india lost international match rohit sharma captaincy consecutive victories dating back march match witnessed india getting seventh lowest total odi cricket history'\n",
      " ...\n",
      " 'according reports new version science fiction film matrix development michael jordan reportedly play lead role film screenwriter zak penn talks write script film reports added actor keanu reeves starred original film followed two sequels'\n",
      " 'new music video shows rapper snoop dogg aiming toy gun clown character parodying us president donald trump video also shows tv airing news conference headline ronald klump wants deport doggs airing live clown house video remixed version song lavender'\n",
      " 'madhesi morcha alliance seven political parties withdrawn support pm pushpa kamal dahal led nepal government failed meet seven day ultimatum fulfil demands including endorsement revised constitution amendment bill morcha seats parliament despite withdrawal support immediate threat government']\n",
      "6.513477325439453  seconds\n",
      "['upgrad learner switches to career in ml al with salary hike'\n",
      " 'delhi techie wins free food from swiggy for one year on cred'\n",
      " 'new zealand end rohit sharma led india match winning streak' ...\n",
      " 'the matrix film to get reboot reports'\n",
      " 'snoop dogg aims gun at clown dressed as trump in new video'\n",
      " 'madhesi morcha withdraws support to nepalese government']\n"
     ]
    }
   ],
   "source": [
    "# multiprocessing 으로훈련 데이터 전체에 대해서 전처리를 수행\n",
    "\n",
    "import multiprocessing as mp   # 멀티 프로세싱으로 전처리 속도를 획기적으로 줄여봅시다\n",
    "from multiprocessing import Pool\n",
    "import numpy as np\n",
    "import time\n",
    "from functools import partial  # map을 할 때 함수에 여러 인자를 넣어줄 수 있도록 합니다\n",
    "\n",
    "start = time.time()\n",
    "\n",
    "# num_cores 만큼 쪼개진 데이터를 전처리하여 반환합니다\n",
    "def appendTexts(sentences, remove_stopwords):\n",
    "  texts = []\n",
    "  for s in sentences:\n",
    "    texts += preprocess_sentence(s, remove_stopwords),\n",
    "  return texts\n",
    "\n",
    "def preprocess_data(data, remove_stopwords=True):\n",
    "  start_time = time.time()\n",
    "  num_cores = mp.cpu_count()  # 컴퓨터의 코어 수를 구합니다\n",
    "\n",
    "  text_data_split = np.array_split(data, num_cores)  # 코어 수만큼 데이터를 배분하여 병렬적으로 처리할 수 있게 합니다\n",
    "  pool = Pool(num_cores)\n",
    "\n",
    "  processed_data = np.concatenate(pool.map(partial(appendTexts, remove_stopwords=remove_stopwords), text_data_split))  # 각자 작업한 데이터를 하나로 합쳐줍니다\n",
    "  pool.close()\n",
    "  pool.join()\n",
    "  print(time.time() - start_time, \" seconds\")\n",
    "  return processed_data\n",
    "\n",
    "clean_text = preprocess_data(data['Text'])\n",
    "print(clean_text)\n",
    "\n",
    "clean_summary = preprocess_data(data['Summary'], remove_stopwords=False) # 불용어를 제거를 하지 않습니다.\n",
    "print(clean_summary)"
   ]
  },
  {
   "cell_type": "markdown",
   "id": "threaded-novel",
   "metadata": {},
   "source": [
    "텍스트 정제 과정을 거친 후에는 빈 샘플이 생겼는지 확인해보는 게 좋다."
   ]
  },
  {
   "cell_type": "code",
   "execution_count": 14,
   "id": "headed-cleaning",
   "metadata": {},
   "outputs": [],
   "source": [
    "data['Text'] = clean_text\n",
    "data['Summary'] = clean_summary\n",
    "\n",
    "# 빈 값을 Null 값으로 변환\n",
    "data.replace('', np.nan, inplace=True)"
   ]
  },
  {
   "cell_type": "code",
   "execution_count": 15,
   "id": "figured-macedonia",
   "metadata": {},
   "outputs": [
    {
     "data": {
      "text/plain": [
       "Text       0\n",
       "Summary    0\n",
       "dtype: int64"
      ]
     },
     "execution_count": 15,
     "metadata": {},
     "output_type": "execute_result"
    }
   ],
   "source": [
    "# 결측치 확인\n",
    "data.isnull().sum()"
   ]
  },
  {
   "cell_type": "code",
   "execution_count": 275,
   "id": "about-article",
   "metadata": {},
   "outputs": [
    {
     "name": "stdout",
     "output_type": "stream",
     "text": [
      "전체 샘플수 : 85843\n"
     ]
    }
   ],
   "source": [
    "# 정제과정에서 생긴 Null값 삭제\n",
    "data.dropna(axis=0, inplace=True)\n",
    "print('전체 샘플수 :', (len(data)))"
   ]
  },
  {
   "cell_type": "markdown",
   "id": "general-sperm",
   "metadata": {},
   "source": [
    "### 2.3 샘플의 최대 길이 정하기\n",
    "Text와 Summary의 최소, 최대, 평균 길이를 구하고 또한 길이 분포를 시각화해본다"
   ]
  },
  {
   "cell_type": "code",
   "execution_count": 17,
   "id": "arctic-dressing",
   "metadata": {},
   "outputs": [
    {
     "name": "stdout",
     "output_type": "stream",
     "text": [
      "텍스트의 최소 길이 : 1\n",
      "텍스트의 최대 길이 : 60\n",
      "텍스트의 평균 길이 : 35.09968483123221\n",
      "요약의 최소 길이 : 1\n",
      "요약의 최대 길이 : 16\n",
      "요약의 평균 길이 : 9.299532330215534\n"
     ]
    },
    {
     "data": {
      "image/png": "[encoded data removed]",
      "text/plain": [
       "<Figure size 432x288 with 2 Axes>"
      ]
     },
     "metadata": {
      "needs_background": "light"
     },
     "output_type": "display_data"
    },
    {
     "data": {
      "image/png": "[encoded data removed]",
      "text/plain": [
       "<Figure size 432x288 with 1 Axes>"
      ]
     },
     "metadata": {
      "needs_background": "light"
     },
     "output_type": "display_data"
    },
    {
     "data": {
      "image/png": "[encoded data removed]",
      "text/plain": [
       "<Figure size 432x288 with 1 Axes>"
      ]
     },
     "metadata": {
      "needs_background": "light"
     },
     "output_type": "display_data"
    }
   ],
   "source": [
    "# 길이 분포 출력\n",
    "import matplotlib.pyplot as plt\n",
    "\n",
    "text_len = [len(s.split()) for s in data['Text']]\n",
    "summary_len = [len(s.split()) for s in data['Summary']]\n",
    "\n",
    "print('텍스트의 최소 길이 : {}'.format(np.min(text_len)))\n",
    "print('텍스트의 최대 길이 : {}'.format(np.max(text_len)))\n",
    "print('텍스트의 평균 길이 : {}'.format(np.mean(text_len)))\n",
    "print('요약의 최소 길이 : {}'.format(np.min(summary_len)))\n",
    "print('요약의 최대 길이 : {}'.format(np.max(summary_len)))\n",
    "print('요약의 평균 길이 : {}'.format(np.mean(summary_len)))\n",
    "\n",
    "plt.subplot(1,2,1)\n",
    "plt.boxplot(summary_len)\n",
    "plt.title('Summary')\n",
    "plt.subplot(1,2,2)\n",
    "plt.boxplot(text_len)\n",
    "plt.title('Text')\n",
    "plt.tight_layout()\n",
    "plt.show()\n",
    "\n",
    "plt.title('Summary')\n",
    "plt.hist(summary_len, bins = 40)\n",
    "plt.xlabel('length of samples')\n",
    "plt.ylabel('number of samples')\n",
    "plt.show()\n",
    "\n",
    "plt.title('Text')\n",
    "plt.hist(text_len, bins = 40)\n",
    "plt.xlabel('length of samples')\n",
    "plt.ylabel('number of samples')\n",
    "plt.show()"
   ]
  },
  {
   "cell_type": "code",
   "execution_count": 18,
   "id": "alone-pledge",
   "metadata": {},
   "outputs": [],
   "source": [
    "# text의 최대 길이와 Summary의 적절한 최대 길이를 임의로 정한다.\n",
    "text_max_len = 40\n",
    "summary_max_len = 11"
   ]
  },
  {
   "cell_type": "code",
   "execution_count": 19,
   "id": "geographic-olympus",
   "metadata": {},
   "outputs": [],
   "source": [
    "# 최대 길이를 선택했을 때, 얼만큼의 샘플을 포함할 수 있는지 확인\n",
    "def below_threshold_len(max_len, nested_list):\n",
    "  cnt = 0\n",
    "  for s in nested_list:\n",
    "    if(len(s.split()) <= max_len):\n",
    "        cnt = cnt + 1\n",
    "  print('전체 샘플 중 길이가 %s 이하인 샘플의 비율: %s'%(max_len, (cnt / len(nested_list))))"
   ]
  },
  {
   "cell_type": "code",
   "execution_count": 20,
   "id": "entertaining-conversion",
   "metadata": {},
   "outputs": [
    {
     "name": "stdout",
     "output_type": "stream",
     "text": [
      "전체 샘플 중 길이가 40 이하인 샘플의 비율: 0.9238714924766165\n",
      "전체 샘플 중 길이가 11 이하인 샘플의 비율: 0.9449877999186661\n"
     ]
    }
   ],
   "source": [
    "below_threshold_len(text_max_len, data['Text'])\n",
    "below_threshold_len(summary_max_len,  data['Summary'])"
   ]
  },
  {
   "cell_type": "code",
   "execution_count": 21,
   "id": "african-casino",
   "metadata": {},
   "outputs": [
    {
     "name": "stdout",
     "output_type": "stream",
     "text": [
      "전체 샘플수 : 85843\n"
     ]
    }
   ],
   "source": [
    "# 정해진 길이보다 길면 제외\n",
    "data = data[data['Text'].apply(lambda x: len(x.split()) <= text_max_len)]\n",
    "data = data[data['Summary'].apply(lambda x: len(x.split()) <= summary_max_len)]\n",
    "print('전체 샘플수 :', (len(data)))"
   ]
  },
  {
   "cell_type": "markdown",
   "id": "absent-cameroon",
   "metadata": {},
   "source": [
    "### 2.4 시작 토큰과 종료 토큰 추가하기"
   ]
  },
  {
   "cell_type": "code",
   "execution_count": 22,
   "id": "moved-shuttle",
   "metadata": {},
   "outputs": [
    {
     "data": {
      "text/html": [
       "<div>\n",
       "<style scoped>\n",
       "    .dataframe tbody tr th:only-of-type {\n",
       "        vertical-align: middle;\n",
       "    }\n",
       "\n",
       "    .dataframe tbody tr th {\n",
       "        vertical-align: top;\n",
       "    }\n",
       "\n",
       "    .dataframe thead th {\n",
       "        text-align: right;\n",
       "    }\n",
       "</style>\n",
       "<table border=\"1\" class=\"dataframe\">\n",
       "  <thead>\n",
       "    <tr style=\"text-align: right;\">\n",
       "      <th></th>\n",
       "      <th>Text</th>\n",
       "      <th>Summary</th>\n",
       "      <th>decoder_input</th>\n",
       "      <th>decoder_target</th>\n",
       "    </tr>\n",
       "  </thead>\n",
       "  <tbody>\n",
       "    <tr>\n",
       "      <th>0</th>\n",
       "      <td>saurav kant alumnus upgrad iiit pg program mac...</td>\n",
       "      <td>upgrad learner switches to career in ml al wit...</td>\n",
       "      <td>sostoken upgrad learner switches to career in ...</td>\n",
       "      <td>upgrad learner switches to career in ml al wit...</td>\n",
       "    </tr>\n",
       "    <tr>\n",
       "      <th>2</th>\n",
       "      <td>new zealand defeated india wickets fourth odi ...</td>\n",
       "      <td>new zealand end rohit sharma led india match w...</td>\n",
       "      <td>sostoken new zealand end rohit sharma led indi...</td>\n",
       "      <td>new zealand end rohit sharma led india match w...</td>\n",
       "    </tr>\n",
       "    <tr>\n",
       "      <th>3</th>\n",
       "      <td>aegon life iterm insurance plan customers enjo...</td>\n",
       "      <td>aegon life iterm insurance plan helps customer...</td>\n",
       "      <td>sostoken aegon life iterm insurance plan helps...</td>\n",
       "      <td>aegon life iterm insurance plan helps customer...</td>\n",
       "    </tr>\n",
       "    <tr>\n",
       "      <th>5</th>\n",
       "      <td>pakistani singer rahat fateh ali khan denied r...</td>\n",
       "      <td>rahat fateh ali khan denies getting notice for...</td>\n",
       "      <td>sostoken rahat fateh ali khan denies getting n...</td>\n",
       "      <td>rahat fateh ali khan denies getting notice for...</td>\n",
       "    </tr>\n",
       "    <tr>\n",
       "      <th>7</th>\n",
       "      <td>weeks ex cbi director alok verma told departme...</td>\n",
       "      <td>govt directs alok verma to join work day befor...</td>\n",
       "      <td>sostoken govt directs alok verma to join work ...</td>\n",
       "      <td>govt directs alok verma to join work day befor...</td>\n",
       "    </tr>\n",
       "  </tbody>\n",
       "</table>\n",
       "</div>"
      ],
      "text/plain": [
       "                                                Text  \\\n",
       "0  saurav kant alumnus upgrad iiit pg program mac...   \n",
       "2  new zealand defeated india wickets fourth odi ...   \n",
       "3  aegon life iterm insurance plan customers enjo...   \n",
       "5  pakistani singer rahat fateh ali khan denied r...   \n",
       "7  weeks ex cbi director alok verma told departme...   \n",
       "\n",
       "                                             Summary  \\\n",
       "0  upgrad learner switches to career in ml al wit...   \n",
       "2  new zealand end rohit sharma led india match w...   \n",
       "3  aegon life iterm insurance plan helps customer...   \n",
       "5  rahat fateh ali khan denies getting notice for...   \n",
       "7  govt directs alok verma to join work day befor...   \n",
       "\n",
       "                                       decoder_input  \\\n",
       "0  sostoken upgrad learner switches to career in ...   \n",
       "2  sostoken new zealand end rohit sharma led indi...   \n",
       "3  sostoken aegon life iterm insurance plan helps...   \n",
       "5  sostoken rahat fateh ali khan denies getting n...   \n",
       "7  sostoken govt directs alok verma to join work ...   \n",
       "\n",
       "                                      decoder_target  \n",
       "0  upgrad learner switches to career in ml al wit...  \n",
       "2  new zealand end rohit sharma led india match w...  \n",
       "3  aegon life iterm insurance plan helps customer...  \n",
       "5  rahat fateh ali khan denies getting notice for...  \n",
       "7  govt directs alok verma to join work day befor...  "
      ]
     },
     "execution_count": 22,
     "metadata": {},
     "output_type": "execute_result"
    }
   ],
   "source": [
    "# 요약 데이터에는 시작 토큰과 종료 토큰을 추가한다.\n",
    "data['decoder_input'] = data['Summary'].apply(lambda x : 'sostoken '+ x)\n",
    "data['decoder_target'] = data['Summary'].apply(lambda x : x + ' eostoken')\n",
    "data.head()"
   ]
  },
  {
   "cell_type": "code",
   "execution_count": 23,
   "id": "capable-february",
   "metadata": {},
   "outputs": [],
   "source": [
    "# 인코더, 디코더의 입력과 레이블을 각각 Numpy 타입으로 저장한다.\n",
    "encoder_input = np.array(data['Text']) # 인코더의 입력\n",
    "decoder_input = np.array(data['decoder_input']) # 디코더의 입력\n",
    "decoder_target = np.array(data['decoder_target']) # 디코더의 레이블"
   ]
  },
  {
   "cell_type": "code",
   "execution_count": 24,
   "id": "rough-soviet",
   "metadata": {},
   "outputs": [
    {
     "name": "stdout",
     "output_type": "stream",
     "text": [
      "[83645 45374 11825 ... 38534 18249 46435]\n"
     ]
    }
   ],
   "source": [
    "# encoder_input과 크기와 형태가 같은 순서가 섞인 정수 시퀀스를 만든다.\n",
    "indices = np.arange(encoder_input.shape[0])\n",
    "np.random.shuffle(indices)\n",
    "print(indices)"
   ]
  },
  {
   "cell_type": "code",
   "execution_count": 25,
   "id": "arctic-signature",
   "metadata": {},
   "outputs": [],
   "source": [
    "#  정수 시퀀스를 이용해 다시 데이터의 샘플 순서를 정의해 주면 잘 섞인 샘플이 된다.\n",
    "encoder_input = encoder_input[indices]\n",
    "decoder_input = decoder_input[indices]\n",
    "decoder_target = decoder_target[indices]"
   ]
  },
  {
   "cell_type": "code",
   "execution_count": 26,
   "id": "compatible-saudi",
   "metadata": {},
   "outputs": [
    {
     "name": "stdout",
     "output_type": "stream",
     "text": [
      "테스트 데이터의 수 : 17168\n"
     ]
    }
   ],
   "source": [
    "# 훈련 데이터와 테스트 데이터 분리\n",
    "n_of_val = int(len(encoder_input)*0.2)\n",
    "print('테스트 데이터의 수 :', n_of_val)"
   ]
  },
  {
   "cell_type": "code",
   "execution_count": 27,
   "id": "analyzed-birth",
   "metadata": {},
   "outputs": [
    {
     "name": "stdout",
     "output_type": "stream",
     "text": [
      "훈련 데이터의 개수 : 68675\n",
      "훈련 레이블의 개수 : 68675\n",
      "테스트 데이터의 개수 : 17168\n",
      "테스트 레이블의 개수 : 17168\n"
     ]
    }
   ],
   "source": [
    "# 훈련 데이터\n",
    "encoder_input_train = encoder_input[:-n_of_val]\n",
    "decoder_input_train = decoder_input[:-n_of_val]\n",
    "decoder_target_train = decoder_target[:-n_of_val]\n",
    "# 테스트 데이터\n",
    "encoder_input_test = encoder_input[-n_of_val:]\n",
    "decoder_input_test = decoder_input[-n_of_val:]\n",
    "decoder_target_test = decoder_target[-n_of_val:]\n",
    "\n",
    "print('훈련 데이터의 개수 :', len(encoder_input_train))\n",
    "print('훈련 레이블의 개수 :', len(decoder_input_train))\n",
    "print('테스트 데이터의 개수 :', len(encoder_input_test))\n",
    "print('테스트 레이블의 개수 :', len(decoder_input_test))"
   ]
  },
  {
   "cell_type": "markdown",
   "id": "taken-approach",
   "metadata": {},
   "source": [
    "### 2.5 정수 인코딩"
   ]
  },
  {
   "cell_type": "markdown",
   "id": "european-football",
   "metadata": {},
   "source": [
    "- `src_tokenizer.word_index`: 단어 집합 저장\n",
    "- `src_tokenizer.word_counts.items()`: 단어와 각 단어의 등장 빈도수가 저장"
   ]
  },
  {
   "cell_type": "markdown",
   "id": "light-listing",
   "metadata": {},
   "source": [
    "#### Text 데이터 정수 인코딩"
   ]
  },
  {
   "cell_type": "code",
   "execution_count": 28,
   "id": "smart-printer",
   "metadata": {},
   "outputs": [],
   "source": [
    "src_tokenizer = Tokenizer() # 토크나이저 정의\n",
    "src_tokenizer.fit_on_texts(encoder_input_train) # 입력된 데이터로부터 단어 집합 생성"
   ]
  },
  {
   "cell_type": "code",
   "execution_count": 29,
   "id": "italian-posting",
   "metadata": {},
   "outputs": [
    {
     "name": "stdout",
     "output_type": "stream",
     "text": [
      "단어 집합(vocabulary)의 크기 : 64668\n",
      "등장 빈도가 9번 이하인 희귀 단어의 수: 47665\n",
      "단어 집합에서 희귀 단어를 제외시킬 경우의 단어 집합의 크기 17003\n",
      "단어 집합에서 희귀 단어의 비율: 73.70724314962578\n",
      "전체 등장 빈도에서 희귀 단어 등장 빈도 비율: 4.959937137116714\n"
     ]
    }
   ],
   "source": [
    "threshold = 10\n",
    "total_cnt = len(src_tokenizer.word_index) # 단어의 수\n",
    "rare_cnt = 0 # 등장 빈도수가 threshold보다 작은 단어의 개수를 카운트\n",
    "total_freq = 0 # 훈련 데이터의 전체 단어 빈도수 총 합\n",
    "rare_freq = 0 # 등장 빈도수가 threshold보다 작은 단어의 등장 빈도수의 총 합\n",
    "\n",
    "# 단어와 빈도수의 쌍(pair)을 key와 value로 받는다.\n",
    "for key, value in src_tokenizer.word_counts.items():\n",
    "    total_freq = total_freq + value\n",
    "\n",
    "    # 단어의 등장 빈도수가 threshold보다 작으면\n",
    "    if(value < threshold):\n",
    "        rare_cnt = rare_cnt + 1\n",
    "        rare_freq = rare_freq + value\n",
    "\n",
    "print('단어 집합(vocabulary)의 크기 :', total_cnt)\n",
    "print('등장 빈도가 %s번 이하인 희귀 단어의 수: %s'%(threshold - 1, rare_cnt))\n",
    "print('단어 집합에서 희귀 단어를 제외시킬 경우의 단어 집합의 크기 %s'%(total_cnt - rare_cnt))\n",
    "print(\"단어 집합에서 희귀 단어의 비율:\", (rare_cnt / total_cnt)*100)\n",
    "print(\"전체 등장 빈도에서 희귀 단어 등장 빈도 비율:\", (rare_freq / total_freq)*100)"
   ]
  },
  {
   "cell_type": "code",
   "execution_count": 30,
   "id": "british-pharmaceutical",
   "metadata": {},
   "outputs": [],
   "source": [
    "# 등장빈도가 9회 이하인 단어들은 훈련 데이터에서 제거\n",
    "src_vocab = 17000\n",
    "src_tokenizer = Tokenizer(num_words=src_vocab) # 단어 집합의 크기를 제한\n",
    "src_tokenizer.fit_on_texts(encoder_input_train) # 단어 집합 재생성."
   ]
  },
  {
   "cell_type": "markdown",
   "id": "artistic-tulsa",
   "metadata": {},
   "source": [
    "- `texts_to_sequences()`: 생성된 단어 집합에 기반하여 입력으로 주어진 텍스트 데이터의 단어들을 모두 정수로 변환"
   ]
  },
  {
   "cell_type": "code",
   "execution_count": 31,
   "id": "comic-upper",
   "metadata": {},
   "outputs": [
    {
     "name": "stdout",
     "output_type": "stream",
     "text": [
      "[[176, 19, 68, 2389, 368, 1616, 1918, 92, 848, 1610, 2580, 9182, 831, 116, 100, 1610, 2580, 9183, 2133, 710, 1988, 7284, 1164, 220, 14159, 1610, 33, 194, 69, 1515, 4783, 4240, 512], [151, 646, 2581, 32, 7637, 3842, 7637, 1567, 1175, 2967, 10307, 732, 3789, 37, 1404, 1567, 4833, 6, 828, 1921, 486, 4967, 2581, 171, 8795, 180, 7637, 6, 486, 8045, 2967, 10307, 1567, 732, 1921, 156, 252], [48, 11474, 9184, 80, 533, 13, 12260, 150, 13, 1660, 250, 566, 165, 158, 152, 5348, 9184, 96, 59, 4876, 366, 2, 14, 48, 10, 3704, 690, 1131, 12260, 13, 10, 1103]]\n"
     ]
    }
   ],
   "source": [
    "# 텍스트 시퀀스를 정수 시퀀스로 변환\n",
    "encoder_input_train = src_tokenizer.texts_to_sequences(encoder_input_train) \n",
    "encoder_input_test = src_tokenizer.texts_to_sequences(encoder_input_test)\n",
    "\n",
    "# 잘 진행되었는지 샘플 출력\n",
    "print(encoder_input_train[:3])"
   ]
  },
  {
   "cell_type": "markdown",
   "id": "restricted-teens",
   "metadata": {},
   "source": [
    "#### summary 정수 인코딩"
   ]
  },
  {
   "cell_type": "code",
   "execution_count": 32,
   "id": "blind-shaft",
   "metadata": {},
   "outputs": [],
   "source": [
    "tar_tokenizer = Tokenizer()\n",
    "tar_tokenizer.fit_on_texts(decoder_input_train)"
   ]
  },
  {
   "cell_type": "code",
   "execution_count": 33,
   "id": "billion-plumbing",
   "metadata": {},
   "outputs": [
    {
     "name": "stdout",
     "output_type": "stream",
     "text": [
      "단어 집합(vocabulary)의 크기 : 28507\n",
      "등장 빈도가 5번 이하인 희귀 단어의 수: 18829\n",
      "단어 집합에서 희귀 단어를 제외시킬 경우의 단어 집합의 크기 9678\n",
      "단어 집합에서 희귀 단어의 비율: 66.05044375065773\n",
      "전체 등장 빈도에서 희귀 단어 등장 빈도 비율: 5.207025536816764\n"
     ]
    }
   ],
   "source": [
    "threshold = 6\n",
    "total_cnt = len(tar_tokenizer.word_index) # 단어의 수\n",
    "rare_cnt = 0 # 등장 빈도수가 threshold보다 작은 단어의 개수를 카운트\n",
    "total_freq = 0 # 훈련 데이터의 전체 단어 빈도수 총 합\n",
    "rare_freq = 0 # 등장 빈도수가 threshold보다 작은 단어의 등장 빈도수의 총 합\n",
    "\n",
    "# 단어와 빈도수의 쌍(pair)을 key와 value로 받는다.\n",
    "for key, value in tar_tokenizer.word_counts.items():\n",
    "    total_freq = total_freq + value\n",
    "\n",
    "    # 단어의 등장 빈도수가 threshold보다 작으면\n",
    "    if(value < threshold):\n",
    "        rare_cnt = rare_cnt + 1\n",
    "        rare_freq = rare_freq + value\n",
    "\n",
    "print('단어 집합(vocabulary)의 크기 :', total_cnt)\n",
    "print('등장 빈도가 %s번 이하인 희귀 단어의 수: %s'%(threshold - 1, rare_cnt))\n",
    "print('단어 집합에서 희귀 단어를 제외시킬 경우의 단어 집합의 크기 %s'%(total_cnt - rare_cnt))\n",
    "print(\"단어 집합에서 희귀 단어의 비율:\", (rare_cnt / total_cnt)*100)\n",
    "print(\"전체 등장 빈도에서 희귀 단어 등장 빈도 비율:\", (rare_freq / total_freq)*100)"
   ]
  },
  {
   "cell_type": "code",
   "execution_count": 34,
   "id": "heavy-assist",
   "metadata": {},
   "outputs": [
    {
     "name": "stdout",
     "output_type": "stream",
     "text": [
      "input\n",
      "input  [[1, 464, 2659, 7073, 6, 71, 3, 2917, 667, 794, 66], [1, 4410, 616, 5144, 317, 368, 82, 3725, 24, 102, 1056], [1, 7074, 5935, 471, 44, 385, 13, 7582], [1, 15, 3, 249, 1220, 10, 877, 54, 5367, 4563, 2250], [1, 51, 6, 37, 743, 4, 421, 77, 4735, 36]]\n",
      "target\n",
      "decoder  [[464, 2659, 7073, 6, 71, 3, 2917, 667, 794, 66, 2], [4410, 616, 5144, 317, 368, 82, 3725, 24, 102, 1056, 2], [7074, 5935, 471, 44, 385, 13, 7582, 2], [15, 3, 249, 1220, 10, 877, 54, 5367, 4563, 2250, 2], [51, 6, 37, 743, 4, 421, 77, 4735, 36, 2]]\n"
     ]
    }
   ],
   "source": [
    "# 등장빈도가 5회 이하인 단어들은 훈련 데이터에서 제거\n",
    "tar_vocab = 9700\n",
    "tar_tokenizer = Tokenizer(num_words=tar_vocab) \n",
    "tar_tokenizer.fit_on_texts(decoder_input_train)\n",
    "tar_tokenizer.fit_on_texts(decoder_target_train)\n",
    "\n",
    "# 텍스트 시퀀스를 정수 시퀀스로 변환\n",
    "decoder_input_train = tar_tokenizer.texts_to_sequences(decoder_input_train) \n",
    "decoder_target_train = tar_tokenizer.texts_to_sequences(decoder_target_train)\n",
    "decoder_input_test = tar_tokenizer.texts_to_sequences(decoder_input_test)\n",
    "decoder_target_test = tar_tokenizer.texts_to_sequences(decoder_target_test)\n",
    "\n",
    "# 잘 변환되었는지 확인\n",
    "print('input')\n",
    "print('input ',decoder_input_train[:5])\n",
    "print('target')\n",
    "print('decoder ',decoder_target_train[:5])"
   ]
  },
  {
   "cell_type": "code",
   "execution_count": 35,
   "id": "republican-lender",
   "metadata": {},
   "outputs": [
    {
     "name": "stdout",
     "output_type": "stream",
     "text": [
      "삭제할 훈련 데이터의 개수 : 0\n",
      "삭제할 테스트 데이터의 개수 : 0\n",
      "훈련 데이터의 개수 : 68675\n",
      "훈련 레이블의 개수 : 68675\n",
      "테스트 데이터의 개수 : 17168\n",
      "테스트 레이블의 개수 : 17168\n"
     ]
    },
    {
     "name": "stderr",
     "output_type": "stream",
     "text": [
      "/opt/conda/lib/python3.7/site-packages/numpy/core/_asarray.py:83: VisibleDeprecationWarning: Creating an ndarray from ragged nested sequences (which is a list-or-tuple of lists-or-tuples-or ndarrays with different lengths or shapes) is deprecated. If you meant to do this, you must specify 'dtype=object' when creating the ndarray\n",
      "  return array(a, dtype, copy=False, order=order)\n"
     ]
    }
   ],
   "source": [
    "# 빈도수가 낮은 단어가 삭제되어 생긴 빈 샘플 제거 (길이 1인 경우)\n",
    "drop_train = [index for index, sentence in enumerate(decoder_input_train) if len(sentence) == 1]\n",
    "drop_test = [index for index, sentence in enumerate(decoder_input_test) if len(sentence) == 1]\n",
    "\n",
    "print('삭제할 훈련 데이터의 개수 :', len(drop_train))\n",
    "print('삭제할 테스트 데이터의 개수 :', len(drop_test))\n",
    "\n",
    "encoder_input_train = np.delete(encoder_input_train, drop_train, axis=0)\n",
    "decoder_input_train = np.delete(decoder_input_train, drop_train, axis=0)\n",
    "decoder_target_train = np.delete(decoder_target_train, drop_train, axis=0)\n",
    "\n",
    "encoder_input_test = np.delete(encoder_input_test, drop_test, axis=0)\n",
    "decoder_input_test = np.delete(decoder_input_test, drop_test, axis=0)\n",
    "decoder_target_test = np.delete(decoder_target_test, drop_test, axis=0)\n",
    "\n",
    "print('훈련 데이터의 개수 :', len(encoder_input_train))\n",
    "print('훈련 레이블의 개수 :', len(decoder_input_train))\n",
    "print('테스트 데이터의 개수 :', len(encoder_input_test))\n",
    "print('테스트 레이블의 개수 :', len(decoder_input_test))"
   ]
  },
  {
   "cell_type": "markdown",
   "id": "muslim-glory",
   "metadata": {},
   "source": [
    "### 2.6 padding\n",
    "서로 다른 길이의 샘플들을 병렬 처리하기 위해 같은 길이로 맞춰주는 패딩 작업을 해준다."
   ]
  },
  {
   "cell_type": "code",
   "execution_count": 36,
   "id": "cellular-container",
   "metadata": {},
   "outputs": [],
   "source": [
    "encoder_input_train = pad_sequences(encoder_input_train, maxlen=text_max_len, padding='post')\n",
    "encoder_input_test = pad_sequences(encoder_input_test, maxlen=text_max_len, padding='post')\n",
    "decoder_input_train = pad_sequences(decoder_input_train, maxlen=summary_max_len, padding='post')\n",
    "decoder_target_train = pad_sequences(decoder_target_train, maxlen=summary_max_len, padding='post')\n",
    "decoder_input_test = pad_sequences(decoder_input_test, maxlen=summary_max_len, padding='post')\n",
    "decoder_target_test = pad_sequences(decoder_target_test, maxlen=summary_max_len, padding='post')"
   ]
  },
  {
   "cell_type": "markdown",
   "id": "broke-provider",
   "metadata": {},
   "source": [
    "## 3. 모델 설계 및 훈련"
   ]
  },
  {
   "cell_type": "code",
   "execution_count": 38,
   "id": "coastal-pollution",
   "metadata": {},
   "outputs": [],
   "source": [
    "from tensorflow.keras.layers import Input, LSTM, Embedding, Dense, Concatenate\n",
    "from tensorflow.keras.models import Model\n",
    "from tensorflow.keras.callbacks import EarlyStopping, ModelCheckpoint"
   ]
  },
  {
   "cell_type": "markdown",
   "id": "casual-mouse",
   "metadata": {},
   "source": [
    "### 3.1 encoder 설계"
   ]
  },
  {
   "cell_type": "code",
   "execution_count": 39,
   "id": "indie-valley",
   "metadata": {},
   "outputs": [
    {
     "name": "stdout",
     "output_type": "stream",
     "text": [
      "WARNING:tensorflow:Layer lstm will not use cuDNN kernel since it doesn't meet the cuDNN kernel criteria. It will use generic GPU kernel as fallback when running on GPU\n",
      "WARNING:tensorflow:Layer lstm_1 will not use cuDNN kernel since it doesn't meet the cuDNN kernel criteria. It will use generic GPU kernel as fallback when running on GPU\n",
      "WARNING:tensorflow:Layer lstm_2 will not use cuDNN kernel since it doesn't meet the cuDNN kernel criteria. It will use generic GPU kernel as fallback when running on GPU\n"
     ]
    }
   ],
   "source": [
    "# 인코더 설계 시작\n",
    "embedding_dim = 128 # 임베딩 벡터의 차원\n",
    "hidden_size = 256 # lstm에서 얼만큼의 수용력(capacity)를 가질지 정하는 파라미터\n",
    "\n",
    "# 인코더\n",
    "encoder_inputs = Input(shape=(text_max_len,))\n",
    "\n",
    "# 인코더의 임베딩 층\n",
    "enc_emb = Embedding(src_vocab, embedding_dim)(encoder_inputs)\n",
    "\n",
    "# 인코더의 LSTM 1\n",
    "encoder_lstm1 = LSTM(hidden_size, return_sequences=True, return_state=True ,dropout = 0.4, recurrent_dropout = 0.4)\n",
    "encoder_output1, state_h1, state_c1 = encoder_lstm1(enc_emb)\n",
    "\n",
    "# 인코더의 LSTM 2\n",
    "encoder_lstm2 = LSTM(hidden_size, return_sequences=True, return_state=True, dropout=0.4, recurrent_dropout=0.4)\n",
    "encoder_output2, state_h2, state_c2 = encoder_lstm2(encoder_output1)\n",
    "\n",
    "# 인코더의 LSTM 3\n",
    "encoder_lstm3 = LSTM(hidden_size, return_state=True, return_sequences=True, dropout=0.4, recurrent_dropout=0.4)\n",
    "encoder_outputs, state_h, state_c= encoder_lstm3(encoder_output2)"
   ]
  },
  {
   "cell_type": "markdown",
   "id": "wound-cooking",
   "metadata": {},
   "source": [
    "### 3.2 decoder 설계"
   ]
  },
  {
   "cell_type": "code",
   "execution_count": 40,
   "id": "virgin-conclusion",
   "metadata": {},
   "outputs": [
    {
     "name": "stdout",
     "output_type": "stream",
     "text": [
      "WARNING:tensorflow:Layer lstm_3 will not use cuDNN kernel since it doesn't meet the cuDNN kernel criteria. It will use generic GPU kernel as fallback when running on GPU\n",
      "Model: \"model\"\n",
      "__________________________________________________________________________________________________\n",
      "Layer (type)                    Output Shape         Param #     Connected to                     \n",
      "==================================================================================================\n",
      "input_1 (InputLayer)            [(None, 40)]         0                                            \n",
      "__________________________________________________________________________________________________\n",
      "embedding (Embedding)           (None, 40, 128)      2176000     input_1[0][0]                    \n",
      "__________________________________________________________________________________________________\n",
      "lstm (LSTM)                     [(None, 40, 256), (N 394240      embedding[0][0]                  \n",
      "__________________________________________________________________________________________________\n",
      "input_2 (InputLayer)            [(None, None)]       0                                            \n",
      "__________________________________________________________________________________________________\n",
      "lstm_1 (LSTM)                   [(None, 40, 256), (N 525312      lstm[0][0]                       \n",
      "__________________________________________________________________________________________________\n",
      "embedding_1 (Embedding)         (None, None, 128)    1241600     input_2[0][0]                    \n",
      "__________________________________________________________________________________________________\n",
      "lstm_2 (LSTM)                   [(None, 40, 256), (N 525312      lstm_1[0][0]                     \n",
      "__________________________________________________________________________________________________\n",
      "lstm_3 (LSTM)                   [(None, None, 256),  394240      embedding_1[0][0]                \n",
      "                                                                 lstm_2[0][1]                     \n",
      "                                                                 lstm_2[0][2]                     \n",
      "__________________________________________________________________________________________________\n",
      "dense (Dense)                   (None, None, 9700)   2492900     lstm_3[0][0]                     \n",
      "==================================================================================================\n",
      "Total params: 7,749,604\n",
      "Trainable params: 7,749,604\n",
      "Non-trainable params: 0\n",
      "__________________________________________________________________________________________________\n"
     ]
    }
   ],
   "source": [
    "# 디코더 설계\n",
    "decoder_inputs = Input(shape=(None,))\n",
    "\n",
    "# 디코더의 임베딩 층\n",
    "dec_emb_layer = Embedding(tar_vocab, embedding_dim)\n",
    "dec_emb = dec_emb_layer(decoder_inputs)\n",
    "\n",
    "# 디코더의 LSTM\n",
    "decoder_lstm = LSTM(hidden_size, return_sequences=True, return_state=True, dropout=0.4, recurrent_dropout=0.2)\n",
    "decoder_outputs, _, _ = decoder_lstm(dec_emb, initial_state=[state_h, state_c])\n",
    "\n",
    "# 디코더의 출력층\n",
    "decoder_softmax_layer = Dense(tar_vocab, activation='softmax') # tar_vocab에서 하나의 단어를 선택하는 다중 클래스 분류 문제\n",
    "decoder_softmax_outputs = decoder_softmax_layer(decoder_outputs) \n",
    "\n",
    "# 모델 정의\n",
    "model = Model([encoder_inputs, decoder_inputs], decoder_softmax_outputs)\n",
    "model.summary()"
   ]
  },
  {
   "cell_type": "markdown",
   "id": "indoor-undergraduate",
   "metadata": {},
   "source": [
    "### 3.3 Attention mechanism 설계"
   ]
  },
  {
   "cell_type": "code",
   "execution_count": 42,
   "id": "greek-chocolate",
   "metadata": {},
   "outputs": [],
   "source": [
    "# 구현된 어텐션 함수 다운로드\n",
    "urllib.request.urlretrieve(\"https://raw.githubusercontent.com/thushv89/attention_keras/master/src/layers/attention.py\", filename=\"attention.py\")\n",
    "from attention import AttentionLayer"
   ]
  },
  {
   "cell_type": "code",
   "execution_count": 43,
   "id": "confident-boxing",
   "metadata": {},
   "outputs": [
    {
     "name": "stdout",
     "output_type": "stream",
     "text": [
      "Model: \"model_1\"\n",
      "__________________________________________________________________________________________________\n",
      "Layer (type)                    Output Shape         Param #     Connected to                     \n",
      "==================================================================================================\n",
      "input_1 (InputLayer)            [(None, 40)]         0                                            \n",
      "__________________________________________________________________________________________________\n",
      "embedding (Embedding)           (None, 40, 128)      2176000     input_1[0][0]                    \n",
      "__________________________________________________________________________________________________\n",
      "lstm (LSTM)                     [(None, 40, 256), (N 394240      embedding[0][0]                  \n",
      "__________________________________________________________________________________________________\n",
      "input_2 (InputLayer)            [(None, None)]       0                                            \n",
      "__________________________________________________________________________________________________\n",
      "lstm_1 (LSTM)                   [(None, 40, 256), (N 525312      lstm[0][0]                       \n",
      "__________________________________________________________________________________________________\n",
      "embedding_1 (Embedding)         (None, None, 128)    1241600     input_2[0][0]                    \n",
      "__________________________________________________________________________________________________\n",
      "lstm_2 (LSTM)                   [(None, 40, 256), (N 525312      lstm_1[0][0]                     \n",
      "__________________________________________________________________________________________________\n",
      "lstm_3 (LSTM)                   [(None, None, 256),  394240      embedding_1[0][0]                \n",
      "                                                                 lstm_2[0][1]                     \n",
      "                                                                 lstm_2[0][2]                     \n",
      "__________________________________________________________________________________________________\n",
      "attention_layer (AttentionLayer ((None, None, 256),  131328      lstm_2[0][0]                     \n",
      "                                                                 lstm_3[0][0]                     \n",
      "__________________________________________________________________________________________________\n",
      "concat_layer (Concatenate)      (None, None, 512)    0           lstm_3[0][0]                     \n",
      "                                                                 attention_layer[0][0]            \n",
      "__________________________________________________________________________________________________\n",
      "dense_1 (Dense)                 (None, None, 9700)   4976100     concat_layer[0][0]               \n",
      "==================================================================================================\n",
      "Total params: 10,364,132\n",
      "Trainable params: 10,364,132\n",
      "Non-trainable params: 0\n",
      "__________________________________________________________________________________________________\n"
     ]
    }
   ],
   "source": [
    "# 어텐션 층(어텐션 함수)\n",
    "attn_layer = AttentionLayer(name='attention_layer')\n",
    "# 인코더와 디코더의 모든 time step의 hidden state를 어텐션 층에 전달하고 결과를 리턴\n",
    "attn_out, attn_states = attn_layer([encoder_outputs, decoder_outputs])\n",
    "\n",
    "# 어텐션의 결과와 디코더의 hidden state들을 연결\n",
    "decoder_concat_input = Concatenate(axis=-1, name='concat_layer')([decoder_outputs, attn_out])\n",
    "\n",
    "# 디코더의 출력층\n",
    "decoder_softmax_layer = Dense(tar_vocab, activation='softmax')\n",
    "decoder_softmax_outputs = decoder_softmax_layer(decoder_concat_input)\n",
    "\n",
    "# 모델 정의\n",
    "model = Model([encoder_inputs, decoder_inputs], decoder_softmax_outputs)\n",
    "model.summary()"
   ]
  },
  {
   "cell_type": "markdown",
   "id": "public-grade",
   "metadata": {},
   "source": [
    "### 3.4 모델 훈련"
   ]
  },
  {
   "cell_type": "markdown",
   "id": "different-alcohol",
   "metadata": {},
   "source": [
    "#### 모델 저장"
   ]
  },
  {
   "cell_type": "code",
   "execution_count": 44,
   "id": "amazing-sport",
   "metadata": {},
   "outputs": [],
   "source": [
    "checkpoint_path = \"ex10/LSTM_AM.ckpt\"             # 저장할 가중치의 확장자 및 파일 이름\n",
    "checkpoint_dir = os.path.dirname(checkpoint_path)  # 저장할 경로\n",
    "\n",
    "checkpoint = tf.keras.callbacks.ModelCheckpoint(filepath=checkpoint_path, # 학습 시 callback함수를 반환하여 학습\n",
    "                                                 save_weights_only=True,\n",
    "                                                 verbose=1)"
   ]
  },
  {
   "cell_type": "markdown",
   "id": "accessory-romantic",
   "metadata": {},
   "source": [
    "#### Early Stopping\n",
    "모니터링 항목의 개선이 중지되면 학습을 중지하는 함수\n",
    "\n",
    "|Args||\n",
    "|------:|:---|\n",
    "|monitor|모니터링 할 성능|\n",
    "|patience|성능이 증가하지 않는 epoch 을 몇 번이나 허용할 것인가를 정의|\n",
    "|min_delta|개선의 자격을 갖추기 위해 모니터링되는 수량의 최소 변경, 즉 min_delta 미만의 절대 변경은 개선되지 않은 것으로 간주.|\n",
    "|verbose|1 로 지정하면, 언제 keras 에서 training 을 멈추었는지를 화면에 출력|\n",
    "|mode|{\"auto\", \"min\", \"max\"}, auto는 keras에서 알아서 min,max 선택,performance measure를 정의하고, 이것을 최대화 할지, 최소화 할지를 지정하는 것이다. 그러면 keras 에서 알아서 적절한 epoch 에서 training 을 멈춘다.|\n",
    "|baseline|performance measure 를 practical 하게 설정한 경우 성능의 증가의 기준을 직접 정의. 모델이 기준선보다 개선되지 않으면 학습이 중지|\n",
    "|restore_best_weights|모니터링된 수량의 최상의 값으로 에포크에서 모델 가중치를 복원할지 여부|"
   ]
  },
  {
   "cell_type": "code",
   "execution_count": 46,
   "id": "pressing-resolution",
   "metadata": {
    "scrolled": true
   },
   "outputs": [
    {
     "name": "stdout",
     "output_type": "stream",
     "text": [
      "Epoch 1/50\n",
      "269/269 [==============================] - 214s 750ms/step - loss: 6.3906 - val_loss: 5.6024\n",
      "\n",
      "Epoch 00001: saving model to ex10/LSTM_AM.ckpt\n",
      "Epoch 2/50\n",
      "269/269 [==============================] - 207s 771ms/step - loss: 5.5276 - val_loss: 5.2340\n",
      "\n",
      "Epoch 00002: saving model to ex10/LSTM_AM.ckpt\n",
      "Epoch 3/50\n",
      "269/269 [==============================] - 207s 769ms/step - loss: 5.1546 - val_loss: 4.9613\n",
      "\n",
      "Epoch 00003: saving model to ex10/LSTM_AM.ckpt\n",
      "Epoch 4/50\n",
      "269/269 [==============================] - 207s 771ms/step - loss: 4.8443 - val_loss: 4.7305\n",
      "\n",
      "Epoch 00004: saving model to ex10/LSTM_AM.ckpt\n",
      "Epoch 5/50\n",
      "269/269 [==============================] - 206s 765ms/step - loss: 4.6006 - val_loss: 4.5965\n",
      "\n",
      "Epoch 00005: saving model to ex10/LSTM_AM.ckpt\n",
      "Epoch 6/50\n",
      "269/269 [==============================] - 205s 761ms/step - loss: 4.4051 - val_loss: 4.4578\n",
      "\n",
      "Epoch 00006: saving model to ex10/LSTM_AM.ckpt\n",
      "Epoch 7/50\n",
      "269/269 [==============================] - 204s 759ms/step - loss: 4.2396 - val_loss: 4.3661\n",
      "\n",
      "Epoch 00007: saving model to ex10/LSTM_AM.ckpt\n",
      "Epoch 8/50\n",
      "269/269 [==============================] - 206s 765ms/step - loss: 4.0881 - val_loss: 4.2948\n",
      "\n",
      "Epoch 00008: saving model to ex10/LSTM_AM.ckpt\n",
      "Epoch 9/50\n",
      "269/269 [==============================] - 210s 780ms/step - loss: 3.9607 - val_loss: 4.2244\n",
      "\n",
      "Epoch 00009: saving model to ex10/LSTM_AM.ckpt\n",
      "Epoch 10/50\n",
      "269/269 [==============================] - 207s 769ms/step - loss: 3.8506 - val_loss: 4.1548\n",
      "\n",
      "Epoch 00010: saving model to ex10/LSTM_AM.ckpt\n",
      "Epoch 11/50\n",
      "269/269 [==============================] - 206s 765ms/step - loss: 3.7348 - val_loss: 4.1180\n",
      "\n",
      "Epoch 00011: saving model to ex10/LSTM_AM.ckpt\n",
      "Epoch 12/50\n",
      "269/269 [==============================] - 209s 777ms/step - loss: 3.6459 - val_loss: 4.0794\n",
      "\n",
      "Epoch 00012: saving model to ex10/LSTM_AM.ckpt\n",
      "Epoch 13/50\n",
      "269/269 [==============================] - 207s 770ms/step - loss: 3.5621 - val_loss: 4.0361\n",
      "\n",
      "Epoch 00013: saving model to ex10/LSTM_AM.ckpt\n",
      "Epoch 14/50\n",
      "269/269 [==============================] - 210s 780ms/step - loss: 3.4752 - val_loss: 4.0040\n",
      "\n",
      "Epoch 00014: saving model to ex10/LSTM_AM.ckpt\n",
      "Epoch 15/50\n",
      "269/269 [==============================] - 207s 769ms/step - loss: 3.4097 - val_loss: 3.9919\n",
      "\n",
      "Epoch 00015: saving model to ex10/LSTM_AM.ckpt\n",
      "Epoch 16/50\n",
      "269/269 [==============================] - 205s 763ms/step - loss: 3.3407 - val_loss: 3.9671\n",
      "\n",
      "Epoch 00016: saving model to ex10/LSTM_AM.ckpt\n",
      "Epoch 17/50\n",
      "269/269 [==============================] - 208s 773ms/step - loss: 3.2806 - val_loss: 3.9456\n",
      "\n",
      "Epoch 00017: saving model to ex10/LSTM_AM.ckpt\n",
      "Epoch 18/50\n",
      "269/269 [==============================] - 207s 768ms/step - loss: 3.2233 - val_loss: 3.9296\n",
      "\n",
      "Epoch 00018: saving model to ex10/LSTM_AM.ckpt\n",
      "Epoch 19/50\n",
      "269/269 [==============================] - 206s 766ms/step - loss: 3.1702 - val_loss: 3.9197\n",
      "\n",
      "Epoch 00019: saving model to ex10/LSTM_AM.ckpt\n",
      "Epoch 20/50\n",
      "269/269 [==============================] - 207s 771ms/step - loss: 3.1108 - val_loss: 3.9100\n",
      "\n",
      "Epoch 00020: saving model to ex10/LSTM_AM.ckpt\n",
      "Epoch 21/50\n",
      "269/269 [==============================] - 211s 784ms/step - loss: 3.0681 - val_loss: 3.8995\n",
      "\n",
      "Epoch 00021: saving model to ex10/LSTM_AM.ckpt\n",
      "Epoch 22/50\n",
      "269/269 [==============================] - 207s 768ms/step - loss: 3.0275 - val_loss: 3.8948\n",
      "\n",
      "Epoch 00022: saving model to ex10/LSTM_AM.ckpt\n",
      "Epoch 23/50\n",
      "269/269 [==============================] - 206s 767ms/step - loss: 2.9868 - val_loss: 3.8869\n",
      "\n",
      "Epoch 00023: saving model to ex10/LSTM_AM.ckpt\n",
      "Epoch 24/50\n",
      "269/269 [==============================] - 207s 771ms/step - loss: 2.9450 - val_loss: 3.8778\n",
      "\n",
      "Epoch 00024: saving model to ex10/LSTM_AM.ckpt\n",
      "Epoch 25/50\n",
      "269/269 [==============================] - 204s 760ms/step - loss: 2.8997 - val_loss: 3.8790\n",
      "\n",
      "Epoch 00025: saving model to ex10/LSTM_AM.ckpt\n",
      "Epoch 26/50\n",
      "269/269 [==============================] - 205s 764ms/step - loss: 2.8698 - val_loss: 3.8751\n",
      "\n",
      "Epoch 00026: saving model to ex10/LSTM_AM.ckpt\n",
      "Epoch 27/50\n",
      "269/269 [==============================] - 204s 759ms/step - loss: 2.8403 - val_loss: 3.8713\n",
      "\n",
      "Epoch 00027: saving model to ex10/LSTM_AM.ckpt\n",
      "Epoch 28/50\n",
      "269/269 [==============================] - 204s 758ms/step - loss: 2.8058 - val_loss: 3.8778\n",
      "\n",
      "Epoch 00028: saving model to ex10/LSTM_AM.ckpt\n",
      "Epoch 29/50\n",
      "269/269 [==============================] - 202s 752ms/step - loss: 2.7734 - val_loss: 3.8689\n",
      "\n",
      "Epoch 00029: saving model to ex10/LSTM_AM.ckpt\n",
      "Epoch 30/50\n",
      "269/269 [==============================] - 203s 753ms/step - loss: 2.7366 - val_loss: 3.8723\n",
      "\n",
      "Epoch 00030: saving model to ex10/LSTM_AM.ckpt\n",
      "Epoch 31/50\n",
      "269/269 [==============================] - 203s 753ms/step - loss: 2.7044 - val_loss: 3.8673\n",
      "\n",
      "Epoch 00031: saving model to ex10/LSTM_AM.ckpt\n",
      "Epoch 32/50\n",
      "269/269 [==============================] - 205s 762ms/step - loss: 2.6874 - val_loss: 3.8664\n",
      "\n",
      "Epoch 00032: saving model to ex10/LSTM_AM.ckpt\n",
      "Epoch 33/50\n",
      "269/269 [==============================] - 204s 757ms/step - loss: 2.6583 - val_loss: 3.8695\n",
      "\n",
      "Epoch 00033: saving model to ex10/LSTM_AM.ckpt\n",
      "Epoch 34/50\n",
      "269/269 [==============================] - 203s 756ms/step - loss: 2.6338 - val_loss: 3.8690\n",
      "\n",
      "Epoch 00034: saving model to ex10/LSTM_AM.ckpt\n",
      "Epoch 00034: early stopping\n"
     ]
    }
   ],
   "source": [
    "model.compile(optimizer='rmsprop', loss='sparse_categorical_crossentropy')\n",
    "earlystopping = EarlyStopping(monitor='val_loss', patience=2, verbose=1)\n",
    "history = model.fit(x=[encoder_input_train, decoder_input_train], y=decoder_target_train, \\\n",
    "          validation_data=([encoder_input_test, decoder_input_test], decoder_target_test), \\\n",
    "          batch_size=256, callbacks=[checkpoint ,earlystopping], epochs=50) # model.fit()에 callback으로 es객체를 넣어줘야 es 적용 가능"
   ]
  },
  {
   "cell_type": "code",
   "execution_count": 47,
   "id": "dedicated-uzbekistan",
   "metadata": {},
   "outputs": [
    {
     "data": {
      "image/png": "[encoded data removed]",
      "text/plain": [
       "<Figure size 432x288 with 1 Axes>"
      ]
     },
     "metadata": {
      "needs_background": "light"
     },
     "output_type": "display_data"
    }
   ],
   "source": [
    "# 훈련 과정 시각화\n",
    "plt.plot(history.history['loss'], label='train')\n",
    "plt.plot(history.history['val_loss'], label='test')\n",
    "plt.legend()\n",
    "plt.show()"
   ]
  },
  {
   "cell_type": "markdown",
   "id": "central-recognition",
   "metadata": {},
   "source": [
    "#### Trial2 - padding이 'pre' 인 경우"
   ]
  },
  {
   "cell_type": "code",
   "execution_count": 78,
   "id": "mounted-puzzle",
   "metadata": {},
   "outputs": [
    {
     "name": "stdout",
     "output_type": "stream",
     "text": [
      "WARNING:tensorflow:Layer lstm_4 will not use cuDNN kernel since it doesn't meet the cuDNN kernel criteria. It will use generic GPU kernel as fallback when running on GPU\n",
      "WARNING:tensorflow:Layer lstm_5 will not use cuDNN kernel since it doesn't meet the cuDNN kernel criteria. It will use generic GPU kernel as fallback when running on GPU\n",
      "WARNING:tensorflow:Layer lstm_6 will not use cuDNN kernel since it doesn't meet the cuDNN kernel criteria. It will use generic GPU kernel as fallback when running on GPU\n",
      "WARNING:tensorflow:Layer lstm_7 will not use cuDNN kernel since it doesn't meet the cuDNN kernel criteria. It will use generic GPU kernel as fallback when running on GPU\n",
      "Model: \"model_4\"\n",
      "__________________________________________________________________________________________________\n",
      "Layer (type)                    Output Shape         Param #     Connected to                     \n",
      "==================================================================================================\n",
      "input_6 (InputLayer)            [(None, 40)]         0                                            \n",
      "__________________________________________________________________________________________________\n",
      "embedding_2 (Embedding)         (None, 40, 128)      2176000     input_6[0][0]                    \n",
      "__________________________________________________________________________________________________\n",
      "lstm_4 (LSTM)                   [(None, 40, 256), (N 394240      embedding_2[0][0]                \n",
      "__________________________________________________________________________________________________\n",
      "input_7 (InputLayer)            [(None, None)]       0                                            \n",
      "__________________________________________________________________________________________________\n",
      "lstm_5 (LSTM)                   [(None, 40, 256), (N 525312      lstm_4[0][0]                     \n",
      "__________________________________________________________________________________________________\n",
      "embedding_3 (Embedding)         (None, None, 128)    1241600     input_7[0][0]                    \n",
      "__________________________________________________________________________________________________\n",
      "lstm_6 (LSTM)                   [(None, 40, 256), (N 525312      lstm_5[0][0]                     \n",
      "__________________________________________________________________________________________________\n",
      "lstm_7 (LSTM)                   [(None, None, 256),  394240      embedding_3[0][0]                \n",
      "                                                                 lstm_6[0][1]                     \n",
      "                                                                 lstm_6[0][2]                     \n",
      "__________________________________________________________________________________________________\n",
      "attention_layer (AttentionLayer ((None, None, 256),  131328      lstm_6[0][0]                     \n",
      "                                                                 lstm_7[0][0]                     \n",
      "__________________________________________________________________________________________________\n",
      "concat_layer (Concatenate)      (None, None, 512)    0           lstm_7[0][0]                     \n",
      "                                                                 attention_layer[0][0]            \n",
      "__________________________________________________________________________________________________\n",
      "dense_3 (Dense)                 (None, None, 9700)   4976100     concat_layer[0][0]               \n",
      "==================================================================================================\n",
      "Total params: 10,364,132\n",
      "Trainable params: 10,364,132\n",
      "Non-trainable params: 0\n",
      "__________________________________________________________________________________________________\n"
     ]
    }
   ],
   "source": [
    "# 패딩만 'pre'로 변경\n",
    "encoder_input_train = pad_sequences(encoder_input_train, maxlen=text_max_len, padding='pre')\n",
    "encoder_input_test = pad_sequences(encoder_input_test, maxlen=text_max_len, padding='pre')\n",
    "decoder_input_train = pad_sequences(decoder_input_train, maxlen=summary_max_len, padding='pre')\n",
    "decoder_target_train = pad_sequences(decoder_target_train, maxlen=summary_max_len, padding='pre')\n",
    "decoder_input_test = pad_sequences(decoder_input_test, maxlen=summary_max_len, padding='pre')\n",
    "decoder_target_test = pad_sequences(decoder_target_test, maxlen=summary_max_len, padding='pre')\n",
    "\n",
    "# 모델 정의\n",
    "model2 = Model([encoder_inputs, decoder_inputs], decoder_softmax_outputs)\n",
    "model2.summary()"
   ]
  },
  {
   "cell_type": "code",
   "execution_count": 79,
   "id": "perceived-queensland",
   "metadata": {},
   "outputs": [
    {
     "name": "stdout",
     "output_type": "stream",
     "text": [
      "Epoch 1/50\n",
      "269/269 [==============================] - 202s 750ms/step - loss: 2.6508 - val_loss: 3.8785\n",
      "\n",
      "Epoch 00001: saving model to ex10/LSTM_AM2.ckpt\n",
      "Epoch 2/50\n",
      "269/269 [==============================] - 202s 751ms/step - loss: 2.6240 - val_loss: 3.8859\n",
      "\n",
      "Epoch 00002: saving model to ex10/LSTM_AM2.ckpt\n",
      "Epoch 3/50\n",
      "269/269 [==============================] - 201s 748ms/step - loss: 2.5992 - val_loss: 3.8807\n",
      "\n",
      "Epoch 00003: saving model to ex10/LSTM_AM2.ckpt\n",
      "Epoch 00003: early stopping\n"
     ]
    }
   ],
   "source": [
    "checkpoint_path = \"ex10/LSTM_AM2.ckpt\"             # 저장할 가중치의 확장자 및 파일 이름\n",
    "checkpoint_dir = os.path.dirname(checkpoint_path)  # 저장할 경로\n",
    "\n",
    "checkpoint2 = tf.keras.callbacks.ModelCheckpoint(filepath=checkpoint_path, # 학습 시 callback함수를 반환하여 학습\n",
    "                                                 save_weights_only=True,\n",
    "                                                 verbose=1)\n",
    "\n",
    "model2.compile(optimizer='rmsprop', loss='sparse_categorical_crossentropy')\n",
    "earlystopping2 = EarlyStopping(monitor='val_loss', patience=2, verbose=1)\n",
    "history2 = model.fit(x=[encoder_input_train, decoder_input_train], y=decoder_target_train, \\\n",
    "          validation_data=([encoder_input_test, decoder_input_test], decoder_target_test), \\\n",
    "          batch_size=256, callbacks=[checkpoint2 ,earlystopping2], epochs=50) # model.fit()에 callback으로 es객체를 넣어줘야 es 적용 가능"
   ]
  },
  {
   "cell_type": "code",
   "execution_count": 80,
   "id": "parallel-mobile",
   "metadata": {},
   "outputs": [
    {
     "data": {
      "image/png": "[encoded data removed]",
      "text/plain": [
       "<Figure size 432x288 with 1 Axes>"
      ]
     },
     "metadata": {
      "needs_background": "light"
     },
     "output_type": "display_data"
    }
   ],
   "source": [
    "# 훈련 과정 시각화\n",
    "plt.plot(history2.history['loss'], label='train')\n",
    "plt.plot(history2.history['val_loss'], label='test')\n",
    "plt.legend()\n",
    "plt.show()"
   ]
  },
  {
   "cell_type": "markdown",
   "id": "opponent-classic",
   "metadata": {},
   "source": [
    "'pre' padding으로 학습된 결과 심한..overfitting이 발생하였다. 때문에 'post' padding으로 진행된 모델을 가지고 테스트 결과를 살펴본다."
   ]
  },
  {
   "cell_type": "markdown",
   "id": "ranking-birth",
   "metadata": {},
   "source": [
    "## 4. 모델 테스트"
   ]
  },
  {
   "cell_type": "markdown",
   "id": "caring-design",
   "metadata": {},
   "source": [
    "### 4.1 Inference Model 구현"
   ]
  },
  {
   "cell_type": "markdown",
   "id": "ideal-adrian",
   "metadata": {},
   "source": [
    "> __Inference__? 학습을 마친 모델로 실제 과제를 수행하는 행위 혹은 그 과정\n",
    "\n",
    "- Seq2seq는 훈련할 때와 인퍼런스 단계의 방식이 달라 그에 맞는 모델 설계를 별개로 진행해야 한다\n",
    "- 훈련 단계: 인코더와 디코더를 엮은 모델 준비\n",
    "- 인퍼런스 단계: 인코더 모델과 디코더 모델을 분리해서 설계(정답X, 디코더가 반복구조로 동작할 필요)"
   ]
  },
  {
   "cell_type": "code",
   "execution_count": 48,
   "id": "lesbian-holocaust",
   "metadata": {},
   "outputs": [],
   "source": [
    "# 정수로 된 데이터를 실제로 복원해야 하므로 필요한 사전을 세팅한다.\n",
    "src_index_to_word = src_tokenizer.index_word # 원문 단어 집합에서 정수 -> 단어를 얻음\n",
    "tar_word_to_index = tar_tokenizer.word_index # 요약 단어 집합에서 단어 -> 정수를 얻음\n",
    "tar_index_to_word = tar_tokenizer.index_word # 요약 단어 집합에서 정수 -> 단어를 얻음"
   ]
  },
  {
   "cell_type": "code",
   "execution_count": 49,
   "id": "defensive-bumper",
   "metadata": {},
   "outputs": [],
   "source": [
    "# 인코더 설계\n",
    "encoder_model = Model(inputs=encoder_inputs, outputs=[encoder_outputs, state_h, state_c])\n",
    "\n",
    "# 이전 시점의 상태들을 저장하는 텐서\n",
    "decoder_state_input_h = Input(shape=(hidden_size,))\n",
    "decoder_state_input_c = Input(shape=(hidden_size,))\n",
    "\n",
    "dec_emb2 = dec_emb_layer(decoder_inputs)\n",
    "\n",
    "# 문장의 다음 단어를 예측하기 위해서 초기 상태(initial_state)를 이전 시점의 상태로 사용. 이는 뒤의 함수 decode_sequence()에 구현\n",
    "# 훈련 과정에서와 달리 LSTM의 리턴하는 은닉 상태와 셀 상태인 state_h와 state_c를 버리지 않음.\n",
    "decoder_outputs2, state_h2, state_c2 = decoder_lstm(dec_emb2, initial_state=[decoder_state_input_h, decoder_state_input_c])"
   ]
  },
  {
   "cell_type": "code",
   "execution_count": 50,
   "id": "genuine-momentum",
   "metadata": {},
   "outputs": [],
   "source": [
    "# 어텐션 메커니즘을 사용하는 출력층 설계\n",
    "# 어텐션 함수\n",
    "decoder_hidden_state_input = Input(shape=(text_max_len, hidden_size))\n",
    "attn_out_inf, attn_states_inf = attn_layer([decoder_hidden_state_input, decoder_outputs2])\n",
    "decoder_inf_concat = Concatenate(axis=-1, name='concat')([decoder_outputs2, attn_out_inf])\n",
    "\n",
    "# 디코더의 출력층\n",
    "decoder_outputs2 = decoder_softmax_layer(decoder_inf_concat) \n",
    "\n",
    "# 최종 디코더 모델\n",
    "decoder_model = Model(\n",
    "    [decoder_inputs] + [decoder_hidden_state_input,decoder_state_input_h, decoder_state_input_c],\n",
    "    [decoder_outputs2] + [state_h2, state_c2])"
   ]
  },
  {
   "cell_type": "code",
   "execution_count": 51,
   "id": "ceramic-invalid",
   "metadata": {},
   "outputs": [],
   "source": [
    "# 단어 시퀀스를 완성하는 함수\n",
    "def decode_sequence(input_seq):\n",
    "    # 입력으로부터 인코더의 상태를 얻음\n",
    "    e_out, e_h, e_c = encoder_model.predict(input_seq)\n",
    "\n",
    "     # <SOS>에 해당하는 토큰 생성\n",
    "    target_seq = np.zeros((1,1))\n",
    "    target_seq[0, 0] = tar_word_to_index['sostoken']\n",
    "\n",
    "    stop_condition = False\n",
    "    decoded_sentence = ''\n",
    "    while not stop_condition: # stop_condition이 True가 될 때까지 루프 반복\n",
    "\n",
    "        output_tokens, h, c = decoder_model.predict([target_seq] + [e_out, e_h, e_c])\n",
    "        sampled_token_index = np.argmax(output_tokens[0, -1, :])\n",
    "        sampled_token = tar_index_to_word[sampled_token_index]\n",
    "\n",
    "        if (sampled_token!='eostoken'):\n",
    "            decoded_sentence += ' '+sampled_token\n",
    "\n",
    "        #  <eos>에 도달하거나 최대 길이를 넘으면 중단.\n",
    "        if (sampled_token == 'eostoken'  or len(decoded_sentence.split()) >= (summary_max_len-1)):\n",
    "            stop_condition = True\n",
    "\n",
    "        # 길이가 1인 타겟 시퀀스를 업데이트\n",
    "        target_seq = np.zeros((1,1))\n",
    "        target_seq[0, 0] = sampled_token_index\n",
    "\n",
    "        # 상태를 업데이트 합니다.\n",
    "        e_h, e_c = h, c\n",
    "\n",
    "    return decoded_sentence"
   ]
  },
  {
   "cell_type": "markdown",
   "id": "european-watts",
   "metadata": {},
   "source": [
    "### 4.2 원문과 요약문 비교"
   ]
  },
  {
   "cell_type": "code",
   "execution_count": 52,
   "id": "answering-discharge",
   "metadata": {},
   "outputs": [],
   "source": [
    "# 원문의 정수 시퀀스를 텍스트 시퀀스로 변환\n",
    "def seq2text(input_seq):\n",
    "    temp=''\n",
    "    for i in input_seq:\n",
    "        if (i!=0):\n",
    "            temp = temp + src_index_to_word[i]+' '\n",
    "    return temp\n",
    "\n",
    "# 요약문의 정수 시퀀스를 텍스트 시퀀스로 변환\n",
    "def seq2summary(input_seq):\n",
    "    temp=''\n",
    "    for i in input_seq:\n",
    "        if ((i!=0 and i!=tar_word_to_index['sostoken']) and i!=tar_word_to_index['eostoken']):\n",
    "            temp = temp + tar_index_to_word[i] + ' '\n",
    "    return temp"
   ]
  },
  {
   "cell_type": "code",
   "execution_count": 92,
   "id": "prospective-badge",
   "metadata": {},
   "outputs": [],
   "source": [
    "test_idx = np.random.randint(17168, size=10)"
   ]
  },
  {
   "cell_type": "code",
   "execution_count": 129,
   "id": "turned-weekend",
   "metadata": {
    "scrolled": false
   },
   "outputs": [
    {
     "name": "stdout",
     "output_type": "stream",
     "text": [
      "원문 : bollywood actor shah rukh khan gave minute movie de india opening ceremony hockey world cup taking place bhubaneswar odisha tuesday ceremony also featured performance actor madhuri dixit odisha chief minister naveen patnaik shook hands captains participating nations \n",
      "실제 요약 : srk gives de india speech at hockey wc opening ceremony \n",
      "예측 요약 :  srk helps fans in opening final for world cup final\n",
      "\n",
      "\n",
      "원문 : indian cricket team refused play day night test australian tour later year quality pink ball nobody put gun head say play said coa chief vinod rai earlier cricket australia ceo james sutherland claimed india reluctant day night test avoid loss \n",
      "실제 요약 : india refuse to play day night test during tour of australia \n",
      "예측 요약 :  team india team to play county cricket team\n",
      "\n",
      "\n",
      "원문 : hearing kerala love jihad case underway supreme court judicial bench observed consent woman prime asserting law prohibits falling love criminal sc added national security threats state must take action individual rights curtailed unnecessarily \n",
      "실제 요약 : consent of woman is prime sc on kerala love jihad case \n",
      "예측 요약 :  sc seeks protection to reply on plea against her\n",
      "\n",
      "\n",
      "원문 : railways minister suresh prabhu wednesday said volunteered club railways budget general budget added takeover finance ministry current fiscal government merged railways budget general budget presented finance minister arun jaitley february \n",
      "실제 요약 : gave up rail budget suresh prabhu \n",
      "예측 요약 :  govt sanctions for fy at lakh in fy\n",
      "\n",
      "\n",
      "원문 : stating congress leader shashi tharoor apology tweet miss world manushi chhillar genuine national commission women chief rekha sharma asked apologise properly nation tharoor apologised chhillar name tweet demonetisation saying tweet light hearted mean offence chhillar \n",
      "실제 요약 : ncw asks tharoor to apologise properly for miss world tweet \n",
      "예측 요약 :  tharoor apologises for tweet on world manushi chhillar\n",
      "\n",
      "\n",
      "원문 : supreme court friday directed centre set committee study management important temples across country committee specially focus facilities provided pilgrims utilisation funds order came response plea malpractices management odisha shri jagannath temple \n",
      "실제 요약 : set up committee to study temples management sc to centre \n",
      "예측 요약 :  sc to regulate movement in india\n",
      "\n",
      "\n",
      "원문 : russia iraq restored commercial airline services sunday first time since iraqi airways plane leaving moscow signal part iraq russian nationals safely visit iraq russian spokesman said russia suspended flights iraq us led invasion pushed arab country war nn \n",
      "실제 요약 : russia iraq restore air travel after year freeze \n",
      "예측 요약 :  russia offers coalition aid for yemen jets after yemen\n",
      "\n",
      "\n",
      "원문 : juvenile offenders including stone pelters longer lodged police lock ups jammu kashmir director general police sp vaid said thursday special juvenile units constituted police stations across state since juveniles sent jails may turn criminals get radicalised vaid added \n",
      "실제 요약 : to not be lodged in police in \n",
      "예측 요약 :  police cops police to police station in police\n",
      "\n",
      "\n",
      "원문 : calling mumbai attacks act terrorism pakistan pm imran khan said want something done bombers mumbai asked government find status case resolving case interest added khan expressed hopes resume bilateral talks india next year general elections \n",
      "실제 요약 : we want something done about attackers pakistan pm \n",
      "예측 요약 :  will return to return to return from pak pm sharif\n",
      "\n",
      "\n",
      "원문 : cbdt chairman sushil chandra monday urged industries misuse provisions laws evade taxes said effective tax rate big companies already quite good due various exemptions said industries act salary earning person help build tax compliant society \n",
      "실제 요약 : do not misuse laws tax rates already quite good cbdt \n",
      "예측 요약 :  pan forms to be chairman on cbdt chairman\n",
      "\n",
      "\n",
      "원문 : slamming us president donald trump retweeting three anti muslim videos user wrote finger retweeted british fascist finger nuclear button users tweeted spreading hatred consequences president ashamed well least pretending hate muslims anymore \n",
      "실제 요약 : twitter slams trump for anti muslim videos \n",
      "예측 요약 :  twitter mocks trump over anti muslim tweet\n",
      "\n",
      "\n",
      "원문 : noida based cybersecurity firm launched cybersecurity threat tool works six attacks take place including phishing cyber scams media founded firm works people process technology agenda reducing overall threat posture \n",
      "실제 요약 : noida cybersecurity firm launches threat \n",
      "예측 요약 :  firm to launch its own malware data\n",
      "\n",
      "\n",
      "원문 : bed sensor company hello founder james proud said company along product sleep monitor sense would shutting proud given one peter program awards young people grant develop idea proud later launched hello raised nearly million funding \n",
      "실제 요약 : peter backed bed sensor company hello shuts down \n",
      "예측 요약 :  wearable smartphone maker on the great startup\n",
      "\n",
      "\n",
      "원문 : per reports rape accused godman maharaj asked perform test denied rape allegations cbi interrogation claimed present ashram day incident godman accused raping female follower two years ago inside ashram run \n",
      "실제 요약 : rape accused maharaj may face test report \n",
      "예측 요약 :  rape accused of rape accused bishop\n",
      "\n",
      "\n",
      "원문 : pm narendra modi recent visit portugal launched india portugal international startup hub portuguese counterpart antonio costa strengthen connection startup ecosystem two countries accessible app also give information subjects including government initiatives policy tax system visa process \n",
      "실제 요약 : pm modi launches india portugal international startup hub \n",
      "예측 요약 :  pm modi launches india startup india\n",
      "\n",
      "\n",
      "원문 : cprl administrator justice gs singhvi written logistics partner mcdonald north east india restore supplies however logistics partner said contractual matter fall ambit administrator powers discontinued services due mcdonald outlets faced closure week \n",
      "실제 요약 : logistics partner asked to resume mcdonald supply \n",
      "예측 요약 :  mcdonald recalls uk over its cut cut by\n",
      "\n",
      "\n",
      "원문 : india border security force said pakistan rangers called pleaded stop firing along international border comes bsf fired rocket destroyed pakistani bunker killed retaliation pakistan unprovoked firing targeting us getting appropriate reply bsf officials said \n",
      "실제 요약 : pakistan with us to stop firing along border india \n",
      "예측 요약 :  pakistan warns pak along loc along loc\n",
      "\n",
      "\n",
      "원문 : asserting neither vegetarian non vegetarian dalai lama wednesday said meat dead animals killed meat vegetarian believe wrong slaughter creature notably dalai lama reportedly non vegetarian \n",
      "실제 요약 : fine to eat dead animals not those dalai lama \n",
      "예측 요약 :  meat found in meal at school campus\n",
      "\n",
      "\n",
      "원문 : haryana cm manohar lal khattar wednesday rode motorcycle jind came review arrangements bjp president amit shah mega bike rally reportedly lakh bikes participate thursday rally party also made mandatory ministers mlas attend rally motorcycles \n",
      "실제 요약 : yana cm rides bike to review for shah rally \n",
      "예측 요약 :  haryana cm orders land for amit shah rally\n",
      "\n",
      "\n",
      "원문 : man allegedly threw acid wife daughters drank kill delhi saturday police reached spot man declared dead mother daughters rushed hospital undergoing treatment investigations police found couple fought man bought acid \n",
      "실제 요약 : delhi man kills self after throwing acid on wife daughters \n",
      "예측 요약 :  man throws acid on fire at delhi hospital after wife\n",
      "\n",
      "\n",
      "원문 : ransomware people clicking infected pop advertisement visiting infected website downloading malicious file malware locks files user computer till hackers demands met friday wannacry ransomware attackers exploited vulnerability microsoft windows leaked last month reportedly part us spy agency hacking tools \n",
      "실제 요약 : how do ransomware attacks take place \n",
      "예측 요약 :  petya ransomware hacked to hack cryptocurrency\n",
      "\n",
      "\n",
      "원문 : paradise papers leak revealed four time formula one champion lewis hamilton avoided tax crore jet hamilton said instructed lawyer check arrangements told legal hamilton allegedly used shell companies british virgin islands man avoid vat \n",
      "실제 요약 : time champion avoided taxes on crore jet \n",
      "예측 요약 :  record of jet airways files complaint\n",
      "\n",
      "\n",
      "원문 : slamming centre delhi government civic bodies failure curb illegal constructions national capital supreme court said people delhi cattle stating people suffering problems like pollution parking lack green areas due unauthorised constructions apex court added everyone respect society \n",
      "실제 요약 : delhi people not cattle sc to govt on illegal \n",
      "예측 요약 :  delhi govt to impose tax on hookah bars delhi\n",
      "\n",
      "\n",
      "원문 : former india captain ms dhoni said quickest bowler faced career former pakistani pacer shoaib akhtar quick fast could bowl yorker could bowl bouncer never expected bit fun play dhoni said akhtar \n",
      "실제 요약 : shoaib akhtar the fastest bowler have faced dhoni \n",
      "예측 요약 :  dhoni is afridi on dhoni in champions trophy\n",
      "\n",
      "\n",
      "원문 : according reports censor board asked removal scene judwaa shows varun dhawan dressed lord krishna playing instead board reportedly thought would harm religious sentiments people fun song dance sequence source close film said \n",
      "실제 요약 : cbfc asks removal of judwaa lord krishna scene reports \n",
      "예측 요약 :  cbfc slams flipkart for abusing up\n",
      "\n",
      "\n",
      "원문 : speaking paresh rawal portrayal late father sunil dutt sanju sanjay dutt sister dutt said connect audience sunil dutt daughter like cannot see anyone portraying father special added said ranbir kapoor good film \n",
      "실제 요약 : did not connect to paresh role as dad sunil dutt \n",
      "예측 요약 :  dad said am not good actor rishi on sanju\n",
      "\n",
      "\n",
      "원문 : stanford researchers created fluid cooling panels covered optical surfaces reflect sunlight simultaneously heat atmosphere panels placed water pipes cooled water surrounding temperatures without using electricity placed building reduction electricity consumption observed \n",
      "실제 요약 : system that works without electricity made \n",
      "예측 요약 :  scientists create new fuel from water\n",
      "\n",
      "\n",
      "원문 : us based startup unveiled device ces automatically close doors inside home event fire device installed standard door attaching door also room detects smoke also sounds security alarm wake room occupants \n",
      "실제 요약 : device to close home doors during fire made \n",
      "예측 요약 :  startup makes device that can detect alcohol test\n",
      "\n",
      "\n",
      "원문 : vinod chopra producing anil kapoor upcoming film ek ladki ko dekha toh aisa laga said write story anil kapoor perfect choice cast fight script star works perfect marriage two added producer \n",
      "실제 요약 : anil kapoor was perfect choice for ek ko \n",
      "예측 요약 :  priyanka to star in film on kashyap film\n",
      "\n",
      "\n",
      "원문 : russian foreign ministry condemned us president donald trump decision nuclear agreement iran saying move proves us break international agreements time adding decision exposes us partner russian officials said us attempt tensions looks like aggression \n",
      "실제 요약 : trump proved us can break agreements at any time russia \n",
      "예측 요약 :  us sanctions on iran sanctions us\n",
      "\n",
      "\n",
      "원문 : us based team students developed bucket like device called users put head watch movies priced device also comes remote control wireless speaker connected via bluetooth device works phones tablets inches size \n",
      "실제 요약 : bucket like device which allows users to watch movies made \n",
      "예측 요약 :  device which can users control without helmet made\n",
      "\n",
      "\n",
      "원문 : former cricketer rahul dravid given extension offered new two year contract india teams dravid yet accept contract terms conditions including remuneration yet finalised decision taken cricket advisory committee comprising sachin tendulkar sourav ganguly vvs laxman \n",
      "실제 요약 : rahul dravid offered two year india contract \n",
      "예측 요약 :  rahul dravid to return to lakh for indian cricket team\n",
      "\n",
      "\n",
      "원문 : mumbai based healthcare startup founded six alumni iit bombay iit delhi offers diagnostic services using ai based disease search engine startup collects test samples patients homes report delivered app via whatsapp based results patient referred doctor consultation phone \n",
      "실제 요약 : startup offers ai based services \n",
      "예측 요약 :  iit iit delhi tech tech startup develops ai startup\n",
      "\n",
      "\n",
      "원문 : facebook chief operating officer sheryl sandberg interview wednesday said companies zero tolerance towards sexual harassment think great people lose jobs happens think get people future said light recent harassment cases silicon valley \n",
      "실제 요약 : it is great when sexual lose their jobs fb coo \n",
      "예측 요약 :  fb is not to fb voice fb coo\n",
      "\n",
      "\n",
      "원문 : states ruled bjp allies house india population per census comparison states ruled congress allies made population bjp ruled states sent mps lok sabha sent congress ruled states \n",
      "실제 요약 : india population lives in nda ruled states \n",
      "예측 요약 :  india most powerful in india but are india bjp\n",
      "\n",
      "\n",
      "원문 : american rapper banks alleged series instagram stories later deleted drugged raped feel dirty stupid right men prey king force say yes added said close social media accounts embarrassed \n",
      "실제 요약 : us rapper alleges she was drugged raped deletes post later \n",
      "예측 요약 :  employee responds to teacher who said teacher quits\n",
      "\n",
      "\n",
      "원문 : talking school van train collision killed students uttar pradesh cm yogi adityanath said prima facie appears mistake van driver earphones injured admitted brd medical college inquiry conducted nab responsible yogi added collision took place unmanned railway crossing \n",
      "실제 요약 : van driver had on cm yogi on van train collision \n",
      "예측 요약 :  bus driver kills self after car kills self in up\n",
      "\n",
      "\n",
      "원문 : india football federation website hacked tuesday hackers posting send kulbhushan jadhav dead body back india hackers identified zero cool posted anti india messages including even know difference snapchat site later restored calling reckless sliding tackle \n",
      "실제 요약 : will send kulbhushan dead body hackers post on site \n",
      "예측 요약 :  india asks indian to pay fake news of hacking\n",
      "\n",
      "\n",
      "원문 : actor salman khan start filming third instalment action film series dabangg producer arbaaz khan revealed dabangg go floors april however still locations producer said actress sonakshi sinha earlier confirmed starring film opposite salman \n",
      "실제 요약 : salman khan to start shooting for dabangg \n",
      "예측 요약 :  salman khan to produce his debut in dabangg\n",
      "\n",
      "\n",
      "원문 : pilgrims kanwar yatra injured allegedly attacked uttar pradesh district late friday night victims claimed people motorcycles attacked iron rods sharp weapons four pilgrims reportedly critical \n",
      "실제 요약 : injured in attack by motorcycle borne assailants \n",
      "예측 요약 :  pilgrims of pilgrims in rajasthan\n",
      "\n",
      "\n",
      "원문 : former indian captain mohammad azharuddin barred attending hyderabad cricket association meeting sunday azharuddin stopped made wait hour main gate rajiv gandhi international stadium meeting convened adopt lodha panel recommendations ended abruptly amid chaos azharuddin arrival \n",
      "실제 요약 : barred from hyderabad cricket association meeting \n",
      "예측 요약 :  ex ranji captain banned from women for women cricket\n",
      "\n",
      "\n",
      "원문 : pm narendra modi tuesday claimed lakh toilets constructed bihar past week rjd leader tejashwi yadav called big congress leader sanjay nirupam also tweeted think possible construct toilets high speed much possible pm modi make false claims \n",
      "실제 요약 : pm toilets in week claim big up tejashwi \n",
      "예측 요약 :  modi is like business of money in bihar pm modi\n",
      "\n",
      "\n",
      "원문 : year old employee firm mumbai allegedly stabbed manager six times office paying salary accused reportedly also took wife daughters office request release salary money manager said critical condition \n",
      "실제 요약 : mumbai man stabs manager times for refusing to pay salary \n",
      "예측 요약 :  mumbai man stabs man for not paying for crore\n",
      "\n",
      "\n",
      "원문 : abu dhabi jakarta etihad airways flight diverted mumbai wednesday indonesian woman went labour delivered baby girl mid air according officials delivery took place aircraft flying arabian sea woman rushed hospital andheri east newborn \n",
      "실제 요약 : flight diverted to mumbai as indonesian woman gives birth mid air \n",
      "예측 요약 :  man who saved baby plane with baby dies\n",
      "\n",
      "\n",
      "원문 : world ninth richest person michael bloomberg offering millions us policy proposals address issues neglected president donald trump plans issues include gun control climate change immigration public health asked submit compelling city level policy proposals could win grants \n",
      "실제 요약 : billionaire offers to pay for policies trump ignored \n",
      "예측 요약 :  world richest people billionaire trump to trump\n",
      "\n",
      "\n",
      "원문 : meeting canadian pm justin trudeau punjab cm amarinder singh said given assurance khalistan issue looked singh also met canadian defence minister sajjan allegedly called khalistan refused meet comes amid reports nda government trudeau khalistan stance \n",
      "실제 요약 : canada pm assured he will look into khalistan issue punjab cm \n",
      "예측 요약 :  cannot be pm netanyahu on canadian pm netanyahu\n",
      "\n",
      "\n",
      "원문 : shiromani gurdwara committee decided install portrait khalistan leader singh along people killed operation blue star amritsar golden temple portraits installed gallery constructed temple military operation carried drive led militants temple \n",
      "실제 요약 : sikh extremist pic to be put at golden temple \n",
      "예측 요약 :  civic body bans use of blue whale in varanasi\n",
      "\n",
      "\n",
      "원문 : talking advances artificial intelligence microsoft ceo satya nadella said company going infuse everything ai also said going perception capability language capability autonomy going built applications going forward self driving projects autonomy everywhere nadella added \n",
      "실제 요약 : microsoft will everything with ai ceo satya nadella \n",
      "예측 요약 :  ai is not making people microsoft ceo\n",
      "\n",
      "\n",
      "원문 : part demo day event google invited applications startups headquartered asia pacific selected get pitch regional global investors selected startups receive google deliver pitch panel investors apply startups must raised least company said \n",
      "실제 요약 : google to mentor asian startups to pitch to investors \n",
      "예측 요약 :  google india visa to play indian startups\n",
      "\n",
      "\n",
      "원문 : mahindra group chairman anand mahindra thursday tweeted procured mahindra used rajinikanth movie kaala company auto museum billionaire said movie producer dhanush agreed provide car mahindra expressed willingness acquire car may last year featured movie poster \n",
      "실제 요약 : anand mahindra rajini kaala car for his museum \n",
      "예측 요약 :  anand mahindra to produce attention from upcoming film\n",
      "\n",
      "\n"
     ]
    }
   ],
   "source": [
    "# 테스트 데이터 약 50개의 샘플에 대해서 실제 요약과 예측된 요약을 비교\n",
    "for i in range(50,100):\n",
    "    print(\"원문 :\", seq2text(encoder_input_test[i]))\n",
    "    print(\"실제 요약 :\", seq2summary(decoder_input_test[i]))\n",
    "    print(\"예측 요약 :\", decode_sequence(encoder_input_test[i].reshape(1, text_max_len)))\n",
    "    print(\"\\n\")"
   ]
  },
  {
   "cell_type": "markdown",
   "id": "seasonal-richmond",
   "metadata": {},
   "source": [
    "- 의미가 있는 문장도 나오지만, 같은 단어가 반복되어 예측되는 현상이 있다.\n",
    "- 이는 어텐션 메커니즘이 출력 단어의 예측 시점 마다 입력되는 전체 문장 정보를 다시 검토하여 관련이 높은 입력 문장의 단어에 비중을 두어 출력 단어를 예측해주다보니 가중치가 높은 단어가 반복되어 출현하는 것으로 보인다.\n",
    "- 이 문제는 RNN(LSTM)에서 토큰의 정보를 입력 어텐션으로 축척해가는 과정에서 각각의 단어에 다른 가중치를 부여하여 입력 어텐션 단어어 기여도를 조절해 해결할 수 있다고 한다.\n",
    "- 실제 요약과는 전혀 다른 문장이지만 글의 의미를 잘 담겨낸 아주 새로운 문장을 잘 만든 경우도 있다.\n",
    "    - 원문 : stanford researchers created fluid cooling panels covered optical surfaces reflect sunlight simultaneously heat atmosphere panels placed water pipes cooled water surrounding temperatures without using electricity placed building reduction electricity consumption observed \n",
    "    - 실제 요약 : system that works without electricity made \n",
    "    - 예측 요약 :  scientists create new fuel from water\n"
   ]
  },
  {
   "cell_type": "markdown",
   "id": "right-enforcement",
   "metadata": {},
   "source": [
    "# 추출적 요약"
   ]
  },
  {
   "cell_type": "markdown",
   "id": "direct-festival",
   "metadata": {},
   "source": [
    "동일한 데이터를 가지고 summarize를 이용해 추출적 요약을 수행해본다."
   ]
  },
  {
   "cell_type": "code",
   "execution_count": 207,
   "id": "initial-swiss",
   "metadata": {},
   "outputs": [],
   "source": [
    "import requests\n",
    "from summa.summarizer import summarize\n",
    "from summa import keywords"
   ]
  },
  {
   "cell_type": "markdown",
   "id": "silver-state",
   "metadata": {},
   "source": [
    "### summarize 사용하기"
   ]
  },
  {
   "cell_type": "markdown",
   "id": "fabulous-retailer",
   "metadata": {},
   "source": [
    "#### summa의 summarize()\n",
    "\n",
    "|Args||\n",
    "|:------|:---|\n",
    "|text (str)|요약할 테스트|\n",
    "|ratio (float, optional)|요약문에서 원본에서 선택되는 문장 비율. 0~1 사이값|\n",
    "|words (int or None, optional)|출력에 포함할 단어 수.만약, ratio와 함께 두 파라미터가 모두 제공되는 경우 ratio는 무시한다.|\n",
    "|split (bool, optional)|True면 문장 list / False는 조인(join)된 문자열을 반환|\n",
    "\n",
    "* 내부적으로 문장토큰화 수행"
   ]
  },
  {
   "cell_type": "code",
   "execution_count": 238,
   "id": "adopted-forth",
   "metadata": {},
   "outputs": [
    {
     "data": {
      "text/html": [
       "<div>\n",
       "<style scoped>\n",
       "    .dataframe tbody tr th:only-of-type {\n",
       "        vertical-align: middle;\n",
       "    }\n",
       "\n",
       "    .dataframe tbody tr th {\n",
       "        vertical-align: top;\n",
       "    }\n",
       "\n",
       "    .dataframe thead th {\n",
       "        text-align: right;\n",
       "    }\n",
       "</style>\n",
       "<table border=\"1\" class=\"dataframe\">\n",
       "  <thead>\n",
       "    <tr style=\"text-align: right;\">\n",
       "      <th></th>\n",
       "      <th>headlines</th>\n",
       "      <th>text</th>\n",
       "    </tr>\n",
       "  </thead>\n",
       "  <tbody>\n",
       "    <tr>\n",
       "      <th>0</th>\n",
       "      <td>upGrad learner switches to career in ML &amp; Al w...</td>\n",
       "      <td>Saurav Kant, an alumnus of upGrad and IIIT-B's...</td>\n",
       "    </tr>\n",
       "    <tr>\n",
       "      <th>1</th>\n",
       "      <td>Delhi techie wins free food from Swiggy for on...</td>\n",
       "      <td>Kunal Shah's credit card bill payment platform...</td>\n",
       "    </tr>\n",
       "    <tr>\n",
       "      <th>2</th>\n",
       "      <td>New Zealand end Rohit Sharma-led India's 12-ma...</td>\n",
       "      <td>New Zealand defeated India by 8 wickets in the...</td>\n",
       "    </tr>\n",
       "    <tr>\n",
       "      <th>3</th>\n",
       "      <td>Aegon life iTerm insurance plan helps customer...</td>\n",
       "      <td>With Aegon Life iTerm Insurance plan, customer...</td>\n",
       "    </tr>\n",
       "    <tr>\n",
       "      <th>4</th>\n",
       "      <td>Have known Hirani for yrs, what if MeToo claim...</td>\n",
       "      <td>Speaking about the sexual harassment allegatio...</td>\n",
       "    </tr>\n",
       "  </tbody>\n",
       "</table>\n",
       "</div>"
      ],
      "text/plain": [
       "                                           headlines  \\\n",
       "0  upGrad learner switches to career in ML & Al w...   \n",
       "1  Delhi techie wins free food from Swiggy for on...   \n",
       "2  New Zealand end Rohit Sharma-led India's 12-ma...   \n",
       "3  Aegon life iTerm insurance plan helps customer...   \n",
       "4  Have known Hirani for yrs, what if MeToo claim...   \n",
       "\n",
       "                                                text  \n",
       "0  Saurav Kant, an alumnus of upGrad and IIIT-B's...  \n",
       "1  Kunal Shah's credit card bill payment platform...  \n",
       "2  New Zealand defeated India by 8 wickets in the...  \n",
       "3  With Aegon Life iTerm Insurance plan, customer...  \n",
       "4  Speaking about the sexual harassment allegatio...  "
      ]
     },
     "execution_count": 238,
     "metadata": {},
     "output_type": "execute_result"
    }
   ],
   "source": [
    "data2 = pd.read_csv('news_summary_more.csv', encoding='iso-8859-1')\n",
    "# 내용 확인\n",
    "data2.head()"
   ]
  },
  {
   "cell_type": "code",
   "execution_count": 359,
   "id": "modular-yield",
   "metadata": {},
   "outputs": [],
   "source": [
    "text = data2['text'].apply(str)"
   ]
  },
  {
   "cell_type": "code",
   "execution_count": 362,
   "id": "rolled-pennsylvania",
   "metadata": {},
   "outputs": [
    {
     "name": "stdout",
     "output_type": "stream",
     "text": [
      "Summary:\n",
      "Television actor Karanvir Bohra, who flew to Russia on Tuesday to attend a film festival, has been detained in Moscow due to passport damage.\n"
     ]
    }
   ],
   "source": [
    "print('Summary:')\n",
    "print(summarize(text.loc[93], ratio=0.4)) # 요약문으로 선택되는 문장의 개수, 원문의 0.4%만을 출력"
   ]
  },
  {
   "cell_type": "code",
   "execution_count": 241,
   "id": "infinite-aggregate",
   "metadata": {},
   "outputs": [
    {
     "name": "stdout",
     "output_type": "stream",
     "text": [
      "Summary:\n",
      "Users get one CRED coin per rupee of bill paid, which can be used to avail rewards from brands like Ixigo, BookMyShow, UberEats, Cult.Fit and more.\n"
     ]
    }
   ],
   "source": [
    "print('Summary:')\n",
    "print(summarize(text.loc[1], words=20)) # 요약문으로 선택되는 문장의 개수, words 이상의 단어를 가지고 있는 문장 예측"
   ]
  },
  {
   "cell_type": "code",
   "execution_count": 243,
   "id": "banner-offering",
   "metadata": {},
   "outputs": [],
   "source": [
    "def summarize_news(index, ratio):\n",
    "    for i in index:\n",
    "        print('[text]\\n',text.iloc[i], '\\n')\n",
    "        print('[summary]\\n',summarize(text.iloc[i], ratio=ratio),'\\n')\n",
    "        print('='*80)"
   ]
  },
  {
   "cell_type": "code",
   "execution_count": 244,
   "id": "saving-spencer",
   "metadata": {},
   "outputs": [
    {
     "name": "stdout",
     "output_type": "stream",
     "text": [
      "[text]\n",
      " Former Finance Minister Yashwant Sinha on Tuesday demanded a probe into the alleged diversion of loans worth Ã¢ÂÂ¹31,000 crore by Dewan Housing Finance (DHFL). All agencies including regulators of the government have failed to track nefarious deals, he said. This comes after a media report on Tuesday accused DHFL's controlling shareholders of diverting funds to shell companies to buy assets. \n",
      "\n",
      "[summary]\n",
      " Former Finance Minister Yashwant Sinha on Tuesday demanded a probe into the alleged diversion of loans worth Ã¢ÂÂ¹31,000 crore by Dewan Housing Finance (DHFL). \n",
      "\n",
      "================================================================================\n",
      "[text]\n",
      " US-based Boeing on Wednesday reported annual sales worth $101.12 billion in 2018, the first time the planemaker's sales crossed the $100-billion mark in its 102-year history. The company said it expects to deliver between 895 and 905 commercial aircraft in 2019. Boeing retained its position as the world's largest planemaker for the seventh straight year, delivering 806 aircraft in 2018.  \n",
      "\n",
      "[summary]\n",
      " Boeing retained its position as the world's largest planemaker for the seventh straight year, delivering 806 aircraft in 2018. \n",
      "\n",
      "================================================================================\n",
      "[text]\n",
      " text \n",
      "\n",
      "[summary]\n",
      "  \n",
      "\n",
      "================================================================================\n",
      "[text]\n",
      " OnePlus has emerged as India's best-selling premium smartphone brand of 2018, as per a report by Counterpoint. It captured 36% of the market share in the premium segment, in Q4 2018. Further, its OnePlus 6 emerged as the highest selling premium smartphone of 2018 followed by OnePlus 6T. \n",
      "\n",
      "[summary]\n",
      " Further, its OnePlus 6 emerged as the highest selling premium smartphone of 2018 followed by OnePlus 6T. \n",
      "\n",
      "================================================================================\n",
      "[text]\n",
      " Filmmaker Pooja Bhatt, while talking about the presentation of women in her films, said, \"I can never look at a female body, even if it's naked, in a vulgar manner.\" \"Our audience can say...the women in my films are bold or sensual, but never ever vulgar,\" she added. Pooja further said her censor board is her \"own heart and mind\". \n",
      "\n",
      "[summary]\n",
      "  \n",
      "\n",
      "================================================================================\n",
      "[text]\n",
      " Actress Mishti, who has featured in 'Manikarnika: The Queen of Jhansi', has said the film's co-director Kangana Ranaut made false promises to the cast. \"Kangana had said, 'I want dates because all characters look jumbled up...I'm trying my best to give everybody a prominent space on screen.' After watching the movie, there is no scope for other characters,\" Mishti added.  \n",
      "\n",
      "[summary]\n",
      "  \n",
      "\n",
      "================================================================================\n",
      "[text]\n",
      " The high-powered committee led by PM Narendra Modi to select the next CBI Director will meet again on February 1, Congress leader Mallikarjun Kharge has said. The panel consisting of Kharge and Chief Justice of India Ranjan Gogoi met on January 24, but the meeting ended \"inconclusively\" after Kharge cited lack of details in the list of 80 IPS officers.  \n",
      "\n",
      "[summary]\n",
      "  \n",
      "\n",
      "================================================================================\n",
      "[text]\n",
      " Nevada State Athletic Commission has banned MMA fighters Conor McGregor and Khabib Nurmagomedov for six months and nine months respectively over their roles in the mass brawl that occurred after their fight at UFC 229 last October. McGregor and Khabib have been fined $50,000 (Ã¢ÂÂ¹35 lakh) and $500,000 (Ã¢ÂÂ¹3.5 crore) respectively. The brawl occurred after Nurmagomedov confronted McGregor's teammate. \n",
      "\n",
      "[summary]\n",
      " Nevada State Athletic Commission has banned MMA fighters Conor McGregor and Khabib Nurmagomedov for six months and nine months respectively over their roles in the mass brawl that occurred after their fight at UFC 229 last October. \n",
      "\n",
      "================================================================================\n",
      "[text]\n",
      " Pakistan captain Sarfaraz Ahmed, who has been banned for four matches over racist remarks, took an apparent dig at his critics by sharing a video of a child reciting 'log hai na' poem on Twitter. \"Pyaar karna hai to khud se kar...dushmani karne ke liye log hai na,\" the poem read. \"This is how the world is,\" Sarfaraz wrote. \n",
      "\n",
      "[summary]\n",
      " Pakistan captain Sarfaraz Ahmed, who has been banned for four matches over racist remarks, took an apparent dig at his critics by sharing a video of a child reciting 'log hai na' poem on Twitter. \n",
      "\n",
      "================================================================================\n",
      "[text]\n",
      " Banned cricketer Sreesanth has told Supreme Court he initially confessed to Delhi Police about his alleged involvement in 2013 IPL spot-fixing scandal to escape continuous police torture. Sreesanth further said the bookie tried dragging him into spot-fixing but he didn't fall for it. Citing Sreesanth not informing BCCI about fixing approach, the apex court said Sreesanth's conduct \"wasn't good\". \n",
      "\n",
      "[summary]\n",
      " Sreesanth further said the bookie tried dragging him into spot-fixing but he didn't fall for it. \n",
      "\n",
      "================================================================================\n",
      "[text]\n",
      " The Finance Ministry on Wednesday said the government will present an Interim Budget on February 1. The clarification came amid speculations that a full Budget may be presented during the session. The government recently assigned Piyush Goyal temporary additional charge of the Finance and Corporate Affairs ministries in the absence of Arun Jaitley, who is in the US for treatment. \n",
      "\n",
      "[summary]\n",
      " The Finance Ministry on Wednesday said the government will present an Interim Budget on February 1. \n",
      "\n",
      "================================================================================\n",
      "[text]\n",
      " US President Donald Trump on Wednesday called his country's top intelligence chiefs \"naive\" and \"wrong\" on Iran and added that they should perhaps \"go back to school\". Trump claimed Iran is testing rockets, calling the country \"a source of potential danger and conflict\". Top US intelligence officials on Tuesday said that Iran isn't currently taking steps towards building nuclear weapons. \n",
      "\n",
      "[summary]\n",
      " US President Donald Trump on Wednesday called his country's top intelligence chiefs \"naive\" and \"wrong\" on Iran and added that they should perhaps \"go back to school\". \n",
      "\n",
      "================================================================================\n",
      "[text]\n",
      " A senior priest at the Vatican who handled cases of sexual abuse has quit after being accused of sexual abuse by a former nun. The accused priest claimed he is innocent and said he would consider taking legal action. The Vatican said in a statement that a Church investigation of the case was underway. \n",
      "\n",
      "[summary]\n",
      " A senior priest at the Vatican who handled cases of sexual abuse has quit after being accused of sexual abuse by a former nun. \n",
      "\n",
      "================================================================================\n",
      "[text]\n",
      " A 22-year-old writer turned down a job offer, claiming she was bullied to the point of tears during her two-hour interview by a UK company's CEO. Olivia Bland added the \"brutal\" interview brought back painful memories of her abusive relationship. \"I am so sorry that anyone has been hurt, it is never my intent,\" Web Applications CEO Craig Dean replied.  \n",
      "\n",
      "[summary]\n",
      " A 22-year-old writer turned down a job offer, claiming she was bullied to the point of tears during her two-hour interview by a UK company's CEO. \n",
      "\n",
      "================================================================================\n",
      "[text]\n",
      " Noida Police has arrested Sector 20 station in-charge Manoj Pant and three journalists for allegedly extorting money from a call centre owner for removing his name from an FIR. The four were caught while taking bribe money of Ã¢ÂÂ¹8 lakh, police said. Pant was the lead investigator in the Paytm extortion case involving Founder Vijay Shekhar Sharma's secretary Sonia Dhawan. \n",
      "\n",
      "[summary]\n",
      " Noida Police has arrested Sector 20 station in-charge Manoj Pant and three journalists for allegedly extorting money from a call centre owner for removing his name from an FIR. \n",
      "\n",
      "================================================================================\n",
      "[text]\n",
      " Airtel on Wednesday said that Qatar's sovereign wealth fund Qatar Investment Authority will invest $200 million through a primary equity issuance in Airtel Africa. India's second-largest telecom operator's Africa unit recently raised $1.25 billion from six investors. Airtel Africa, the holding company for Airtel's operations in 14 African countries, is preparing for an initial public offering. \n",
      "\n",
      "[summary]\n",
      " Airtel Africa, the holding company for Airtel's operations in 14 African countries, is preparing for an initial public offering. \n",
      "\n",
      "================================================================================\n",
      "[text]\n",
      " Actor Shreyas Talpade said that 'Golmaal' filmmaker Rohit Shetty is still working on the script for the fifth instalment of the 'Golmaal' film franchise. \"He was telling us the other day that he...cracked some story. Once he's done with the...scripting, he'll take a call,Ã¢ÂÂ the actor added. The series features Shreyas along with Ajay Devgn, Arshad Warsi and Tusshar Kapoor. \n",
      "\n",
      "[summary]\n",
      " Actor Shreyas Talpade said that 'Golmaal' filmmaker Rohit Shetty is still working on the script for the fifth instalment of the 'Golmaal' film franchise. \n",
      "\n",
      "================================================================================\n",
      "[text]\n",
      " A 72-year-old man named Terry Sanderson has sued 'Avengers' actress Gwyneth Paltrow for allegedly crashing into him while skiing, and is seeking $3.1 million (over Ã¢ÂÂ¹22 crore) in damages. The lawsuit states the actress got up and skied away after knocking the man down, leaving him with broken ribs. The incident reportedly took place in 2016 in Utah, US.  \n",
      "\n",
      "[summary]\n",
      " A 72-year-old man named Terry Sanderson has sued 'Avengers' actress Gwyneth Paltrow for allegedly crashing into him while skiing, and is seeking $3.1 million (over Ã¢ÂÂ¹22 crore) in damages. \n",
      "\n",
      "================================================================================\n",
      "[text]\n",
      " Yami Gautam was felicitated by Border Security Force (BSF) in Amritsar for her performance in 'Uri: The Surgical Strike'. \"BSF is the first line of defence of our country and it gives me...pride to have met them,\" Yami said. The film, which also stars Vicky Kaushal, is based on the Indian Army's surgical strike operation which took place in 2016. \n",
      "\n",
      "[summary]\n",
      " Yami Gautam was felicitated by Border Security Force (BSF) in Amritsar for her performance in 'Uri: The Surgical Strike'. \n",
      "\n",
      "================================================================================\n",
      "[text]\n",
      " Social media giant Facebook has hired privacy critic Nate Cardozo, formerly the top legal counsel for US privacy watchdog EFF, as a privacy policy manager for WhatsApp. Cardozo had called Facebook a \"faceless corporation\" whose business model depends on user's confusion and indifference about privacy, in October 2015. Facebook has also hired attorney Robyn Greene as its privacy policy manager. \n",
      "\n",
      "[summary]\n",
      "  \n",
      "\n",
      "================================================================================\n",
      "[text]\n",
      " Apple CEO Tim Cook said the company plans to lower some iPhones' prices in markets with currencies that weakened against the US dollar in the past year. \"WeÃ¢ÂÂve decided to go back to (iPhone prices) more commensurate with...local prices...a year ago,\" Cook added. The price cuts, in hopes of increasing sales, are reportedly occurring for second time in 12 years. \n",
      "\n",
      "[summary]\n",
      " \"WeÃ¢ÂÂve decided to go back to (iPhone prices) more commensurate with...local prices...a year ago,\" Cook added. \n",
      "\n",
      "================================================================================\n",
      "[text]\n",
      " Scientists in Australia's Flinders University are testing a wetsuit prototype that could protect its wearer after a shark attack. The suit, made of synthetic material similar to the material used in bulletproof vests, could help reduce blood loss after a shark attack. \"The majority of fatalities from shark bites is due to blood loss...shock from blood loss,\" a scientist said. \n",
      "\n",
      "[summary]\n",
      " \"The majority of fatalities from shark bites is due to blood loss...shock from blood loss,\" a scientist said. \n",
      "\n",
      "================================================================================\n",
      "[text]\n",
      " BJP National Secretary Rahul Sinha on Wednesday asked the party workers in West Bengal to come armed with sticks to PM Narendra Modi's rally in the state on February 2. His statement came a day after clashes broke out following BJP chief Amit Shah's WB rally. Sinha added the TMC is indulged in violence as they're afraid of BJP's strength. \n",
      "\n",
      "[summary]\n",
      " BJP National Secretary Rahul Sinha on Wednesday asked the party workers in West Bengal to come armed with sticks to PM Narendra Modi's rally in the state on February 2. \n",
      "\n",
      "================================================================================\n",
      "[text]\n",
      " BJP President Amit Shah on Wednesday took a dig at the Opposition parties saying that the 'mahagathbandhan' for the Opposition is 4B - \"Bua-Bhatija-Bhai-Behen\". He added that 4B for the BJP meant \"Badhta Bharat, Banta Bharat\". He said Opposition's government cannot take the country ahead and \"only Modiji can provide a 'mazboot' (strong) government\". \n",
      "\n",
      "[summary]\n",
      " BJP President Amit Shah on Wednesday took a dig at the Opposition parties saying that the 'mahagathbandhan' for the Opposition is 4B - \"Bua-Bhatija-Bhai-Behen\". \n",
      "\n",
      "================================================================================\n",
      "[text]\n",
      " German automaker Volkswagen Group has retained the car industry's top spot in global sales, beating its Japanese rival Toyota. Volkswagen's sales, including its MAN and Scania heavy trucks and buses, rose 0.9% to 10.83 million in 2018, the company had said. Toyota came second with around 10.6 million deliveries, including its affiliated brands Daihatsu and Hino, in 2018. \n",
      "\n",
      "[summary]\n",
      " Volkswagen's sales, including its MAN and Scania heavy trucks and buses, rose 0.9% to 10.83 million in 2018, the company had said. \n",
      "\n",
      "================================================================================\n",
      "[text]\n",
      " Ousted Nissan Chairman Carlos Ghosn has said his arrest over alleged financial misconduct was led by \"plot and treason\" by the Japanese carmaker's executives who opposed its deeper integration with Renault and Mitsubishi. Ghosn added he had discussed the integration plans with Nissan's CEO in September, a month before his arrest. He further said he wouldn't flee if granted bail. \n",
      "\n",
      "[summary]\n",
      " Ousted Nissan Chairman Carlos Ghosn has said his arrest over alleged financial misconduct was led by \"plot and treason\" by the Japanese carmaker's executives who opposed its deeper integration with Renault and Mitsubishi. \n",
      "\n",
      "================================================================================\n",
      "[text]\n",
      " The government has cut down customs duty on import of parts and components for electric vehicles to 10-15%, down from the previous 15-30%. The Central Board of Indirect Taxes and Customs said disassembled parts will attract 10% duty, whereas 15% will be levied on pre-assembled packs. However, fully built electric vehicles will continue to attract 25% import duty. \n",
      "\n",
      "[summary]\n",
      " The government has cut down customs duty on import of parts and components for electric vehicles to 10-15%, down from the previous 15-30%. \n",
      "\n",
      "================================================================================\n",
      "[text]\n",
      " Government officials on Wednesday said that a swine flu outbreak has killed 76 people this year in Rajasthan. Colder weather has worsened the seasonal outbreak of the H1N1 virus in the country, officials added. Rajasthan recorded more than a third of all swine flu deaths in India with Jodhpur being the worst affected area in the state, officials said. \n",
      "\n",
      "[summary]\n",
      " Government officials on Wednesday said that a swine flu outbreak has killed 76 people this year in Rajasthan. \n",
      "\n",
      "================================================================================\n",
      "[text]\n",
      " North Korea is \"unlikely to completely give up its nuclear weapons and production capabilities\", Director of US' National Intelligence, Daniel Coats, said. \"North Korean leaders view nuclear arms as critical to regime survival,\" he added. His statements come despite North Korea's agreement with the US at the Singapore summit last year to denuclearise the Korean Peninsula.  \n",
      "\n",
      "[summary]\n",
      " \"North Korean leaders view nuclear arms as critical to regime survival,\" he added. \n",
      "\n",
      "================================================================================\n",
      "[text]\n",
      " Jet Airways on Wednesday denied it was directed by GE Capital Aviation Services to ground its aircraft due to non-payment of dues. The airline said it's in the process of delivering three aircraft to lessors due to the expiry of lease terms. Further, three aircraft have been temporarily grounded to carry out an engine normalisation exercise, it added. \n",
      "\n",
      "[summary]\n",
      " Further, three aircraft have been temporarily grounded to carry out an engine normalisation exercise, it added. \n",
      "\n",
      "================================================================================\n",
      "[text]\n",
      " Retired Justice Srikrishna's enquiry panel has found that ex-CEO Chanda Kochhar violated ICICI Bank's code of conduct. The bank said it'll treat Kochhar's exit as termination and will take back all bonuses paid to her from April 2009 until March 2018. The CBI recently filed a case against Kochhar, her husband, and Videocon MD in the ICICI-Videocon loan case. \n",
      "\n",
      "[summary]\n",
      " Retired Justice Srikrishna's enquiry panel has found that ex-CEO Chanda Kochhar violated ICICI Bank's code of conduct. \n",
      "\n",
      "================================================================================\n",
      "[text]\n",
      " Ex-India cricketer Jacob Martin has been shifted to general ward from the ICU after being on a ventilator for nearly a month following a road accident, wherein he severely injured his lungs. Martin's wife Khyati mentioned there are chances that Jacob will be in hospital for two more months. BCCI, CSK and various cricketers provided financial assistance for Martin's treatment. \n",
      "\n",
      "[summary]\n",
      " Ex-India cricketer Jacob Martin has been shifted to general ward from the ICU after being on a ventilator for nearly a month following a road accident, wherein he severely injured his lungs. \n",
      "\n",
      "================================================================================\n",
      "[text]\n",
      " Sri Lanka all-rounder Thisara Perera has written to Sri Lanka Cricket CEO Ashley de Silva, asking the board to intervene after ODI captain Lasith Malinga's wife Tanya targeted him on Facebook. Tanya accused Perera of meeting country's Sports Minister to secure his place in the team. \"We've become laughing stock of whole country...because of one person's personal vendetta,\" Perera wrote. \n",
      "\n",
      "[summary]\n",
      " Tanya accused Perera of meeting country's Sports Minister to secure his place in the team. \n",
      "\n",
      "================================================================================\n",
      "[text]\n",
      " Goa CM and ex-Defence Minister Manohar Parrikar has written a letter to Congress President Rahul Gandhi over his claim that Parrikar told him he has nothing to do with new Rafale deal. Parrikar wrote, \"Kindly do not use your visit to an ailing person to feed political opportunism.\" In their five-minute meeting, they didn't discuss anything about Rafale, he added. \n",
      "\n",
      "[summary]\n",
      "  \n",
      "\n",
      "================================================================================\n",
      "[text]\n",
      " Prime Minister Narendra Modi stopped his speech at the inauguration of the new terminal building at Surat airport after observing that a cameraman had fainted. PM Modi then asked his officers to urgently arrange for an ambulance for the cameraman. \"It's good that PM was paying attention to his surroundings during his speech,\" the cameraman later said from a hospital.  \n",
      "\n",
      "[summary]\n",
      " PM Modi then asked his officers to urgently arrange for an ambulance for the cameraman. \n",
      "\n",
      "================================================================================\n",
      "[text]\n",
      " A couple got divorced minutes after their wedding ceremony got over in Gujarat's Gondal as a disagreement broke out and relatives from both sides started throwing dishes at each other during lunch. The advocates representing both sides arrived at the marriage hall and got the couple divorced within minutes. The couple even reportedly returned the gifts exchanged during the ceremony. \n",
      "\n",
      "[summary]\n",
      " A couple got divorced minutes after their wedding ceremony got over in Gujarat's Gondal as a disagreement broke out and relatives from both sides started throwing dishes at each other during lunch. \n",
      "\n",
      "================================================================================\n",
      "[text]\n",
      " Gujarat Education Minister Bhupendrasinh Chudasma has written a congratulatory message to a yoga ashram run by rape-convict Asaram's organisation for observing February 14 as \"Matru-Pitru Pujan Divas\" (Mother-Father worship day). After the Congress termed the letter as \"unfortunate\", saying it \"shows the nexus between BJP and godman\", Chudasma clarified, \"All I have done is sent best wishes.\"  \n",
      "\n",
      "[summary]\n",
      "  \n",
      "\n",
      "================================================================================\n",
      "[text]\n",
      " Venezuelan President NicolÃÂ¡s Maduro has claimed that his American counterpart Donald Trump ordered the Colombian government and the Colombian mafia to kill him. \"If something happens to me, Trump and Colombian President IvÃÂ¡n MÃÂ¡rquez will bear responsibility,\" he added. The US has blamed Maduro for the economic crisis in Venezuela and recognised opposition leader Juan GuaidÃÂ³ as interim President. \n",
      "\n",
      "[summary]\n",
      " Venezuelan President NicolÃÂ¡s Maduro has claimed that his American counterpart Donald Trump ordered the Colombian government and the Colombian mafia to kill him. \n",
      "\n",
      "================================================================================\n",
      "[text]\n",
      " Eight Asian billionaires aged 90 or above on the Bloomberg Billionaires Index of world's 500 richest people have a combined net worth of $125 billion. The richest among them is Hong Kong's Li Ka Shing with a net worth of $30.5 billion. India's 90-year-old Pallonji Mistry, who controls 18.3% of Tata Sons through Shapoorji Pallonji Group, is worth $20.1 billion. \n",
      "\n",
      "[summary]\n",
      " The richest among them is Hong Kong's Li Ka Shing with a net worth of $30.5 billion. \n",
      "\n",
      "================================================================================\n",
      "[text]\n",
      " Tamil Nadu food safety officials on Wednesday raided and seized 1,000 kgs of banned plastic items from Hotel Saravana Bhavan in Chennai's Vadapalani. Officials began a surprise check in the branch at 8 am. The state government had banned single-use plastics from January 1 and said the banned items should be handed over at the offices of the city corporation. \n",
      "\n",
      "[summary]\n",
      " Tamil Nadu food safety officials on Wednesday raided and seized 1,000 kgs of banned plastic items from Hotel Saravana Bhavan in Chennai's Vadapalani. \n",
      "\n",
      "================================================================================\n",
      "[text]\n",
      " Actress Shamita Shetty was verbally abused and her driver was slapped in an incident of road rage in Mumbai on Tuesday, as per reports. The incident reportedly took place after a motorist who was accompanied by two friends, rammed his vehicle into Shamita's car. The men allegedly manhandled and threatened Shamita's driver when he stepped out to inspect the damage.  \n",
      "\n",
      "[summary]\n",
      " Actress Shamita Shetty was verbally abused and her driver was slapped in an incident of road rage in Mumbai on Tuesday, as per reports. \n",
      "\n",
      "================================================================================\n",
      "[text]\n",
      " Actress Vaani Kapoor said that trolling has become a norm on social media, adding, \"There's no one who hasn't got trolled on social media.\" \"Everybody is out there to pull the other person down but it'll only bother [you] if you let it bother you,\" Vaani added. She further said, social media offers a platform \"where people enjoy belittling everybody\".  \n",
      "\n",
      "[summary]\n",
      "  \n",
      "\n",
      "================================================================================\n",
      "[text]\n",
      " Actress Sushmita Sen took to Instagram to share a joke on the subject of marriage. \"Whoever invented marriage was creepy as hell. Like I love you so much IÃ¢ÂÂm gonna get the government involved so you canÃ¢ÂÂt leave,\" Sushmita's post read. \"This is an insult to [the] beauty of marriage,\" an Instagram user commented on her post. \n",
      "\n",
      "[summary]\n",
      " \"This is an insult to [the] beauty of marriage,\" an Instagram user commented on her post. \n",
      "\n",
      "================================================================================\n",
      "[text]\n",
      " Television actor Karanvir Bohra, who flew to Russia on Tuesday to attend a film festival, has been detained in Moscow due to passport damage. \"They [are] contemplating to deport me back to India,\" the actor wrote on Twitter. The Indian embassy in Russia's capital responded to his tweet and said that they were looking into the issue.  \n",
      "\n",
      "[summary]\n",
      " Television actor Karanvir Bohra, who flew to Russia on Tuesday to attend a film festival, has been detained in Moscow due to passport damage. \n",
      "\n",
      "================================================================================\n",
      "[text]\n",
      " While speaking about winning awards for his films, Shah Rukh Khan said, \"If I don't get an award, that award is at a loss.\" \"Sometimes, the prestige of an award increases when I receive it,\" the actor jokingly added. Shah Rukh further said that he was \"extremely ambitious\" but in a \"fair manner\".  \n",
      "\n",
      "[summary]\n",
      "  \n",
      "\n",
      "================================================================================\n",
      "[text]\n",
      " Actress Patralekhaa will make her debut in the Kannada film industry with the action-comedy film 'Where is my Kannadaka?' \"I can definitely say that itÃ¢ÂÂs a kind of role that I havenÃ¢ÂÂt portrayed on screen so far and that makes it special for me,\" the actress said in a statement. Shooting for the film will reportedly begin in April. \n",
      "\n",
      "[summary]\n",
      "  \n",
      "\n",
      "================================================================================\n",
      "[text]\n",
      " Gmail on Tuesday faced a global outage, which also affected India, wherein certain users complained they faced a '404 error' message while trying to sign-in to their accounts. The error message read: \"The requested URL was not found on this server. That's all we know.\" Google responded saying \"problem with Gmail should be resolved (now). We apologise for the inconvenience\". \n",
      "\n",
      "[summary]\n",
      " Gmail on Tuesday faced a global outage, which also affected India, wherein certain users complained they faced a '404 error' message while trying to sign-in to their accounts. \n",
      "\n",
      "================================================================================\n",
      "[text]\n",
      " Shiv Sena chief Uddhav Thackeray has asked the BJP to decide about the alliance with the Sena within 15 days and said the BJP should make a concrete proposal on the alliance. Thackeray added that only if the BJP agrees to Sena's terms and conditions, the party will agree for an alliance. Sena is free to fight independently, he said.  \n",
      "\n",
      "[summary]\n",
      " Shiv Sena chief Uddhav Thackeray has asked the BJP to decide about the alliance with the Sena within 15 days and said the BJP should make a concrete proposal on the alliance. \n",
      "\n",
      "================================================================================\n",
      "[text]\n",
      " BJP President Amit Shah on Wednesday took a dig at the Opposition's proposed grand alliance saying if the \"mahagathbandhan comes to power, each opposition leader will be a Prime Minister every day of the week\". He added, \"[The] country will go on...holiday on Sunday\". He said the Opposition is thinking about leading the country but does not have a leader. \n",
      "\n",
      "[summary]\n",
      " He said the Opposition is thinking about leading the country but does not have a leader. \n",
      "\n",
      "================================================================================\n",
      "[text]\n",
      " Prime Minister Narendra Modi on Wednesday said his government's demonetisation decision made houses affordable for the aspiring youth. He added decisions like demonetisation and RERA have put a check on black money that used to be \"parked in the real estate sector\". He said 'UDAN' (Ude Desh ka Aam Nagrik) scheme has boosted the development of the country's aviation sector. \n",
      "\n",
      "[summary]\n",
      " He added decisions like demonetisation and RERA have put a check on black money that used to be \"parked in the real estate sector\". \n",
      "\n",
      "================================================================================\n"
     ]
    }
   ],
   "source": [
    "summarize_news(range(50,100), 0.4)"
   ]
  },
  {
   "cell_type": "markdown",
   "id": "turkish-hampton",
   "metadata": {},
   "source": [
    "- 추출적 요약은 추상적 요약에 비해 난이도가 낮고 기존 문장에서 문장을 꺼내오는 것이므로 잘못된 요약이 나올 가능성이 비교적 낮다.\n",
    "- 뉴스의 short text는 주로 앞 문장에서 주요한 정보를 먼저 전달해주는 경우가 많다보니 추출 요약 결과로도 첫 문장을 가져다 주는 경우가 많다.\n",
    "- 네이버 요약봇도 위와 같은 결과를 뱉어주는 경우가 많은 것으로 보아 핵심적인 문장을 잘 추출한 것으로 판단된다.\n",
    "- 요약문의 크기 조정시 단어수와 비율 모두 지정된 숫자보다 핵심 문장의 단어수/비율이 적으면 결과를 뱉어주지 않으므로 적절한 숫자 산정도 중요한 요소이다."
   ]
  },
  {
   "cell_type": "markdown",
   "id": "advance-beijing",
   "metadata": {},
   "source": [
    "## 추상 요약 vs 추출 요약\n",
    "\n",
    "|구분|문법|핵심단어|\n",
    "|:---|:---|:---|\n",
    "|추상요약|입력 어텐션의 어느 부분에 집중할지 매시점마다 예측하기 때문에 문법완성도가 떨어진다|Attention을 통해 중요 키워드 결정|\n",
    "|추출요약|문장을 그대로 가져오기 때문에 문법 완성도가 높다.|TextRank를 이용해 중요 키워드 추출|"
   ]
  },
  {
   "cell_type": "markdown",
   "id": "short-supplement",
   "metadata": {},
   "source": [
    "***"
   ]
  },
  {
   "cell_type": "markdown",
   "id": "outside-exclusive",
   "metadata": {},
   "source": [
    "## 프로젝트 정리"
   ]
  },
  {
   "cell_type": "markdown",
   "id": "female-trunk",
   "metadata": {},
   "source": [
    "- 연산량이 많아 모델이 학습되는 시간이 꽤 긴편인데 클라우드가 재부팅되면서 학습결과가 날아가는 경우가 발생했다. checkpoint를 이용해서 성능이 좋은 모델을 저장하게끔 하였다.\n",
    "- 모델학습 결과 loss: 2.6338 - val_loss: 3.8690으로 loss가 꽤 높았고 과적합 되는 경향을 보였다. 시간상 이번에는 다양한 시도를 해보지 못했지만 dropout 등을 조정해 과적합을 해결해 봐야겠다.\n",
    "- 관련해서 자료를 찾아보다가 lstm에는 'post' padding으로 학습하는 것이 결과가 좋다는 글을 읽어보았고, 동일하게 설계된 모델로 패딩순서만 변경하여 학습시켜봤는데 'pre' padding로 학습된 모델은 첫 epoch부터 과적합 양상을 보였고 그 정도가 'post' padding의 결과보다 컸다. 정보가 희석되지 않은채로 과하게 넘어가서 일까? 아직은 원인을 파악하기에 많이 부족하다..😥\n",
    "- 추상 요약과 추출 요약을 비교하면서 텍스트 정규화와 불용어 처리를 하며 많은 정보량이 삭제된 것은 아닐까하는 생각이 들었다. 텍스트 요약에서는 문법적인 요소(부정어나 조사 등)를 포함해서 가르쳐줘야 더 자연스럽게 문장을 요약해주지 않을까 싶다.\n",
    "- 프로젝트를 진행하면서 개념에 대한 이해가 부족하다보니 어떤 부분을 수정해서 더 좋은 결과를 낼 수 있을지 파악하기가 어려웠다. 하나씩 정리해나가야지..\n",
    "- 어텐션과 양방향 LSTM이 번역에서 굉장히 성능이 좋았다고 한다! https://ratsgo.github.io/natural%20language%20processing/2017/10/22/manning/"
   ]
  }
 ],
 "metadata": {
  "kernelspec": {
   "display_name": "Python 3",
   "language": "python",
   "name": "python3"
  },
  "language_info": {
   "codemirror_mode": {
    "name": "ipython",
    "version": 3
   },
   "file_extension": ".py",
   "mimetype": "text/x-python",
   "name": "python",
   "nbconvert_exporter": "python",
   "pygments_lexer": "ipython3",
   "version": "3.7.9"
  }
 },
 "nbformat": 4,
 "nbformat_minor": 5
}
