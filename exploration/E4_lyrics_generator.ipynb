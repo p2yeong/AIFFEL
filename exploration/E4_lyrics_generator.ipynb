{
 "cells": [
  {
   "cell_type": "markdown",
   "id": "alternative-architect",
   "metadata": {},
   "source": [
    "# AI 작사가 만들기 👩‍🎨"
   ]
  },
  {
   "cell_type": "markdown",
   "id": "consistent-mailing",
   "metadata": {},
   "source": [
    "## 1. 데이터 읽어오기"
   ]
  },
  {
   "cell_type": "code",
   "execution_count": 1,
   "id": "packed-denial",
   "metadata": {},
   "outputs": [],
   "source": [
    "import glob\n",
    "import os\n",
    "import re\n",
    "import tensorflow as tf\n",
    "import sklearn"
   ]
  },
  {
   "cell_type": "code",
   "execution_count": 2,
   "id": "published-going",
   "metadata": {},
   "outputs": [
    {
     "name": "stdout",
     "output_type": "stream",
     "text": [
      "데이터 크기: 187088\n",
      "Examples:\n",
      " ['At first I was afraid', 'I was petrified', 'I kept thinking I could never live without you', 'By my side But then I spent so many nights', \"Just thinking how you've done me wrong\", 'I grew strong', \"I learned how to get along And so you're back\", 'From outer space', 'I just walked in to find you', 'Here without that look upon your face I should have changed that fucking lock', 'I would have made you leave your key', 'If I had known for just one second', \"You'd be back to bother me Well now go,\", 'Walk out the door', 'Just turn around', \"Now, you're not welcome anymore Weren't you the one\", 'Who tried to break me with desire?', \"Did you think I'd crumble?\", \"Did you think I'd lay down and die? Oh not I,\", 'I will survive']\n"
     ]
    }
   ],
   "source": [
    "txt_file_path = os.getenv('HOME') + '/aiffel/lyricist/data/lyrics/*'\n",
    "\n",
    "txt_list = glob.glob(txt_file_path)\n",
    "\n",
    "raw_corpus = []\n",
    "\n",
    "for txt_file in txt_list:\n",
    "    with open(txt_file, \"r\") as f:\n",
    "        raw = f.read().splitlines()\n",
    "        raw_corpus.extend(raw)\n",
    "\n",
    "print(\"데이터 크기:\", len(raw_corpus))\n",
    "print(\"Examples:\\n\", raw_corpus[:20])"
   ]
  },
  {
   "cell_type": "markdown",
   "id": "surprising-flight",
   "metadata": {},
   "source": [
    "## 2. 데이터 정제"
   ]
  },
  {
   "cell_type": "markdown",
   "id": "partial-leisure",
   "metadata": {},
   "source": [
    "### 2.1 정규표현식으로 문장 정제"
   ]
  },
  {
   "cell_type": "code",
   "execution_count": 3,
   "id": "moral-ready",
   "metadata": {},
   "outputs": [
    {
     "name": "stdout",
     "output_type": "stream",
     "text": [
      "<start> at first i was afraid <end>\n"
     ]
    }
   ],
   "source": [
    "def preprocess_sentence(sentence):\n",
    "    sentence = sentence.lower().strip() # 소문자로 변경 후 양쪽 공백 제거\n",
    "    sentence = re.sub(\"\\[.*\\]*\", \" \", sentence) # 노래 구조 삭제 ex. [Outro]\n",
    "    sentence = re.sub(r\"([?.!,¿])\", r\" \\1 \", sentence) # 특수문자 양옆에 공백 추가\n",
    "    sentence = re.sub(r'[\" \"]+', \" \", sentence) # 다수의 공백은 하나의 공백으로 처리 \n",
    "    sentence = re.sub(r\"[^a-z?.!,¿]+\", \" \", sentence) # 영어와 지정한 특수문자 제외 공백 처리 \n",
    "    sentence = sentence.strip() # 양쪽 공백 삭제\n",
    "    sentence = '<start> ' + sentence + ' <end>' # 문장 시작에는 <start>, 끝에는 <end>를 추가\n",
    "    return sentence\n",
    "\n",
    "print(preprocess_sentence(raw_corpus[0]))# 정제 결과 확인"
   ]
  },
  {
   "cell_type": "code",
   "execution_count": 4,
   "id": "available-bronze",
   "metadata": {},
   "outputs": [
    {
     "name": "stdout",
     "output_type": "stream",
     "text": [
      "168590\n"
     ]
    },
    {
     "data": {
      "text/plain": [
       "['<start> i was petrified <end>',\n",
       " '<start> i kept thinking i could never live without you <end>',\n",
       " '<start> by my side but then i spent so many nights <end>',\n",
       " '<start> just thinking how you ve done me wrong <end>',\n",
       " '<start> i grew strong <end>',\n",
       " '<start> i learned how to get along and so you re back <end>',\n",
       " '<start> from outer space <end>',\n",
       " '<start> i just walked in to find you <end>',\n",
       " '<start> here without that look upon your face i should have changed that fucking lock <end>',\n",
       " '<start> i would have made you leave your key <end>',\n",
       " '<start> if i had known for just one second <end>',\n",
       " '<start> you d be back to bother me well now go , <end>',\n",
       " '<start> walk out the door <end>',\n",
       " '<start> just turn around <end>',\n",
       " '<start> now , you re not welcome anymore weren t you the one <end>',\n",
       " '<start> who tried to break me with desire ? <end>',\n",
       " '<start> did you think i d crumble ? <end>',\n",
       " '<start> did you think i d lay down and die ? oh not i , <end>',\n",
       " '<start> i will survive <end>']"
      ]
     },
     "execution_count": 4,
     "metadata": {},
     "output_type": "execute_result"
    }
   ],
   "source": [
    "corpus = [] # 정제된 말뭉치를 저장\n",
    "\n",
    "for sentence in raw_corpus:\n",
    "    # 원치않는 문장 건너뛰기\n",
    "    if len(sentence) == 0 or len(sentence.split()) > 15: continue # 길이가 0이거나 토큰이 15개가 넘는 문장은 건너뛰기\n",
    "#     if sentence[-1] == \":\": continue # 가사가 ':'으로 마치는 경우 존재하므로 건너뛰지 않는다\n",
    "    \n",
    "    preprocessed_sentence = preprocess_sentence(sentence)\n",
    "    corpus.append(preprocessed_sentence)\n",
    "        \n",
    "# 정제된 결과 확인\n",
    "print(len(corpus))\n",
    "corpus[1:20]"
   ]
  },
  {
   "cell_type": "markdown",
   "id": "third-sleeping",
   "metadata": {},
   "source": [
    "### 2.2 Tokenization"
   ]
  },
  {
   "cell_type": "code",
   "execution_count": 5,
   "id": "composite-mother",
   "metadata": {},
   "outputs": [
    {
     "name": "stdout",
     "output_type": "stream",
     "text": [
      "[[   2   71  250 ...    0    0    0]\n",
      " [   2    5   57 ...    0    0    0]\n",
      " [   2    5 1103 ...    0    0    0]\n",
      " ...\n",
      " [   2   47   16 ...    0    0    0]\n",
      " [  24    9 2887 ...  261   19    3]\n",
      " [   2    6  176 ...    0    0    0]] <keras_preprocessing.text.Tokenizer object at 0x7f079aad4c90>\n"
     ]
    }
   ],
   "source": [
    "def tokenize(corpus):\n",
    "    tokenizer = tf.keras.preprocessing.text.Tokenizer(\n",
    "        num_words=12000, # 단어장의 크기(전체 단어의 개수) \n",
    "        filters=' ',\n",
    "        oov_token=\"<unk>\" # 사전에 없는 단어 <unk>으로 대체\n",
    "    )\n",
    "    # corpus를 이용해 tokenizer 내부의 단어장을 완성\n",
    "    tokenizer.fit_on_texts(corpus)\n",
    "    # 준비한 tokenizer를 이용해 corpus를 Tensor로 변환\n",
    "    tensor = tokenizer.texts_to_sequences(corpus)   \n",
    "    # 입력 데이터의 시퀀스 길이를 일정하게\n",
    "    tensor = tf.keras.preprocessing.sequence.pad_sequences(tensor, padding='post', maxlen=15)\n",
    "    \n",
    "    print(tensor,tokenizer)\n",
    "    return tensor, tokenizer\n",
    "\n",
    "tensor, tokenizer = tokenize(corpus)"
   ]
  },
  {
   "cell_type": "code",
   "execution_count": 6,
   "id": "modular-therapist",
   "metadata": {},
   "outputs": [
    {
     "name": "stdout",
     "output_type": "stream",
     "text": [
      "[[   2   71  250    5   57  644    3    0    0    0    0    0    0    0\n",
      "     0]\n",
      " [   2    5   57 6670    3    0    0    0    0    0    0    0    0    0\n",
      "     0]\n",
      " [   2    5 1103  510    5  104   79  202  257    7    3    0    0    0\n",
      "     0]]\n"
     ]
    },
    {
     "data": {
      "text/plain": [
       "(168590, 15)"
      ]
     },
     "execution_count": 6,
     "metadata": {},
     "output_type": "execute_result"
    }
   ],
   "source": [
    "print(tensor[:3, :15]) # 생성된 텐서 데이터 3번째 행 부터 15번째 열까지 출력\n",
    "tensor.shape"
   ]
  },
  {
   "cell_type": "code",
   "execution_count": 7,
   "id": "forward-hours",
   "metadata": {},
   "outputs": [
    {
     "name": "stdout",
     "output_type": "stream",
     "text": [
      "1 : <unk>\n",
      "2 : <start>\n",
      "3 : <end>\n",
      "4 : ,\n",
      "5 : i\n",
      "6 : the\n",
      "7 : you\n",
      "8 : and\n",
      "9 : a\n",
      "10 : to\n"
     ]
    }
   ],
   "source": [
    "# 단어사전 확인\n",
    "len(tokenizer.index_word)\n",
    "for idx in tokenizer.index_word:\n",
    "    print(idx, \":\", tokenizer.index_word[idx])\n",
    "\n",
    "    if idx >= 10: break #단어장의 10번째 단어까지 출력"
   ]
  },
  {
   "cell_type": "markdown",
   "id": "honey-lewis",
   "metadata": {},
   "source": [
    "## 3. 평가 데이터셋 분리"
   ]
  },
  {
   "cell_type": "code",
   "execution_count": 8,
   "id": "experienced-description",
   "metadata": {},
   "outputs": [
    {
     "name": "stdout",
     "output_type": "stream",
     "text": [
      "[  2  71 250   5  57 644   3   0   0   0   0   0   0   0]\n",
      "[ 71 250   5  57 644   3   0   0   0   0   0   0   0   0]\n"
     ]
    }
   ],
   "source": [
    "src_input = tensor[:, :-1] # 마지막 토큰을 잘라, 소스 문장 생성\n",
    "tgt_input = tensor[:, 1:] # <start>를 잘라, 타겟 문장 생성\n",
    "print(src_input[0])\n",
    "print(tgt_input[0])"
   ]
  },
  {
   "cell_type": "code",
   "execution_count": 9,
   "id": "adolescent-archives",
   "metadata": {},
   "outputs": [
    {
     "name": "stdout",
     "output_type": "stream",
     "text": [
      "Source Train: (134872, 14)\n",
      "Target Train: (134872, 14)\n",
      "Source Val: (33718, 14)\n",
      "Target Val: (33718, 14)\n"
     ]
    }
   ],
   "source": [
    "from sklearn.model_selection import train_test_split\n",
    "enc_train, enc_val, dec_train, dec_val = train_test_split(src_input, tgt_input, test_size=0.2, random_state=42)\n",
    "print(\"Source Train:\", enc_train.shape)\n",
    "print(\"Target Train:\", dec_train.shape)\n",
    "print(\"Source Val:\", enc_val.shape)\n",
    "print(\"Target Val:\", dec_val.shape)"
   ]
  },
  {
   "cell_type": "markdown",
   "id": "hourly-latvia",
   "metadata": {},
   "source": [
    "## 4. 모델 설계 및 훈련"
   ]
  },
  {
   "cell_type": "markdown",
   "id": "greater-checkout",
   "metadata": {},
   "source": [
    "__조건__: 10 Epoch 안에 val_loss 값을 2.2 수준으로 줄일 수 있는 모델을 설계하라"
   ]
  },
  {
   "cell_type": "markdown",
   "id": "clinical-claim",
   "metadata": {},
   "source": [
    "### 4.1 1차 모델 설계 (하이퍼파라미터 조정)\n",
    "\n",
    "__데이터__\n",
    "- Source Train: (134872, 14)\n",
    "- Target Train: (134872, 14)\n",
    "- Source Validation: (33718, 14)\n",
    "- Target Validation: (33718, 14)\n",
    "\n",
    "\n",
    "__모델설계__\n",
    "\n",
    "[Model1]\n",
    "- RNN 레이어 2개\n",
    "- embedding_size = 256\n",
    "- hidden_size = 1024\n",
    "- n_train_epoch = 10\n",
    "\n",
    "[Model2]\n",
    "- RNN 레이어 2개\n",
    "- embedding_size = 512\n",
    "- hidden_size = 1024\n",
    "- n_train_epoch = 10  \n",
    "\n",
    "[Model3]\n",
    "- RNN 레이어 2개\n",
    "- embedding_size = 1024\n",
    "- hidden_size = 1024\n",
    "- n_train_epoch = 10  \n",
    "\n",
    "\n",
    "__실행방법__\n",
    "\n",
    "훈련셋을 train,validation으로 분리한다. __하이퍼파라미터__를 조정하며 train으로 훈련하고 validation으로 loss를 평가한다.최종 평가는 생성하는 문장을 확인한다.\n",
    "\n",
    "__결과__\n",
    "\n",
    "Train과 validation의 loss 결과<br>\n",
    "참고용으로 확인한 loss \n",
    "\n",
    "[Model1] \n",
    "loss: 2.2189 - val_loss: 2.5852\n",
    "\n",
    "[Model2]\n",
    "loss: 2.0250 - val_loss: 2.4940\n",
    "\n",
    "[Model3]\n",
    "loss: 2.0079 - val_loss: 2.4921"
   ]
  },
  {
   "cell_type": "code",
   "execution_count": 10,
   "id": "eastern-organization",
   "metadata": {},
   "outputs": [],
   "source": [
    "class TextGenerator(tf.keras.Model):\n",
    "    def __init__(self, vocab_size, embedding_size, hidden_size):\n",
    "        super().__init__()\n",
    "        \n",
    "        self.embedding = tf.keras.layers.Embedding(vocab_size, embedding_size)\n",
    "        self.rnn_1 = tf.keras.layers.LSTM(hidden_size, return_sequences=True)\n",
    "        self.rnn_2 = tf.keras.layers.LSTM(hidden_size, return_sequences=True)\n",
    "        self.linear = tf.keras.layers.Dense(vocab_size)\n",
    "        \n",
    "    def call(self, x):\n",
    "        out = self.embedding(x)\n",
    "        out = self.rnn_1(out)\n",
    "        out = self.rnn_2(out)\n",
    "        out = self.linear(out)\n",
    "        \n",
    "        return out"
   ]
  },
  {
   "cell_type": "markdown",
   "id": "interpreted-newark",
   "metadata": {},
   "source": [
    "> __return_sequences=True__<br>\n",
    "    return_sequences=True for all LSTM layers except the last one.    \n",
    "    Setting this flag to True lets Keras know that LSTM output should contain all historical generated outputs along with time stamps (3D). So, next LSTM layer can work further on the data.\n",
    "    If this flag is false, then LSTM only returns last output (2D). Such output is not good enough for another LSTM layer."
   ]
  },
  {
   "cell_type": "code",
   "execution_count": 11,
   "id": "innocent-dallas",
   "metadata": {},
   "outputs": [],
   "source": [
    "# model 1\n",
    "vocab_size = tokenizer.num_words + 1 # 총 단어 개수 + pad:0\n",
    "embedding_size = 256 # 단어가 추상적으로 표현되는 크기\n",
    "hidden_size = 1024 # 모델에 둘 일꾼의 수(많으면 배가 산으로)\n",
    "model = TextGenerator(vocab_size, embedding_size , hidden_size)"
   ]
  },
  {
   "cell_type": "code",
   "execution_count": 12,
   "id": "operational-trade",
   "metadata": {},
   "outputs": [
    {
     "data": {
      "text/plain": [
       "<tf.Tensor: shape=(256, 14, 12001), dtype=float32, numpy=\n",
       "array([[[ 1.09650093e-04,  7.55700967e-05,  4.64430668e-05, ...,\n",
       "         -6.37245976e-05, -8.88853610e-05,  3.32817173e-04],\n",
       "        [ 4.25293256e-05, -1.16485593e-04,  4.01814235e-04, ...,\n",
       "         -1.28365733e-04, -5.76188722e-05,  1.76828747e-04],\n",
       "        [ 1.28811153e-04, -2.26286182e-04,  6.32244628e-04, ...,\n",
       "         -1.32657384e-04, -2.24731411e-04,  2.32255203e-04],\n",
       "        ...,\n",
       "        [ 7.03075202e-04,  9.25957051e-04, -6.55797194e-05, ...,\n",
       "         -5.83082801e-05, -5.87891089e-04,  3.84218409e-04],\n",
       "        [ 7.44950143e-04,  6.10340387e-04, -1.56804560e-06, ...,\n",
       "         -1.56189097e-04, -7.44727382e-04,  5.23206021e-04],\n",
       "        [ 6.44089538e-04,  4.97802917e-04,  1.64057987e-04, ...,\n",
       "         -4.77595953e-04, -9.87384701e-04,  4.48294682e-04]],\n",
       "\n",
       "       [[ 2.31161204e-04, -6.61938902e-05, -8.36381150e-05, ...,\n",
       "         -8.25635434e-05, -5.12118895e-05,  1.52420078e-04],\n",
       "        [ 6.37488192e-05, -3.13662749e-04,  2.26172597e-05, ...,\n",
       "          1.98562760e-04,  6.59125944e-05,  3.14758567e-04],\n",
       "        [-2.18755213e-06, -3.34781216e-04,  2.92531531e-05, ...,\n",
       "          4.56534763e-04,  1.95362896e-04,  4.87570680e-04],\n",
       "        ...,\n",
       "        [-1.48252281e-03,  4.85102879e-04,  6.64263149e-04, ...,\n",
       "         -2.05927427e-04,  3.55229713e-05, -9.85605875e-05],\n",
       "        [-1.07315322e-03,  3.85415857e-04,  7.50174921e-04, ...,\n",
       "         -4.90572420e-04,  2.16400775e-04,  1.07256135e-04],\n",
       "        [-4.91084182e-04,  9.61219048e-05,  8.07148754e-04, ...,\n",
       "         -3.73265211e-04,  1.60788200e-04,  1.21234712e-04]],\n",
       "\n",
       "       [[ 2.31161204e-04, -6.61938902e-05, -8.36381150e-05, ...,\n",
       "         -8.25635434e-05, -5.12118895e-05,  1.52420078e-04],\n",
       "        [ 2.42220762e-04, -4.09000859e-05, -1.50658845e-04, ...,\n",
       "          1.81192809e-05,  8.13911538e-05,  2.26024451e-04],\n",
       "        [ 6.32722877e-05,  1.22565723e-06, -2.40244597e-04, ...,\n",
       "          9.53422204e-05,  3.71996372e-04,  3.12426273e-04],\n",
       "        ...,\n",
       "        [-7.55545509e-04,  2.61132984e-04, -5.27684926e-04, ...,\n",
       "          8.69280950e-04, -3.88560293e-04,  4.33312642e-04],\n",
       "        [-5.21959329e-04,  3.37863195e-04, -1.01772544e-03, ...,\n",
       "          7.80198548e-04, -6.14556135e-04,  2.58614484e-04],\n",
       "        [-1.90692794e-04,  3.05159250e-04, -1.16376090e-03, ...,\n",
       "          5.25292184e-04, -6.81782665e-04,  1.63081379e-04]],\n",
       "\n",
       "       ...,\n",
       "\n",
       "       [[-3.41034211e-05,  1.52407447e-04, -3.27992806e-04, ...,\n",
       "          1.03724095e-04, -3.72163224e-04, -1.07859290e-04],\n",
       "        [-2.76226725e-04,  1.50626322e-04, -4.18818672e-04, ...,\n",
       "          9.89086839e-05, -7.66739657e-04, -3.66226159e-05],\n",
       "        [-3.98421369e-04,  3.00134590e-04, -7.55065004e-04, ...,\n",
       "          2.17905588e-04, -1.32004346e-03, -1.02336329e-04],\n",
       "        ...,\n",
       "        [-1.26166909e-03,  8.04702402e-04, -1.51766930e-03, ...,\n",
       "          6.48809713e-04, -4.57940530e-03,  2.51850724e-04],\n",
       "        [-1.20612583e-03,  9.34977201e-04, -1.67997438e-03, ...,\n",
       "          7.39961397e-04, -4.81382152e-03,  2.00193972e-04],\n",
       "        [-1.28148752e-03,  9.09298949e-04, -1.58120110e-03, ...,\n",
       "          7.10188120e-04, -4.91308980e-03,  3.00585380e-04]],\n",
       "\n",
       "       [[ 2.31161204e-04, -6.61938902e-05, -8.36381150e-05, ...,\n",
       "         -8.25635434e-05, -5.12118895e-05,  1.52420078e-04],\n",
       "        [ 5.01219241e-04, -2.28545832e-06, -2.80610635e-04, ...,\n",
       "         -9.69479370e-05, -6.87345673e-05,  1.10022498e-04],\n",
       "        [ 4.20267897e-04,  1.61999924e-04, -1.05759769e-04, ...,\n",
       "         -1.78596310e-04, -1.51190645e-04,  3.42635263e-04],\n",
       "        ...,\n",
       "        [ 5.04284108e-04, -1.18002034e-04,  6.06704038e-04, ...,\n",
       "         -3.03760462e-04,  1.04514777e-03,  1.52864304e-04],\n",
       "        [ 7.84616219e-04, -4.50695719e-04,  5.72652381e-04, ...,\n",
       "          6.52932504e-05,  7.08011154e-04, -1.16709292e-04],\n",
       "        [ 1.10836572e-03, -8.35275743e-04,  5.52949845e-04, ...,\n",
       "          4.63655917e-04,  2.76890292e-04, -4.03026526e-04]],\n",
       "\n",
       "       [[ 2.31161204e-04, -6.61938902e-05, -8.36381150e-05, ...,\n",
       "         -8.25635434e-05, -5.12118895e-05,  1.52420078e-04],\n",
       "        [ 4.08654305e-04, -1.09438588e-05, -1.01651121e-05, ...,\n",
       "          1.75909245e-05, -1.90789760e-05,  1.96999608e-04],\n",
       "        [ 2.26848919e-04,  7.16381546e-05, -1.05268460e-04, ...,\n",
       "          1.97046378e-04, -2.96392041e-04,  3.41442821e-04],\n",
       "        ...,\n",
       "        [ 9.25326080e-04, -8.39144748e-04,  1.66686455e-04, ...,\n",
       "          9.37498582e-04, -1.05038495e-03, -4.63956385e-04],\n",
       "        [ 1.41193520e-03, -1.29475957e-03,  3.42534739e-04, ...,\n",
       "          1.21204834e-03, -1.34588371e-03, -6.60305261e-04],\n",
       "        [ 1.86275668e-03, -1.71465904e-03,  4.96714667e-04, ...,\n",
       "          1.40935194e-03, -1.63031521e-03, -8.33923696e-04]]],\n",
       "      dtype=float32)>"
      ]
     },
     "execution_count": 12,
     "metadata": {},
     "output_type": "execute_result"
    }
   ],
   "source": [
    "# corpus 텐서를 tf.data.Dataset객체로 변환\n",
    "dataset = tf.data.Dataset.from_tensor_slices((src_input, tgt_input))\n",
    "dataset = dataset.shuffle(len(src_input))\n",
    "dataset = dataset.batch(256, drop_remainder=True)\n",
    "\n",
    "# model에 작은 데이터셋으로 input shape를 결정\n",
    "for src_sample, tgt_sample in dataset.take(1): break\n",
    "\n",
    "# 한 배치만 불러온 데이터를 모델에 넣어봅니다\n",
    "model(src_sample)"
   ]
  },
  {
   "cell_type": "code",
   "execution_count": 13,
   "id": "harmful-provincial",
   "metadata": {
    "scrolled": true
   },
   "outputs": [
    {
     "name": "stdout",
     "output_type": "stream",
     "text": [
      "Model: \"text_generator\"\n",
      "_________________________________________________________________\n",
      "Layer (type)                 Output Shape              Param #   \n",
      "=================================================================\n",
      "embedding (Embedding)        multiple                  3072256   \n",
      "_________________________________________________________________\n",
      "lstm (LSTM)                  multiple                  5246976   \n",
      "_________________________________________________________________\n",
      "lstm_1 (LSTM)                multiple                  8392704   \n",
      "_________________________________________________________________\n",
      "dense (Dense)                multiple                  12301025  \n",
      "=================================================================\n",
      "Total params: 29,012,961\n",
      "Trainable params: 29,012,961\n",
      "Non-trainable params: 0\n",
      "_________________________________________________________________\n"
     ]
    }
   ],
   "source": [
    "model.summary()"
   ]
  },
  {
   "cell_type": "code",
   "execution_count": 23,
   "id": "spare-netherlands",
   "metadata": {},
   "outputs": [
    {
     "name": "stdout",
     "output_type": "stream",
     "text": [
      "Epoch 1/10\n",
      "527/527 [==============================] - 202s 378ms/step - loss: 4.1540 - val_loss: 3.2652\n",
      "Epoch 2/10\n",
      "527/527 [==============================] - 199s 377ms/step - loss: 3.1814 - val_loss: 3.0784\n",
      "Epoch 3/10\n",
      "527/527 [==============================] - 200s 379ms/step - loss: 2.9866 - val_loss: 2.9583\n",
      "Epoch 4/10\n",
      "527/527 [==============================] - 200s 380ms/step - loss: 2.8402 - val_loss: 2.8646\n",
      "Epoch 5/10\n",
      "527/527 [==============================] - 198s 376ms/step - loss: 2.7143 - val_loss: 2.7934\n",
      "Epoch 6/10\n",
      "527/527 [==============================] - 200s 380ms/step - loss: 2.6009 - val_loss: 2.7345\n",
      "Epoch 7/10\n",
      "527/527 [==============================] - 199s 377ms/step - loss: 2.4979 - val_loss: 2.6946\n",
      "Epoch 8/10\n",
      "527/527 [==============================] - 199s 377ms/step - loss: 2.4026 - val_loss: 2.6488\n",
      "Epoch 9/10\n",
      "527/527 [==============================] - 200s 379ms/step - loss: 2.2992 - val_loss: 2.6155\n",
      "Epoch 10/10\n",
      "527/527 [==============================] - 199s 378ms/step - loss: 2.2189 - val_loss: 2.5852\n"
     ]
    }
   ],
   "source": [
    "optimizer = tf.keras.optimizers.Adam()\n",
    "loss = tf.keras.losses.SparseCategoricalCrossentropy(\n",
    "    from_logits=True, reduction='none')\n",
    ".\n",
    "model.compile(loss=loss, optimizer=optimizer)\n",
    "\n",
    "hist = model.fit(enc_train, \n",
    "          dec_train, \n",
    "          epochs=10,\n",
    "          batch_size=256,\n",
    "          validation_data=(enc_val, dec_val),\n",
    "          verbose=1)"
   ]
  },
  {
   "cell_type": "code",
   "execution_count": 28,
   "id": "unusual-reputation",
   "metadata": {},
   "outputs": [
    {
     "data": {
      "image/png": "[encoded data removed]",
      "text/plain": [
       "<Figure size 432x288 with 1 Axes>"
      ]
     },
     "metadata": {
      "needs_background": "light"
     },
     "output_type": "display_data"
    }
   ],
   "source": [
    "# 학습 그래프 그리기\n",
    "def loss_graph(history):\n",
    "    %matplotlib inline\n",
    "    import matplotlib.pyplot as plt\n",
    "\n",
    "    fig, loss_ax = plt.subplots()\n",
    "\n",
    "    loss_ax.plot(history.history['loss'], 'b', label='train loss')\n",
    "    loss_ax.plot(history.history['val_loss'], 'r', label='val loss')\n",
    "\n",
    "    loss_ax.set_xlabel('epoch')\n",
    "    loss_ax.set_ylabel('loss')\n",
    "\n",
    "    loss_ax.legend(loc='upper right')\n",
    "\n",
    "    plt.show()\n",
    "    return None"
   ]
  },
  {
   "cell_type": "code",
   "execution_count": 29,
   "id": "improving-revolution",
   "metadata": {},
   "outputs": [
    {
     "name": "stdout",
     "output_type": "stream",
     "text": [
      "Model: \"text_generator_2\"\n",
      "_________________________________________________________________\n",
      "Layer (type)                 Output Shape              Param #   \n",
      "=================================================================\n",
      "embedding_2 (Embedding)      multiple                  6144512   \n",
      "_________________________________________________________________\n",
      "lstm_4 (LSTM)                multiple                  6295552   \n",
      "_________________________________________________________________\n",
      "lstm_5 (LSTM)                multiple                  8392704   \n",
      "_________________________________________________________________\n",
      "dense_2 (Dense)              multiple                  12301025  \n",
      "=================================================================\n",
      "Total params: 33,133,793\n",
      "Trainable params: 33,133,793\n",
      "Non-trainable params: 0\n",
      "_________________________________________________________________\n",
      "Epoch 1/10\n",
      "527/527 [==============================] - 210s 392ms/step - loss: 4.0869 - val_loss: 3.2006\n",
      "Epoch 2/10\n",
      "527/527 [==============================] - 209s 396ms/step - loss: 3.1079 - val_loss: 2.9859\n",
      "Epoch 3/10\n",
      "527/527 [==============================] - 209s 396ms/step - loss: 2.8816 - val_loss: 2.8645\n",
      "Epoch 4/10\n",
      "527/527 [==============================] - 209s 396ms/step - loss: 2.7287 - val_loss: 2.7721\n",
      "Epoch 5/10\n",
      "527/527 [==============================] - 208s 395ms/step - loss: 2.5879 - val_loss: 2.7016\n",
      "Epoch 6/10\n",
      "527/527 [==============================] - 208s 395ms/step - loss: 2.4583 - val_loss: 2.6426\n",
      "Epoch 7/10\n",
      "527/527 [==============================] - 208s 395ms/step - loss: 2.3457 - val_loss: 2.5960\n",
      "Epoch 8/10\n",
      "527/527 [==============================] - 208s 394ms/step - loss: 2.2316 - val_loss: 2.5572\n",
      "Epoch 9/10\n",
      "527/527 [==============================] - 208s 394ms/step - loss: 2.1244 - val_loss: 2.5214\n",
      "Epoch 10/10\n",
      "527/527 [==============================] - 207s 393ms/step - loss: 2.0250 - val_loss: 2.4940\n"
     ]
    }
   ],
   "source": [
    "# model 2\n",
    "embedding_size = 512\n",
    "hidden_size = 1024\n",
    "model2 = TextGenerator(vocab_size, embedding_size , hidden_size)\n",
    "model2(src_sample)\n",
    "model2.summary()\n",
    "optimizer = tf.keras.optimizers.Adam()\n",
    "loss = tf.keras.losses.SparseCategoricalCrossentropy(\n",
    "    from_logits=True, reduction='none')\n",
    "\n",
    "model2.compile(loss=loss, optimizer=optimizer)\n",
    "\n",
    "hist = model2.fit(enc_train, dec_train, \n",
    "          epochs=10,\n",
    "          batch_size=256,\n",
    "          validation_data=(enc_val, dec_val),\n",
    "          verbose=1)"
   ]
  },
  {
   "cell_type": "code",
   "execution_count": 14,
   "id": "veterinary-disclaimer",
   "metadata": {},
   "outputs": [
    {
     "name": "stdout",
     "output_type": "stream",
     "text": [
      "Model: \"text_generator_1\"\n",
      "_________________________________________________________________\n",
      "Layer (type)                 Output Shape              Param #   \n",
      "=================================================================\n",
      "embedding_1 (Embedding)      multiple                  12289024  \n",
      "_________________________________________________________________\n",
      "lstm_2 (LSTM)                multiple                  8392704   \n",
      "_________________________________________________________________\n",
      "lstm_3 (LSTM)                multiple                  8392704   \n",
      "_________________________________________________________________\n",
      "dense_1 (Dense)              multiple                  12301025  \n",
      "=================================================================\n",
      "Total params: 41,375,457\n",
      "Trainable params: 41,375,457\n",
      "Non-trainable params: 0\n",
      "_________________________________________________________________\n",
      "Epoch 1/10\n",
      "527/527 [==============================] - 217s 407ms/step - loss: 4.0040 - val_loss: 3.1382\n",
      "Epoch 2/10\n",
      "527/527 [==============================] - 217s 412ms/step - loss: 3.0434 - val_loss: 2.9465\n",
      "Epoch 3/10\n",
      "527/527 [==============================] - 217s 412ms/step - loss: 2.8345 - val_loss: 2.8249\n",
      "Epoch 4/10\n",
      "527/527 [==============================] - 217s 412ms/step - loss: 2.6730 - val_loss: 2.7290\n",
      "Epoch 5/10\n",
      "527/527 [==============================] - 217s 412ms/step - loss: 2.5207 - val_loss: 2.6539\n",
      "Epoch 6/10\n",
      "527/527 [==============================] - 217s 411ms/step - loss: 2.3773 - val_loss: 2.5938\n",
      "Epoch 7/10\n",
      "527/527 [==============================] - 217s 411ms/step - loss: 2.2482 - val_loss: 2.5392\n",
      "Epoch 8/10\n",
      "527/527 [==============================] - 217s 412ms/step - loss: 2.1171 - val_loss: 2.4982\n",
      "Epoch 9/10\n",
      "527/527 [==============================] - 216s 410ms/step - loss: 1.9902 - val_loss: 2.4635\n",
      "Epoch 10/10\n",
      "527/527 [==============================] - 216s 410ms/step - loss: 1.8659 - val_loss: 2.4391\n"
     ]
    }
   ],
   "source": [
    "# model 3\n",
    "embedding_size = 1024\n",
    "hidden_size = 1024\n",
    "model3 = TextGenerator(vocab_size, embedding_size , hidden_size)\n",
    "model3(src_sample)\n",
    "model3.summary()\n",
    "optimizer = tf.keras.optimizers.Adam()\n",
    "loss = tf.keras.losses.SparseCategoricalCrossentropy(\n",
    "    from_logits=True, reduction='none')\n",
    "\n",
    "model3.compile(loss=loss, optimizer=optimizer)\n",
    "\n",
    "hist = model3.fit(enc_train, dec_train, \n",
    "          epochs=10,\n",
    "          batch_size=256,\n",
    "          validation_data=(enc_val, dec_val),\n",
    "          verbose=1)"
   ]
  },
  {
   "cell_type": "markdown",
   "id": "accessible-uncertainty",
   "metadata": {},
   "source": [
    "***"
   ]
  },
  {
   "cell_type": "markdown",
   "id": "clean-entity",
   "metadata": {},
   "source": [
    "### 4.2 2차 모델 설계 (레이어 추가)\n",
    "\n",
    "__데이터__\n",
    "- Source Train: (134872, 14)\n",
    "- Target Train: (134872, 14)\n",
    "- Source Validation: (33718, 14)\n",
    "- Target Validation: (33718, 14)\n",
    "\n",
    "\n",
    "__모델설계__\n",
    "\n",
    "[Model4]\n",
    "- RNN 레이어 3개\n",
    "- embedding_size = 256\n",
    "- hidden_size = 1024\n",
    "- n_train_epoch = 10\n",
    "\n",
    "[Model5]\n",
    "- RNN 레이어 3개\n",
    "- embedding_size = 512\n",
    "- hidden_size = 1024\n",
    "- n_train_epoch = 10  \n",
    "\n",
    "[Model6]\n",
    "- RNN 레이어 3개\n",
    "- embedding_size = 1024\n",
    "- hidden_size = 1024\n",
    "- n_train_epoch = 10  \n",
    "\n",
    "\n",
    "__실행방법__\n",
    "\n",
    "훈련셋을 train,validation으로 분리한다. 설계된 모델은 기존보다 RNN레이어를 한 층 더 추가하였다,  __하이퍼파라미터__를 조정하며 train으로 훈련하고 validation으로 loss를 평가한다.최종 평가는 생성하는 문장을 확인한다.\n",
    "\n",
    "__결과__\n",
    "\n",
    "Train과 validation의 loss 결과<br>\n",
    "참고용으로 확인한 loss \n",
    "\n",
    "[Model4] \n",
    "loss: 2.5717  - val_loss: 2.7989\n",
    "\n",
    "[Model5]\n",
    "loss: 2.5000  - val_loss: 2.7536\n",
    "\n",
    "[Model6]\n",
    "loss: 2.4000  - val_loss: 2.7019"
   ]
  },
  {
   "cell_type": "code",
   "execution_count": 15,
   "id": "meaning-greenhouse",
   "metadata": {},
   "outputs": [],
   "source": [
    "# 모델 설계\n",
    "class TextGenerator(tf.keras.Model):\n",
    "    def __init__(self, vocab_size, embedding_size, hidden_size):\n",
    "        super().__init__()\n",
    "        \n",
    "        self.embedding = tf.keras.layers.Embedding(vocab_size, embedding_size)\n",
    "        self.rnn_1 = tf.keras.layers.LSTM(hidden_size, return_sequences=True)\n",
    "        self.rnn_2 = tf.keras.layers.LSTM(hidden_size, return_sequences=True)\n",
    "        self.rnn_3 = tf.keras.layers.LSTM(hidden_size, return_sequences=True)\n",
    "        self.linear = tf.keras.layers.Dense(vocab_size)\n",
    "        \n",
    "    def call(self, x):\n",
    "        out = self.embedding(x)\n",
    "        out = self.rnn_1(out)\n",
    "        out = self.rnn_2(out)\n",
    "        out = self.rnn_3(out)\n",
    "        out = self.linear(out)\n",
    "        \n",
    "        return out"
   ]
  },
  {
   "cell_type": "code",
   "execution_count": 17,
   "id": "criminal-doubt",
   "metadata": {},
   "outputs": [],
   "source": [
    "# 모델 훈련 및 검증 함수\n",
    "def train_val_model(embedding_size, hidden_size):\n",
    "    model = TextGenerator(vocab_size, embedding_size , hidden_size)\n",
    "#     model(src_sample)\n",
    "#     model.summary()\n",
    "\n",
    "    optimizer = tf.keras.optimizers.Adam()\n",
    "    loss = tf.keras.losses.SparseCategoricalCrossentropy(\n",
    "        from_logits=True, reduction='none')\n",
    "\n",
    "    model.compile(loss=loss, optimizer=optimizer)\n",
    "\n",
    "    hist = model.fit(enc_train, dec_train, \n",
    "              epochs=10,\n",
    "              batch_size=256,\n",
    "              validation_data=(enc_val, dec_val),\n",
    "              verbose=1)\n",
    "    return hist"
   ]
  },
  {
   "cell_type": "code",
   "execution_count": 19,
   "id": "physical-heavy",
   "metadata": {},
   "outputs": [
    {
     "name": "stdout",
     "output_type": "stream",
     "text": [
      "Epoch 1/10\n",
      "527/527 [==============================] - 243s 448ms/step - loss: 4.1457 - val_loss: 3.3113\n",
      "Epoch 2/10\n",
      "527/527 [==============================] - 237s 450ms/step - loss: 3.2490 - val_loss: 3.1979\n",
      "Epoch 3/10\n",
      "527/527 [==============================] - 238s 451ms/step - loss: 3.1376 - val_loss: 3.1055\n",
      "Epoch 4/10\n",
      "527/527 [==============================] - 239s 453ms/step - loss: 3.0137 - val_loss: 3.0254\n",
      "Epoch 5/10\n",
      "527/527 [==============================] - 240s 455ms/step - loss: 2.9204 - val_loss: 2.9699\n",
      "Epoch 6/10\n",
      "527/527 [==============================] - 239s 454ms/step - loss: 2.8305 - val_loss: 2.9189\n",
      "Epoch 7/10\n",
      "527/527 [==============================] - 239s 453ms/step - loss: 2.7533 - val_loss: 2.8791\n",
      "Epoch 8/10\n",
      "527/527 [==============================] - 239s 453ms/step - loss: 2.6873 - val_loss: 2.8488\n",
      "Epoch 9/10\n",
      "527/527 [==============================] - 239s 453ms/step - loss: 2.6303 - val_loss: 2.8248\n",
      "Epoch 10/10\n",
      "527/527 [==============================] - 238s 452ms/step - loss: 2.5717 - val_loss: 2.7989\n"
     ]
    }
   ],
   "source": [
    "# model 4\n",
    "hist4 = train_val_model(256, 1024)"
   ]
  },
  {
   "cell_type": "code",
   "execution_count": 20,
   "id": "capable-confusion",
   "metadata": {},
   "outputs": [
    {
     "name": "stdout",
     "output_type": "stream",
     "text": [
      "Epoch 1/10\n",
      "527/527 [==============================] - 256s 472ms/step - loss: 4.1406 - val_loss: 3.2830\n",
      "Epoch 2/10\n",
      "527/527 [==============================] - 248s 470ms/step - loss: 3.2036 - val_loss: 3.1203\n",
      "Epoch 3/10\n",
      "527/527 [==============================] - 248s 471ms/step - loss: 3.0388 - val_loss: 3.0244\n",
      "Epoch 4/10\n",
      "527/527 [==============================] - 248s 471ms/step - loss: 2.9252 - val_loss: 2.9543\n",
      "Epoch 5/10\n",
      "527/527 [==============================] - 248s 470ms/step - loss: 2.8418 - val_loss: 2.9119\n",
      "Epoch 6/10\n",
      "527/527 [==============================] - 247s 470ms/step - loss: 2.7584 - val_loss: 2.8656\n",
      "Epoch 7/10\n",
      "527/527 [==============================] - 247s 469ms/step - loss: 2.6851 - val_loss: 2.8319\n",
      "Epoch 8/10\n",
      "527/527 [==============================] - 247s 469ms/step - loss: 2.6203 - val_loss: 2.7995\n",
      "Epoch 9/10\n",
      "527/527 [==============================] - 246s 467ms/step - loss: 2.5559 - val_loss: 2.7807\n",
      "Epoch 10/10\n",
      "527/527 [==============================] - 247s 468ms/step - loss: 2.5000 - val_loss: 2.7536\n"
     ]
    }
   ],
   "source": [
    "# model 5\n",
    "hist5 = train_val_model(512, 1024)"
   ]
  },
  {
   "cell_type": "code",
   "execution_count": 21,
   "id": "neither-insert",
   "metadata": {},
   "outputs": [
    {
     "name": "stdout",
     "output_type": "stream",
     "text": [
      "Epoch 1/10\n",
      "527/527 [==============================] - 282s 523ms/step - loss: 4.0708 - val_loss: 3.2527\n",
      "Epoch 2/10\n",
      "527/527 [==============================] - 274s 521ms/step - loss: 3.1687 - val_loss: 3.0913\n",
      "Epoch 3/10\n",
      "527/527 [==============================] - 275s 521ms/step - loss: 3.0061 - val_loss: 2.9902\n",
      "Epoch 4/10\n",
      "527/527 [==============================] - 275s 521ms/step - loss: 2.8790 - val_loss: 2.9224\n",
      "Epoch 5/10\n",
      "527/527 [==============================] - 274s 521ms/step - loss: 2.7750 - val_loss: 2.8653\n",
      "Epoch 6/10\n",
      "527/527 [==============================] - 274s 520ms/step - loss: 2.7001 - val_loss: 2.8212\n",
      "Epoch 7/10\n",
      "527/527 [==============================] - 274s 520ms/step - loss: 2.6154 - val_loss: 2.7842\n",
      "Epoch 8/10\n",
      "527/527 [==============================] - 274s 520ms/step - loss: 2.5389 - val_loss: 2.7500\n",
      "Epoch 9/10\n",
      "527/527 [==============================] - 274s 520ms/step - loss: 2.4685 - val_loss: 2.7238\n",
      "Epoch 10/10\n",
      "527/527 [==============================] - 273s 518ms/step - loss: 2.4000 - val_loss: 2.7019\n"
     ]
    }
   ],
   "source": [
    "# model 6\n",
    "hist6 = train_val_model(1024, 1024)"
   ]
  },
  {
   "cell_type": "markdown",
   "id": "lovely-lexington",
   "metadata": {},
   "source": [
    "LSTM 레이어를 더 추가했지만 정확도는 기존 심층 LSTM에 비해 떨어지는 것을 볼 수 있다.😥<br>\n",
    "레이어 추가 외에 RNN을 개선하는 방법에는 양방향 RNN이 있다고 한다..!"
   ]
  },
  {
   "cell_type": "markdown",
   "id": "guilty-business",
   "metadata": {},
   "source": [
    "> ### 양방향 RNN (Bidirectional RNN)\n",
    "    - 기존의 RNN은 한 방향(forwad)으로 학습이 진행되지만, 양방향 RNN은 역방향으로의 순서도 고려하여 학습하는 모델이다.\n",
    "    - 두 개의 RNN모델(순방향, 역방향)을 만들어 학습 결과를 합치는 모델에 가깝다.\n",
    "![bidirectional_RNN](http://d3kbpzbmcynnmx.cloudfront.net/wp-content/uploads/2015/09/bidirectional-rnn.png)\n",
    "[참고](https://buomsoo-kim.github.io/keras/2019/07/29/Easy-deep-learning-with-Keras-20.md/)"
   ]
  },
  {
   "cell_type": "markdown",
   "id": "framed-absolute",
   "metadata": {},
   "source": [
    "### 4.3 3차 모델 설계 (양방향 RNN)\n",
    "\n",
    "__데이터__\n",
    "- Source Train: (134872, 14)\n",
    "- Target Train: (134872, 14)\n",
    "- Source Validation: (33718, 14)\n",
    "- Target Validation: (33718, 14)\n",
    "\n",
    "\n",
    "__모델설계__\n",
    "\n",
    "[Model7]\n",
    "- 양방향 RNN 레이어 2개\n",
    "- embedding_size = 256\n",
    "- hidden_size = 1024\n",
    "- n_train_epoch = 10\n",
    "\n",
    "[Model8]\n",
    "- \\<start>, \\<end>를 제거한 데이터셋\n",
    "- 양방향 RNN 레이어 2개\n",
    "- embedding_size = 256\n",
    "- hidden_size = 1024\n",
    "- n_train_epoch = 10\n",
    "\n",
    "[Model9]\n",
    "- \\<start>, \\<end>를 제거한 데이터셋\n",
    "- 양방향 RNN 레이어 2개\n",
    "- Dropout 레이어 1개\n",
    "- embedding_size = 256\n",
    "- hidden_size = 1024\n",
    "- n_train_epoch = 10\n",
    "\n",
    "\n",
    "__실행방법__\n",
    "\n",
    "훈련셋을 train,validation으로 분리한다. 양방향 LSTM 레이어를 쌓아 train으로 훈련하고 validation으로 loss를 평가한다.필요한 경우 과적합을 방지하기 위해 dropout 레이어를 추가하여 모델을 설계하고 훈련시켰다. 최종 평가는 생성하는 문장을 확인한다.\n",
    "\n",
    "__결과__\n",
    "\n",
    "Train과 validation의 loss 결과<br>\n",
    "참고용으로 확인한 loss \n",
    "\n",
    "[Model7] \n",
    "loss: 2.5892e-04 - val_loss: 0.0669 # over fitting\n",
    "\n",
    "[Model8] \n",
    "loss: 6.4103e-04 - val_loss: 0.0902\n",
    "\n",
    "[Model9] 시간관계상 모델을 돌려보지 못했다 추후 시도해볼 예정\n"
   ]
  },
  {
   "cell_type": "code",
   "execution_count": 14,
   "id": "cardiac-christmas",
   "metadata": {},
   "outputs": [],
   "source": [
    "# 모델 설계\n",
    "from keras.layers import Bidirectional\n",
    "\n",
    "class TextGenerator_Bidirectional(tf.keras.Model):\n",
    "    def __init__(self, vocab_size, embedding_size, hidden_size):\n",
    "        super().__init__()\n",
    "        \n",
    "        self.embedding = tf.keras.layers.Embedding(vocab_size, embedding_size)\n",
    "        self.rnn_1 = tf.keras.layers.Bidirectional(tf.keras.layers.LSTM(hidden_size, return_sequences=True))\n",
    "        self.rnn_2 = tf.keras.layers.Bidirectional(tf.keras.layers.LSTM(hidden_size, return_sequences=True))\n",
    "        self.linear = tf.keras.layers.Dense(vocab_size)\n",
    "        \n",
    "    def call(self, x):\n",
    "        out = self.embedding(x)\n",
    "        out = self.rnn_1(out)\n",
    "        out = self.rnn_2(out)\n",
    "        out = self.linear(out)\n",
    "        \n",
    "        return out"
   ]
  },
  {
   "cell_type": "code",
   "execution_count": 12,
   "id": "acknowledged-grill",
   "metadata": {},
   "outputs": [],
   "source": [
    "# 모델 훈련 및 검증 함수\n",
    "vocab_size =tokenizer.num_words + 1\n",
    "def train_val_model(embedding_size, hidden_size):\n",
    "    model = TextGenerator_Bidirectional(vocab_size, embedding_size , hidden_size)\n",
    "#     model(src_sample)\n",
    "#     model.summary()\n",
    "\n",
    "    optimizer = tf.keras.optimizers.Adam()\n",
    "    loss = tf.keras.losses.SparseCategoricalCrossentropy(\n",
    "        from_logits=True, reduction='none')\n",
    "\n",
    "    model.compile(loss=loss, optimizer=optimizer)\n",
    "\n",
    "    hist = model.fit(enc_train, dec_train, \n",
    "              epochs=10,\n",
    "              batch_size=256,\n",
    "              validation_data=(enc_val, dec_val),\n",
    "              verbose=1)\n",
    "    return model, hist"
   ]
  },
  {
   "cell_type": "code",
   "execution_count": 42,
   "id": "middle-belly",
   "metadata": {},
   "outputs": [
    {
     "name": "stdout",
     "output_type": "stream",
     "text": [
      "Epoch 1/10\n",
      "527/527 [==============================] - 437s 813ms/step - loss: 3.0920 - val_loss: 0.4181\n",
      "Epoch 2/10\n",
      "527/527 [==============================] - 428s 812ms/step - loss: 0.2566 - val_loss: 0.1365\n",
      "Epoch 3/10\n",
      "527/527 [==============================] - 430s 815ms/step - loss: 0.0500 - val_loss: 0.0909\n",
      "Epoch 4/10\n",
      "527/527 [==============================] - 431s 819ms/step - loss: 0.0101 - val_loss: 0.0747\n",
      "Epoch 5/10\n",
      "527/527 [==============================] - 429s 814ms/step - loss: 0.0028 - val_loss: 0.0676\n",
      "Epoch 6/10\n",
      "527/527 [==============================] - 427s 810ms/step - loss: 0.0012 - val_loss: 0.0643\n",
      "Epoch 7/10\n",
      "527/527 [==============================] - 426s 809ms/step - loss: 0.0103 - val_loss: 0.1200\n",
      "Epoch 8/10\n",
      "527/527 [==============================] - 431s 818ms/step - loss: 0.0182 - val_loss: 0.0775\n",
      "Epoch 9/10\n",
      "527/527 [==============================] - 432s 820ms/step - loss: 0.0013 - val_loss: 0.0686\n",
      "Epoch 10/10\n",
      "527/527 [==============================] - 431s 818ms/step - loss: 2.5892e-04 - val_loss: 0.0669\n"
     ]
    }
   ],
   "source": [
    "# model 7\n",
    "model, hist7 = train_val_model(256, 1024)"
   ]
  },
  {
   "cell_type": "code",
   "execution_count": 43,
   "id": "saving-farmer",
   "metadata": {},
   "outputs": [
    {
     "data": {
      "image/png": "[encoded data removed]",
      "text/plain": [
       "<Figure size 432x288 with 1 Axes>"
      ]
     },
     "metadata": {
      "needs_background": "light"
     },
     "output_type": "display_data"
    }
   ],
   "source": [
    "loss_graph(hist7)"
   ]
  },
  {
   "cell_type": "markdown",
   "id": "wireless-bulletin",
   "metadata": {},
   "source": [
    "corpus에서 \\<start>와 \\<end>를 제거하고 학습시켜보자"
   ]
  },
  {
   "cell_type": "code",
   "execution_count": 10,
   "id": "third-ballet",
   "metadata": {},
   "outputs": [
    {
     "name": "stdout",
     "output_type": "stream",
     "text": [
      "[[  69  248    3 ...    0    0    0]\n",
      " [   3   55 6668 ...    0    0    0]\n",
      " [   3 1101  508 ...    0    0    0]\n",
      " ...\n",
      " [  45   14   95 ...    0    0    0]\n",
      " [  20   22    7 ...   43  259   17]\n",
      " [   4  174   15 ...    0    0    0]] <keras_preprocessing.text.Tokenizer object at 0x7ff1d738c590>\n",
      "Source Train: (134872, 14)\n",
      "Target Train: (134872, 14)\n",
      "Source Val: (33718, 14)\n",
      "Target Val: (33718, 14)\n"
     ]
    }
   ],
   "source": [
    "# 데이터 준비\n",
    "new_corpus = [] # 새로운 말뭉치 준비\n",
    "for line in corpus:\n",
    "    new_line = re.sub(\"(\\<[a-z]+\\>)\", \" \", line) # <start>, <end> 삭제\n",
    "    new_line = new_line.strip() # 양쪽 공백 삭제\n",
    "    new_corpus.append(new_line)\n",
    "    \n",
    "    \n",
    "# Tokenization\n",
    "tensor, tokenizer = tokenize(new_corpus) \n",
    "\n",
    "# 평가 데이터셋 분리\n",
    "src_input = tensor[:, :-1] # 마지막 토큰을 잘라, 소스 문장 생성\n",
    "tgt_input = tensor[:, 1:] # 첫 토큰을 잘라, 타겟 문장 생성\n",
    "\n",
    "from sklearn.model_selection import train_test_split\n",
    "enc_train, enc_val, dec_train, dec_val = train_test_split(src_input, tgt_input, test_size=0.2, random_state=42)\n",
    "print(\"Source Train:\", enc_train.shape)\n",
    "print(\"Target Train:\", dec_train.shape)\n",
    "print(\"Source Val:\", enc_val.shape)\n",
    "print(\"Target Val:\", dec_val.shape)"
   ]
  },
  {
   "cell_type": "code",
   "execution_count": 15,
   "id": "understood-origin",
   "metadata": {},
   "outputs": [
    {
     "name": "stdout",
     "output_type": "stream",
     "text": [
      "Epoch 1/10\n",
      "527/527 [==============================] - 403s 745ms/step - loss: 2.8369 - val_loss: 0.4508\n",
      "Epoch 2/10\n",
      "527/527 [==============================] - 399s 756ms/step - loss: 0.3203 - val_loss: 0.1979\n",
      "Epoch 3/10\n",
      "527/527 [==============================] - 402s 763ms/step - loss: 0.0932 - val_loss: 0.1271\n",
      "Epoch 4/10\n",
      "527/527 [==============================] - 401s 762ms/step - loss: 0.0282 - val_loss: 0.1063\n",
      "Epoch 5/10\n",
      "527/527 [==============================] - 403s 764ms/step - loss: 0.0121 - val_loss: 0.0957\n",
      "Epoch 6/10\n",
      "527/527 [==============================] - 403s 765ms/step - loss: 0.0062 - val_loss: 0.0920\n",
      "Epoch 7/10\n",
      "527/527 [==============================] - 404s 767ms/step - loss: 0.0255 - val_loss: 0.1158\n",
      "Epoch 8/10\n",
      "527/527 [==============================] - 406s 770ms/step - loss: 0.0083 - val_loss: 0.0983\n",
      "Epoch 9/10\n",
      "527/527 [==============================] - 405s 768ms/step - loss: 0.0018 - val_loss: 0.0915\n",
      "Epoch 10/10\n",
      "527/527 [==============================] - 405s 769ms/step - loss: 6.4103e-04 - val_loss: 0.0902\n"
     ]
    }
   ],
   "source": [
    "# 모델 훈련 \n",
    "# model 8\n",
    "model8, hist8 = train_val_model(256, 1024) # 마지막으로 설계된 모델 그대로 사용(TextGenerator_Bidirectional)"
   ]
  },
  {
   "cell_type": "code",
   "execution_count": 21,
   "id": "contemporary-norway",
   "metadata": {},
   "outputs": [
    {
     "data": {
      "image/png": "[encoded data removed]",
      "text/plain": [
       "<Figure size 432x288 with 1 Axes>"
      ]
     },
     "metadata": {
      "needs_background": "light"
     },
     "output_type": "display_data"
    }
   ],
   "source": [
    "loss_graph(hist8)"
   ]
  },
  {
   "cell_type": "markdown",
   "id": "unexpected-antarctica",
   "metadata": {},
   "source": [
    "## 5. 모델 평가\n",
    "작사가 모델이 쓴 가사를 평가해본다."
   ]
  },
  {
   "cell_type": "markdown",
   "id": "lesser-coral",
   "metadata": {},
   "source": [
    "__모델별 생성된 문장__\n",
    "\n",
    "|init_sentence|model3|model7😈|model8|\n",
    "|:---:|:---:|:---:|:---:|\n",
    "|\\<start> her smile|\\<start> her smile fades in the sky \\<end> |\\<start> her smile \\<end>|her smile |\n",
    "|\\<start> i love|\\<start> i love you , liberian girl \\<end> |\\<start> i love \\<end>|i love you|\n",
    "|\\<start> you re|\\<start> you re the only one who knows that \\<end>|\\<start> you re \\<end>|you re fading tired , oh . |\n",
    "|\\<start> a letter|\\<start> a letter of me and i know \\<end> |\\<start> a letter \\<end>|a letter of heaven |\n",
    "|\\<start> you make|\\<start> you make me wanna get you pregnant than you \\<end> |\\<start> you make \\<end>|you make me happy|\n",
    "|※model8에 init_setence에는 \\<start>없이 테스트"
   ]
  },
  {
   "cell_type": "code",
   "execution_count": 16,
   "id": "fifteen-garlic",
   "metadata": {},
   "outputs": [],
   "source": [
    "def generate_text(model, tokenizer, init_sentence=\"<start>\", max_len=20):\n",
    "    # 테스트를 위해서 입력받은 init_sentence도 텐서로 변환합니다\n",
    "    test_input = tokenizer.texts_to_sequences([init_sentence])\n",
    "    test_tensor = tf.convert_to_tensor(test_input, dtype=tf.int64)\n",
    "    end_token = tokenizer.word_index[\"<end>\"]\n",
    "\n",
    "    # 단어 하나씩 예측해 문장을 만듭니다\n",
    "    #    1. 입력받은 문장의 텐서를 입력합니다\n",
    "    #    2. 예측된 값 중 가장 높은 확률인 word index를 뽑아냅니다\n",
    "    #    3. 2에서 예측된 word index를 문장 뒤에 붙입니다\n",
    "    #    4. 모델이 <end>를 예측했거나, max_len에 도달했다면 문장 생성을 마칩니다\n",
    "    while True:\n",
    "        # 1\n",
    "        predict = model(test_tensor) \n",
    "        # 2\n",
    "        predict_word = tf.argmax(tf.nn.softmax(predict, axis=-1), axis=-1)[:, -1] \n",
    "        # 3 \n",
    "        test_tensor = tf.concat([test_tensor, tf.expand_dims(predict_word, axis=0)], axis=-1)\n",
    "        # 4\n",
    "        if predict_word.numpy()[0] == end_token: break\n",
    "        if test_tensor.shape[1] >= max_len: break\n",
    "\n",
    "    generated = \"\"\n",
    "    # tokenizer를 이용해 word index를 단어로 하나씩 변환합니다 \n",
    "    for word_index in test_tensor[0].numpy():\n",
    "        generated += tokenizer.index_word[word_index] + \" \"\n",
    "\n",
    "    return generated"
   ]
  },
  {
   "cell_type": "code",
   "execution_count": 18,
   "id": "actual-scenario",
   "metadata": {},
   "outputs": [
    {
     "name": "stdout",
     "output_type": "stream",
     "text": [
      "<start> her smile fades in the sky <end> \n",
      "<start> i love you , liberian girl <end> \n",
      "<start> you re the only one who knows that <end> \n",
      "<start> a letter of me and i know <end> \n",
      "<start> you make me wanna get you pregnant than you <end> \n"
     ]
    }
   ],
   "source": [
    "# model3 평가하기\n",
    "print(generate_text(model3, tokenizer, init_sentence=\"<start> her smile\"))\n",
    "print(generate_text(model3, tokenizer, init_sentence=\"<start> i love\"))\n",
    "print(generate_text(model3, tokenizer, init_sentence=\"<start> you re\"))\n",
    "print(generate_text(model3, tokenizer, init_sentence=\"<start> a letter\"))\n",
    "print(generate_text(model3, tokenizer, init_sentence=\"<start> you make\"))"
   ]
  },
  {
   "cell_type": "code",
   "execution_count": 46,
   "id": "horizontal-brain",
   "metadata": {},
   "outputs": [
    {
     "data": {
      "text/plain": [
       "'<start> i love <end> '"
      ]
     },
     "execution_count": 46,
     "metadata": {},
     "output_type": "execute_result"
    }
   ],
   "source": [
    "# model7 평가하기\n",
    "generate_text(model, tokenizer, init_sentence=\"<start> i love\")"
   ]
  },
  {
   "cell_type": "markdown",
   "id": "valuable-fever",
   "metadata": {},
   "source": [
    "양방향 RNN을 사용해서 학습된 model7이 생성해주는 문장 모두 입력된 문장에 \\<end>만 붙여준다....😨 작사가가 아니라 엔드빌런을 만들었네...\n",
    "<br>모든 문장이\\<start>로 시작되어 \\<end>로 끝이나니 \\<end>만 붙여주면 된다고 overfitting되어 학습된 것 같다.."
   ]
  },
  {
   "cell_type": "code",
   "execution_count": 43,
   "id": "alternative-statistics",
   "metadata": {},
   "outputs": [],
   "source": [
    "# <end> token이 존재하지 않으므로 해당 조건 삭제\n",
    "def generate_text(model, tokenizer, init_sentence=\"start\", max_len=15):\n",
    "    # 테스트를 위해서 입력받은 init_sentence도 텐서로 변환합니다\n",
    "    test_input = tokenizer.texts_to_sequences([init_sentence])\n",
    "    test_tensor = tf.convert_to_tensor(test_input, dtype=tf.int64)\n",
    "#     end_token = tokenizer.word_index[\"<end>\"]\n",
    "\n",
    "    # 단어 하나씩 예측해 문장을 만듭니다\n",
    "    #    1. 입력받은 문장의 텐서를 입력합니다\n",
    "    #    2. 예측된 값 중 가장 높은 확률인 word index를 뽑아냅니다\n",
    "    #    3. 2에서 예측된 word index를 문장 뒤에 붙입니다\n",
    "    #    4. 모델이 max_len에 도달했다면 문장 생성을 마칩니다\n",
    "    while True:\n",
    "        # 1\n",
    "        predict = model(test_tensor) \n",
    "        # 2\n",
    "        predict_word = tf.argmax(tf.nn.softmax(predict, axis=-1), axis=-1)[:, -1] \n",
    "        # 3 \n",
    "        test_tensor = tf.concat([test_tensor, tf.expand_dims(predict_word, axis=0)], axis=-1)\n",
    "        # 4\n",
    "#         if predict_word.numpy()[0] == end_token: break\n",
    "        if test_tensor.shape[1] >= max_len: break\n",
    "\n",
    "    generated = \"\"\n",
    "    # tokenizer를 이용해 word index를 단어로 하나씩 변환합니다 \n",
    "    for word_index in test_tensor[0].numpy():\n",
    "        if word_index == 0: #pading으로 넣은 0은 인덱스가 아니니 pass\n",
    "            continue\n",
    "        generated += tokenizer.index_word[word_index] + \" \"\n",
    "\n",
    "    return generated"
   ]
  },
  {
   "cell_type": "code",
   "execution_count": null,
   "id": "efficient-juvenile",
   "metadata": {},
   "outputs": [],
   "source": [
    "# model8 평가하기\n",
    "\n",
    "print(generate_text(model8, tokenizer, init_sentence=\"her smile\"))\n",
    "print(generate_text(model8, tokenizer, init_sentence=\"i love\"))\n",
    "print(generate_text(model8, tokenizer, init_sentence=\"you re\"))\n",
    "print(generate_text(model8, tokenizer, init_sentence=\"a letter\"))\n",
    "print(generate_text(model8, tokenizer, init_sentence=\"you make\"))"
   ]
  },
  {
   "cell_type": "markdown",
   "id": "focal-slope",
   "metadata": {},
   "source": [
    "모델의 정량적 결과만 두고 본다면 양방향으로 학습된 LSTM이 훨씬 좋은 수치를 보이지만, 문장들을 비교했을 때 모델 학습이 잘 되었다고 하기는 어려울 것 같다."
   ]
  },
  {
   "cell_type": "markdown",
   "id": "better-front",
   "metadata": {},
   "source": [
    "***"
   ]
  },
  {
   "cell_type": "markdown",
   "id": "noted-nebraska",
   "metadata": {},
   "source": [
    "## 프로젝트 정리\n",
    "\n",
    "\n",
    "### 핵심개념\n",
    "\n",
    "__RNN__\n",
    "- 순환신경망은 은닉계층에 이전 정보를 기억시킬 수 있는 방향을 가지고 순환구조를 이루는 인공신경망의 한 종류이다.\n",
    "- 음성, 문자 등 순차적인(Sequential) 데이터 처리에 적합하다.\n",
    "- 이전 출력 결과의 영향을 받아 현재까지 계산된 결과를 메모리에 기억한다는 장점\n",
    "- 출력값이 곱해지는 단계가 반복되면 그 값이 소실되어 학습이 더 이상 이루어지지 않는 Vanishing gradien가 발생한다.(Long-Term dependencies 문제를 발생시킨다.)\n",
    "\n",
    "__BRNN__\n",
    "- RNN은 입력 순서를 순서대로(순방향) 처리하기 때문에 예측결과가 직전 패턴을 기반으로 하는 경향을 보이는 한계가 있다.\n",
    "- BRNN은 서로 연결되지 않는 두 개의 은닉층을 가지고 순방향, 역방향으로 분리된 순환신경망을 통해 학습시키기 때문에 예측정확도를 향상시킨다.\n",
    "\n",
    "__LSTM__\n",
    "- RNN의 기울기가 사라지는 Long-Term dependencies 문제를 극복하기 위해 제안된 RNN 구조\n",
    "- 시계열 데이터와 같은 긴 순서의 데이터에도 기울기 소실 문제없이 처리하게 한다.\n",
    "\n",
    "__Dropout__\n",
    "- 신경망의 뉴런들을 확률적으로 사용하지 않음으로써 과적합을 방지하는 기술\n",
    "- 모델의 일반화 성능을 향상시킨다. \n",
    "\n",
    "(https://www.koreascience.or.kr/article/JAKO202034352378448.pdf}\n",
    "\n",
    "\n",
    "### 시도해본 것\n",
    "\n",
    "1. 2-layer LSTM \n",
    "\n",
    "2. 3-layer LSTM\n",
    "\n",
    "3. 2-layer Bidirect LSTM\n",
    "\n",
    "\n",
    "### 이후에 더 시도해볼 것\n",
    "\n",
    "- 최적의 하이퍼 파라미터 찾기 (Grid Search랑 비교하여 진행해보기)\n",
    "- 양방향 RNN 모델에서 Dropout 이용해 과적합 줄이기\n",
    "\n",
    "\n",
    "### 기타\n",
    "\n",
    "- [History of model](https://www.tensorflow.org/api_docs/python/tf/keras/callbacks/History)\n",
    "    - model.fit을 object로 받으면 history 객체를 얻을 수 있어, epoch 별로 변화되는 추이를 그래프로 표현할 수 있다.\n",
    "    - history 객체가 갖고있는 정보: 매 epoch 마다 손실값(loss), 훈련 정확도(accuracy), 검증 손실값(val_loss), 검증 정확도(val_accuracy)\n",
    "\n",
    "    \n",
    "- save and load models<br>\n",
    "> 학습이 오래 걸리는 편이라 중간에 학습이 멈추거나 나중에 다시 그 모델의 결과를 확인하고 싶을때 모델을 다시 훈련시키는데 어려움이 있었다. 이럴 때 checkpoint를 사용할 수 있다고 한다.\n",
    "    - [ModelCheckpoint](https://www.tensorflow.org/tutorials/keras/save_and_load): 훈련중간과 마지막에 checkpoint를 자동으로 저장, 모델을 재사용하거나 훈련과정이 중지된 경우 이어서 훈련을 진행 할 수 있다.\n"
   ]
  },
  {
   "cell_type": "code",
   "execution_count": null,
   "id": "thirty-softball",
   "metadata": {},
   "outputs": [],
   "source": []
  }
 ],
 "metadata": {
  "kernelspec": {
   "display_name": "Python 3",
   "language": "python",
   "name": "python3"
  },
  "language_info": {
   "codemirror_mode": {
    "name": "ipython",
    "version": 3
   },
   "file_extension": ".py",
   "mimetype": "text/x-python",
   "name": "python",
   "nbconvert_exporter": "python",
   "pygments_lexer": "ipython3",
   "version": "3.7.9"
  }
 },
 "nbformat": 4,
 "nbformat_minor": 5
}
